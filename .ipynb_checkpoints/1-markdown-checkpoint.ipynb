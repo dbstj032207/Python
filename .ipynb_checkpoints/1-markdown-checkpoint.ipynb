{
 "cells": [
  {
   "cell_type": "markdown",
   "id": "d0092633",
   "metadata": {},
   "source": [
    "# 글자 크기\n",
    "\n",
    "## 글자 크기\n",
    "\n",
    "### 글자 크기\n",
    "\n",
    "#### 글자 크기\n",
    "\n",
    "##### 글자 크기\n",
    "\n",
    "글자크기\n",
    "\n",
    "<h1>글자 크기</h1>\n",
    "\n",
    "\n",
    "글자 크기\n",
    "===\n",
    "\n",
    "글자 크기\n",
    "---"
   ]
  },
  {
   "cell_type": "markdown",
   "id": "24c18e8b",
   "metadata": {},
   "source": [
    "들여쓰기\n",
    "\n",
    "> 첫 번째 들여쓰기\n",
    "\n",
    "> 두 번째 들여쓰기\n",
    ">> 두 번째 들여쓰기의 또 들여쓰기\n"
   ]
  },
  {
   "cell_type": "markdown",
   "id": "f3e451e3",
   "metadata": {},
   "source": [
    "과일의 종류(순서 있는 리스트)\n",
    "1. 사과\n",
    "2. 배\n",
    "3. 포도\n",
    "\n",
    "---\n",
    "\n",
    "좋아하는 색상(순서 없는 리스트)\n",
    "+ 빨강\n",
    "- 노랑\n",
    "* 파랑\n",
    "\n",
    "---\n",
    "\n",
    "지역(리스트 안의 리스트)\n",
    "* 서울\n",
    "    - 강남구\n",
    "    + 강북구\n",
    "    * 강서구\n",
    "    - 강동구"
   ]
  },
  {
   "cell_type": "markdown",
   "id": "8a0b0a8c",
   "metadata": {},
   "source": [
    "[네이버](https://www.naver.com)"
   ]
  },
  {
   "cell_type": "markdown",
   "id": "b679d6ce",
   "metadata": {},
   "source": [
    "이것은 *이탤릭체* 입니다.\n",
    "\n",
    "이것은 **볼드체** 입니다.\n",
    "\n",
    "이것은 ~관통선(취소선)~ 입니다."
   ]
  },
  {
   "cell_type": "markdown",
   "id": "1e26a70a",
   "metadata": {},
   "source": [
    "이미지 불러오기\n",
    "\n",
    "![이미지가 없을 경우 텍스트](images/logo.png)"
   ]
  },
  {
   "cell_type": "code",
   "execution_count": null,
   "id": "a2e18461",
   "metadata": {},
   "outputs": [],
   "source": []
  }
 ],
 "metadata": {
  "kernelspec": {
   "display_name": "Python 3 (ipykernel)",
   "language": "python",
   "name": "python3"
  },
  "language_info": {
   "codemirror_mode": {
    "name": "ipython",
    "version": 3
   },
   "file_extension": ".py",
   "mimetype": "text/x-python",
   "name": "python",
   "nbconvert_exporter": "python",
   "pygments_lexer": "ipython3",
   "version": "3.9.12"
  }
 },
 "nbformat": 4,
 "nbformat_minor": 5
}
