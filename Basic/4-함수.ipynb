{
 "cells": [
  {
   "cell_type": "markdown",
   "id": "1d0e0cb6",
   "metadata": {},
   "source": [
    "## 1. 함수의 정의\n",
    "+ 일정한 작업을 수행하는 코드 블럭\n",
    "\n",
    "\n",
    "## 2. 함수의 장점\n",
    "+ 반복적인 코드를 없애주며 전체 코드의 길이를 짧게 만들어 준다.(재사용)\n",
    "+ 유지보수의 혜택\n",
    "+ 모듈화가 용이\n",
    "\n",
    "\n",
    "## 3. 함수의 설계\n",
    "+ 단일 기능\n",
    "+ 재사용성\n",
    "\n",
    "\n",
    "## 4. 함수의 종류\n",
    "+ 사용자 정의 함수(User Define Function)\n",
    "+ 내장 함수(Built-in Fucntion)\n",
    "+ 외장 함수(External Fucntion)\n",
    "\n",
    "\n",
    "## 5. 함수의 구현\n",
    "    def 함수이름(...) :\n",
    "        코드\n",
    "        ...\n",
    "        [return ...]\n",
    "        \n",
    "\n",
    "## 6. 실습\n",
    "\n",
    "### (1) 변수의 유효(생존)범위: 지역변수, 전역변수"
   ]
  },
  {
   "cell_type": "code",
   "execution_count": 5,
   "id": "b4ee3793",
   "metadata": {},
   "outputs": [
    {
     "name": "stdout",
     "output_type": "stream",
     "text": [
      "전국 대표\n",
      "홍길동 지역 대표\n",
      "전국 대표\n"
     ]
    }
   ],
   "source": [
    "player = \"전국 대표\"\n",
    "\n",
    "def funcSoccer():\n",
    "    name = \"홍길동\"\n",
    "    player = \"지역 대표\"\n",
    "    print(name, player)\n",
    "\n",
    "print(player)\n",
    "funcSoccer()\n",
    "print(player)"
   ]
  },
  {
   "cell_type": "code",
   "execution_count": 7,
   "id": "679c5b57",
   "metadata": {},
   "outputs": [
    {
     "name": "stdout",
     "output_type": "stream",
     "text": [
      "전국 대표\n",
      "홍길동 지역 대표\n",
      "지역 대표\n"
     ]
    }
   ],
   "source": [
    "player = \"전국 대표\"\n",
    "\n",
    "def funcSoccer():\n",
    "    \n",
    "    global player\n",
    "    \n",
    "    name = \"홍길동\"\n",
    "    player = \"지역 대표\"\n",
    "    print(name, player)\n",
    "\n",
    "print(player)\n",
    "funcSoccer()\n",
    "print(player)"
   ]
  },
  {
   "cell_type": "markdown",
   "id": "f0f135fe",
   "metadata": {},
   "source": [
    "### (2) 디폴트 인수"
   ]
  },
  {
   "cell_type": "code",
   "execution_count": 8,
   "id": "033c864a",
   "metadata": {},
   "outputs": [
    {
     "name": "stdout",
     "output_type": "stream",
     "text": [
      "*********************\n",
      "  친구관리 프로그램  \n",
      "*********************\n",
      "1.친구 추가\n",
      "2.친구 삭제\n",
      "*********************\n"
     ]
    }
   ],
   "source": [
    "print(\"*********************\")\n",
    "print(\"  친구관리 프로그램  \")\n",
    "print(\"*********************\")\n",
    "print(\"1.친구 추가\")\n",
    "print(\"2.친구 삭제\")\n",
    "print(\"*********************\")"
   ]
  },
  {
   "cell_type": "code",
   "execution_count": 20,
   "id": "4b73c4a5",
   "metadata": {},
   "outputs": [
    {
     "name": "stdout",
     "output_type": "stream",
     "text": [
      "-------------------------\n",
      "  친구관리 프로그램  \n",
      "====================\n",
      "1.친구 추가\n",
      "2.친구 삭제\n",
      "******************************\n"
     ]
    }
   ],
   "source": [
    "def line(cnt = 30, type = \"*\") :\n",
    "    for i in range(cnt):\n",
    "        print(type, end=\"\")\n",
    "    print()\n",
    "\n",
    "#################################\n",
    "    \n",
    "line(25, \"-\")\n",
    "print(\"  친구관리 프로그램  \")\n",
    "line(20, \"=\")\n",
    "print(\"1.친구 추가\")\n",
    "print(\"2.친구 삭제\")\n",
    "line()"
   ]
  },
  {
   "cell_type": "markdown",
   "id": "dfa5c328",
   "metadata": {},
   "source": [
    "### (3) 가변 인수"
   ]
  },
  {
   "cell_type": "code",
   "execution_count": 25,
   "id": "dac075a5",
   "metadata": {},
   "outputs": [
    {
     "name": "stdout",
     "output_type": "stream",
     "text": [
      "('홍길동',)  안녕하세요~~\n",
      "('홍길동', '임꺽정')  안녕하세요~~\n",
      "('홍길동', '임꺽정', '톰')  안녕하세요~~\n",
      "[1, 2] [3, 4] [4, 5]\n",
      "([1, 2], [3, 4], [4, 5])\n",
      "[1, 2] [3, 4] [4, 5]\n"
     ]
    }
   ],
   "source": [
    "# * : 곱셈, 반복, 매개변수(가변인수, packing), 일반변수(unpacking)\n",
    "\n",
    "def greeting(*args):\n",
    "    print(args, \" 안녕하세요~~\")\n",
    "\n",
    "###################################\n",
    "greeting(\"홍길동\")\n",
    "greeting(\"홍길동\", \"임꺽정\")\n",
    "greeting(\"홍길동\", \"임꺽정\", \"톰\")\n",
    "\n",
    "a, b, c = ([1, 2], [3, 4], [4, 5])\n",
    "print(a, b, c)\n",
    "\n",
    "d = ([1, 2], [3, 4], [4, 5])\n",
    "print(d)\n",
    "print(*d)"
   ]
  },
  {
   "cell_type": "code",
   "execution_count": null,
   "id": "d4bfb34e",
   "metadata": {},
   "outputs": [],
   "source": []
  }
 ],
 "metadata": {
  "kernelspec": {
   "display_name": "Python 3 (ipykernel)",
   "language": "python",
   "name": "python3"
  },
  "language_info": {
   "codemirror_mode": {
    "name": "ipython",
    "version": 3
   },
   "file_extension": ".py",
   "mimetype": "text/x-python",
   "name": "python",
   "nbconvert_exporter": "python",
   "pygments_lexer": "ipython3",
   "version": "3.9.12"
  }
 },
 "nbformat": 4,
 "nbformat_minor": 5
}
