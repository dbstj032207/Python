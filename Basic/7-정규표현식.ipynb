{
 "cells": [
  {
   "cell_type": "markdown",
   "id": "d75cae6b",
   "metadata": {},
   "source": [
    "+ Regular Expression\n",
    "+ 특정한 패턴과 일치하는 문자열을 \"검색\", \"치환\", \"제거\"하는 기능을 지원\n",
    "+ https://docs.python.org/3.9/library/re.html\n",
    "+ https://docs.oracle.com/javase/8/docs/api/index.html\n"
   ]
  },
  {
   "cell_type": "markdown",
   "id": "fac9f0a5",
   "metadata": {},
   "source": [
    "### (1) 반복\n",
    "\n",
    "    * : 0회 이상\n",
    "        ab* : a, ab, abb, abbb, ...\n",
    "        lo*l :ll, lol, lool, loool, ...\n",
    "        \n",
    "    + : 1회 이상\n",
    "        ab+ : ab, abb, abbb, abbbb, ...\n",
    "        lo+l : lol, lool, loool, looool, ...\n",
    "        \n",
    "    ? : 0회 또는 1회\n",
    "        ab? : a, ab\n",
    "        lo?l : ll, lol\n",
    "        \n",
    "    {m} : m회 반복\n",
    "        a{3}bc : aaabc \n",
    "        \n",
    "    {m,n} : m회부터 n회까지\n",
    "        a{2,4}bc : aabc, aaabc, aaaabc\n",
    "        \n",
    "\n",
    "### (2) 매칭\n",
    "\n",
    "    . : 줄바꿈 문자를 제외한 모든 문자와 매치\n",
    "        a.b : aab, abb, acb, adb, a1b, ...\n",
    "        \n",
    "    ^ : 문자열의 시작과 매치\n",
    "        ^abc : abc\n",
    "        ^(abc) : abc ...\n",
    "        \n",
    "    $ : 문자열의 마지막과 매치\n",
    "        ...$a : zdfa\n",
    "        \n",
    "    [ ] : 문자집합 중 한 문자와 매치\n",
    "        [abc]xyz : axyz, bxyz, cxyz\n",
    "        [a-z]xyz : axyz, bxyz, cxyz, dxyz, ..., zxyz\n",
    "        a[.]b : a.b\n",
    "        [abc.^]z : az, bz, cz, .z, ^z\n",
    "        [^abc]d : ad, bd, cd를 제외한 나머지 문자, 즉 dd, ed, fd, ...\n",
    "        [0-9]abc : 0abc, 1abc, ..., 9abc\n",
    "        [^0-9]abc : 숫자를 제외한 abc\n",
    "        [a-zA-Z0-9]hello : ahello, Ahello, Ohello, ...\n",
    "        \n",
    "### (3) 특수문자(\\문자)\n",
    "\n",
    "    \\d : 모든 숫자와 매치\n",
    "        ab\\d\\dc : ab00c, ab01c, ...\n",
    "        ad[0-9][0-9]c : 위와 동일\n",
    "        \n",
    "    \\D : 숫자가 아닌 문자와 매치\n",
    "    \n",
    "    \\s : 공백 문자와 매치\n",
    "    \n",
    "    \\S : 공백 문자를 제외한 모든 문자와 매치\n",
    "    \n",
    "    \\w : 숫자 또는 문자\n",
    "        \n",
    "    \\W : 숫자 또는 문자가 아닌 모든 문자와 매치\n",
    "    \n",
    "    \n",
    "### (4) 파이썬에서 제공하는 정규표현식 API\n",
    "\n",
    "+ compile() : 정규 표현식 객체 생성\n",
    "+ match() : 문자열의 처음부터 정규식과 매치되는지를 조사\n",
    "+ search() : 문자열 전체를 검색하여 정규식과 매치되는지를 조사\n",
    "+ findall() : 정규식과 매치되는 모든 문자열을 리스트로 리턴\n",
    "+ finditer() : 정규식과 매치되는 모든 문자열을 반복 가능한 객체로 리턴\n",
    "+ split() : 문자열 분리\n",
    "+ sub() : 변경(교체)\n",
    "+ ..."
   ]
  },
  {
   "cell_type": "code",
   "execution_count": 16,
   "id": "0935ea74",
   "metadata": {},
   "outputs": [
    {
     "name": "stdout",
     "output_type": "stream",
     "text": [
      "<re.Match object; span=(0, 30), match='3 akfmkgmf askmkgmldfkm222kmkm'>\n",
      "None\n",
      "-------------------------------------\n",
      "True\n",
      "False\n",
      "-------------------------------------\n",
      "None\n",
      "<re.Match object; span=(7, 18), match='3 asd ksddd'>\n",
      "-------------------------------------\n",
      "<re.Match object; span=(0, 30), match='3 akfmkgmf askmkgmldfkm222kmkm'>\n"
     ]
    }
   ],
   "source": [
    "import re\n",
    "\n",
    "##### 객체를 생성해서 사용하는 방법\n",
    "p = re.compile(\"[0-9] [a-z]+ .+\")\n",
    "print(p.match(\"3 akfmkgmf askmkgmldfkm222kmkm\"))\n",
    "print(p.match(\"3ak\"))\n",
    "\n",
    "print(\"-------------------------------------\")\n",
    "\n",
    "print(bool(p.match(\"3 akfmkgmf askmkgmldfkm222kmkm\")))\n",
    "print(bool(p.match(\"3ak\")))\n",
    "\n",
    "print(\"-------------------------------------\")\n",
    "\n",
    "print(p.match(\"asdasd 3 asd ksddd\"))   # 처음부터 틀리면 None 반환 \n",
    "print(p.search(\"asdasd 3 asd ksddd\"))  # 처음에 틀려도 계속 검색\n",
    "\n",
    "print(\"-------------------------------------\")\n",
    "\n",
    "##### 바로 함수를 사용하는 방법\n",
    "print(re.match(\"[0-9] [a-z]+ .+\", \"3 akfmkgmf askmkgmldfkm222kmkm\"))"
   ]
  },
  {
   "cell_type": "code",
   "execution_count": 23,
   "id": "fd3e6b4c",
   "metadata": {},
   "outputs": [],
   "source": [
    "##### 전화번호와 매칭되는 패턴 작성\n",
    "\n",
    "data = \"안녕하세요. 내 나이는 20살이고 전화번호는 010-111-1111 입니다. 어쩌구...\"\n",
    "phone = re.search(\"\\d\\d\\d-\\d\\d\\d-\\d\\d\\d\\d\", data)"
   ]
  },
  {
   "cell_type": "code",
   "execution_count": 26,
   "id": "acc22dce",
   "metadata": {},
   "outputs": [
    {
     "name": "stdout",
     "output_type": "stream",
     "text": [
      "010-111-1111\n"
     ]
    }
   ],
   "source": [
    "print(phone.group(0))"
   ]
  },
  {
   "cell_type": "code",
   "execution_count": null,
   "id": "4dc5b1da",
   "metadata": {},
   "outputs": [],
   "source": []
  },
  {
   "cell_type": "code",
   "execution_count": null,
   "id": "1d007d64",
   "metadata": {},
   "outputs": [],
   "source": []
  },
  {
   "cell_type": "code",
   "execution_count": null,
   "id": "31d7dc44",
   "metadata": {},
   "outputs": [],
   "source": []
  },
  {
   "cell_type": "code",
   "execution_count": null,
   "id": "9a313313",
   "metadata": {},
   "outputs": [],
   "source": []
  },
  {
   "cell_type": "code",
   "execution_count": null,
   "id": "d0fb1904",
   "metadata": {},
   "outputs": [],
   "source": []
  },
  {
   "cell_type": "code",
   "execution_count": null,
   "id": "a344f9e6",
   "metadata": {},
   "outputs": [],
   "source": []
  }
 ],
 "metadata": {
  "kernelspec": {
   "display_name": "Python 3 (ipykernel)",
   "language": "python",
   "name": "python3"
  },
  "language_info": {
   "codemirror_mode": {
    "name": "ipython",
    "version": 3
   },
   "file_extension": ".py",
   "mimetype": "text/x-python",
   "name": "python",
   "nbconvert_exporter": "python",
   "pygments_lexer": "ipython3",
   "version": "3.9.12"
  }
 },
 "nbformat": 4,
 "nbformat_minor": 5
}
