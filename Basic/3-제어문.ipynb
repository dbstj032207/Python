{
 "cells": [
  {
   "cell_type": "markdown",
   "id": "cb5a8193",
   "metadata": {},
   "source": [
    "## 1. 입력기능"
   ]
  },
  {
   "cell_type": "code",
   "execution_count": 5,
   "id": "4b268336",
   "metadata": {},
   "outputs": [
    {
     "name": "stdout",
     "output_type": "stream",
     "text": [
      "이름을 입력 : 홍길동\n"
     ]
    }
   ],
   "source": [
    "name = input(\"이름을 입력 : \")"
   ]
  },
  {
   "cell_type": "code",
   "execution_count": 6,
   "id": "cfd29df7",
   "metadata": {},
   "outputs": [
    {
     "name": "stdout",
     "output_type": "stream",
     "text": [
      "당신의 이름은 홍길동 입니다\n"
     ]
    }
   ],
   "source": [
    "print(\"당신의 이름은\", name, \"입니다\")"
   ]
  },
  {
   "cell_type": "code",
   "execution_count": 10,
   "id": "4d8aa951",
   "metadata": {},
   "outputs": [
    {
     "name": "stdout",
     "output_type": "stream",
     "text": [
      "첫번째 숫자 : 66\n",
      "두번째 숫자 : 123\n",
      "결과 :  189\n"
     ]
    }
   ],
   "source": [
    "num1 = int(input(\"첫번째 숫자 : \"))\n",
    "num2 = int(input(\"두번째 숫자 : \"))\n",
    "\n",
    "print(\"결과 : \", num1 + num2)"
   ]
  },
  {
   "cell_type": "markdown",
   "id": "08259346",
   "metadata": {},
   "source": [
    "## 2. 조건문: If\n",
    "\n",
    "    1) 첫번째 유형\n",
    "        if 조건식 :\n",
    "            코드\n",
    "            ...\n",
    "            \n",
    "    2) 두번째 유형\n",
    "        if 조건식 :\n",
    "            코드\n",
    "            ...\n",
    "        else :\n",
    "            코드\n",
    "            ...\n",
    "                        \n",
    "    3) 세번째 유형\n",
    "        if 조건식 :\n",
    "            코드\n",
    "            ...\n",
    "        elif 조건식 :\n",
    "            코드\n",
    "            ...\n",
    "        elif 조건식 :\n",
    "            코드\n",
    "            ...\n",
    "        ...\n",
    "        [else :\n",
    "            코드\n",
    "            ...]"
   ]
  },
  {
   "cell_type": "code",
   "execution_count": 13,
   "id": "2bfa2663",
   "metadata": {},
   "outputs": [
    {
     "name": "stdout",
     "output_type": "stream",
     "text": [
      "값을 입력 : e\n",
      "오답\n"
     ]
    }
   ],
   "source": [
    "# 입력받은 값이 a, b, c, d이면 \"정답\" 이라고 출력하고 그렇지 않으면 \"오답\" 이라고 출력 \n",
    "\n",
    "temp = input(\"값을 입력 : \")\n",
    "result = \"정답\"\n",
    "if temp == 'a':\n",
    "    print(result)\n",
    "elif temp == 'b':\n",
    "    print(result)\n",
    "elif temp == 'c':\n",
    "    print(result)\n",
    "elif temp == 'd':\n",
    "    print(result)\n",
    "else:\n",
    "    print(\"오답\")"
   ]
  },
  {
   "cell_type": "code",
   "execution_count": 14,
   "id": "cf7afbfa",
   "metadata": {},
   "outputs": [
    {
     "data": {
      "text/plain": [
       "'\\n윤년 계산 프로그램\\n---------------------\\n'"
      ]
     },
     "execution_count": 14,
     "metadata": {},
     "output_type": "execute_result"
    }
   ],
   "source": [
    "\"\"\"\n",
    "윤년 계산 프로그램\n",
    "---------------------\n",
    "\"\"\""
   ]
  },
  {
   "cell_type": "code",
   "execution_count": 4,
   "id": "865c20ba",
   "metadata": {},
   "outputs": [
    {
     "name": "stdout",
     "output_type": "stream",
     "text": [
      "연도를 입력 : 2150\n",
      "\n"
     ]
    }
   ],
   "source": [
    "result=\"\"\n",
    "year = int(input(\"연도를 입력 : \"))\n",
    "if(year % 4 == 0) :\n",
    "    if(year % 100 == 0) :\n",
    "        if(year % 400 == 0) :\n",
    "            result = \"윤년\"\n",
    "        else:\n",
    "            result = \"평년\"\n",
    "    else:\n",
    "        result = \"윤년\"\n",
    "print(result)"
   ]
  },
  {
   "cell_type": "code",
   "execution_count": 8,
   "id": "cf50fb18",
   "metadata": {},
   "outputs": [
    {
     "name": "stdout",
     "output_type": "stream",
     "text": [
      "연산자 : +\n",
      "숫자1 : 10\n",
      "숫자2 : 15\n",
      "결과 : 10 + 15 = 25\n"
     ]
    }
   ],
   "source": [
    "op = input(\"연산자 : \")\n",
    "num1 = int(input(\"숫자1 : \"))\n",
    "num2 = int(input(\"숫자2 : \"))\n",
    "\n",
    "result = 0\n",
    "\n",
    "if op == '+':\n",
    "    result = num1 + num2\n",
    "elif op == '-':\n",
    "    result = num1 - num2\n",
    "elif op == '*':\n",
    "    result = num1 * num2\n",
    "elif op == '/':\n",
    "    result = num1 / num2\n",
    "\n",
    "print(\"결과 : %d %c %d = %s\" % (num1, op, num2, result) )"
   ]
  },
  {
   "cell_type": "code",
   "execution_count": 32,
   "id": "182762d3",
   "metadata": {},
   "outputs": [
    {
     "name": "stdout",
     "output_type": "stream",
     "text": [
      "(가위, 바위, 보) 중에서 하나를 입력 :가위\n",
      "컴퓨터 : 바위 , 사용자 : 가위\n",
      "결과 : 컴퓨터 승\n"
     ]
    }
   ],
   "source": [
    "# 가위: 0, 바위: 1, 보: 2 \n",
    "\n",
    "import random\n",
    "com = random.randint(0, 2)\n",
    "user = input(\"(가위, 바위, 보) 중에서 하나를 입력 :\")\n",
    "\n",
    "com_s = \"\"\n",
    "result = \"\"\n",
    "if com == 0:\n",
    "    com_s = \"가위\"\n",
    "    if(user == \"가위\") :\n",
    "        result = \"비겼습니다\"\n",
    "    elif(user == \"바위\") :\n",
    "        result = \"사용자 승\"\n",
    "    elif(user == \"보\") :\n",
    "        result = \"컴퓨터 승\"\n",
    "elif com == 1:\n",
    "    com_s = \"바위\"\n",
    "    if(user == \"가위\") :\n",
    "        result = \"컴퓨터 승\"\n",
    "    elif(user == \"바위\") :\n",
    "        result = \"비겼습니다\"\n",
    "    elif(user == \"보\") :\n",
    "        result = \"사용자 승\"\n",
    "elif com == 2:\n",
    "    com_s = \"보\"\n",
    "    if(user == \"가위\") :\n",
    "        result = \"사용자 승\"\n",
    "    elif(user == \"바위\") :\n",
    "        result = \"컴퓨터 승\"\n",
    "    elif(user == \"보\") :\n",
    "        result = \"비겼습니다\"\n",
    "\n",
    "print(\"컴퓨터 :\", com_s, \",\", \"사용자 :\", user)\n",
    "print(\"결과 :\", result)"
   ]
  },
  {
   "cell_type": "markdown",
   "id": "6c2761aa",
   "metadata": {},
   "source": [
    "## 3. 반복문\n",
    "    while 조건식 :\n",
    "        코드\n",
    "        ..."
   ]
  },
  {
   "cell_type": "code",
   "execution_count": 34,
   "id": "947d0ad0",
   "metadata": {},
   "outputs": [
    {
     "name": "stdout",
     "output_type": "stream",
     "text": [
      "**********\n",
      "**********\n",
      "-------------------\n",
      "**********"
     ]
    }
   ],
   "source": [
    "# *을 10개 출력\n",
    "print(\"**********\")\n",
    "print(\"*\" * 10)\n",
    "\n",
    "print(\"-------------------\")\n",
    "\n",
    "cnt = 0\n",
    "while cnt < 10:\n",
    "    print(\"*\", end=\"\")\n",
    "    cnt += 1"
   ]
  },
  {
   "cell_type": "code",
   "execution_count": 38,
   "id": "b8a708ff",
   "metadata": {},
   "outputs": [
    {
     "name": "stdout",
     "output_type": "stream",
     "text": [
      "55\n"
     ]
    }
   ],
   "source": [
    "# 1부터 10까지의 합계: 55\n",
    "\n",
    "cnt = 0\n",
    "sum = 0\n",
    "\n",
    "while cnt < 10:\n",
    "    cnt += 1\n",
    "    sum += cnt\n",
    "    \n",
    "\n",
    "print(sum)"
   ]
  },
  {
   "cell_type": "code",
   "execution_count": 39,
   "id": "aa1e2c15",
   "metadata": {},
   "outputs": [
    {
     "name": "stdout",
     "output_type": "stream",
     "text": [
      "1024\n"
     ]
    }
   ],
   "source": [
    "#2의 10승을 구해라 : 1024\n",
    "cnt = 0\n",
    "sum = 1\n",
    "\n",
    "while cnt < 10:\n",
    "    sum *= 2\n",
    "    cnt += 1\n",
    "    \n",
    "print(sum)"
   ]
  },
  {
   "cell_type": "markdown",
   "id": "019a46a5",
   "metadata": {},
   "source": [
    "### (2) for\n",
    "    for 변수 in 집합 자료형 :\n",
    "            코드\n",
    "            ..."
   ]
  },
  {
   "cell_type": "code",
   "execution_count": 46,
   "id": "3a73e537",
   "metadata": {},
   "outputs": [
    {
     "name": "stdout",
     "output_type": "stream",
     "text": [
      "10\n",
      "20\n",
      "홍길동\n",
      "3.14\n",
      "True\n",
      "----------------------------\n",
      "10\n",
      "20\n",
      "홍길동\n",
      "3.14\n",
      "True\n",
      "----------------------------\n",
      "**********\n",
      "----------------------------\n",
      "**********"
     ]
    }
   ],
   "source": [
    "data = [10, 20, \"홍길동\", 3.14, True]\n",
    "\n",
    "cnt = 0\n",
    "while cnt < len(data):\n",
    "    print(data[cnt])\n",
    "    cnt += 1\n",
    "    \n",
    "print(\"----------------------------\")\n",
    "\n",
    "for a in data:\n",
    "    print(a)\n",
    "    \n",
    "print(\"----------------------------\")   \n",
    "\n",
    "for v in [1, 1, 1, 1, 1, 1, 1, 1, 1, 1]:\n",
    "    print(\"*\", end=\"\")\n",
    "    \n",
    "print(\"\\n----------------------------\")  \n",
    "\n",
    "for v in range(10):\n",
    "    print(\"*\", end=\"\")\n"
   ]
  },
  {
   "cell_type": "markdown",
   "id": "38d76244",
   "metadata": {},
   "source": [
    "### (3) 반복문의 강제 종료\n",
    "+ break\n",
    "+ continue"
   ]
  },
  {
   "cell_type": "code",
   "execution_count": 15,
   "id": "dba449a2",
   "metadata": {},
   "outputs": [
    {
     "name": "stdout",
     "output_type": "stream",
     "text": [
      "연산자 : dkjnjg\n",
      "숫자1 : 20\n",
      "숫자2 : 30\n",
      "올바른 연산자를 입력 해 주세요\n",
      "연산자 : q\n"
     ]
    }
   ],
   "source": [
    "while(1) :\n",
    "    op = input(\"연산자 : \")\n",
    "    if(op == 'x') :\n",
    "        break\n",
    "    num1 = int(input(\"숫자1 : \"))\n",
    "    num2 = int(input(\"숫자2 : \"))\n",
    "    result = 0\n",
    "    if op == '+':\n",
    "        result = num1 + num2\n",
    "    elif op == '-':\n",
    "        result = num1 - num2\n",
    "    elif op == '*':\n",
    "        result = num1 * num2\n",
    "    elif op == '/':\n",
    "        result = num1 / num2\n",
    "    else:\n",
    "        print(\"올바른 연산자를 입력 해 주세요\")\n",
    "        continue;\n",
    "    print(\"결과 :\", result )\n",
    "\n"
   ]
  },
  {
   "cell_type": "code",
   "execution_count": 18,
   "id": "1f05e4ee",
   "metadata": {},
   "outputs": [
    {
     "name": "stdout",
     "output_type": "stream",
     "text": [
      "(가위, 바위, 보) 중에서 하나를 입력 :가위\n",
      "컴퓨터 : 보 , 사용자 : 가위\n",
      "결과 : 사용자 승\n",
      "(가위, 바위, 보) 중에서 하나를 입력 :q\n"
     ]
    }
   ],
   "source": [
    "# 가위: 0, 바위: 1, 보: 2 \n",
    "\n",
    "import random\n",
    "while(1) :\n",
    "    com = random.randint(0, 2)\n",
    "    user = input(\"(가위, 바위, 보) 중에서 하나를 입력 :\")\n",
    "    if(user == 'x' or user =='q') :\n",
    "        break\n",
    "\n",
    "    com_s = \"\"\n",
    "    result = \"\"\n",
    "    if com == 0:\n",
    "        com_s = \"가위\"\n",
    "        if(user == \"가위\") :\n",
    "            result = \"비겼습니다\"\n",
    "        elif(user == \"바위\") :\n",
    "            result = \"사용자 승\"\n",
    "        elif(user == \"보\") :\n",
    "            result = \"컴퓨터 승\"\n",
    "    elif com == 1:\n",
    "        com_s = \"바위\"\n",
    "        if(user == \"가위\") :\n",
    "            result = \"컴퓨터 승\"\n",
    "        elif(user == \"바위\") :\n",
    "            result = \"비겼습니다\"\n",
    "        elif(user == \"보\") :\n",
    "            result = \"사용자 승\"\n",
    "    elif com == 2:\n",
    "        com_s = \"보\"\n",
    "        if(user == \"가위\") :\n",
    "            result = \"사용자 승\"\n",
    "        elif(user == \"바위\") :\n",
    "            result = \"컴퓨터 승\"\n",
    "        elif(user == \"보\") :\n",
    "            result = \"비겼습니다\"\n",
    "\n",
    "    print(\"컴퓨터 :\", com_s, \",\", \"사용자 :\", user)\n",
    "    print(\"결과 :\", result)"
   ]
  },
  {
   "cell_type": "code",
   "execution_count": 28,
   "id": "a785b2c4",
   "metadata": {},
   "outputs": [
    {
     "name": "stdout",
     "output_type": "stream",
     "text": [
      "숫자1: 5\n",
      "숫자2: 4\n",
      "숫자3: 3\n",
      "숫자4: 2\n",
      "숫자5: 1\n",
      "숫자6: 0\n",
      "짝수의 합: 6\n",
      "홀수의 합: 9\n"
     ]
    }
   ],
   "source": [
    "cnt = 1\n",
    "sum_odd = 0\n",
    "sum_even = 0\n",
    "while(1) :\n",
    "    temp = int(input(\"숫자%d: \" % cnt))\n",
    "    cnt += 1\n",
    "    \n",
    "    if(temp == 0):\n",
    "        break\n",
    "    if(temp % 2 == 0):   # 짝수\n",
    "        sum_even += temp\n",
    "    else:   # 홀수\n",
    "        sum_odd += temp\n",
    "\n",
    "        \n",
    "print(\"짝수의 합: %d\" % sum_even) \n",
    "print(\"홀수의 합: %d\" % sum_odd)  "
   ]
  },
  {
   "cell_type": "code",
   "execution_count": 44,
   "id": "fa222acb",
   "metadata": {},
   "outputs": [
    {
     "ename": "KeyboardInterrupt",
     "evalue": "Interrupted by user",
     "output_type": "error",
     "traceback": [
      "\u001b[1;31m---------------------------------------------------------------------------\u001b[0m",
      "\u001b[1;31mKeyboardInterrupt\u001b[0m                         Traceback (most recent call last)",
      "Input \u001b[1;32mIn [44]\u001b[0m, in \u001b[0;36m<cell line: 5>\u001b[1;34m()\u001b[0m\n\u001b[0;32m      3\u001b[0m cnt \u001b[38;5;241m=\u001b[39m \u001b[38;5;241m0\u001b[39m\n\u001b[0;32m      4\u001b[0m \u001b[38;5;28;01mwhile\u001b[39;00m(\u001b[38;5;241m1\u001b[39m) :\n\u001b[1;32m----> 5\u001b[0m     temp \u001b[38;5;241m=\u001b[39m \u001b[38;5;28mint\u001b[39m(\u001b[38;5;28;43minput\u001b[39;49m\u001b[43m(\u001b[49m\u001b[38;5;124;43m\"\u001b[39;49m\u001b[38;5;124;43m숫자입력: \u001b[39;49m\u001b[38;5;124;43m\"\u001b[39;49m\u001b[43m)\u001b[49m)\n\u001b[0;32m      6\u001b[0m     cnt \u001b[38;5;241m+\u001b[39m\u001b[38;5;241m=\u001b[39m \u001b[38;5;241m1\u001b[39m\n\u001b[0;32m      8\u001b[0m     \u001b[38;5;28;01mif\u001b[39;00m(temp \u001b[38;5;241m==\u001b[39m com):\n",
      "File \u001b[1;32m~\\anaconda3\\lib\\site-packages\\ipykernel\\kernelbase.py:1075\u001b[0m, in \u001b[0;36mKernel.raw_input\u001b[1;34m(self, prompt)\u001b[0m\n\u001b[0;32m   1071\u001b[0m \u001b[38;5;28;01mif\u001b[39;00m \u001b[38;5;129;01mnot\u001b[39;00m \u001b[38;5;28mself\u001b[39m\u001b[38;5;241m.\u001b[39m_allow_stdin:\n\u001b[0;32m   1072\u001b[0m     \u001b[38;5;28;01mraise\u001b[39;00m StdinNotImplementedError(\n\u001b[0;32m   1073\u001b[0m         \u001b[38;5;124m\"\u001b[39m\u001b[38;5;124mraw_input was called, but this frontend does not support input requests.\u001b[39m\u001b[38;5;124m\"\u001b[39m\n\u001b[0;32m   1074\u001b[0m     )\n\u001b[1;32m-> 1075\u001b[0m \u001b[38;5;28;01mreturn\u001b[39;00m \u001b[38;5;28;43mself\u001b[39;49m\u001b[38;5;241;43m.\u001b[39;49m\u001b[43m_input_request\u001b[49m\u001b[43m(\u001b[49m\n\u001b[0;32m   1076\u001b[0m \u001b[43m    \u001b[49m\u001b[38;5;28;43mstr\u001b[39;49m\u001b[43m(\u001b[49m\u001b[43mprompt\u001b[49m\u001b[43m)\u001b[49m\u001b[43m,\u001b[49m\n\u001b[0;32m   1077\u001b[0m \u001b[43m    \u001b[49m\u001b[38;5;28;43mself\u001b[39;49m\u001b[38;5;241;43m.\u001b[39;49m\u001b[43m_parent_ident\u001b[49m\u001b[43m[\u001b[49m\u001b[38;5;124;43m\"\u001b[39;49m\u001b[38;5;124;43mshell\u001b[39;49m\u001b[38;5;124;43m\"\u001b[39;49m\u001b[43m]\u001b[49m\u001b[43m,\u001b[49m\n\u001b[0;32m   1078\u001b[0m \u001b[43m    \u001b[49m\u001b[38;5;28;43mself\u001b[39;49m\u001b[38;5;241;43m.\u001b[39;49m\u001b[43mget_parent\u001b[49m\u001b[43m(\u001b[49m\u001b[38;5;124;43m\"\u001b[39;49m\u001b[38;5;124;43mshell\u001b[39;49m\u001b[38;5;124;43m\"\u001b[39;49m\u001b[43m)\u001b[49m\u001b[43m,\u001b[49m\n\u001b[0;32m   1079\u001b[0m \u001b[43m    \u001b[49m\u001b[43mpassword\u001b[49m\u001b[38;5;241;43m=\u001b[39;49m\u001b[38;5;28;43;01mFalse\u001b[39;49;00m\u001b[43m,\u001b[49m\n\u001b[0;32m   1080\u001b[0m \u001b[43m\u001b[49m\u001b[43m)\u001b[49m\n",
      "File \u001b[1;32m~\\anaconda3\\lib\\site-packages\\ipykernel\\kernelbase.py:1120\u001b[0m, in \u001b[0;36mKernel._input_request\u001b[1;34m(self, prompt, ident, parent, password)\u001b[0m\n\u001b[0;32m   1117\u001b[0m             \u001b[38;5;28;01mbreak\u001b[39;00m\n\u001b[0;32m   1118\u001b[0m \u001b[38;5;28;01mexcept\u001b[39;00m \u001b[38;5;167;01mKeyboardInterrupt\u001b[39;00m:\n\u001b[0;32m   1119\u001b[0m     \u001b[38;5;66;03m# re-raise KeyboardInterrupt, to truncate traceback\u001b[39;00m\n\u001b[1;32m-> 1120\u001b[0m     \u001b[38;5;28;01mraise\u001b[39;00m \u001b[38;5;167;01mKeyboardInterrupt\u001b[39;00m(\u001b[38;5;124m\"\u001b[39m\u001b[38;5;124mInterrupted by user\u001b[39m\u001b[38;5;124m\"\u001b[39m) \u001b[38;5;28;01mfrom\u001b[39;00m \u001b[38;5;28mNone\u001b[39m\n\u001b[0;32m   1121\u001b[0m \u001b[38;5;28;01mexcept\u001b[39;00m \u001b[38;5;167;01mException\u001b[39;00m:\n\u001b[0;32m   1122\u001b[0m     \u001b[38;5;28mself\u001b[39m\u001b[38;5;241m.\u001b[39mlog\u001b[38;5;241m.\u001b[39mwarning(\u001b[38;5;124m\"\u001b[39m\u001b[38;5;124mInvalid Message:\u001b[39m\u001b[38;5;124m\"\u001b[39m, exc_info\u001b[38;5;241m=\u001b[39m\u001b[38;5;28;01mTrue\u001b[39;00m)\n",
      "\u001b[1;31mKeyboardInterrupt\u001b[0m: Interrupted by user"
     ]
    }
   ],
   "source": [
    "import random\n",
    "com = random.randint(1, 100)\n",
    "cnt = 0\n",
    "while(1) :\n",
    "    temp = int(input(\"숫자입력: \"))\n",
    "    cnt += 1\n",
    "    \n",
    "    if(temp == com):\n",
    "        break\n",
    "    if(temp < com):   \n",
    "        print(\"입력하신 숫자보다 높습니다\")\n",
    "    elif(temp > com):   \n",
    "        print(\"입력하신 숫자보다 낮습니다\")\n",
    "        \n",
    "print(\"정답입니다. 시도횟수는 %d번 입니다.\" % cnt)\n"
   ]
  },
  {
   "cell_type": "code",
   "execution_count": null,
   "id": "ee87b73d",
   "metadata": {},
   "outputs": [
    {
     "name": "stdout",
     "output_type": "stream",
     "text": [
      "친구관리 프로그램\n",
      "===========================\n",
      "1.친구 리스트 출력\n",
      "2.친구 추가\n",
      "3.친구 삭제\n",
      "4.이름 변경\n",
      "9.종료\n",
      "메뉴를 선택: 2\n",
      "이름을 입력: 홍길동\n",
      "----------------------------\n",
      "1.친구 리스트 출력\n",
      "2.친구 추가\n",
      "3.친구 삭제\n",
      "4.이름 변경\n",
      "9.종료\n",
      "메뉴를 선택: 2\n",
      "이름을 입력: 임꺽정\n",
      "----------------------------\n",
      "1.친구 리스트 출력\n",
      "2.친구 추가\n",
      "3.친구 삭제\n",
      "4.이름 변경\n",
      "9.종료\n",
      "메뉴를 선택: 1\n",
      "['홍길동', '임꺽정']\n",
      "----------------------------\n",
      "1.친구 리스트 출력\n",
      "2.친구 추가\n",
      "3.친구 삭제\n",
      "4.이름 변경\n",
      "9.종료\n",
      "메뉴를 선택: 4\n",
      "변경할 이름 선택: 홍길동\n",
      "변경하고 싶은 이름 입력: 홍길순\n",
      "----------------------------\n",
      "1.친구 리스트 출력\n",
      "2.친구 추가\n",
      "3.친구 삭제\n",
      "4.이름 변경\n",
      "9.종료\n",
      "메뉴를 선택: 1\n",
      "['홍길순', '임꺽정']\n",
      "----------------------------\n",
      "1.친구 리스트 출력\n",
      "2.친구 추가\n",
      "3.친구 삭제\n",
      "4.이름 변경\n",
      "9.종료\n",
      "메뉴를 선택: 3\n",
      "삭제할 이름 입력: 홍길순\n",
      "----------------------------\n",
      "1.친구 리스트 출력\n",
      "2.친구 추가\n",
      "3.친구 삭제\n",
      "4.이름 변경\n",
      "9.종료\n",
      "메뉴를 선택: 1\n",
      "['임꺽정']\n",
      "----------------------------\n",
      "1.친구 리스트 출력\n",
      "2.친구 추가\n",
      "3.친구 삭제\n",
      "4.이름 변경\n",
      "9.종료\n"
     ]
    }
   ],
   "source": [
    "print(\"친구관리 프로그램\")\n",
    "print(\"===========================\")\n",
    "f_list = []\n",
    "while(1):\n",
    "    print(\"1.친구 리스트 출력\")\n",
    "    print(\"2.친구 추가\")\n",
    "    print(\"3.친구 삭제\")\n",
    "    print(\"4.이름 변경\")\n",
    "    print(\"9.종료\")\n",
    "    menu = input(\"메뉴를 선택: \")\n",
    "    if(menu == '9'):\n",
    "        break\n",
    "    elif(menu == '1'):\n",
    "        print(f_list)\n",
    "    elif(menu == '2'):\n",
    "        a_name = input(\"이름을 입력: \")\n",
    "        f_list.append(a_name)\n",
    "    elif(menu == '3'):\n",
    "        d_name = input(\"삭제할 이름 입력: \")\n",
    "        f_list.remove(d_name)\n",
    "    elif(menu == '4'):\n",
    "        m_name = input(\"변경할 이름 선택: \")\n",
    "        n_name = input(\"변경하고 싶은 이름 입력: \")\n",
    "        m_index = f_list.index(m_name)\n",
    "        f_list[m_index] = n_name\n",
    "    else:\n",
    "        print(\"올바른 값을 입력하시오\")\n",
    "    print(\"----------------------------\")"
   ]
  },
  {
   "cell_type": "markdown",
   "id": "a7fb5a42",
   "metadata": {},
   "source": [
    "### (4) 반복문의 중첩"
   ]
  },
  {
   "cell_type": "code",
   "execution_count": 38,
   "id": "e8520eba",
   "metadata": {},
   "outputs": [
    {
     "name": "stdout",
     "output_type": "stream",
     "text": [
      "**********\n",
      "**********\n",
      "**********\n"
     ]
    }
   ],
   "source": [
    "for i in range(3):\n",
    "    for j in range(10):\n",
    "        print(\"*\", end=\"\")\n",
    "    print()"
   ]
  },
  {
   "cell_type": "code",
   "execution_count": 39,
   "id": "774e1959",
   "metadata": {},
   "outputs": [
    {
     "name": "stdout",
     "output_type": "stream",
     "text": [
      "*\n",
      "**\n",
      "***\n",
      "****\n"
     ]
    }
   ],
   "source": [
    "cnt = 1\n",
    "for i in range(4):\n",
    "    for j in range(cnt):\n",
    "        print(\"*\", end=\"\")\n",
    "    print()\n",
    "    cnt += 1"
   ]
  },
  {
   "cell_type": "code",
   "execution_count": 85,
   "id": "4b1dbcc5",
   "metadata": {},
   "outputs": [
    {
     "name": "stdout",
     "output_type": "stream",
     "text": [
      "    *    \n",
      "   ***   \n",
      "  *****  \n",
      " ******* \n",
      "*********\n"
     ]
    }
   ],
   "source": [
    "\"\"\"\n",
    "    *\n",
    "   ***\n",
    "  *****\n",
    " ******* \n",
    "*********\n",
    "\"\"\"\n",
    "cnt = 1\n",
    "\n",
    "for i in range(5):\n",
    "    temp = \"\"\n",
    "    for j in range(cnt):\n",
    "        temp += \"*\"\n",
    "    print(temp.center(9))\n",
    "    cnt += 2"
   ]
  },
  {
   "cell_type": "markdown",
   "id": "0884f669",
   "metadata": {},
   "source": [
    "### (5) List Comprehension(내포)"
   ]
  },
  {
   "cell_type": "code",
   "execution_count": 46,
   "id": "c989fbea",
   "metadata": {},
   "outputs": [
    {
     "name": "stdout",
     "output_type": "stream",
     "text": [
      "[0, 1, 2, 3, 4, 5, 6, 7, 8, 9]\n"
     ]
    }
   ],
   "source": [
    "result = []\n",
    "\n",
    "for i in range(10):\n",
    "    result.append(i)\n",
    "    \n",
    "print(result)"
   ]
  },
  {
   "cell_type": "code",
   "execution_count": 48,
   "id": "a24bf747",
   "metadata": {},
   "outputs": [
    {
     "name": "stdout",
     "output_type": "stream",
     "text": [
      "[0, 1, 2, 3, 4, 5, 6, 7, 8, 9]\n"
     ]
    }
   ],
   "source": [
    "result = [i for i in range(10)]\n",
    "\n",
    "print(result)"
   ]
  },
  {
   "cell_type": "code",
   "execution_count": 49,
   "id": "c9f9e1ef",
   "metadata": {},
   "outputs": [
    {
     "name": "stdout",
     "output_type": "stream",
     "text": [
      "[0, 2, 4, 6, 8]\n"
     ]
    }
   ],
   "source": [
    "result = []\n",
    "for i in range(10):\n",
    "    if i % 2 == 0:\n",
    "        result.append(i)\n",
    "print(result)"
   ]
  },
  {
   "cell_type": "code",
   "execution_count": 53,
   "id": "413d306d",
   "metadata": {},
   "outputs": [
    {
     "name": "stdout",
     "output_type": "stream",
     "text": [
      "[0, 2, 4, 6, 8]\n"
     ]
    }
   ],
   "source": [
    "result = [i for i in range(10) if i % 2 == 0]\n",
    "print(result)"
   ]
  },
  {
   "cell_type": "code",
   "execution_count": 60,
   "id": "d76b39aa",
   "metadata": {},
   "outputs": [
    {
     "name": "stdout",
     "output_type": "stream",
     "text": [
      "['AD', 'AE', 'AA', 'BD', 'BE', 'BA', 'CD', 'CE', 'CA']\n"
     ]
    }
   ],
   "source": [
    "c1 = [\"A\", \"B\", \"C\"]\n",
    "c2 = [\"D\", \"E\", \"A\"]\n",
    "\n",
    "result = []\n",
    "for i in c1:\n",
    "    for j in c2:\n",
    "        temp = i + j\n",
    "        result.append(temp)\n",
    "print(result)"
   ]
  },
  {
   "cell_type": "code",
   "execution_count": 63,
   "id": "a7441c4d",
   "metadata": {},
   "outputs": [
    {
     "name": "stdout",
     "output_type": "stream",
     "text": [
      "['AD', 'AE', 'AA', 'BD', 'BE', 'BA', 'CD', 'CE', 'CA']\n"
     ]
    }
   ],
   "source": [
    "result = [row + col for row in c1 for col in c2]\n",
    "print(result)"
   ]
  },
  {
   "cell_type": "code",
   "execution_count": 64,
   "id": "c4df43d2",
   "metadata": {},
   "outputs": [
    {
     "name": "stdout",
     "output_type": "stream",
     "text": [
      "['AD', 'AE', 'BD', 'BE', 'BA', 'CD', 'CE', 'CA']\n"
     ]
    }
   ],
   "source": [
    "result = [row + col for row in c1 for col in c2 if row != col]\n",
    "print(result)"
   ]
  },
  {
   "cell_type": "code",
   "execution_count": 74,
   "id": "642121bf",
   "metadata": {},
   "outputs": [
    {
     "name": "stdout",
     "output_type": "stream",
     "text": [
      "[['AD', 'AE', 'AA'], ['BD', 'BE', 'BA'], ['CD', 'CE', 'CA']]\n"
     ]
    }
   ],
   "source": [
    "result = []\n",
    "c1 = [\"A\", \"B\", \"C\"]\n",
    "c2 = [\"D\", \"E\", \"A\"]\n",
    "cnt = 0\n",
    "for row in c1:\n",
    "    cnt2 = 0\n",
    "    for col in c2:\n",
    "        temp = row + col\n",
    "        if(cnt2 == 0):\n",
    "            list_temp = [temp]\n",
    "            result.append(list_temp)\n",
    "        else:\n",
    "            result[cnt].append(temp)\n",
    "        cnt2 += 1\n",
    "    cnt += 1\n",
    "print(result)\n",
    "\n",
    "print(\"-----------------------------------\")\n",
    "\n",
    "result = [[row + col for row in c1] for col in c2 if row != col]\n",
    "print(result)"
   ]
  },
  {
   "cell_type": "code",
   "execution_count": 77,
   "id": "4b04a493",
   "metadata": {},
   "outputs": [
    {
     "name": "stdout",
     "output_type": "stream",
     "text": [
      "[['AD', 'BD', 'CD'], ['AE', 'BE', 'CE'], ['AA', 'BA', 'CA']]\n"
     ]
    }
   ],
   "source": [
    "result = [[row + col for row in c1] for col in c2 if row != col]\n",
    "print(result)"
   ]
  },
  {
   "cell_type": "code",
   "execution_count": 83,
   "id": "df8325b6",
   "metadata": {},
   "outputs": [
    {
     "name": "stdout",
     "output_type": "stream",
     "text": [
      "[['SOME', 'some', 4], ['WHERE', 'where', 5], ['OVER', 'over', 4], ['THE', 'the', 3], ['RAINBOW', 'rainbow', 7], ['WAY', 'way', 3], ['UP', 'up', 2], ['HIGH', 'high', 4]]\n"
     ]
    }
   ],
   "source": [
    "words = \"Some Where Over the Rainbow Way up high\"\n",
    "\n",
    "\"\"\"\n",
    "[\"SOME\", \"some\", 4]\n",
    "[\"WHERE\", \"where\", 5]\n",
    "...\n",
    "\"\"\"\n",
    "\n",
    "words_list = words.split()\n",
    "result = [[word.upper(), word.lower(), len(word)] for word in words_list]\n",
    "print(result)"
   ]
  },
  {
   "cell_type": "code",
   "execution_count": null,
   "id": "8660d650",
   "metadata": {},
   "outputs": [],
   "source": []
  }
 ],
 "metadata": {
  "kernelspec": {
   "display_name": "Python 3 (ipykernel)",
   "language": "python",
   "name": "python3"
  },
  "language_info": {
   "codemirror_mode": {
    "name": "ipython",
    "version": 3
   },
   "file_extension": ".py",
   "mimetype": "text/x-python",
   "name": "python",
   "nbconvert_exporter": "python",
   "pygments_lexer": "ipython3",
   "version": "3.9.12"
  }
 },
 "nbformat": 4,
 "nbformat_minor": 5
}
