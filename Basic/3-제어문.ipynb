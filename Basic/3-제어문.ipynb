{
 "cells": [
  {
   "cell_type": "markdown",
   "id": "cb5a8193",
   "metadata": {},
   "source": [
    "## 1. 입력기능"
   ]
  },
  {
   "cell_type": "code",
   "execution_count": 5,
   "id": "4b268336",
   "metadata": {},
   "outputs": [
    {
     "name": "stdout",
     "output_type": "stream",
     "text": [
      "이름을 입력 : 홍길동\n"
     ]
    }
   ],
   "source": [
    "name = input(\"이름을 입력 : \")"
   ]
  },
  {
   "cell_type": "code",
   "execution_count": 6,
   "id": "cfd29df7",
   "metadata": {},
   "outputs": [
    {
     "name": "stdout",
     "output_type": "stream",
     "text": [
      "당신의 이름은 홍길동 입니다\n"
     ]
    }
   ],
   "source": [
    "print(\"당신의 이름은\", name, \"입니다\")"
   ]
  },
  {
   "cell_type": "code",
   "execution_count": 10,
   "id": "4d8aa951",
   "metadata": {},
   "outputs": [
    {
     "name": "stdout",
     "output_type": "stream",
     "text": [
      "첫번째 숫자 : 66\n",
      "두번째 숫자 : 123\n",
      "결과 :  189\n"
     ]
    }
   ],
   "source": [
    "num1 = int(input(\"첫번째 숫자 : \"))\n",
    "num2 = int(input(\"두번째 숫자 : \"))\n",
    "\n",
    "print(\"결과 : \", num1 + num2)"
   ]
  },
  {
   "cell_type": "markdown",
   "id": "08259346",
   "metadata": {},
   "source": [
    "## 2. 조건문: If\n",
    "\n",
    "    1) 첫번째 유형\n",
    "        if 조건식 :\n",
    "            코드\n",
    "            ...\n",
    "            \n",
    "    2) 두번째 유형\n",
    "        if 조건식 :\n",
    "            코드\n",
    "            ...\n",
    "        else :\n",
    "            코드\n",
    "            ...\n",
    "                        \n",
    "    3) 세번째 유형\n",
    "        if 조건식 :\n",
    "            코드\n",
    "            ...\n",
    "        elif 조건식 :\n",
    "            코드\n",
    "            ...\n",
    "        elif 조건식 :\n",
    "            코드\n",
    "            ...\n",
    "        ...\n",
    "        [else :\n",
    "            코드\n",
    "            ...]"
   ]
  },
  {
   "cell_type": "code",
   "execution_count": 13,
   "id": "2bfa2663",
   "metadata": {},
   "outputs": [
    {
     "name": "stdout",
     "output_type": "stream",
     "text": [
      "값을 입력 : e\n",
      "오답\n"
     ]
    }
   ],
   "source": [
    "# 입력받은 값이 a, b, c, d이면 \"정답\" 이라고 출력하고 그렇지 않으면 \"오답\" 이라고 출력 \n",
    "\n",
    "temp = input(\"값을 입력 : \")\n",
    "result = \"정답\"\n",
    "if temp == 'a':\n",
    "    print(result)\n",
    "elif temp == 'b':\n",
    "    print(result)\n",
    "elif temp == 'c':\n",
    "    print(result)\n",
    "elif temp == 'd':\n",
    "    print(result)\n",
    "else:\n",
    "    print(\"오답\")"
   ]
  },
  {
   "cell_type": "code",
   "execution_count": 14,
   "id": "cf7afbfa",
   "metadata": {},
   "outputs": [
    {
     "data": {
      "text/plain": [
       "'\\n윤년 계산 프로그램\\n---------------------\\n'"
      ]
     },
     "execution_count": 14,
     "metadata": {},
     "output_type": "execute_result"
    }
   ],
   "source": [
    "\"\"\"\n",
    "윤년 계산 프로그램\n",
    "---------------------\n",
    "\"\"\""
   ]
  },
  {
   "cell_type": "code",
   "execution_count": 18,
   "id": "865c20ba",
   "metadata": {},
   "outputs": [
    {
     "name": "stdout",
     "output_type": "stream",
     "text": [
      "연도를 입력 : 1900\n",
      "평년\n"
     ]
    }
   ],
   "source": [
    "result=\"\"\n",
    "year = int(input(\"연도를 입력 : \"))\n",
    "if(year % 4 == 0) :\n",
    "    if(year % 100 == 0) :\n",
    "        if(year % 400 == 0) :\n",
    "            result = \"윤년\"\n",
    "        else:\n",
    "            result = \"평년\"\n",
    "    else:\n",
    "        result = \"윤년\"\n",
    "print(result)"
   ]
  },
  {
   "cell_type": "code",
   "execution_count": 24,
   "id": "cf50fb18",
   "metadata": {},
   "outputs": [
    {
     "name": "stdout",
     "output_type": "stream",
     "text": [
      "연산자 : ㅣㅢ\n",
      "숫자1 : 1\n",
      "숫자2 : 3\n",
      "올바른 연산자를 입력해 주세요\n",
      "결과 : 0\n"
     ]
    }
   ],
   "source": [
    "op = input(\"연산자 : \")\n",
    "num1 = int(input(\"숫자1 : \"))\n",
    "num2 = int(input(\"숫자2 : \"))\n",
    "\n",
    "result = 0\n",
    "\n",
    "if op == '+':\n",
    "    result = num1 + num2\n",
    "elif op == '-':\n",
    "    result = num1 - num2\n",
    "elif op == '*':\n",
    "    result = num1 * num2\n",
    "elif op == '/':\n",
    "    result = num1 / num2\n",
    "\n",
    "print(\"결과 :\", result )"
   ]
  },
  {
   "cell_type": "code",
   "execution_count": 32,
   "id": "182762d3",
   "metadata": {},
   "outputs": [
    {
     "name": "stdout",
     "output_type": "stream",
     "text": [
      "(가위, 바위, 보) 중에서 하나를 입력 :가위\n",
      "컴퓨터 : 바위 , 사용자 : 가위\n",
      "결과 : 컴퓨터 승\n"
     ]
    }
   ],
   "source": [
    "# 가위: 0, 바위: 1, 보: 2 \n",
    "\n",
    "import random\n",
    "com = random.randint(0, 2)\n",
    "user = input(\"(가위, 바위, 보) 중에서 하나를 입력 :\")\n",
    "\n",
    "com_s = \"\"\n",
    "result = \"\"\n",
    "if com == 0:\n",
    "    com_s = \"가위\"\n",
    "    if(user == \"가위\") :\n",
    "        result = \"비겼습니다\"\n",
    "    elif(user == \"바위\") :\n",
    "        result = \"사용자 승\"\n",
    "    elif(user == \"보\") :\n",
    "        result = \"컴퓨터 승\"\n",
    "elif com == 1:\n",
    "    com_s = \"바위\"\n",
    "    if(user == \"가위\") :\n",
    "        result = \"컴퓨터 승\"\n",
    "    elif(user == \"바위\") :\n",
    "        result = \"비겼습니다\"\n",
    "    elif(user == \"보\") :\n",
    "        result = \"사용자 승\"\n",
    "elif com == 2:\n",
    "    com_s = \"보\"\n",
    "    if(user == \"가위\") :\n",
    "        result = \"사용자 승\"\n",
    "    elif(user == \"바위\") :\n",
    "        result = \"컴퓨터 승\"\n",
    "    elif(user == \"보\") :\n",
    "        result = \"비겼습니다\"\n",
    "\n",
    "print(\"컴퓨터 :\", com_s, \",\", \"사용자 :\", user)\n",
    "print(\"결과 :\", result)"
   ]
  },
  {
   "cell_type": "markdown",
   "id": "6c2761aa",
   "metadata": {},
   "source": [
    "## 3. 반복문\n",
    "    while 조건식 :\n",
    "        코드\n",
    "        ..."
   ]
  },
  {
   "cell_type": "code",
   "execution_count": 34,
   "id": "947d0ad0",
   "metadata": {},
   "outputs": [
    {
     "name": "stdout",
     "output_type": "stream",
     "text": [
      "**********\n",
      "**********\n",
      "-------------------\n",
      "**********"
     ]
    }
   ],
   "source": [
    "# *을 10개 출력\n",
    "print(\"**********\")\n",
    "print(\"*\" * 10)\n",
    "\n",
    "print(\"-------------------\")\n",
    "\n",
    "cnt = 0\n",
    "while cnt < 10:\n",
    "    print(\"*\", end=\"\")\n",
    "    cnt += 1"
   ]
  },
  {
   "cell_type": "code",
   "execution_count": 38,
   "id": "b8a708ff",
   "metadata": {},
   "outputs": [
    {
     "name": "stdout",
     "output_type": "stream",
     "text": [
      "55\n"
     ]
    }
   ],
   "source": [
    "# 1부터 10까지의 합계: 55\n",
    "\n",
    "cnt = 0\n",
    "sum = 0\n",
    "\n",
    "while cnt < 10:\n",
    "    cnt += 1\n",
    "    sum += cnt\n",
    "    \n",
    "\n",
    "print(sum)"
   ]
  },
  {
   "cell_type": "code",
   "execution_count": 39,
   "id": "aa1e2c15",
   "metadata": {},
   "outputs": [
    {
     "name": "stdout",
     "output_type": "stream",
     "text": [
      "1024\n"
     ]
    }
   ],
   "source": [
    "#2의 10승을 구해라 : 1024\n",
    "cnt = 0\n",
    "sum = 1\n",
    "\n",
    "while cnt < 10:\n",
    "    sum *= 2\n",
    "    cnt += 1\n",
    "    \n",
    "print(sum)"
   ]
  },
  {
   "cell_type": "markdown",
   "id": "019a46a5",
   "metadata": {},
   "source": [
    "### (2) for\n",
    "    for 변수 in 집합 자료형 :\n",
    "            코드\n",
    "            ..."
   ]
  },
  {
   "cell_type": "code",
   "execution_count": 46,
   "id": "3a73e537",
   "metadata": {},
   "outputs": [
    {
     "name": "stdout",
     "output_type": "stream",
     "text": [
      "10\n",
      "20\n",
      "홍길동\n",
      "3.14\n",
      "True\n",
      "----------------------------\n",
      "10\n",
      "20\n",
      "홍길동\n",
      "3.14\n",
      "True\n",
      "----------------------------\n",
      "**********\n",
      "----------------------------\n",
      "**********"
     ]
    }
   ],
   "source": [
    "data = [10, 20, \"홍길동\", 3.14, True]\n",
    "\n",
    "cnt = 0\n",
    "while cnt < len(data):\n",
    "    print(data[cnt])\n",
    "    cnt += 1\n",
    "    \n",
    "print(\"----------------------------\")\n",
    "\n",
    "for a in data:\n",
    "    print(a)\n",
    "    \n",
    "print(\"----------------------------\")   \n",
    "\n",
    "for v in [1, 1, 1, 1, 1, 1, 1, 1, 1, 1]:\n",
    "    print(\"*\", end=\"\")\n",
    "    \n",
    "print(\"\\n----------------------------\")  \n",
    "\n",
    "for v in range(10):\n",
    "    print(\"*\", end=\"\")\n"
   ]
  },
  {
   "cell_type": "code",
   "execution_count": null,
   "id": "ef15aeec",
   "metadata": {},
   "outputs": [],
   "source": []
  }
 ],
 "metadata": {
  "kernelspec": {
   "display_name": "Python 3 (ipykernel)",
   "language": "python",
   "name": "python3"
  },
  "language_info": {
   "codemirror_mode": {
    "name": "ipython",
    "version": 3
   },
   "file_extension": ".py",
   "mimetype": "text/x-python",
   "name": "python",
   "nbconvert_exporter": "python",
   "pygments_lexer": "ipython3",
   "version": "3.9.12"
  }
 },
 "nbformat": 4,
 "nbformat_minor": 5
}
