{
 "cells": [
  {
   "cell_type": "markdown",
   "id": "6a5f1460",
   "metadata": {},
   "source": [
    "## 1. 특징\n",
    "\n",
    "+ 묶음(코드 블럭)\n",
    "    + 변수(멤버 변수, 속성, 필드), 함수(멤버 함수, 메서드)\n",
    "    + 여러 개의 함수를 묶어서 좀 더 큰 단위의 모듈로 관리\n",
    "    \n",
    "+ 설계도(추상적)\n",
    "    + 인스턴스, 객체\n",
    "\n",
    "+ 사용자 정의 자료형\n",
    "\n",
    "+ 객체의 설계 가이드 : SOLID\n",
    "\n",
    "+ 객체의 조건\n",
    "    - 상속성\n",
    "    - 다형성\n",
    "    - 캡슐화\n",
    "    "
   ]
  },
  {
   "cell_type": "markdown",
   "id": "579d9599",
   "metadata": {},
   "source": [
    "## 2. 작성방법\n",
    "\n",
    "    class 이름:\n",
    "        변수\n",
    "        함수\n",
    "    \n",
    "    또는\n",
    "    \n",
    "    class 이름(...):\n",
    "        변수\n",
    "        함수\n",
    "        "
   ]
  },
  {
   "cell_type": "code",
   "execution_count": 1,
   "id": "abf88ed4",
   "metadata": {},
   "outputs": [
    {
     "data": {
      "text/plain": [
       "<__main__.Test at 0x271d49ab1c0>"
      ]
     },
     "execution_count": 1,
     "metadata": {},
     "output_type": "execute_result"
    }
   ],
   "source": [
    "#### 인스턴스의 생성 방법\n",
    "class Test:\n",
    "    a = 10\n",
    "    def show(self):\n",
    "        return \"Test 클래스\"\n",
    "    \n",
    "#######################\n",
    "\n",
    "Test()"
   ]
  },
  {
   "cell_type": "code",
   "execution_count": 10,
   "id": "ebed7cc6",
   "metadata": {},
   "outputs": [
    {
     "name": "stdout",
     "output_type": "stream",
     "text": [
      "국적 :  한국\n",
      "이름 :  홍길동\n",
      "나이 :  20\n",
      "신장 :  170\n",
      "취미 :  ['독서', '여행']\n",
      "\n",
      "---------------------------------\n",
      "국적 :  프랑스\n",
      "이름 :  시몽\n",
      "나이 :  25\n",
      "신장 :  168\n",
      "취미 :  ['독서', '우표수집', '음악감상']\n",
      "\n",
      "---------------------------------\n",
      "국적 :  독일\n",
      "이름 :  괴테\n",
      "나이 :  30\n",
      "신장 :  175\n",
      "취미 :  ['낚시']\n",
      "\n",
      "---------------------------------\n",
      "국적 :  한국\n",
      "이름 :  홍길동\n",
      "나이 :  20\n",
      "신장 :  170\n",
      "취미 :  ['독서', '여행']\n",
      "\n",
      "---------------------------------\n",
      "국적 :  프랑스\n",
      "이름 :  시몽\n",
      "나이 :  25\n",
      "신장 :  168\n",
      "취미 :  ['독서', '우표수집', '음악감상']\n",
      "\n",
      "---------------------------------\n",
      "국적 :  독일\n",
      "이름 :  괴테\n",
      "나이 :  30\n",
      "신장 :  175\n",
      "취미 :  ['낚시']\n",
      "\n",
      "---------------------------------\n"
     ]
    }
   ],
   "source": [
    "##### 사용자 정의 자료형\n",
    "class Person:\n",
    "    nation = \"한국\"\n",
    "    name = str()\n",
    "    age = int()\n",
    "    height = float()\n",
    "    hobbies = []\n",
    "    \n",
    "    def show(self):\n",
    "        print(\"국적 : \", self.nation)\n",
    "        print(\"이름 : \", self.name)\n",
    "        print(\"나이 : \", self.age)\n",
    "        print(\"신장 : \", self.height)\n",
    "        print(\"취미 : \", self.hobbies)\n",
    "        print(\"\\n---------------------------------\")\n",
    "\n",
    "##############################################\n",
    "\n",
    "p1 = Person()\n",
    "p2 = Person()\n",
    "p3 = Person()\n",
    "\n",
    "p1.name = \"홍길동\"\n",
    "p1.age = 20\n",
    "p1.height = 170\n",
    "p1.hobbies = [\"독서\", \"여행\"]\n",
    "\n",
    "p2.nation = \"프랑스\"\n",
    "p2.name = \"시몽\"\n",
    "p2.age = 25\n",
    "p2.height = 168\n",
    "p2.hobbies = [\"독서\", \"우표수집\", \"음악감상\"]\n",
    "\n",
    "p3.nation = \"독일\"\n",
    "p3.name = \"괴테\"\n",
    "p3.age = 30\n",
    "p3.height = 175\n",
    "p3.hobbies = [\"낚시\"]\n",
    "\n",
    "p1.show()\n",
    "p2.show()\n",
    "p3.show()\n",
    "\n",
    "data = [p1, p2, p3]\n",
    "for p in data:\n",
    "    p.show()"
   ]
  },
  {
   "cell_type": "markdown",
   "id": "82234115",
   "metadata": {},
   "source": [
    "(1) self\n",
    "+ 현재 사용중인 객체의 주소를 저장하고 있는 참조 변수\n",
    "+ read only"
   ]
  },
  {
   "cell_type": "code",
   "execution_count": 17,
   "id": "574daf3b",
   "metadata": {},
   "outputs": [
    {
     "name": "stdout",
     "output_type": "stream",
     "text": [
      "10 10.0 홍길동\n",
      "현재 주소 :  2687948586192\n",
      "----------------------\n",
      "20 20.0 이순신\n",
      "현재 주소 :  2687948584992\n",
      "----------------------\n",
      "30 30.0 유관순\n",
      "현재 주소 :  2687921495728\n",
      "----------------------\n"
     ]
    }
   ],
   "source": [
    "class Test:\n",
    "    a = int()\n",
    "    b = float()\n",
    "    c = str()\n",
    "    \n",
    "    def setValue(self, a, b, c):\n",
    "        self.a = a\n",
    "        self.b = b\n",
    "        self.c = c\n",
    "    \n",
    "    def show(self):\n",
    "        print(self.a, self.b, self.c)\n",
    "        print(\"현재 주소 : \", id(self))\n",
    "        \n",
    "###################\n",
    "\n",
    "t1 = Test()\n",
    "t2 = Test()\n",
    "t3 = Test()\n",
    "\n",
    "t1.setValue(10, 10.0, \"홍길동\")\n",
    "t1.show()\n",
    "print(\"----------------------\")\n",
    "t2.a = 20\n",
    "t2. b = 20.0\n",
    "t2.c = \"이순신\"\n",
    "t2.show()\n",
    "print(\"----------------------\")\n",
    "t3.a = 30\n",
    "t3. b = 30.0\n",
    "t3.c = \"유관순\"\n",
    "t3.show()\n",
    "print(\"----------------------\")"
   ]
  },
  {
   "cell_type": "markdown",
   "id": "b4365376",
   "metadata": {},
   "source": [
    "### (2) 생성자(Constructor)와 소멸자(Deconstructor)\n",
    "\n",
    "+ 매서드\n",
    "+ 객체를 생성하는 용도\n",
    "+ 생성자릐 경우 객체를 처음 만들 때 호출된다. (단 한번만 호출)\n",
    "+ 초기화"
   ]
  },
  {
   "cell_type": "code",
   "execution_count": 28,
   "id": "05a04797",
   "metadata": {},
   "outputs": [
    {
     "name": "stdout",
     "output_type": "stream",
     "text": [
      "생성자 호출\n",
      "0 None\n",
      "생성자 호출\n",
      "100 None\n",
      "생성자 호출\n",
      "홍길동 None\n",
      "생성자 호출\n",
      "200 임꺽정\n"
     ]
    }
   ],
   "source": [
    "class Test:\n",
    "    a = int()\n",
    "    b = str()\n",
    "    \n",
    "    def __init__(self, a=0, b=None):\n",
    "        print(\"생성자 호출\")\n",
    "        self.a = a\n",
    "        self.b = b\n",
    "    \n",
    "    def setVal(self, a, b):\n",
    "        self.a = a\n",
    "        self.b = b\n",
    "        \n",
    "    def __del__(self):\n",
    "        print(\"소멸자 호출\")\n",
    "        \n",
    "#####################################\n",
    "t1 = Test()\n",
    "print(t1.a, t1.b)\n",
    "\n",
    "t2 = Test(100)\n",
    "print(t2.a, t2.b)\n",
    "\n",
    "t3 = Test(\"홍길동\")\n",
    "print(t3.a, t3.b)\n",
    "\n",
    "t4 = Test(200, \"임꺽정\")\n",
    "print(t4.a, t4.b)"
   ]
  },
  {
   "cell_type": "code",
   "execution_count": 29,
   "id": "d7ff54dd",
   "metadata": {},
   "outputs": [
    {
     "name": "stdout",
     "output_type": "stream",
     "text": [
      "소멸자 호출\n"
     ]
    }
   ],
   "source": [
    "del t4"
   ]
  },
  {
   "cell_type": "markdown",
   "id": "3d16ed38",
   "metadata": {},
   "source": [
    "### (3) Static\n",
    "\n",
    "+ 인스턴스와 구별\n",
    "+ 동일한 공간을 모든 객체들이 공동으로 사용\n",
    "+ 정정(클래스) 변수, 정적(클래스) 매서드"
   ]
  },
  {
   "cell_type": "code",
   "execution_count": 35,
   "id": "7462f893",
   "metadata": {},
   "outputs": [
    {
     "name": "stdout",
     "output_type": "stream",
     "text": [
      "국적 :  한국\n",
      "이름 :  홍길동\n",
      "나이 :  20\n",
      "신장 :  170\n",
      "취미 :  ['독서', '여행']\n",
      "회사명 :  \n",
      "---------------------------------\n",
      "회사명: 파이썬 주식회사\n",
      "국적 :  프랑스\n",
      "이름 :  시몽\n",
      "나이 :  25\n",
      "신장 :  168\n",
      "취미 :  ['독서', '우표수집', '음악감상']\n",
      "회사명 :  파이썬 주식회사\n",
      "---------------------------------\n",
      "회사명: 파이썬 주식회사\n",
      "국적 :  독일\n",
      "이름 :  괴테\n",
      "나이 :  30\n",
      "신장 :  175\n",
      "취미 :  ['낚시']\n",
      "회사명 :  파이썬 주식회사\n",
      "---------------------------------\n",
      "회사명: 파이썬 주식회사\n"
     ]
    }
   ],
   "source": [
    "class Person:\n",
    "    nation = \"한국\"\n",
    "    name = str()\n",
    "    age = int()\n",
    "    height = float()\n",
    "    hobbies = []\n",
    "    company = str()\n",
    "    \n",
    "    def show(self):\n",
    "        print(\"국적 : \", self.nation)\n",
    "        print(\"이름 : \", self.name)\n",
    "        print(\"나이 : \", self.age)\n",
    "        print(\"신장 : \", self.height)\n",
    "        print(\"취미 : \", self.hobbies)\n",
    "        print(\"회사명 : \", Person.company)\n",
    "        print(\"---------------------------------\")\n",
    "    \n",
    "    @staticmethod\n",
    "    def funcCompany():\n",
    "        Person.company = \"파이썬 주식회사\"\n",
    "        return \"회사명: \" + Person.company\n",
    "        \n",
    "        \n",
    "#####################################\n",
    "#Person.company = \"(주)파이썬\"\n",
    "\n",
    "p1 = Person()\n",
    "p2 = Person()\n",
    "p3 = Person()\n",
    "\n",
    "p1.name = \"홍길동\"\n",
    "p1.age = 20\n",
    "p1.height = 170\n",
    "p1.hobbies = [\"독서\", \"여행\"]\n",
    "\n",
    "p2.nation = \"프랑스\"\n",
    "p2.name = \"시몽\"\n",
    "p2.age = 25\n",
    "p2.height = 168\n",
    "p2.hobbies = [\"독서\", \"우표수집\", \"음악감상\"]\n",
    "\n",
    "p3.nation = \"독일\"\n",
    "p3.name = \"괴테\"\n",
    "p3.age = 30\n",
    "p3.height = 175\n",
    "p3.hobbies = [\"낚시\"]\n",
    "\n",
    "data = [p1, p2, p3]\n",
    "for p in data:\n",
    "    print(Person.funcCompany())\n",
    "    p.show()\n",
    "    "
   ]
  },
  {
   "cell_type": "code",
   "execution_count": 43,
   "id": "40e4675e",
   "metadata": {},
   "outputs": [
    {
     "name": "stdout",
     "output_type": "stream",
     "text": [
      "총 객체의 수 :  3\n",
      "총 객체의 수 :  3\n",
      "총 객체의 수 :  3\n",
      "총 객체의 수 :  3\n"
     ]
    }
   ],
   "source": [
    "##### 객체의 수를 카운팅\n",
    "\n",
    "class Counter:\n",
    "    m_cnt = 0\n",
    "    \n",
    "    def __init__(self):\n",
    "        Counter.m_cnt += 1\n",
    "\n",
    "    @staticmethod\n",
    "    def printCount():\n",
    "        print(\"총 객체의 수 : \", Counter.m_cnt)\n",
    "\n",
    "#################################\n",
    "\n",
    "a, b, c, = Counter(), Counter(), Counter()\n",
    "\n",
    "a.printCount()   # 총 객체의 수 : 3\n",
    "b.printCount()   # 총 객체의 수 : 3\n",
    "c.printCount()   # 총 객체의 수 : 3\n",
    "\n",
    "Counter.printCount()"
   ]
  },
  {
   "cell_type": "markdown",
   "id": "ae165563",
   "metadata": {},
   "source": [
    "e1 = Employee(1111, \"홍길동\", 1000000, [\"여행\", \"낚시\", \"운동\"])\n",
    "e1.display()\n",
    "\n",
    "결과 :\n",
    "    사번 : 1111\n",
    "    이름 : 홍길동\n",
    "    급여 : 1000000\n",
    "    취미 : 여행, 낚시, 운동\n",
    "    \n",
    "e2 = Employee(1112, \"임꺽정\", 1200000, [\"자전거\", \"볼링\"])\n",
    "e3 = Employee(1113, \"신돌석\", 1400000, [\"독서\"])\n",
    "\n",
    "total = Employee.getCount()\n",
    "print(\"인원수 : \", total)\n",
    "\n",
    "# 데이터 수정\n",
    "e3.setSalary(2000000)\n",
    "e3.appendHobby(\"피아노\", \"드론\")\n",
    "e3.display()\n",
    "\n",
    "결과 :\n",
    "    사번 : 1113\n",
    "    이름 : 신돌석\n",
    "    급여 : 2000000\n",
    "    취미 : 독서, 피아노, 드론\n"
   ]
  },
  {
   "cell_type": "code",
   "execution_count": 48,
   "id": "091be206",
   "metadata": {},
   "outputs": [
    {
     "name": "stdout",
     "output_type": "stream",
     "text": [
      "사번 :  1111\n",
      "이름 :  홍길동\n",
      "급여 :  1000000\n",
      "취미 :  ['여행', '낚시', '운동']\n",
      "---------------------------------\n",
      "인원수 :  3\n",
      "---------------------------------\n"
     ]
    }
   ],
   "source": [
    "class Employee:\n",
    "    m_cnt = 0\n",
    "    empno = int()\n",
    "    name = str()\n",
    "    salary = int()\n",
    "    hobbies = []\n",
    "    \n",
    "    def __init__(self, empno=0, name=None, salary=0, hobbies=None):\n",
    "        Employee.m_cnt += 1\n",
    "        self.empno = empno\n",
    "        self.name = name\n",
    "        self.salary = salary\n",
    "        self.hobbies = hobbies\n",
    "    \n",
    "    def display(self):\n",
    "        print(\"사번 : \", self.empno)\n",
    "        print(\"이름 : \", self.name)\n",
    "        print(\"급여 : \", self.salary)\n",
    "        print(\"취미 : \", self.hobbies)\n",
    "        print(\"---------------------------------\")\n",
    "        \n",
    "    @staticmethod\n",
    "    def getCount():\n",
    "        return Employee.m_cnt\n",
    "    \n",
    "    def setSalary\n",
    "        \n",
    "e1 = Employee(1111, \"홍길동\", 1000000, [\"여행\", \"낚시\", \"운동\"])\n",
    "e1.display()\n",
    "\n",
    "e2 = Employee(1112, \"임꺽정\", 1200000, [\"자전거\", \"볼링\"])\n",
    "e3 = Employee(1113, \"신돌석\", 1400000, [\"독서\"])\n",
    "\n",
    "total = Employee.getCount()\n",
    "print(\"인원수 : \", total)\n",
    "\n",
    "print(\"---------------------------------\")\n",
    "\n"
   ]
  },
  {
   "cell_type": "code",
   "execution_count": null,
   "id": "9562e55e",
   "metadata": {},
   "outputs": [],
   "source": []
  }
 ],
 "metadata": {
  "kernelspec": {
   "display_name": "Python 3 (ipykernel)",
   "language": "python",
   "name": "python3"
  },
  "language_info": {
   "codemirror_mode": {
    "name": "ipython",
    "version": 3
   },
   "file_extension": ".py",
   "mimetype": "text/x-python",
   "name": "python",
   "nbconvert_exporter": "python",
   "pygments_lexer": "ipython3",
   "version": "3.9.12"
  }
 },
 "nbformat": 4,
 "nbformat_minor": 5
}
