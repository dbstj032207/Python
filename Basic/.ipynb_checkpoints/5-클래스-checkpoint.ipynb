{
 "cells": [
  {
   "cell_type": "markdown",
   "id": "6a5f1460",
   "metadata": {},
   "source": [
    "## 1. 특징\n",
    "\n",
    "+ 묶음(코드 블럭)\n",
    "    + 변수(멤버 변수, 속성, 필드), 함수(멤버 함수, 메서드)\n",
    "    + 여러 개의 함수를 묶어서 좀 더 큰 단위의 모듈로 관리\n",
    "    \n",
    "+ 설계도(추상적)\n",
    "    + 인스턴스, 객체\n",
    "\n",
    "+ 사용자 정의 자료형\n",
    "\n",
    "+ 객체의 설계 가이드 : SOLID\n",
    "\n",
    "+ 객체의 조건\n",
    "    - 상속성\n",
    "    - 다형성\n",
    "    - 캡슐화\n",
    "    "
   ]
  },
  {
   "cell_type": "markdown",
   "id": "579d9599",
   "metadata": {},
   "source": [
    "## 2. 작성방법\n",
    "\n",
    "    class 이름:\n",
    "        변수\n",
    "        함수\n",
    "    \n",
    "    또는\n",
    "    \n",
    "    class 이름(...):\n",
    "        변수\n",
    "        함수\n",
    "        "
   ]
  },
  {
   "cell_type": "code",
   "execution_count": 1,
   "id": "abf88ed4",
   "metadata": {},
   "outputs": [
    {
     "data": {
      "text/plain": [
       "<__main__.Test at 0x271d49ab1c0>"
      ]
     },
     "execution_count": 1,
     "metadata": {},
     "output_type": "execute_result"
    }
   ],
   "source": [
    "#### 인스턴스의 생성 방법\n",
    "class Test:\n",
    "    a = 10\n",
    "    def show(self):\n",
    "        return \"Test 클래스\"\n",
    "    \n",
    "#######################\n",
    "\n",
    "Test()"
   ]
  },
  {
   "cell_type": "code",
   "execution_count": 10,
   "id": "ebed7cc6",
   "metadata": {},
   "outputs": [
    {
     "name": "stdout",
     "output_type": "stream",
     "text": [
      "국적 :  한국\n",
      "이름 :  홍길동\n",
      "나이 :  20\n",
      "신장 :  170\n",
      "취미 :  ['독서', '여행']\n",
      "\n",
      "---------------------------------\n",
      "국적 :  프랑스\n",
      "이름 :  시몽\n",
      "나이 :  25\n",
      "신장 :  168\n",
      "취미 :  ['독서', '우표수집', '음악감상']\n",
      "\n",
      "---------------------------------\n",
      "국적 :  독일\n",
      "이름 :  괴테\n",
      "나이 :  30\n",
      "신장 :  175\n",
      "취미 :  ['낚시']\n",
      "\n",
      "---------------------------------\n",
      "국적 :  한국\n",
      "이름 :  홍길동\n",
      "나이 :  20\n",
      "신장 :  170\n",
      "취미 :  ['독서', '여행']\n",
      "\n",
      "---------------------------------\n",
      "국적 :  프랑스\n",
      "이름 :  시몽\n",
      "나이 :  25\n",
      "신장 :  168\n",
      "취미 :  ['독서', '우표수집', '음악감상']\n",
      "\n",
      "---------------------------------\n",
      "국적 :  독일\n",
      "이름 :  괴테\n",
      "나이 :  30\n",
      "신장 :  175\n",
      "취미 :  ['낚시']\n",
      "\n",
      "---------------------------------\n"
     ]
    }
   ],
   "source": [
    "##### 사용자 정의 자료형\n",
    "class Person:\n",
    "    nation = \"한국\"\n",
    "    name = str()\n",
    "    age = int()\n",
    "    height = float()\n",
    "    hobbies = []\n",
    "    \n",
    "    def show(self):\n",
    "        print(\"국적 : \", self.nation)\n",
    "        print(\"이름 : \", self.name)\n",
    "        print(\"나이 : \", self.age)\n",
    "        print(\"신장 : \", self.height)\n",
    "        print(\"취미 : \", self.hobbies)\n",
    "        print(\"\\n---------------------------------\")\n",
    "\n",
    "##############################################\n",
    "\n",
    "p1 = Person()\n",
    "p2 = Person()\n",
    "p3 = Person()\n",
    "\n",
    "p1.name = \"홍길동\"\n",
    "p1.age = 20\n",
    "p1.height = 170\n",
    "p1.hobbies = [\"독서\", \"여행\"]\n",
    "\n",
    "p2.nation = \"프랑스\"\n",
    "p2.name = \"시몽\"\n",
    "p2.age = 25\n",
    "p2.height = 168\n",
    "p2.hobbies = [\"독서\", \"우표수집\", \"음악감상\"]\n",
    "\n",
    "p3.nation = \"독일\"\n",
    "p3.name = \"괴테\"\n",
    "p3.age = 30\n",
    "p3.height = 175\n",
    "p3.hobbies = [\"낚시\"]\n",
    "\n",
    "p1.show()\n",
    "p2.show()\n",
    "p3.show()\n",
    "\n",
    "data = [p1, p2, p3]\n",
    "for p in data:\n",
    "    p.show()"
   ]
  },
  {
   "cell_type": "markdown",
   "id": "82234115",
   "metadata": {},
   "source": [
    "(1) self\n",
    "+ 현재 사용중인 객체의 주소를 저장하고 있는 참조 변수\n",
    "+ read only"
   ]
  },
  {
   "cell_type": "code",
   "execution_count": 17,
   "id": "574daf3b",
   "metadata": {},
   "outputs": [
    {
     "name": "stdout",
     "output_type": "stream",
     "text": [
      "10 10.0 홍길동\n",
      "현재 주소 :  2687948586192\n",
      "----------------------\n",
      "20 20.0 이순신\n",
      "현재 주소 :  2687948584992\n",
      "----------------------\n",
      "30 30.0 유관순\n",
      "현재 주소 :  2687921495728\n",
      "----------------------\n"
     ]
    }
   ],
   "source": [
    "class Test:\n",
    "    a = int()\n",
    "    b = float()\n",
    "    c = str()\n",
    "    \n",
    "    def setValue(self, a, b, c):\n",
    "        self.a = a\n",
    "        self.b = b\n",
    "        self.c = c\n",
    "    \n",
    "    def show(self):\n",
    "        print(self.a, self.b, self.c)\n",
    "        print(\"현재 주소 : \", id(self))\n",
    "        \n",
    "###################\n",
    "\n",
    "t1 = Test()\n",
    "t2 = Test()\n",
    "t3 = Test()\n",
    "\n",
    "t1.setValue(10, 10.0, \"홍길동\")\n",
    "t1.show()\n",
    "print(\"----------------------\")\n",
    "t2.a = 20\n",
    "t2. b = 20.0\n",
    "t2.c = \"이순신\"\n",
    "t2.show()\n",
    "print(\"----------------------\")\n",
    "t3.a = 30\n",
    "t3. b = 30.0\n",
    "t3.c = \"유관순\"\n",
    "t3.show()\n",
    "print(\"----------------------\")"
   ]
  },
  {
   "cell_type": "markdown",
   "id": "b4365376",
   "metadata": {},
   "source": [
    "### (2) 생성자(Constructor)와 소멸자(Deconstructor)\n",
    "\n",
    "+ 매서드\n",
    "+ 객체를 생성하는 용도\n",
    "+ 생성자릐 경우 객체를 처음 만들 때 호출된다. (단 한번만 호출)\n",
    "+ 초기화"
   ]
  },
  {
   "cell_type": "code",
   "execution_count": 28,
   "id": "05a04797",
   "metadata": {},
   "outputs": [
    {
     "name": "stdout",
     "output_type": "stream",
     "text": [
      "생성자 호출\n",
      "0 None\n",
      "생성자 호출\n",
      "100 None\n",
      "생성자 호출\n",
      "홍길동 None\n",
      "생성자 호출\n",
      "200 임꺽정\n"
     ]
    }
   ],
   "source": [
    "class Test:\n",
    "    a = int()\n",
    "    b = str()\n",
    "    \n",
    "    def __init__(self, a=0, b=None):\n",
    "        print(\"생성자 호출\")\n",
    "        self.a = a\n",
    "        self.b = b\n",
    "    \n",
    "    def setVal(self, a, b):\n",
    "        self.a = a\n",
    "        self.b = b\n",
    "        \n",
    "    def __del__(self):\n",
    "        print(\"소멸자 호출\")\n",
    "        \n",
    "#####################################\n",
    "t1 = Test()\n",
    "print(t1.a, t1.b)\n",
    "\n",
    "t2 = Test(100)\n",
    "print(t2.a, t2.b)\n",
    "\n",
    "t3 = Test(\"홍길동\")\n",
    "print(t3.a, t3.b)\n",
    "\n",
    "t4 = Test(200, \"임꺽정\")\n",
    "print(t4.a, t4.b)"
   ]
  },
  {
   "cell_type": "code",
   "execution_count": 29,
   "id": "d7ff54dd",
   "metadata": {},
   "outputs": [
    {
     "name": "stdout",
     "output_type": "stream",
     "text": [
      "소멸자 호출\n"
     ]
    }
   ],
   "source": [
    "del t4"
   ]
  },
  {
   "cell_type": "markdown",
   "id": "3d16ed38",
   "metadata": {},
   "source": [
    "### (3) Static\n",
    "\n",
    "+ 인스턴스와 구별\n",
    "+ 동일한 공간을 모든 객체들이 공동으로 사용\n",
    "+ 정정(클래스) 변수, 정적(클래스) 매서드"
   ]
  },
  {
   "cell_type": "code",
   "execution_count": 35,
   "id": "7462f893",
   "metadata": {},
   "outputs": [
    {
     "name": "stdout",
     "output_type": "stream",
     "text": [
      "국적 :  한국\n",
      "이름 :  홍길동\n",
      "나이 :  20\n",
      "신장 :  170\n",
      "취미 :  ['독서', '여행']\n",
      "회사명 :  \n",
      "---------------------------------\n",
      "회사명: 파이썬 주식회사\n",
      "국적 :  프랑스\n",
      "이름 :  시몽\n",
      "나이 :  25\n",
      "신장 :  168\n",
      "취미 :  ['독서', '우표수집', '음악감상']\n",
      "회사명 :  파이썬 주식회사\n",
      "---------------------------------\n",
      "회사명: 파이썬 주식회사\n",
      "국적 :  독일\n",
      "이름 :  괴테\n",
      "나이 :  30\n",
      "신장 :  175\n",
      "취미 :  ['낚시']\n",
      "회사명 :  파이썬 주식회사\n",
      "---------------------------------\n",
      "회사명: 파이썬 주식회사\n"
     ]
    }
   ],
   "source": [
    "class Person:\n",
    "    nation = \"한국\"\n",
    "    name = str()\n",
    "    age = int()\n",
    "    height = float()\n",
    "    hobbies = []\n",
    "    company = str()\n",
    "    \n",
    "    def show(self):\n",
    "        print(\"국적 : \", self.nation)\n",
    "        print(\"이름 : \", self.name)\n",
    "        print(\"나이 : \", self.age)\n",
    "        print(\"신장 : \", self.height)\n",
    "        print(\"취미 : \", self.hobbies)\n",
    "        print(\"회사명 : \", Person.company)\n",
    "        print(\"---------------------------------\")\n",
    "    \n",
    "    @staticmethod\n",
    "    def funcCompany():\n",
    "        Person.company = \"파이썬 주식회사\"\n",
    "        return \"회사명: \" + Person.company\n",
    "        \n",
    "        \n",
    "#####################################\n",
    "#Person.company = \"(주)파이썬\"\n",
    "\n",
    "p1 = Person()\n",
    "p2 = Person()\n",
    "p3 = Person()\n",
    "\n",
    "p1.name = \"홍길동\"\n",
    "p1.age = 20\n",
    "p1.height = 170\n",
    "p1.hobbies = [\"독서\", \"여행\"]\n",
    "\n",
    "p2.nation = \"프랑스\"\n",
    "p2.name = \"시몽\"\n",
    "p2.age = 25\n",
    "p2.height = 168\n",
    "p2.hobbies = [\"독서\", \"우표수집\", \"음악감상\"]\n",
    "\n",
    "p3.nation = \"독일\"\n",
    "p3.name = \"괴테\"\n",
    "p3.age = 30\n",
    "p3.height = 175\n",
    "p3.hobbies = [\"낚시\"]\n",
    "\n",
    "data = [p1, p2, p3]\n",
    "for p in data:\n",
    "    print(Person.funcCompany())\n",
    "    p.show()\n",
    "    "
   ]
  },
  {
   "cell_type": "code",
   "execution_count": 43,
   "id": "40e4675e",
   "metadata": {},
   "outputs": [
    {
     "name": "stdout",
     "output_type": "stream",
     "text": [
      "총 객체의 수 :  3\n",
      "총 객체의 수 :  3\n",
      "총 객체의 수 :  3\n",
      "총 객체의 수 :  3\n"
     ]
    }
   ],
   "source": [
    "##### 객체의 수를 카운팅\n",
    "\n",
    "class Counter:\n",
    "    m_cnt = 0\n",
    "    \n",
    "    def __init__(self):\n",
    "        Counter.m_cnt += 1\n",
    "\n",
    "    @staticmethod\n",
    "    def printCount():\n",
    "        print(\"총 객체의 수 : \", Counter.m_cnt)\n",
    "\n",
    "#################################\n",
    "\n",
    "a, b, c, = Counter(), Counter(), Counter()\n",
    "\n",
    "a.printCount()   # 총 객체의 수 : 3\n",
    "b.printCount()   # 총 객체의 수 : 3\n",
    "c.printCount()   # 총 객체의 수 : 3\n",
    "\n",
    "Counter.printCount()"
   ]
  },
  {
   "cell_type": "code",
   "execution_count": 3,
   "id": "f5c0d404",
   "metadata": {},
   "outputs": [
    {
     "data": {
      "text/plain": [
       "'\\ne1 = Employee(1111, \"홍길동\", 1000000, [\"여행\", \"낚시\", \"운동\"])\\ne1.display()\\n\\n결과 :\\n    사번 : 1111\\n    이름 : 홍길동\\n    급여 : 1000000\\n    취미 : 여행, 낚시, 운동\\n    \\ne2 = Employee(1112, \"임꺽정\", 1200000, [\"자전거\", \"볼링\"])\\ne3 = Employee(1113, \"신돌석\", 1400000, [\"독서\"])\\n\\ntotal = Employee.getCount()\\nprint(\"인원수 : \", total)\\n\\n# 데이터 수정\\ne3.setSalary(2000000)\\ne3.appendHobby(\"피아노\", \"드론\")\\ne3.display()\\n\\n결과 :\\n    사번 : 1113\\n    이름 : 신돌석\\n    급여 : 2000000\\n    취미 : 독서, 피아노, 드론\\n'"
      ]
     },
     "execution_count": 3,
     "metadata": {},
     "output_type": "execute_result"
    }
   ],
   "source": [
    "\"\"\"\n",
    "e1 = Employee(1111, \"홍길동\", 1000000, [\"여행\", \"낚시\", \"운동\"])\n",
    "e1.display()\n",
    "\n",
    "결과 :\n",
    "    사번 : 1111\n",
    "    이름 : 홍길동\n",
    "    급여 : 1000000\n",
    "    취미 : 여행, 낚시, 운동\n",
    "    \n",
    "e2 = Employee(1112, \"임꺽정\", 1200000, [\"자전거\", \"볼링\"])\n",
    "e3 = Employee(1113, \"신돌석\", 1400000, [\"독서\"])\n",
    "\n",
    "total = Employee.getCount()\n",
    "print(\"인원수 : \", total)\n",
    "\n",
    "# 데이터 수정\n",
    "e3.setSalary(2000000)\n",
    "e3.appendHobby(\"피아노\", \"드론\")\n",
    "e3.display()\n",
    "\n",
    "결과 :\n",
    "    사번 : 1113\n",
    "    이름 : 신돌석\n",
    "    급여 : 2000000\n",
    "    취미 : 독서, 피아노, 드론\n",
    "\"\"\""
   ]
  },
  {
   "cell_type": "code",
   "execution_count": 55,
   "id": "091be206",
   "metadata": {},
   "outputs": [
    {
     "name": "stdout",
     "output_type": "stream",
     "text": [
      "사번 :  1111\n",
      "이름 :  홍길동\n",
      "급여 :  1000000\n",
      "취미 :  ['여행', '낚시', '운동']\n",
      "---------------------------------\n",
      "인원수 :  3\n",
      "---------------------------------\n",
      "사번 :  1113\n",
      "이름 :  신돌석\n",
      "급여 :  2000000\n",
      "취미 :  ['독서', '피아노', '드론']\n",
      "---------------------------------\n"
     ]
    }
   ],
   "source": [
    "class Employee:\n",
    "    m_cnt = 0\n",
    "    empno = int()\n",
    "    name = str()\n",
    "    salary = int()\n",
    "    hobbies = []\n",
    "    \n",
    "    def __init__(self, empno=0, name=None, salary=0, hobbies=None):\n",
    "        Employee.m_cnt += 1\n",
    "        self.empno = empno\n",
    "        self.name = name\n",
    "        self.salary = salary\n",
    "        self.hobbies = hobbies\n",
    "    \n",
    "    def display(self):\n",
    "        print(\"사번 : \", self.empno)\n",
    "        print(\"이름 : \", self.name)\n",
    "        print(\"급여 : \", self.salary)\n",
    "        print(\"취미 : \", self.hobbies)\n",
    "        print(\"---------------------------------\")\n",
    "        \n",
    "    @staticmethod\n",
    "    def getCount():\n",
    "        return Employee.m_cnt\n",
    "    \n",
    "    def setSalary(self, salary):\n",
    "        self.salary = salary\n",
    "        \n",
    "    def appendHobby(self, *hobby):\n",
    "        for i in hobby:\n",
    "            self.hobbies.append(i)\n",
    "        \n",
    "e1 = Employee(1111, \"홍길동\", 1000000, [\"여행\", \"낚시\", \"운동\"])\n",
    "e1.display()\n",
    "\n",
    "e2 = Employee(1112, \"임꺽정\", 1200000, [\"자전거\", \"볼링\"])\n",
    "e3 = Employee(1113, \"신돌석\", 1400000, [\"독서\"])\n",
    "\n",
    "total = Employee.getCount()\n",
    "print(\"인원수 : \", total)\n",
    "\n",
    "print(\"---------------------------------\")\n",
    "\n",
    "e3.setSalary(2000000)\n",
    "e3.appendHobby(\"피아노\", \"드론\")\n",
    "e3.display()"
   ]
  },
  {
   "cell_type": "code",
   "execution_count": 1,
   "id": "11baa0e3",
   "metadata": {},
   "outputs": [
    {
     "data": {
      "text/plain": [
       "'\\n'"
      ]
     },
     "execution_count": 1,
     "metadata": {},
     "output_type": "execute_result"
    }
   ],
   "source": [
    "\"\"\"\n",
    "\"\"\""
   ]
  },
  {
   "cell_type": "markdown",
   "id": "ae8cb254",
   "metadata": {},
   "source": [
    "### (4) 원래 설계된 멤버변수외에 객체별로 멤버변수를 추가할 수 있다."
   ]
  },
  {
   "cell_type": "code",
   "execution_count": 2,
   "id": "ea47c3db",
   "metadata": {},
   "outputs": [],
   "source": [
    "class Test:\n",
    "    a = 0\n",
    "    \n",
    "    def display(self):\n",
    "        print(self.a)"
   ]
  },
  {
   "cell_type": "code",
   "execution_count": 4,
   "id": "70e13ec4",
   "metadata": {},
   "outputs": [
    {
     "name": "stdout",
     "output_type": "stream",
     "text": [
      "0\n",
      "0\n",
      "홍길동\n"
     ]
    },
    {
     "ename": "AttributeError",
     "evalue": "'Test' object has no attribute 'b'",
     "output_type": "error",
     "traceback": [
      "\u001b[1;31m---------------------------------------------------------------------------\u001b[0m",
      "\u001b[1;31mAttributeError\u001b[0m                            Traceback (most recent call last)",
      "Input \u001b[1;32mIn [4]\u001b[0m, in \u001b[0;36m<cell line: 11>\u001b[1;34m()\u001b[0m\n\u001b[0;32m      8\u001b[0m ob2\u001b[38;5;241m.\u001b[39mb \u001b[38;5;241m=\u001b[39m \u001b[38;5;124m\"\u001b[39m\u001b[38;5;124m홍길동\u001b[39m\u001b[38;5;124m\"\u001b[39m\n\u001b[0;32m     10\u001b[0m \u001b[38;5;28mprint\u001b[39m(ob2\u001b[38;5;241m.\u001b[39mb)\n\u001b[1;32m---> 11\u001b[0m \u001b[38;5;28mprint\u001b[39m(\u001b[43mob1\u001b[49m\u001b[38;5;241;43m.\u001b[39;49m\u001b[43mb\u001b[49m)\n",
      "\u001b[1;31mAttributeError\u001b[0m: 'Test' object has no attribute 'b'"
     ]
    }
   ],
   "source": [
    "ob1 = Test()\n",
    "ob1.display()\n",
    "\n",
    "ob2 = Test()\n",
    "ob2.display()\n",
    "\n",
    "ob1.a = 100\n",
    "ob2.b = \"홍길동\"\n",
    "\n",
    "print(ob2.b)"
   ]
  },
  {
   "cell_type": "markdown",
   "id": "4021efbb",
   "metadata": {},
   "source": [
    "### (5)  '_'와 ' __'\n",
    "+ 기본 인터프리터에서 사용(마지막으로 사용된 결과값 불러올때) : _\n",
    "+ 값을 무시 : _"
   ]
  },
  {
   "cell_type": "code",
   "execution_count": 10,
   "id": "ebd23547",
   "metadata": {},
   "outputs": [
    {
     "name": "stdout",
     "output_type": "stream",
     "text": [
      "20 30\n",
      "20 30\n",
      "10\n",
      "10 70\n",
      "10 70\n"
     ]
    }
   ],
   "source": [
    "a, b, c = (10, 20, 30)\n",
    "print(b, c)\n",
    "\n",
    "_, b, c = (10, 20, 30)\n",
    "print(b, c)\n",
    "\n",
    "a, _, _ = (10, 20, 30)\n",
    "print(a)\n",
    "\n",
    "a, _, _, _, _, _, b = (10, 20, 30, 40, 50, 60, 70)\n",
    "print(a, b)\n",
    "\n",
    "a, *_, b = (10, 20, 30, 40, 50, 60, 70)\n",
    "print(a, b)"
   ]
  },
  {
   "cell_type": "code",
   "execution_count": 26,
   "id": "a1fd4de0",
   "metadata": {},
   "outputs": [],
   "source": [
    "class Test:\n",
    "    str1 = \"안녕하세요~~\"\n",
    "    _str2 = \"이것은 조심스러운 값입니다.\"\n",
    "    __str3 = \"이것은 사용하면 안돼\"\n",
    "    \n",
    "    def setStr3(self, a):\n",
    "        self.__str3 = a\n",
    "        \n",
    "    def getStr3(self):\n",
    "        return self.__str3"
   ]
  },
  {
   "cell_type": "code",
   "execution_count": 28,
   "id": "6974fb2e",
   "metadata": {},
   "outputs": [
    {
     "name": "stdout",
     "output_type": "stream",
     "text": [
      "안녕하세요~~\n",
      "이것은 조심스러운 값입니다.\n",
      "이것은 사용하면 안돼\n",
      "임꺽정입니다.\n",
      "--------------------------\n",
      "임꺽정입니다.\n",
      "신돌석입니다.\n"
     ]
    }
   ],
   "source": [
    "ob1 = Test()\n",
    "print(ob1.str1)\n",
    "\n",
    "print(ob1._str2)\n",
    "\n",
    "# print(ob1.__str3)\n",
    "print(ob1._Test__str3)\n",
    "ob1._Test__str3 = \"임꺽정입니다.\"\n",
    "print(ob1._Test__str3)\n",
    "\n",
    "print(\"--------------------------\")\n",
    "\n",
    "print(ob1.getStr3())\n",
    "ob1.setStr3(\"신돌석입니다.\")\n",
    "print(ob1.getStr3())"
   ]
  },
  {
   "cell_type": "markdown",
   "id": "f52cf302",
   "metadata": {},
   "source": [
    "### (6) 상속\n",
    "+ 상속 설계 시 고려할 점\n",
    "    + 부모 클래스는 최소한의 코드로 작성(모든 자식들이 공통적으로 필요로 하는 것으로 구성\n",
    "    + 상속받는 자식 클래스는 반드시 기능을 확장(추가)시켜야 한다.\n",
    "    + 중복된 기능이 있어서는 안된다."
   ]
  },
  {
   "cell_type": "code",
   "execution_count": 34,
   "id": "4685498d",
   "metadata": {},
   "outputs": [],
   "source": [
    "class Calculator:\n",
    "    first = 0\n",
    "    second = 0\n",
    "    \n",
    "    def __init__(self, first=None, second=None):\n",
    "        self.first = first\n",
    "        self.second = second\n",
    "        \n",
    "    def setData(self, first=None, second=None):\n",
    "        self.first = first\n",
    "        self.second = second\n",
    "        \n",
    "    def sum(self):\n",
    "        return self.first + self.second\n",
    "    \n",
    "    def div(self):\n",
    "        return self.first / self.second\n",
    "    \n",
    "    def mul(self):\n",
    "        return self.first * self.second\n",
    "    \n",
    "    def sub(self):\n",
    "        return self.first - self.second\n",
    "\n",
    "class CalculatorV2(Calculator):\n",
    "    def pow(self):\n",
    "        return self.first ** self.second"
   ]
  },
  {
   "cell_type": "code",
   "execution_count": 36,
   "id": "d4394cf3",
   "metadata": {},
   "outputs": [
    {
     "name": "stdout",
     "output_type": "stream",
     "text": [
      "30\n",
      "12\n",
      "1024\n"
     ]
    }
   ],
   "source": [
    "cal1 = Calculator()\n",
    "cal1.setData(10, 20)\n",
    "print(cal1.sum())\n",
    "\n",
    "cal2 = CalculatorV2()\n",
    "cal2.setData(2, 10)\n",
    "print(cal2.sum())\n",
    "print(cal2.pow())"
   ]
  },
  {
   "cell_type": "markdown",
   "id": "472726bd",
   "metadata": {},
   "source": [
    "+ 자식이 부모에게 접근해야 하는 경우"
   ]
  },
  {
   "cell_type": "code",
   "execution_count": 38,
   "id": "c084260e",
   "metadata": {},
   "outputs": [],
   "source": [
    "class Person:\n",
    "    say = \"난 사람이다.\"\n",
    "    age = 20\n",
    "    def info(self):\n",
    "        print(\"나이:{}, 하고싶은 말: {}\".format(self.age, self.say))\n",
    "        \n",
    "    def __init__(self):\n",
    "        print(\"Person 클래스\")\n",
    "\n",
    "class Employee(Person):\n",
    "    def __init__(self):\n",
    "        print(\"Employee 클래스\")\n",
    "        \n",
    "    say = \"난 회사원이다.\"\n",
    "    \n",
    "    def info(self):\n",
    "        print(self.say)\n",
    "        print(self.age)\n",
    "        print(super().say)\n",
    "        super.info()"
   ]
  },
  {
   "cell_type": "code",
   "execution_count": 39,
   "id": "19647fc4",
   "metadata": {},
   "outputs": [
    {
     "name": "stdout",
     "output_type": "stream",
     "text": [
      "Employee 클래스\n",
      "난 회사원이다.\n",
      "20\n"
     ]
    }
   ],
   "source": [
    "e1 = Employee()\n",
    "e1.info()"
   ]
  },
  {
   "cell_type": "markdown",
   "id": "413cee6f",
   "metadata": {},
   "source": [
    "### (7) object\n",
    "+ 파이썬 클래스들 중에서 가장 상위 클래스"
   ]
  },
  {
   "cell_type": "code",
   "execution_count": 40,
   "id": "c679dcda",
   "metadata": {},
   "outputs": [
    {
     "name": "stdout",
     "output_type": "stream",
     "text": [
      "['__class__', '__delattr__', '__dir__', '__doc__', '__eq__', '__format__', '__ge__', '__getattribute__', '__gt__', '__hash__', '__init__', '__init_subclass__', '__le__', '__lt__', '__ne__', '__new__', '__reduce__', '__reduce_ex__', '__repr__', '__setattr__', '__sizeof__', '__str__', '__subclasshook__']\n"
     ]
    }
   ],
   "source": [
    "print(dir(object))"
   ]
  },
  {
   "cell_type": "markdown",
   "id": "64eba43e",
   "metadata": {},
   "source": [
    "### (8) 고급 함수"
   ]
  },
  {
   "cell_type": "markdown",
   "id": "ceeb8f37",
   "metadata": {},
   "source": [
    "#### 1) 변수의 생존 범위 : global, nonlocal"
   ]
  },
  {
   "cell_type": "code",
   "execution_count": 47,
   "id": "89778a34",
   "metadata": {},
   "outputs": [
    {
     "name": "stdout",
     "output_type": "stream",
     "text": [
      "100\n",
      "kbs1 :  1\n",
      "kbs2 :  2\n",
      "2\n"
     ]
    }
   ],
   "source": [
    "a = 100\n",
    "\n",
    "def kbs1():\n",
    "    a = 1\n",
    "    \n",
    "    def kbs2():\n",
    "        global a\n",
    "        a = 2\n",
    "        print(\"kbs2 : \", a)\n",
    "    \n",
    "    print(\"kbs1 : \", a)\n",
    "    kbs2()\n",
    "##############################\n",
    "print(a)\n",
    "kbs1()\n",
    "print(a)"
   ]
  },
  {
   "cell_type": "markdown",
   "id": "fb8e45bf",
   "metadata": {},
   "source": [
    "#### 2) 클로저(Closer)\n",
    "+ 함수 밖에서 임의의 함수 안에 선언된 지역변수를 계속 참조할 수 있게 하는 방법"
   ]
  },
  {
   "cell_type": "code",
   "execution_count": 57,
   "id": "54f0c7fc",
   "metadata": {},
   "outputs": [
    {
     "name": "stdout",
     "output_type": "stream",
     "text": [
      "1\n",
      "2\n",
      "3\n",
      "--------------------------\n",
      "1\n",
      "2\n",
      "3\n"
     ]
    }
   ],
   "source": [
    "\n",
    "\n",
    "def out():\n",
    "    count = 0\n",
    "    def inn():\n",
    "        \n",
    "        nonlocal count\n",
    "        count += 1\n",
    "        print(count)\n",
    "        \n",
    "    return inn\n",
    "    \n",
    "##############################\n",
    "\n",
    "#out()\n",
    "#out()\n",
    "#out()\n",
    "\n",
    "a = out()\n",
    "a()\n",
    "a()\n",
    "a()\n",
    "\n",
    "print(\"--------------------------\")\n",
    "\n",
    "b = out()\n",
    "b()\n",
    "b()\n",
    "b()"
   ]
  },
  {
   "cell_type": "code",
   "execution_count": 62,
   "id": "3fbd7fdf",
   "metadata": {},
   "outputs": [
    {
     "name": "stdout",
     "output_type": "stream",
     "text": [
      "2500.0\n",
      "10000.0\n",
      "5000.0\n"
     ]
    }
   ],
   "source": [
    "def outer(tax):\n",
    "    def inner(su, dan):\n",
    "        amount = su * dan * tax\n",
    "        return amount\n",
    "    \n",
    "    return inner\n",
    "\n",
    "tax_rate = outer(0.1)\n",
    "mouse = tax_rate(5, 5000)\n",
    "print(mouse)\n",
    "\n",
    "keyboard = tax_rate(10, 10000)\n",
    "print(keyboard)\n",
    "\n",
    "tax_rate2 = outer(0.05)\n",
    "keyboard = tax_rate2(10, 10000)\n",
    "print(keyboard)"
   ]
  },
  {
   "cell_type": "markdown",
   "id": "8bb28fc5",
   "metadata": {},
   "source": [
    "#### 3) 람다 함수(무명 함수, 익명 함수)"
   ]
  },
  {
   "cell_type": "code",
   "execution_count": 63,
   "id": "e28c4e68",
   "metadata": {},
   "outputs": [
    {
     "name": "stdout",
     "output_type": "stream",
     "text": [
      "30\n"
     ]
    }
   ],
   "source": [
    "def hap(x, y):\n",
    "    return x + y\n",
    "\n",
    "#############################\n",
    "\n",
    "result = hap(10, 20)\n",
    "print(result)"
   ]
  },
  {
   "cell_type": "code",
   "execution_count": 65,
   "id": "8764fc53",
   "metadata": {},
   "outputs": [
    {
     "name": "stdout",
     "output_type": "stream",
     "text": [
      "30\n"
     ]
    }
   ],
   "source": [
    "result = (lambda x, y: x + y)(10, 20)\n",
    "print(result)\n",
    "    "
   ]
  },
  {
   "cell_type": "code",
   "execution_count": 66,
   "id": "f41bed51",
   "metadata": {},
   "outputs": [
    {
     "name": "stdout",
     "output_type": "stream",
     "text": [
      "50\n"
     ]
    }
   ],
   "source": [
    "add = lambda x, y: x + y\n",
    "result = add(20, 30)\n",
    "print(result)"
   ]
  },
  {
   "cell_type": "code",
   "execution_count": 69,
   "id": "ede829ad",
   "metadata": {},
   "outputs": [
    {
     "name": "stdout",
     "output_type": "stream",
     "text": [
      "1 (2, 3, 4, 5) {'m': 6, 'n': 7, 'o': 8}\n"
     ]
    }
   ],
   "source": [
    "def func_test(a, *b, **c):\n",
    "    print(a, b, c)\n",
    "\n",
    "#############################\n",
    "\n",
    "func_test(1, 2, 3, 4, 5, m=6, n=7, o=8)"
   ]
  },
  {
   "cell_type": "code",
   "execution_count": 70,
   "id": "3e5d443a",
   "metadata": {},
   "outputs": [
    {
     "name": "stdout",
     "output_type": "stream",
     "text": [
      "1 (2, 3, 4, 5) {'m': 6, 'n': 7, 'o': 8}\n"
     ]
    }
   ],
   "source": [
    "(lambda a, *b, **c : print(a, b, c))(1, 2, 3, 4, 5, m=6, n=7, o=8)"
   ]
  },
  {
   "cell_type": "code",
   "execution_count": 77,
   "id": "ee26c156",
   "metadata": {},
   "outputs": [
    {
     "name": "stdout",
     "output_type": "stream",
     "text": [
      "[1, 4, 3, 16, 5]\n"
     ]
    },
    {
     "data": {
      "text/plain": [
       "[1, 4, 3, 16, 5]"
      ]
     },
     "execution_count": 77,
     "metadata": {},
     "output_type": "execute_result"
    }
   ],
   "source": [
    "ex = [1, 2, 3, 4, 5]\n",
    "\n",
    "def func_test(x):\n",
    "    if x % 2 == 0:\n",
    "        return x ** 2\n",
    "    else:\n",
    "        return x\n",
    "\n",
    "############################\n",
    "\n",
    "result = []\n",
    "for i in ex:\n",
    "    result.append(func_test(i))\n",
    "    \n",
    "print(result)\n",
    "\n",
    "############################\n",
    "\n",
    "list(map(func_test, ex))\n",
    "\n",
    "############################\n",
    "\n",
    "list(map((lambda x : x**2 if x %2 == 0 else x), ex))\n"
   ]
  },
  {
   "cell_type": "markdown",
   "id": "eaf69fbb",
   "metadata": {},
   "source": [
    "#### 4) 함수 장식자(decorator)\n",
    "\n",
    "+ 일종의 함수 감싸기(wrapping)를 해주는 디자인 패턴\n",
    "+ 메타 프로그래밍 기법\n",
    "+ @staticmethod, @classmethod, @abstract, ..."
   ]
  },
  {
   "cell_type": "code",
   "execution_count": null,
   "id": "213f04b5",
   "metadata": {},
   "outputs": [],
   "source": []
  }
 ],
 "metadata": {
  "kernelspec": {
   "display_name": "Python 3 (ipykernel)",
   "language": "python",
   "name": "python3"
  },
  "language_info": {
   "codemirror_mode": {
    "name": "ipython",
    "version": 3
   },
   "file_extension": ".py",
   "mimetype": "text/x-python",
   "name": "python",
   "nbconvert_exporter": "python",
   "pygments_lexer": "ipython3",
   "version": "3.9.12"
  }
 },
 "nbformat": 4,
 "nbformat_minor": 5
}
