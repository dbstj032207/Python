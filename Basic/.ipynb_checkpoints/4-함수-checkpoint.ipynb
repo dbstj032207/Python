{
 "cells": [
  {
   "cell_type": "markdown",
   "id": "1d0e0cb6",
   "metadata": {},
   "source": [
    "## 1. 함수의 정의\n",
    "+ 일정한 작업을 수행하는 코드 블럭\n",
    "\n",
    "\n",
    "## 2. 함수의 장점\n",
    "+ 반복적인 코드를 없애주며 전체 코드의 길이를 짧게 만들어 준다.(재사용)\n",
    "+ 유지보수의 혜택\n",
    "+ 모듈화가 용이\n",
    "\n",
    "\n",
    "## 3. 함수의 설계\n",
    "+ 단일 기능\n",
    "+ 재사용성\n",
    "\n",
    "\n",
    "## 4. 함수의 종류\n",
    "+ 사용자 정의 함수(User Define Function)\n",
    "+ 내장 함수(Built-in Fucntion)\n",
    "+ 외장 함수(External Fucntion)\n",
    "\n",
    "\n",
    "## 5. 함수의 구현\n",
    "    def 함수이름(...) :\n",
    "        코드\n",
    "        ...\n",
    "        [return ...]\n",
    "        \n",
    "\n",
    "## 6. 실습\n",
    "\n",
    "### (1) 변수의 유효(생존)범위: 지역변수, 전역변수"
   ]
  },
  {
   "cell_type": "code",
   "execution_count": 5,
   "id": "b4ee3793",
   "metadata": {},
   "outputs": [
    {
     "name": "stdout",
     "output_type": "stream",
     "text": [
      "전국 대표\n",
      "홍길동 지역 대표\n",
      "전국 대표\n"
     ]
    }
   ],
   "source": [
    "player = \"전국 대표\"\n",
    "\n",
    "def funcSoccer():\n",
    "    name = \"홍길동\"\n",
    "    player = \"지역 대표\"\n",
    "    print(name, player)\n",
    "\n",
    "print(player)\n",
    "funcSoccer()\n",
    "print(player)"
   ]
  },
  {
   "cell_type": "code",
   "execution_count": 7,
   "id": "679c5b57",
   "metadata": {},
   "outputs": [
    {
     "name": "stdout",
     "output_type": "stream",
     "text": [
      "전국 대표\n",
      "홍길동 지역 대표\n",
      "지역 대표\n"
     ]
    }
   ],
   "source": [
    "player = \"전국 대표\"\n",
    "\n",
    "def funcSoccer():\n",
    "    \n",
    "    global player\n",
    "    \n",
    "    name = \"홍길동\"\n",
    "    player = \"지역 대표\"\n",
    "    print(name, player)\n",
    "\n",
    "print(player)\n",
    "funcSoccer()\n",
    "print(player)"
   ]
  },
  {
   "cell_type": "markdown",
   "id": "f0f135fe",
   "metadata": {},
   "source": [
    "### (2) 디폴트 인수"
   ]
  },
  {
   "cell_type": "code",
   "execution_count": 8,
   "id": "033c864a",
   "metadata": {},
   "outputs": [
    {
     "name": "stdout",
     "output_type": "stream",
     "text": [
      "*********************\n",
      "  친구관리 프로그램  \n",
      "*********************\n",
      "1.친구 추가\n",
      "2.친구 삭제\n",
      "*********************\n"
     ]
    }
   ],
   "source": [
    "print(\"*********************\")\n",
    "print(\"  친구관리 프로그램  \")\n",
    "print(\"*********************\")\n",
    "print(\"1.친구 추가\")\n",
    "print(\"2.친구 삭제\")\n",
    "print(\"*********************\")"
   ]
  },
  {
   "cell_type": "code",
   "execution_count": 20,
   "id": "4b73c4a5",
   "metadata": {},
   "outputs": [
    {
     "name": "stdout",
     "output_type": "stream",
     "text": [
      "-------------------------\n",
      "  친구관리 프로그램  \n",
      "====================\n",
      "1.친구 추가\n",
      "2.친구 삭제\n",
      "******************************\n"
     ]
    }
   ],
   "source": [
    "def line(cnt = 30, type = \"*\") :\n",
    "    for i in range(cnt):\n",
    "        print(type, end=\"\")\n",
    "    print()\n",
    "\n",
    "#################################\n",
    "    \n",
    "line(25, \"-\")\n",
    "print(\"  친구관리 프로그램  \")\n",
    "line(20, \"=\")\n",
    "print(\"1.친구 추가\")\n",
    "print(\"2.친구 삭제\")\n",
    "line()"
   ]
  },
  {
   "cell_type": "markdown",
   "id": "dfa5c328",
   "metadata": {},
   "source": [
    "### (3) 가변 인수"
   ]
  },
  {
   "cell_type": "code",
   "execution_count": 25,
   "id": "dac075a5",
   "metadata": {},
   "outputs": [
    {
     "name": "stdout",
     "output_type": "stream",
     "text": [
      "('홍길동',)  안녕하세요~~\n",
      "('홍길동', '임꺽정')  안녕하세요~~\n",
      "('홍길동', '임꺽정', '톰')  안녕하세요~~\n",
      "[1, 2] [3, 4] [4, 5]\n",
      "([1, 2], [3, 4], [4, 5])\n",
      "[1, 2] [3, 4] [4, 5]\n"
     ]
    }
   ],
   "source": [
    "# * : 곱셈, 반복, 매개변수(가변인수, packing), 일반변수(unpacking)\n",
    "\n",
    "def greeting(*args):\n",
    "    print(args, \" 안녕하세요~~\")\n",
    "\n",
    "###################################\n",
    "greeting(\"홍길동\")\n",
    "greeting(\"홍길동\", \"임꺽정\")\n",
    "greeting(\"홍길동\", \"임꺽정\", \"톰\")\n",
    "\n",
    "a, b, c = ([1, 2], [3, 4], [4, 5])\n",
    "print(a, b, c)\n",
    "\n",
    "d = ([1, 2], [3, 4], [4, 5])\n",
    "print(d)\n",
    "print(*d)"
   ]
  },
  {
   "cell_type": "code",
   "execution_count": 4,
   "id": "d4bfb34e",
   "metadata": {},
   "outputs": [
    {
     "name": "stdout",
     "output_type": "stream",
     "text": [
      "72 170 홍길동\n",
      "{}\n",
      "80 175 임꺽정\n",
      "{'age': 30, 'blood': 'B', 'addr': '서울', 'tel': '111-1111'}\n"
     ]
    }
   ],
   "source": [
    "def info(weight, height, name, **kwargs):\n",
    "    print(weight, height, name)\n",
    "    print(kwargs)\n",
    "\n",
    "#############################\n",
    "\n",
    "info(72, 170, \"홍길동\")\n",
    "info(80, 175, \"임꺽정\", age = 30, blood = \"B\", addr=\"서울\", tel=\"111-1111\")\n"
   ]
  },
  {
   "cell_type": "markdown",
   "id": "f80c7302",
   "metadata": {},
   "source": [
    "### (4) Built-in Function"
   ]
  },
  {
   "cell_type": "markdown",
   "id": "da4978ed",
   "metadata": {},
   "source": [
    "* enumerate(iterator) : 순서가 있는 자료형을 입력받아 인덱스값을 포함해서 리턴"
   ]
  },
  {
   "cell_type": "code",
   "execution_count": 7,
   "id": "fce718ef",
   "metadata": {},
   "outputs": [
    {
     "name": "stdout",
     "output_type": "stream",
     "text": [
      "0 홍길동\n",
      "1 임꺽정\n",
      "2 고길동\n",
      "3 tom\n",
      "4 jerry\n"
     ]
    }
   ],
   "source": [
    "for i, v in enumerate([\"홍길동\", \"임꺽정\", \"고길동\", \"tom\", \"jerry\"]):\n",
    "    print(i, v)"
   ]
  },
  {
   "cell_type": "markdown",
   "id": "ddddb29f",
   "metadata": {},
   "source": [
    "* eval(expression) : 표현식을 파이썬에서 실행 가능하게 만들어주는 역할"
   ]
  },
  {
   "cell_type": "code",
   "execution_count": 11,
   "id": "ffc6d12a",
   "metadata": {},
   "outputs": [
    {
     "name": "stdout",
     "output_type": "stream",
     "text": [
      "7\n",
      "7\n",
      "안녕하세요\n",
      "(2, 1)\n"
     ]
    }
   ],
   "source": [
    "a = \"3 + 4\"\n",
    "print(int(a[0]) + int(a[-1]))\n",
    "print(eval(a))\n",
    "\n",
    "b = \"print('안녕하세요')\"\n",
    "eval(b)\n",
    "\n",
    "c = \"divmod(9, 4)\"\n",
    "print(eval(c))"
   ]
  },
  {
   "cell_type": "markdown",
   "id": "47f68a4b",
   "metadata": {},
   "source": [
    "* map(function, iterator) : 집합의 각 요소가 함수에 의해 수행된 결과를 묶어서 리턴"
   ]
  },
  {
   "cell_type": "code",
   "execution_count": 16,
   "id": "f0618f6e",
   "metadata": {},
   "outputs": [
    {
     "name": "stdout",
     "output_type": "stream",
     "text": [
      "12\n",
      "[12, 22, 32, 42, 52]\n",
      "[12, 22, 32, 42, 52]\n",
      "\n",
      "12\n",
      "22\n",
      "32\n",
      "42\n",
      "52\n"
     ]
    }
   ],
   "source": [
    "def calc(x):\n",
    "    return x + 2\n",
    "\n",
    "#############################\n",
    "\n",
    "print(calc(10))\n",
    "\n",
    "data = [10, 20, 30, 40, 50]\n",
    "result = []\n",
    "result.append(calc(data[0]))\n",
    "result.append(calc(data[1]))\n",
    "result.append(calc(data[2]))\n",
    "result.append(calc(data[3]))\n",
    "result.append(calc(data[4]))\n",
    "print(result)\n",
    "\n",
    "#############################\n",
    "\n",
    "result = []\n",
    "for i in data:\n",
    "    result.append(calc(i))\n",
    "print(result)\n",
    "\n",
    "#############################\n",
    "\n",
    "map(calc, data)\n",
    "print()\n",
    "\n",
    "for v in map(calc, data):\n",
    "    print(v)"
   ]
  },
  {
   "cell_type": "markdown",
   "id": "da2c21f3",
   "metadata": {},
   "source": [
    "* zip(iterator) : 동일한 개수로 이루어진 자료형을 묶어주는 역할"
   ]
  },
  {
   "cell_type": "code",
   "execution_count": 21,
   "id": "b8f91a82",
   "metadata": {},
   "outputs": [
    {
     "name": "stdout",
     "output_type": "stream",
     "text": [
      "a1 b1 c1\n",
      "a2 b2 c2\n",
      "a3 b3 c3\n",
      "-----------------------\n",
      "0 a1 b1 c1\n",
      "1 a2 b2 c2\n",
      "2 a3 b3 c3\n"
     ]
    }
   ],
   "source": [
    "a = [\"a1\", \"a2\", \"a3\"]\n",
    "b = [\"b1\", \"b2\", \"b3\"]\n",
    "c = [\"c1\", \"c2\", \"c3\"]\n",
    "\n",
    "list(zip(a, b, c))\n",
    "\n",
    "\"\"\"\n",
    "a1 b1 c1\n",
    "a2 b2 c2\n",
    "a3 b3 c3\n",
    "\"\"\"\n",
    "\n",
    "for v1, v2, v3 in zip(a, b, c):\n",
    "    print(v1, v2, v3)\n",
    "    \n",
    "print(\"-----------------------\")\n",
    "\"\"\"\n",
    "0 a1 b1 c1\n",
    "1 a2 b2 c2\n",
    "2 a3 b3 c3\n",
    "\"\"\"\n",
    "\n",
    "for k, i in enumerate(zip(a, b, c)):\n",
    "    print(k, *i)"
   ]
  },
  {
   "cell_type": "markdown",
   "id": "adc8806c",
   "metadata": {},
   "source": [
    "### (5) External Function"
   ]
  },
  {
   "cell_type": "markdown",
   "id": "12540e84",
   "metadata": {},
   "source": [
    "* import 모듈명\n",
    "* 기본 경로: C:\\Users\\dbs03\\anaconda3\\Lib\\site-packages"
   ]
  },
  {
   "cell_type": "code",
   "execution_count": 24,
   "id": "b6b66e17",
   "metadata": {},
   "outputs": [
    {
     "name": "stdout",
     "output_type": "stream",
     "text": [
      "['__breakpointhook__', '__displayhook__', '__doc__', '__excepthook__', '__interactivehook__', '__loader__', '__name__', '__package__', '__spec__', '__stderr__', '__stdin__', '__stdout__', '__unraisablehook__', '_base_executable', '_clear_type_cache', '_current_frames', '_debugmallocstats', '_enablelegacywindowsfsencoding', '_framework', '_getframe', '_git', '_home', '_xoptions', 'addaudithook', 'api_version', 'argv', 'audit', 'base_exec_prefix', 'base_prefix', 'breakpointhook', 'builtin_module_names', 'byteorder', 'call_tracing', 'copyright', 'displayhook', 'dllhandle', 'dont_write_bytecode', 'exc_info', 'excepthook', 'exec_prefix', 'executable', 'exit', 'flags', 'float_info', 'float_repr_style', 'get_asyncgen_hooks', 'get_coroutine_origin_tracking_depth', 'getallocatedblocks', 'getdefaultencoding', 'getfilesystemencodeerrors', 'getfilesystemencoding', 'getprofile', 'getrecursionlimit', 'getrefcount', 'getsizeof', 'getswitchinterval', 'gettrace', 'getwindowsversion', 'hash_info', 'hexversion', 'implementation', 'int_info', 'intern', 'is_finalizing', 'last_traceback', 'last_type', 'last_value', 'maxsize', 'maxunicode', 'meta_path', 'modules', 'path', 'path_hooks', 'path_importer_cache', 'platform', 'platlibdir', 'prefix', 'ps1', 'ps2', 'ps3', 'pycache_prefix', 'set_asyncgen_hooks', 'set_coroutine_origin_tracking_depth', 'setprofile', 'setrecursionlimit', 'setswitchinterval', 'settrace', 'stderr', 'stdin', 'stdout', 'thread_info', 'unraisablehook', 'version', 'version_info', 'warnoptions', 'winver']\n",
      "------------------------------------\n",
      "['C:\\\\PythonWork\\\\Basic', 'C:\\\\Users\\\\dbs03\\\\anaconda3\\\\python39.zip', 'C:\\\\Users\\\\dbs03\\\\anaconda3\\\\DLLs', 'C:\\\\Users\\\\dbs03\\\\anaconda3\\\\lib', 'C:\\\\Users\\\\dbs03\\\\anaconda3', '', 'C:\\\\Users\\\\dbs03\\\\anaconda3\\\\lib\\\\site-packages', 'C:\\\\Users\\\\dbs03\\\\anaconda3\\\\lib\\\\site-packages\\\\win32', 'C:\\\\Users\\\\dbs03\\\\anaconda3\\\\lib\\\\site-packages\\\\win32\\\\lib', 'C:\\\\Users\\\\dbs03\\\\anaconda3\\\\lib\\\\site-packages\\\\Pythonwin']\n",
      "win32\n",
      "3.9.12 (main, Apr  4 2022, 05:22:27) [MSC v.1916 64 bit (AMD64)]\n"
     ]
    }
   ],
   "source": [
    "import sys\n",
    "\n",
    "print(dir(sys))\n",
    "print(\"------------------------------------\")\n",
    "print(sys.path)\n",
    "print(sys.platform)\n",
    "print(sys.version)"
   ]
  },
  {
   "cell_type": "code",
   "execution_count": 25,
   "id": "703234ae",
   "metadata": {},
   "outputs": [
    {
     "name": "stdout",
     "output_type": "stream",
     "text": [
      "['DirEntry', 'F_OK', 'GenericAlias', 'Mapping', 'MutableMapping', 'O_APPEND', 'O_BINARY', 'O_CREAT', 'O_EXCL', 'O_NOINHERIT', 'O_RANDOM', 'O_RDONLY', 'O_RDWR', 'O_SEQUENTIAL', 'O_SHORT_LIVED', 'O_TEMPORARY', 'O_TEXT', 'O_TRUNC', 'O_WRONLY', 'P_DETACH', 'P_NOWAIT', 'P_NOWAITO', 'P_OVERLAY', 'P_WAIT', 'PathLike', 'R_OK', 'SEEK_CUR', 'SEEK_END', 'SEEK_SET', 'TMP_MAX', 'W_OK', 'X_OK', '_AddedDllDirectory', '_Environ', '__all__', '__builtins__', '__cached__', '__doc__', '__file__', '__loader__', '__name__', '__package__', '__spec__', '_check_methods', '_execvpe', '_exists', '_exit', '_fspath', '_get_exports_list', '_walk', '_wrap_close', 'abc', 'abort', 'access', 'add_dll_directory', 'altsep', 'chdir', 'chmod', 'close', 'closerange', 'cpu_count', 'curdir', 'defpath', 'device_encoding', 'devnull', 'dup', 'dup2', 'environ', 'error', 'execl', 'execle', 'execlp', 'execlpe', 'execv', 'execve', 'execvp', 'execvpe', 'extsep', 'fdopen', 'fsdecode', 'fsencode', 'fspath', 'fstat', 'fsync', 'ftruncate', 'get_exec_path', 'get_handle_inheritable', 'get_inheritable', 'get_terminal_size', 'getcwd', 'getcwdb', 'getenv', 'getlogin', 'getpid', 'getppid', 'isatty', 'kill', 'linesep', 'link', 'listdir', 'lseek', 'lstat', 'makedirs', 'mkdir', 'name', 'open', 'pardir', 'path', 'pathsep', 'pipe', 'popen', 'putenv', 'read', 'readlink', 'remove', 'removedirs', 'rename', 'renames', 'replace', 'rmdir', 'scandir', 'sep', 'set_handle_inheritable', 'set_inheritable', 'spawnl', 'spawnle', 'spawnv', 'spawnve', 'st', 'startfile', 'stat', 'stat_result', 'statvfs_result', 'strerror', 'supports_bytes_environ', 'supports_dir_fd', 'supports_effective_ids', 'supports_fd', 'supports_follow_symlinks', 'symlink', 'sys', 'system', 'terminal_size', 'times', 'times_result', 'truncate', 'umask', 'uname_result', 'unlink', 'unsetenv', 'urandom', 'utime', 'waitpid', 'waitstatus_to_exitcode', 'walk', 'write']\n",
      "------------------------------------\n",
      "<built-in function getcwd>\n"
     ]
    }
   ],
   "source": [
    "import os\n",
    "\n",
    "print(dir(os))\n",
    "print(\"------------------------------------\")\n",
    "print(os.getcwd)"
   ]
  },
  {
   "cell_type": "code",
   "execution_count": 28,
   "id": "6bba2ad2",
   "metadata": {},
   "outputs": [
    {
     "name": "stdout",
     "output_type": "stream",
     "text": [
      "30\n",
      "키 :  172\n",
      "몸무게 :  80\n",
      "기타 :  {'name': '홍길동', 'hobby': ['낚시', '독서']}\n",
      "회사명 :  파이썬 주식회사\n"
     ]
    }
   ],
   "source": [
    "import mymodule\n",
    "\n",
    "print(mymodule.sum(10, 20))\n",
    "mymodule.info(80, 172, name = \"홍길동\", hobby = [\"낚시\", \"독서\"])\n",
    "print(\"회사명 : \", mymodule.COMPANY)"
   ]
  },
  {
   "cell_type": "markdown",
   "id": "96c9142b",
   "metadata": {},
   "source": [
    "### (6) 날짜 함수"
   ]
  },
  {
   "cell_type": "code",
   "execution_count": 49,
   "id": "bac00861",
   "metadata": {},
   "outputs": [
    {
     "name": "stdout",
     "output_type": "stream",
     "text": [
      "2022-05-27 , 2022 , 5 , 27\n",
      "----------------------------------------------\n",
      "2022-05-27 12:57:26.865649\n",
      "----------------------------------------------\n",
      "-1 day, 0:00:00\n",
      "어제 : 2022-05-26\n",
      "8시간 전 2022-05-27 04:57:26.865649\n",
      "----------------------------------------------\n",
      "05/27/2022\n",
      "<class 'str'>\n",
      "2022=05=27 12^57^26\n",
      "----------------------------------------------\n",
      "<class 'str'>\n",
      "<class 'datetime.datetime'>\n",
      "2022-05-05 11:56:57\n"
     ]
    }
   ],
   "source": [
    "import datetime\n",
    "\n",
    "# 현재 날짜\n",
    "today = datetime.date.today()\n",
    "print(today, \",\", today.year, \",\", today.month, \",\", today.day )\n",
    "\n",
    "print(\"----------------------------------------------\")\n",
    "\n",
    "# 현재 시간\n",
    "ctime = datetime.datetime.today()\n",
    "print(ctime)\n",
    "\n",
    "print(\"----------------------------------------------\")\n",
    "\n",
    "# 날짜와 시간을 계산\n",
    "mydays = datetime.timedelta(days = -1)\n",
    "print(mydays)\n",
    "print(\"어제 : {}\".format(today + mydays))\n",
    "\n",
    "myhours = datetime.timedelta(hours = -8)\n",
    "print(\"8시간 전 {}\".format(ctime + myhours))\n",
    "\n",
    "print(\"----------------------------------------------\")\n",
    "\n",
    "# 날짜와 시간의 형식\n",
    "print(today.strftime(\"%m/%d/%Y\"))\n",
    "print(type(today.strftime(\"%m/%d/%Y\")))\n",
    "print(ctime.strftime(\"%Y=%m=%d %H^%M^%S\"))\n",
    "\n",
    "print(\"----------------------------------------------\")\n",
    "\n",
    "# 날짜의 형식 변환\n",
    "# 날짜를 문자열로 : strftime(), 문자열을 날짜로 : strptime()\n",
    "\n",
    "str1 = \"2022-5-5 11:56:57\"\n",
    "print(type(str1))\n",
    "\n",
    "d1 = datetime.datetime.strptime(str1, \"%Y-%m-%d %H:%M:%S\")\n",
    "print(type(d1))\n",
    "print(d1)"
   ]
  },
  {
   "cell_type": "markdown",
   "id": "7512f4aa",
   "metadata": {},
   "source": [
    "### (7) 파일 처리\n",
    "\n",
    "+ 10 관점\n",
    "+ Data Persistence\n",
    "+ 함수\n",
    "    - open(파일명(경로 포함), 모드)\n",
    "        - 모드: r, w, a, rb, wb, ab\n",
    "    - close()\n",
    "    - 읽어올 때 : readline(), readlines(), read()\n",
    "    - 저장할 때 : write()"
   ]
  },
  {
   "cell_type": "code",
   "execution_count": 5,
   "id": "46e7dcb4",
   "metadata": {},
   "outputs": [
    {
     "name": "stdout",
     "output_type": "stream",
     "text": [
      "def sum(num1, num2):\n",
      "\n",
      "    hap = num1 + num2\n",
      "\n",
      "    return hap\n",
      "\n",
      "\n",
      "\n",
      "def info(weight, height, **kwargs):\n",
      "\n",
      "    print(\"키 : \", height)\n",
      "\n",
      "    print(\"몸무게 : \", weight)\n",
      "\n",
      "    print(\"기타 : \", kwargs)\n",
      "\n",
      "\n",
      "\n",
      "COMPANY = \"파이썬 주식회사\"\n"
     ]
    }
   ],
   "source": [
    "f = open(\"mymodule.py\", \"r\", encoding=\"UTF-8\")\n",
    "\n",
    "while True:\n",
    "    line = f.readline()\n",
    "    \n",
    "    if not line:\n",
    "        break\n",
    "    \n",
    "    print(line)\n",
    "f.close()"
   ]
  },
  {
   "cell_type": "code",
   "execution_count": 24,
   "id": "2f03ac35",
   "metadata": {},
   "outputs": [
    {
     "data": {
      "text/plain": [
       "'abcd\\n'"
      ]
     },
     "execution_count": 24,
     "metadata": {},
     "output_type": "execute_result"
    }
   ],
   "source": [
    "f = open(\"data/filetest1.txt\", \"r\", encoding=\"UTF-8\")\n",
    "f.readline()"
   ]
  },
  {
   "cell_type": "code",
   "execution_count": 25,
   "id": "71fb662a",
   "metadata": {},
   "outputs": [
    {
     "name": "stdout",
     "output_type": "stream",
     "text": [
      "['abcd\\n', 'efgh\\n', 'ijklmn\\n', '1234\\n', '5678\\n', '가나다라\\n', '마바사아']\n"
     ]
    }
   ],
   "source": [
    "f = open(\"data/filetest1.txt\", encoding=\"UTF-8\")\n",
    "lines = f.readlines()\n",
    "print(lines)\n",
    "\n",
    "f.close()"
   ]
  },
  {
   "cell_type": "code",
   "execution_count": 27,
   "id": "9da5424b",
   "metadata": {},
   "outputs": [
    {
     "name": "stdout",
     "output_type": "stream",
     "text": [
      "abcd\n",
      "efgh\n",
      "ijklmn\n",
      "1234\n",
      "5678\n",
      "가나다라\n",
      "마바사아\n",
      "<class 'str'>\n"
     ]
    },
    {
     "data": {
      "text/plain": [
       "<function TextIOWrapper.close()>"
      ]
     },
     "execution_count": 27,
     "metadata": {},
     "output_type": "execute_result"
    }
   ],
   "source": [
    "f = open(\"data/filetest1.txt\", encoding=\"UTF-8\")\n",
    "\n",
    "lines = f.read()\n",
    "print(lines)\n",
    "print(type(lines))\n",
    "\n",
    "f.close"
   ]
  },
  {
   "cell_type": "code",
   "execution_count": 29,
   "id": "6318aea1",
   "metadata": {},
   "outputs": [],
   "source": [
    "f = open(\"data/filetest2.txt\", \"w\")\n",
    "\n",
    "f.write(\"이름 : 홍길동, \")\n",
    "f.write(\"전화 : 010-222-2222, \")\n",
    "f.write(\"주소 : 서울시 강남구\\n\")\n",
    "\n",
    "f.write(\"이름 : 임꺽정, \")\n",
    "f.write(\"전화 : 010-333-3333, \")\n",
    "f.write(\"주소 : 서울시 강북구\\n\")\n",
    "\n",
    "f.close()"
   ]
  },
  {
   "cell_type": "code",
   "execution_count": 30,
   "id": "2ac673c9",
   "metadata": {},
   "outputs": [],
   "source": [
    "f = open(\"data/filetest2.txt\", \"a\")\n",
    "\n",
    "f.write(\"이름 : 고길동, \")\n",
    "f.write(\"전화 : 010-111-1111, \")\n",
    "f.write(\"주소 : 서울시 강동구\\n\")\n",
    "\n",
    "f.close()"
   ]
  },
  {
   "cell_type": "code",
   "execution_count": 31,
   "id": "55cc7577",
   "metadata": {},
   "outputs": [],
   "source": [
    "nums = [11, 21, 31, 41, 51, 61, 71, 81, 91]\n",
    "\n",
    "f = open(\"data/filetest3.txt\", \"w\")\n",
    "\n",
    "f.write(str(nums))\n",
    "\n",
    "f.close()"
   ]
  },
  {
   "cell_type": "code",
   "execution_count": 32,
   "id": "6be04eef",
   "metadata": {},
   "outputs": [],
   "source": [
    "##### CSV 형식으로 저장\n",
    "\n",
    "f = open(\"data/filetest3.txt\", \"w\")\n",
    "\n",
    "for i in range(len(nums)):\n",
    "    f.write(str(nums[i])+\", \")\n",
    "\n",
    "f.close()"
   ]
  },
  {
   "cell_type": "code",
   "execution_count": 34,
   "id": "a8d3120c",
   "metadata": {},
   "outputs": [],
   "source": [
    "f = open(\"data/filetest3.txt\", \"w\")\n",
    "\n",
    "for i in range(len(nums)):\n",
    "    if i < len(nums) - 1:\n",
    "        f.write(str(nums[i]) + \", \")\n",
    "    else:\n",
    "        f.write(str(nums[i]))\n",
    "\n",
    "f.close()"
   ]
  },
  {
   "cell_type": "code",
   "execution_count": 35,
   "id": "e9318f24",
   "metadata": {},
   "outputs": [
    {
     "data": {
      "text/plain": [
       "'a,b,c,d,e,f,g'"
      ]
     },
     "execution_count": 35,
     "metadata": {},
     "output_type": "execute_result"
    }
   ],
   "source": [
    "str = \"abcdefg\"\n",
    "\",\".join(str)"
   ]
  },
  {
   "cell_type": "code",
   "execution_count": 37,
   "id": "220fedde",
   "metadata": {},
   "outputs": [
    {
     "name": "stdout",
     "output_type": "stream",
     "text": [
      "['1-markdown.ipynb', '2-변수와 자료형.ipynb', '3-제어문.ipynb', '4-함수.ipynb', 'Untitled.ipynb']\n"
     ]
    }
   ],
   "source": [
    "##### 동시에 여러 개의 파일을 읽어오는 방법\n",
    "\n",
    "import glob\n",
    "\n",
    "#files = glob.glob(\"*\")\n",
    "#files = glob.glob(\"*.*\")\n",
    "\n",
    "files = glob.glob(\"*.ipynb\")\n",
    "print(files)"
   ]
  },
  {
   "cell_type": "code",
   "execution_count": null,
   "id": "169715ee",
   "metadata": {},
   "outputs": [],
   "source": []
  }
 ],
 "metadata": {
  "kernelspec": {
   "display_name": "Python 3 (ipykernel)",
   "language": "python",
   "name": "python3"
  },
  "language_info": {
   "codemirror_mode": {
    "name": "ipython",
    "version": 3
   },
   "file_extension": ".py",
   "mimetype": "text/x-python",
   "name": "python",
   "nbconvert_exporter": "python",
   "pygments_lexer": "ipython3",
   "version": "3.9.12"
  }
 },
 "nbformat": 4,
 "nbformat_minor": 5
}
