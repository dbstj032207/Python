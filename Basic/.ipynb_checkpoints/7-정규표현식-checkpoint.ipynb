{
 "cells": [
  {
   "cell_type": "markdown",
   "id": "cb82d20c",
   "metadata": {},
   "source": [
    "+ Regular Expression\n",
    "+ 특정한 패턴과 일치하는 문자열을 \"검색\", \"치환\", \"제거\"하는 기능을 지원\n",
    "+ https://docs.python.org/3.9/library/re.html\n",
    "+ https://docs.oracle.com/javase/8/docs/api/index.html\n"
   ]
  },
  {
   "cell_type": "markdown",
   "id": "bb84808e",
   "metadata": {},
   "source": [
    "### (1) 반복\n",
    "\n",
    "    * : 0회 이상\n",
    "        ab* : a, ab, abb, abbb, ...\n",
    "        lo*l :ll, lol, lool, loool, ...\n",
    "        \n",
    "    + : 1회 이상\n",
    "        ab+ : ab, abb, abbb, abbbb, ...\n",
    "        lo+l : lol, lool, loool, looool, ...\n",
    "        \n",
    "    ? : 0회 또는 1회\n",
    "        ab? : a, ab\n",
    "        lo?l : ll, lol\n",
    "        \n",
    "    {m} : m회 반복\n",
    "        a{3}bc : aaabc \n",
    "        \n",
    "    {m,n} : m회부터 n회까지\n",
    "        a{2,4}bc : aabc, aaabc, aaaabc\n",
    "        \n",
    "\n",
    "### (2) 매칭\n",
    "\n",
    "    . : 줄바꿈 문자를 제외한 모든 문자와 매치\n",
    "        a.b : aab, abb, acb, adb, a1b, ...\n",
    "        \n",
    "    ^ : 문자열의 시작과 매치\n",
    "        ^abc : abc\n",
    "        ^(abc) : abc ...\n",
    "        \n",
    "    $ : 문자열의 마지막과 매치\n",
    "        ...$a : zdfa\n",
    "        \n",
    "    [ ] : 문자집합 중 한 문자와 매치\n",
    "        [abc]xyz : axyz, bxyz, cxyz\n",
    "        [a-z]xyz : axyz, bxyz, cxyz, dxyz, ..., zxyz\n",
    "        a[.]b : a.b\n",
    "        [abc.^]z : az, bz, cz, .z, ^z\n",
    "        [^abc]d : ad, bd, cd를 제외한 나머지 문자, 즉 dd, ed, fd, ...\n",
    "        [0-9]abc : 0abc, 1abc, ..., 9abc\n",
    "        [^0-9]abc : 숫자를 제외한 abc\n",
    "        [a-zA-Z0-9]hello : ahello, Ahello, Ohello, ...\n",
    "        \n",
    "### (3) 특수문자(\\문자)\n",
    "\n",
    "    \\d : 모든 숫자와 매치\n",
    "        ab\\d\\dc : ab00c, ab01c, ...\n",
    "        ad[0-9][0-9]c : 위와 동일\n",
    "        \n",
    "    \\D : 숫자가 아닌 문자와 매치\n",
    "    \n",
    "    \\s : 공백 문자와 매치\n",
    "    \n",
    "    \\S : 공백 문자를 제외한 모든 문자와 매치\n",
    "    \n",
    "    \\w : 숫자 또는 문자\n",
    "        \n",
    "    \\W : 숫자 또는 문자가 아닌 모든 문자와 매치\n",
    "    \n",
    "    \n",
    "### (4) 파이썬에서 제공하는 정규표현식 API\n",
    "\n",
    "+ compile() : 정규 표현식 객체 생성\n",
    "+ match() : 문자열의 처음부터 정규식과 매치되는지를 조사\n",
    "+ search() : 문자열 전체를 검색하여 정규식과 매치되는지를 조사\n",
    "+ findall() : 정규식과 매치되는 모든 문자열을 리스트로 리턴\n",
    "+ finditer() : 정규식과 매치되는 모든 문자열을 반복 가능한 객체로 리턴\n",
    "+ split() : 문자열 분리\n",
    "+ sub() : 변경(교체)\n",
    "+ ..."
   ]
  },
  {
   "cell_type": "code",
   "execution_count": 1,
   "id": "6ed3fa5a",
   "metadata": {},
   "outputs": [
    {
     "name": "stdout",
     "output_type": "stream",
     "text": [
      "<re.Match object; span=(0, 30), match='3 akfmkgmf askmkgmldfkm222kmkm'>\n",
      "None\n",
      "-------------------------------------\n",
      "True\n",
      "False\n",
      "-------------------------------------\n",
      "None\n",
      "<re.Match object; span=(7, 18), match='3 asd ksddd'>\n",
      "-------------------------------------\n",
      "<re.Match object; span=(0, 30), match='3 akfmkgmf askmkgmldfkm222kmkm'>\n"
     ]
    }
   ],
   "source": [
    "import re\n",
    "\n",
    "##### 객체를 생성해서 사용하는 방법\n",
    "p = re.compile(\"[0-9] [a-z]+ .+\")\n",
    "print(p.match(\"3 akfmkgmf askmkgmldfkm222kmkm\"))\n",
    "print(p.match(\"3ak\"))\n",
    "\n",
    "print(\"-------------------------------------\")\n",
    "\n",
    "print(bool(p.match(\"3 akfmkgmf askmkgmldfkm222kmkm\")))\n",
    "print(bool(p.match(\"3ak\")))\n",
    "\n",
    "print(\"-------------------------------------\")\n",
    "\n",
    "print(p.match(\"asdasd 3 asd ksddd\"))   # 처음부터 틀리면 None 반환 \n",
    "print(p.search(\"asdasd 3 asd ksddd\"))  # 처음에 틀려도 계속 검색\n",
    "\n",
    "print(\"-------------------------------------\")\n",
    "\n",
    "##### 바로 함수를 사용하는 방법\n",
    "print(re.match(\"[0-9] [a-z]+ .+\", \"3 akfmkgmf askmkgmldfkm222kmkm\"))"
   ]
  },
  {
   "cell_type": "code",
   "execution_count": 23,
   "id": "50b39a30",
   "metadata": {},
   "outputs": [],
   "source": [
    "##### 전화번호와 매칭되는 패턴 작성\n",
    "\n",
    "data = \"안녕하세요. 내 나이는 20살이고 전화번호는 010-111-1111 입니다. 어쩌구...\"\n",
    "phone = re.search(\"\\d\\d\\d-\\d\\d\\d-\\d\\d\\d\\d\", data)"
   ]
  },
  {
   "cell_type": "code",
   "execution_count": 29,
   "id": "5c96dc7e",
   "metadata": {},
   "outputs": [
    {
     "name": "stdout",
     "output_type": "stream",
     "text": [
      "010-111-1111\n",
      "25\n",
      "37\n",
      "(25, 37)\n"
     ]
    }
   ],
   "source": [
    "print(phone.group(0))\n",
    "print(phone.start())\n",
    "print(phone.end())\n",
    "print(phone.span())"
   ]
  },
  {
   "cell_type": "markdown",
   "id": "40da5eb8",
   "metadata": {},
   "source": [
    "## findall(), finditer()"
   ]
  },
  {
   "cell_type": "code",
   "execution_count": 6,
   "id": "d379c674",
   "metadata": {},
   "outputs": [
    {
     "name": "stdout",
     "output_type": "stream",
     "text": [
      "['life', 'is', 'too', 'short']\n",
      "<callable_iterator object at 0x000002BC5577C7F0>\n",
      "<re.Match object; span=(0, 4), match='life'>\n",
      "life\n",
      "(0, 4)\n",
      "<re.Match object; span=(10, 12), match='is'>\n",
      "is\n",
      "(10, 12)\n",
      "<re.Match object; span=(21, 24), match='too'>\n",
      "too\n",
      "(21, 24)\n",
      "<re.Match object; span=(28, 33), match='short'>\n",
      "short\n",
      "(28, 33)\n"
     ]
    }
   ],
   "source": [
    "data = \"life 3333 is 222 333 too 10 short\"\n",
    "\n",
    "p = re.compile(\"[a-z]+\")\n",
    "\n",
    "# p.match(data)\n",
    "# p.search(data)\n",
    "\n",
    "m = p.findall(data)\n",
    "print(m)\n",
    "\n",
    "m1 = p.finditer(data)\n",
    "print(m1)\n",
    "\n",
    "for i in m1:\n",
    "    print(i)\n",
    "    print(i.group())\n",
    "    print(i.span())"
   ]
  },
  {
   "cell_type": "code",
   "execution_count": 14,
   "id": "1516e533",
   "metadata": {},
   "outputs": [
    {
     "name": "stdout",
     "output_type": "stream",
     "text": [
      "['1', '2', '3', '4', '5', '5', '5', '6']\n",
      "['1234', '555', '6']\n",
      "['12', '34', '55']\n",
      "['123', '555']\n"
     ]
    }
   ],
   "source": [
    "data = \"1234 abc가나다ABC_555_6\"\n",
    "\n",
    "#숫자 1개와 일치하는 패턴 : 1, 2, 3, 4, 5, 5, 5, 6\n",
    "p = re.compile(\"\\d\")\n",
    "m = p.findall(data)\n",
    "print(m)\n",
    "\n",
    "#숫자 1개 이상 일치하는 패턴 \n",
    "p = re.compile(\"\\d+\")\n",
    "m = p.findall(data)\n",
    "print(m)\n",
    "\n",
    "#숫자 2개와 일치하는 패턴 \n",
    "p = re.compile(\"\\d\\d\")\n",
    "m = p.findall(data)\n",
    "print(m)\n",
    "\n",
    "#숫자 2~3개와 일치하는 패턴 \n",
    "p = re.compile(\"\\d{2,3}\")\n",
    "m = p.findall(data)\n",
    "print(m)"
   ]
  },
  {
   "cell_type": "code",
   "execution_count": 49,
   "id": "3d069e32",
   "metadata": {},
   "outputs": [
    {
     "name": "stdout",
     "output_type": "stream",
     "text": [
      "['abc', 'mbc']\n",
      "['abc', 'air', 'air', 'akm', 'air']\n",
      "['air']\n",
      "['1234']\n",
      "['234 abc가나다ABC_555_6 mbc air air akmdkgmair']\n"
     ]
    }
   ],
   "source": [
    "data = \"1234 abc가나다ABC_555_6 mbc air air\"\n",
    "\n",
    "# bc로 끝나는 3글자: abc, mbc\n",
    "print(re.findall(\".bc\", data))\n",
    "\n",
    "# a로 시작하는 3글자 : abc, air, air\n",
    "print(re.findall(\"a..\", data))\n",
    "\n",
    "#가장 마지막에 air로 끝나는 문자 : air\n",
    "print(re.findall(\"air$\", data))\n",
    "\n",
    "#가장 처음에 1로 시작하는 숫자들 : 1234\n",
    "print(re.findall(\"1\\d+\", data))\n",
    "\n",
    "# 1을 뺀 모든 데이터 : 234 abc가나다ABC_555_6 mbc air air\n",
    "print(re.findall(\"[^1]+\", data))"
   ]
  },
  {
   "cell_type": "markdown",
   "id": "a64e5ab6",
   "metadata": {},
   "source": [
    "### split()"
   ]
  },
  {
   "cell_type": "code",
   "execution_count": 52,
   "id": "c495617b",
   "metadata": {},
   "outputs": [
    {
     "name": "stdout",
     "output_type": "stream",
     "text": [
      "['mbc,kbs', 'sbs:ytn']\n",
      "['mbc', 'kbs', 'sbs', 'ytn']\n",
      "['mbc', 'kbs', 'sbs', 'ytn']\n"
     ]
    }
   ],
   "source": [
    "data = \"mbc,kbs sbs:ytn\"\n",
    "\n",
    "print(data.split(\" \"))\n",
    "\n",
    "print(re.split(\",| |:\", data))\n",
    "print(re.split(\"\\W\", data))"
   ]
  },
  {
   "cell_type": "markdown",
   "id": "21cfecc3",
   "metadata": {},
   "source": [
    "### sub()"
   ]
  },
  {
   "cell_type": "code",
   "execution_count": 56,
   "id": "c55d9fff",
   "metadata": {},
   "outputs": [
    {
     "name": "stdout",
     "output_type": "stream",
     "text": [
      "888 abc가나다ABC_888_888\n",
      "8888 abc가나다ABC_888_8\n",
      "---------------------------------\n",
      "mbc,kbs,sbs,ytn\n"
     ]
    }
   ],
   "source": [
    "data = \"1234 abc가나다ABC_555_6\"\n",
    "\n",
    "m = re.sub(\"[0-9]+\", \"888\", data)\n",
    "print(m)\n",
    "m = re.sub(\"\\d\", \"8\", data)\n",
    "print(m)\n",
    "\n",
    "print(\"---------------------------------\")\n",
    "\n",
    "data = \"mbc,kbs     sbs:ytn\"\n",
    "m = re.sub(\"\\W+\", \",\", data)\n",
    "print(m)"
   ]
  },
  {
   "cell_type": "markdown",
   "id": "07a73b69",
   "metadata": {},
   "source": [
    "### 컴파일 옵션 : S(or DOTALL), I(or IGNORECASE), M(or MUTILINE) "
   ]
  },
  {
   "cell_type": "code",
   "execution_count": 59,
   "id": "e5c947f2",
   "metadata": {},
   "outputs": [
    {
     "name": "stdout",
     "output_type": "stream",
     "text": [
      "<re.Match object; span=(0, 3), match='axb'>\n",
      "<re.Match object; span=(0, 3), match='a+b'>\n",
      "<re.Match object; span=(0, 3), match='a\\nb'>\n"
     ]
    }
   ],
   "source": [
    "p = re.compile(\"a.b\", re.S)\n",
    "\n",
    "m1 = p.match(\"axb is bla~~~\")\n",
    "print(m1)\n",
    "\n",
    "m2 = p.match(\"a+b is bla~~~\")\n",
    "print(m2)\n",
    "\n",
    "m3 = p.match(\"a\\nb is bla~~~\")\n",
    "print(m3)"
   ]
  },
  {
   "cell_type": "code",
   "execution_count": 60,
   "id": "92afc56e",
   "metadata": {},
   "outputs": [
    {
     "name": "stdout",
     "output_type": "stream",
     "text": [
      "<re.Match object; span=(0, 1), match='p'>\n",
      "<re.Match object; span=(0, 1), match='P'>\n"
     ]
    }
   ],
   "source": [
    "p = re.compile(\"[a-z], re.I\")\n",
    "\n",
    "print(p.match(\"python\"))\n",
    "print(p.match(\"Python\"))"
   ]
  },
  {
   "cell_type": "code",
   "execution_count": 68,
   "id": "7056130f",
   "metadata": {},
   "outputs": [
    {
     "name": "stdout",
     "output_type": "stream",
     "text": [
      "['python one', 'python two', 'Python three']\n",
      "['python one', 'python two', 'Python three']\n"
     ]
    }
   ],
   "source": [
    "data = \"\"\"python one\n",
    "life is too short\n",
    "python two\n",
    "you need python\n",
    "Python three\n",
    "\"\"\"\n",
    "\n",
    "p = re.compile(\"python [a-z]+\", re.I)\n",
    "m = p.findall(data)\n",
    "print(m)\n",
    "\n",
    "p = re.compile(\"^[pP]ython [a-z]+\", re.M)\n",
    "m = p.findall(data)\n",
    "print(m)"
   ]
  },
  {
   "cell_type": "code",
   "execution_count": null,
   "id": "444dcc57",
   "metadata": {},
   "outputs": [],
   "source": []
  }
 ],
 "metadata": {
  "kernelspec": {
   "display_name": "Python 3 (ipykernel)",
   "language": "python",
   "name": "python3"
  },
  "language_info": {
   "codemirror_mode": {
    "name": "ipython",
    "version": 3
   },
   "file_extension": ".py",
   "mimetype": "text/x-python",
   "name": "python",
   "nbconvert_exporter": "python",
   "pygments_lexer": "ipython3",
   "version": "3.9.12"
  }
 },
 "nbformat": 4,
 "nbformat_minor": 5
}
