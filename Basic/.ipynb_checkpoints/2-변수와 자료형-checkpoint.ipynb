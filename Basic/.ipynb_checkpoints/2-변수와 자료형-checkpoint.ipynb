{
 "cells": [
  {
   "cell_type": "markdown",
   "id": "ea2fb5f4",
   "metadata": {},
   "source": [
    "## 1. 변수(Variable)의 정의\n",
    "    - 임시 기억(저장) 장소(공간)\n",
    "    \n",
    "## 2. 변수의 특징\n",
    "- 묵시적 선언\n",
    "- 동적 바인딩\n",
    "- immutable(불변성)"
   ]
  },
  {
   "cell_type": "code",
   "execution_count": 5,
   "id": "ed10d4d0",
   "metadata": {},
   "outputs": [
    {
     "name": "stdout",
     "output_type": "stream",
     "text": [
      "10\n",
      "11\n",
      "안녕하세요\n",
      "3.24\n",
      "True\n"
     ]
    }
   ],
   "source": [
    "i = 10\n",
    "print(i)\n",
    "\n",
    "i = 11\n",
    "print(i)\n",
    "\n",
    "i = \"안녕하세요\"\n",
    "print(i)\n",
    "\n",
    "i = 3.24\n",
    "print(i)\n",
    "\n",
    "i = True\n",
    "print(i)"
   ]
  },
  {
   "cell_type": "markdown",
   "id": "68f26d5b",
   "metadata": {},
   "source": [
    "## 3. 데이터 타입\n",
    "\n",
    "### 종류\n",
    "1. 기본 자료형\n",
    "    - int\n",
    "    - float\n",
    "    - str\n",
    "    - bool\n",
    "\n",
    "2. 집합 자료형\n",
    "    - list\n",
    "    - tuple\n",
    "    - dict\n",
    "    - set"
   ]
  },
  {
   "cell_type": "code",
   "execution_count": 7,
   "id": "c78e1456",
   "metadata": {},
   "outputs": [
    {
     "name": "stdout",
     "output_type": "stream",
     "text": [
      "<class 'int'>\n",
      "<class 'float'>\n"
     ]
    }
   ],
   "source": [
    "i = 10\n",
    "print(type(i))\n",
    "\n",
    "i = 3.14\n",
    "print(type(i))"
   ]
  },
  {
   "cell_type": "markdown",
   "id": "dee72654",
   "metadata": {},
   "source": [
    "## (1) str"
   ]
  },
  {
   "cell_type": "code",
   "execution_count": 13,
   "id": "744e9974",
   "metadata": {},
   "outputs": [
    {
     "name": "stdout",
     "output_type": "stream",
     "text": [
      "<class 'int'>\n",
      "<class 'str'>\n",
      "<class 'str'>\n",
      "제 이름은 '홍길동'입니다.\n",
      "안녕하세요제 이름은 홍길동 입니다. 만나서 반갑습니다.\n",
      "안녕하세요\n",
      "제 이름은 홍길동 입니다.\n",
      "만나서 반갑습니다.\n"
     ]
    }
   ],
   "source": [
    "# 문자열 저장\n",
    "\n",
    "a = 10\n",
    "print(type(a))\n",
    "\n",
    "a = '10'\n",
    "print(type(a))\n",
    "\n",
    "a = \"안녕하세요\"\n",
    "print(type(a))\n",
    "\n",
    "a = \"제 이름은 '홍길동'입니다.\"\n",
    "print(a)\n",
    "\n",
    "a = \"안녕하세요\"\n",
    "a += \"제 이름은 홍길동 입니다. \"\n",
    "a += \"만나서 반갑습니다.\"\n",
    "print(a)\n",
    "\n",
    "a = \"\"\"안녕하세요\n",
    "제 이름은 홍길동 입니다.\n",
    "만나서 반갑습니다.\"\"\"\n",
    "print(a)"
   ]
  },
  {
   "cell_type": "code",
   "execution_count": 22,
   "id": "161cb8d4",
   "metadata": {},
   "outputs": [
    {
     "name": "stdout",
     "output_type": "stream",
     "text": [
      "이것은 파이썬입니다. \n",
      "열심히 공부합니다.\n",
      "\n",
      "\n",
      "\t는 탭키의 기능이다.\n",
      "\n",
      "\n",
      "\\t는 탭키의 기능이다.\n"
     ]
    }
   ],
   "source": [
    "# 특수문자(제어문자) : \\문자, \\(escape)\n",
    "\n",
    "a = \"이것은 파이썬입니다. \\n열심히 공부합니다.\"\n",
    "print(a)\n",
    "\n",
    "print(\"\\n\")\n",
    "\n",
    "a = \"\\t는 탭키의 기능이다.\"\n",
    "print(a)\n",
    "\n",
    "print(\"\\n\")\n",
    "\n",
    "a = \"\\\\t는 탭키의 기능이다.\"\n",
    "print(a)"
   ]
  },
  {
   "cell_type": "code",
   "execution_count": 23,
   "id": "0df7208a",
   "metadata": {},
   "outputs": [
    {
     "name": "stdout",
     "output_type": "stream",
     "text": [
      "10 + 2 - 3 + 5 + 6 * 7\n"
     ]
    }
   ],
   "source": [
    "# 줄바꿈: \\를 줄바꿈의 용도로 사용\n",
    "a = \"10 + 2 - 3 + 5 \\\n",
    "+ 6 * 7\"\n",
    "print(a)"
   ]
  },
  {
   "cell_type": "code",
   "execution_count": 25,
   "id": "c78d925a",
   "metadata": {},
   "outputs": [
    {
     "name": "stdout",
     "output_type": "stream",
     "text": [
      "python is fun and great\n",
      "('python', ' is fun', ' and great')\n"
     ]
    }
   ],
   "source": [
    "# 문자열 연결\n",
    "a = \"python\"\n",
    "b = \" is fun\"\n",
    "c = \" and great\"\n",
    "d = a + b + c\n",
    "print(d)\n",
    "\n",
    "d = a, b, c\n",
    "print(d)"
   ]
  },
  {
   "cell_type": "code",
   "execution_count": 26,
   "id": "bb5fc2e0",
   "metadata": {},
   "outputs": [
    {
     "name": "stdout",
     "output_type": "stream",
     "text": [
      "pythonpythonpython\n"
     ]
    }
   ],
   "source": [
    "# 문자열 반복\n",
    "print(a * 3)"
   ]
  },
  {
   "cell_type": "code",
   "execution_count": 28,
   "id": "6479bd7f",
   "metadata": {},
   "outputs": [
    {
     "name": "stdout",
     "output_type": "stream",
     "text": [
      "6\n",
      "7\n",
      "10\n"
     ]
    }
   ],
   "source": [
    "# 문자열의 길이\n",
    "print(len(a))\n",
    "print(len(b))\n",
    "print(len(c))"
   ]
  },
  {
   "cell_type": "code",
   "execution_count": 36,
   "id": "b68b4876",
   "metadata": {},
   "outputs": [
    {
     "name": "stdout",
     "output_type": "stream",
     "text": [
      "L e o   s\n",
      "----------------------------\n",
      "n\n",
      "o\n",
      "----------------------------\n",
      "n\n",
      "o\n"
     ]
    }
   ],
   "source": [
    "# 인덱싱: 원하는 문자에 접근할 수 있는 방법 제공\n",
    "a = \"Life is too short. You need python\"\n",
    "\n",
    "print(a[0], a[3], a[10], a[11], a[12])\n",
    "print(\"----------------------------\")\n",
    "print(a[len(a)-1])\n",
    "print(a[len(a)-2])\n",
    "print(\"----------------------------\")\n",
    "print(a[-1])\n",
    "print(a[-2])"
   ]
  },
  {
   "cell_type": "code",
   "execution_count": 45,
   "id": "d71dafa1",
   "metadata": {},
   "outputs": [
    {
     "name": "stdout",
     "output_type": "stream",
     "text": [
      "Life i\n",
      "Life i\n",
      "s too short. You need python\n",
      "Life is too short. You need python\n",
      "You need\n",
      "----------------------------\n",
      "Life is too short. You need python\n",
      "Lf stosot o edpto\n",
      "nohtyp deen uoY .trohs oot si efiL\n"
     ]
    }
   ],
   "source": [
    "# 슬라이싱(slicing) -> [시작위치 : 끝위치 : 단계(step)]\n",
    "\n",
    "print(a[0 : 6])\n",
    "print(a[ : 6])\n",
    "print(a[6 : ])\n",
    "print(a[ : ])\n",
    "print(a[19 : -7])\n",
    "\n",
    "print(\"----------------------------\")\n",
    "\n",
    "print(a[ : : 1])\n",
    "print(a[ : : 2])\n",
    "print(a[ : : -1])"
   ]
  },
  {
   "cell_type": "code",
   "execution_count": 47,
   "id": "8b13b325",
   "metadata": {},
   "outputs": [
    {
     "name": "stdout",
     "output_type": "stream",
     "text": [
      "python\n"
     ]
    }
   ],
   "source": [
    "# 수정 불가\n",
    "\n",
    "a = \"pithon\"\n",
    "#a[1] = y #불가\n",
    "\n",
    "a = a[0] + 'y' + a[2:]\n",
    "print(a)"
   ]
  },
  {
   "cell_type": "code",
   "execution_count": null,
   "id": "42499125",
   "metadata": {},
   "outputs": [],
   "source": [
    "# 문자열 포맷팅 : %, format()\n",
    "\n",
    "# %\n",
    "print(\"현재 온도는 18도 입니다.\")\n",
    "print(\"현재 온도는 %d도 입니다. 그리고 오늘의 날씨는 %s 입니다.\" % (18, \"맑음\"))\n",
    "\n",
    "# 나눗셈의 결과: 3 / 5 = 0.6 입니다.\n",
    "print(\"%s의 결과: %d %c %d = %.1f 입니다.\" % (\"나눗셈\", 3, '/', 5, 3/5))\n",
    "\n",
    "print(\"----------------------------\")\n",
    "\n",
    "# format() 이용하는 방법\n",
    "print(\"{}의 결과: {} {} {} = {} 입니다.\".format(\"나눗셈\", 3, '/', 5, 3/5))\n",
    "\n",
    "print(\"{3}의 결과: {0} {1} {2} = {4} 입니다.\".format( 3, '/', 5, \"나눗셈\", 3/5))\n",
    "\n",
    "print(\"{title}의 결과: {num1} {op} {num2} = {result} 입니다.\".\n",
    "      format( num1 = 3, op = '/', num2 = 5, title = \"나눗셈\", result = 3 / 5 ))\n",
    "\n",
    "print(\"{3:10}의 결과: {0} {1} {2} = {4} 입니다.\".format( 3, '/', 5, \"나눗셈\", 3/5))\n",
    "\n",
    "print(\"{3:*>10}의 결과: {0} {1} {2} = {4} 입니다.\".format( 3, '/', 5, \"나눗셈\", 3/5))\n",
    "\n",
    "print(\"{3:*<10}의 결과: {0} {1} {2} = {4} 입니다.\".format( 3, '/', 5, \"나눗셈\", 3/5))"
   ]
  },
  {
   "cell_type": "markdown",
   "id": "746d627a",
   "metadata": {},
   "source": [
    "## (2) Bool|"
   ]
  },
  {
   "cell_type": "code",
   "execution_count": 80,
   "id": "0d30aab5",
   "metadata": {},
   "outputs": [
    {
     "name": "stdout",
     "output_type": "stream",
     "text": [
      "True\n",
      "<class 'bool'>\n",
      "----------------------------\n",
      "True True True False\n",
      "True True True False False\n"
     ]
    }
   ],
   "source": [
    "a = True\n",
    "print(a)\n",
    "print(type(a))\n",
    "\n",
    "print(\"----------------------------\")\n",
    "\n",
    "print(bool(10), bool(3.14), bool(-2), bool(0))\n",
    "print(bool('가'), bool('가나다'), bool(' '), bool(''), bool(None))"
   ]
  },
  {
   "cell_type": "markdown",
   "id": "935667da",
   "metadata": {},
   "source": [
    "## (1) List\n",
    "\n",
    "+ [] 사용\n",
    "+ 임의의 객체를 순차적으로 저장하는 집합 자료형(Sequence Data)\n",
    "+ 인덱스 사용가능\n",
    "+ mutable"
   ]
  },
  {
   "cell_type": "code",
   "execution_count": 7,
   "id": "e41c1d9e",
   "metadata": {},
   "outputs": [
    {
     "name": "stdout",
     "output_type": "stream",
     "text": [
      "10 11 12\n",
      "[10, 11, 12]\n",
      "<class 'int'> <class 'list'>\n",
      "10 11 12\n",
      "['james', 178, 3.14, True]\n"
     ]
    }
   ],
   "source": [
    "#a = 10\n",
    "#b = 11\n",
    "#c = 12\n",
    "\n",
    "a, b, c = 10, 11, 12\n",
    "print(a, b, c)\n",
    "\n",
    "d = [10, 11, 12]\n",
    "print(d)\n",
    "\n",
    "print(type(a), type(d))\n",
    "\n",
    "print(d[0], d[1], d[2])\n",
    "\n",
    "e = [\"james\", 178, 3.14, True] #다른 자료형을 같이 사용할 수 있음\n",
    "print(e)\n"
   ]
  },
  {
   "cell_type": "code",
   "execution_count": 11,
   "id": "22448eac",
   "metadata": {},
   "outputs": [
    {
     "name": "stdout",
     "output_type": "stream",
     "text": [
      "[1, 2, 3, '가', 3.14, ['a', 'b', 'c']]\n",
      "['a', 'b', 'c']\n",
      "a\n",
      "a\n"
     ]
    }
   ],
   "source": [
    "# 인덱싱\n",
    "\n",
    "a = [1, 2, 3, \"가\", 3.14, ['a', 'b', 'c']]\n",
    "print(a)\n",
    "print(a[5])\n",
    "print(a[5][0])\n",
    "print(a[-1][-3])"
   ]
  },
  {
   "cell_type": "code",
   "execution_count": 17,
   "id": "9e9c06ac",
   "metadata": {},
   "outputs": [
    {
     "name": "stdout",
     "output_type": "stream",
     "text": [
      "[1, 2, 3, 4, 5]\n",
      "[99, 2, 3, 4, 5]\n",
      "[99, 88, 3, 4, 5]\n",
      "---------------------------------\n",
      "[1, 2, 3, 4, 5]\n",
      "[99, 2, 3, 4, 5]\n"
     ]
    }
   ],
   "source": [
    "# 복사 (얕은 복사, 깊은 복사)\n",
    "\n",
    "a = [1, 2, 3, 4, 5]\n",
    "b = a\n",
    "print(b)\n",
    "\n",
    "a[0] = 99\n",
    "print(b)\n",
    "\n",
    "b[1] = 88\n",
    "print(a)\n",
    "\n",
    "print(\"---------------------------------\")\n",
    "\n",
    "a = [1, 2, 3, 4, 5]\n",
    "#b = a[0:5]\n",
    "b = a[:]\n",
    "\n",
    "a[0] = 99\n",
    "print(b)\n",
    "\n",
    "b[1] = 88\n",
    "print(a)"
   ]
  },
  {
   "cell_type": "code",
   "execution_count": 20,
   "id": "d2d3e095",
   "metadata": {},
   "outputs": [
    {
     "name": "stdout",
     "output_type": "stream",
     "text": [
      "<class 'list'>\n",
      "<class 'list'>\n"
     ]
    }
   ],
   "source": [
    "# list 생성\n",
    "\n",
    "a = []\n",
    "b = list()\n",
    "\n",
    "print(type(a))\n",
    "print(type(b))"
   ]
  },
  {
   "cell_type": "code",
   "execution_count": 26,
   "id": "dfc70355",
   "metadata": {},
   "outputs": [
    {
     "name": "stdout",
     "output_type": "stream",
     "text": [
      "10 <class 'int'>\n",
      "10 <class 'str'>\n",
      "10.0 <class 'float'>\n",
      "True <class 'bool'>\n",
      "['1', '0'] <class 'list'>\n",
      "['10'] <class 'list'>\n"
     ]
    }
   ],
   "source": [
    "# 각 자료형 함수\n",
    "\n",
    "a = '10'\n",
    "\n",
    "print(int(a), type(int(a)))\n",
    "print(str(a), type(str(a)))\n",
    "print(float(a), type(float(a)))\n",
    "print(bool(a), type(bool(a)))\n",
    "\n",
    "print(list(a), type(list(a)))\n",
    "print(list([a]), type(list([a])))"
   ]
  },
  {
   "cell_type": "code",
   "execution_count": 34,
   "id": "eb64a335",
   "metadata": {},
   "outputs": [
    {
     "name": "stdout",
     "output_type": "stream",
     "text": [
      "[1, 2, 3]\n",
      "[1, 2, 3]\n",
      "[0, 1, 2, 3, 4, 5, 6, 7, 8, 9]\n",
      "[0, 1, 2, 3, 4, 5, 6, 7, 8, 9]\n",
      "[0, 1, 2, 3, 4, 5, 6, 7, 8, 9]\n",
      "[5, 6, 7, 8, 9, 10, 11]\n",
      "[-4, -3, -2, -1, 0, 1, 2, 3, 4, 5, 6, 7, 8, 9, 10, 11, 12]\n",
      "[10, 9, 8, 7, 6, 5, 4, 3, 2, 1]\n"
     ]
    }
   ],
   "source": [
    "# list 초기화\n",
    "\n",
    "a = [1, 2, 3]\n",
    "print(a)\n",
    "\n",
    "a = list([1, 2, 3])\n",
    "print(a)\n",
    "\n",
    "a = list(range(0, 10))\n",
    "print(a)\n",
    "\n",
    "a = list(range(10))\n",
    "print(a)\n",
    "\n",
    "a = list(range(0, 10, 1))\n",
    "print(a)\n",
    "\n",
    "a = list(range(5, 12))\n",
    "print(a)\n",
    "\n",
    "a = list(range(-4, 13))\n",
    "print(a)\n",
    "\n",
    "a = list(range(10, 0, -1))\n",
    "print(a)"
   ]
  },
  {
   "cell_type": "code",
   "execution_count": 41,
   "id": "68a6e396",
   "metadata": {},
   "outputs": [
    {
     "name": "stdout",
     "output_type": "stream",
     "text": [
      "[1, 2, 3, 4, 5, 6]\n",
      "[1, 2, 3, 1, 2, 3, 1, 2, 3]\n",
      "7\n",
      "2hi!\n",
      "2 hi!\n"
     ]
    }
   ],
   "source": [
    "# 연산 기능\n",
    "a = [1, 2, 3]\n",
    "b = [4, 5, 6]\n",
    "\n",
    "print(a + b)\n",
    "print(a * 3)\n",
    "print(a[0] + b[2])\n",
    "print(str(a[1]) + \"hi!\")\n",
    "print(a[1], \"hi!\")"
   ]
  },
  {
   "cell_type": "code",
   "execution_count": 50,
   "id": "3a4914b2",
   "metadata": {},
   "outputs": [
    {
     "name": "stdout",
     "output_type": "stream",
     "text": [
      "[1, 2, 3]\n",
      "[100, 1, 2, 3]\n",
      "[100, 1, 2, 3, 4]\n",
      "[100, 1, 2, 3, 4, 5]\n",
      "[100, 1, 2, 3, 4, 5, [6, 7, 8]]\n",
      "[100, 1, 2, 3, 4, 5, [6, 7, 8], 6, 7, 8]\n",
      "[100, 1, 2, 3, 4, 5, [6, 7, 8], 6, 7, 8, 9, 10, 11]\n"
     ]
    }
   ],
   "source": [
    "# 추가하기: insert(), append(), extend()\n",
    "\n",
    "a = [1, 2, 3]\n",
    "print(a)\n",
    "\n",
    "a.insert(0, 100)\n",
    "print(a)\n",
    "\n",
    "a.append(4)\n",
    "print(a)\n",
    "\n",
    "a.extend([5])\n",
    "print(a)\n",
    "\n",
    "a.append([6, 7, 8])\n",
    "print(a)\n",
    "\n",
    "a.extend([6, 7, 8])\n",
    "print(a)\n",
    "\n",
    "a.extend([9, 10, 11])\n",
    "print(a)"
   ]
  },
  {
   "cell_type": "code",
   "execution_count": 59,
   "id": "6d1b6af4",
   "metadata": {},
   "outputs": [
    {
     "name": "stdout",
     "output_type": "stream",
     "text": [
      "[1, 4, 3, 2]\n",
      "[1, 2, 3, 4]\n",
      "--------------------\n",
      "[1, 2, 3, 4]\n",
      "[1, 4, 3, 2]\n",
      "--------------------\n",
      "[1, 2, 3, 4]\n",
      "[4, 3, 2, 1]\n"
     ]
    }
   ],
   "source": [
    "# 정렬 기능\n",
    "a = [1, 4, 3, 2]\n",
    "print(a)\n",
    "\n",
    "a.sort() # 원본에서 처리\n",
    "print(a)\n",
    "\n",
    "print(\"--------------------\")\n",
    "\n",
    "a = [1, 4, 3, 2]\n",
    "print(sorted(a)) # 복사본에서 처리\n",
    "print(a)\n",
    "\n",
    "print(\"--------------------\")\n",
    "\n",
    "a = sorted(a)\n",
    "print(a)\n",
    "\n",
    "a.reverse()\n",
    "print(a)"
   ]
  },
  {
   "cell_type": "code",
   "execution_count": 65,
   "id": "9388f424",
   "metadata": {},
   "outputs": [
    {
     "name": "stdout",
     "output_type": "stream",
     "text": [
      "3\n",
      "5\n",
      "True\n",
      "True\n",
      "False\n"
     ]
    }
   ],
   "source": [
    "# 검색기능: index(), in\n",
    "\n",
    "a = [1, 2, 3, 4, 5, '홍길동', '111-1111']\n",
    "\n",
    "print(a.index(4))\n",
    "print(a.index('홍길동'))\n",
    "# print(a.index('이순신')) # 예외처리\n",
    "\n",
    "print(5 in a)\n",
    "print(\"홍길동\" in a)\n",
    "print(100 in a)"
   ]
  },
  {
   "cell_type": "code",
   "execution_count": 76,
   "id": "2c33b5be",
   "metadata": {},
   "outputs": [
    {
     "name": "stdout",
     "output_type": "stream",
     "text": [
      "[2, 3]\n",
      "[1, 1, 2, 3]\n",
      "-------------------------\n",
      "[1, 2, 1, 2, 3]\n",
      "-------------------------\n",
      "[1, 2, 3, 1, 3]\n",
      "-------------------------\n",
      "[]\n"
     ]
    }
   ],
   "source": [
    "# 제거\n",
    "\n",
    "#범위를 지정해서 제거\n",
    "a = [1, 2, 3, 1, 2, 3]\n",
    "print(a[1:3])\n",
    "a[1:3] = []\n",
    "print(a)\n",
    "\n",
    "print(\"-------------------------\")\n",
    "\n",
    "# 값을 찾아서 삭제\n",
    "a = [1, 2, 3, 1, 2, 3]\n",
    "a.remove(3)\n",
    "print(a)\n",
    "\n",
    "print(\"-------------------------\")\n",
    "\n",
    "# 위치를 찾아서 삭제\n",
    "a = [1, 2, 3, 1, 2, 3]\n",
    "del a[4]\n",
    "print(a)\n",
    "\n",
    "print(\"-------------------------\")\n",
    "\n",
    "# 전체 데이터 삭제\n",
    "a = [1, 2, 3, 1, 2, 3]\n",
    "a[:] = []\n",
    "print(a)\n",
    "\n",
    "del a      # 변수 자체를 삭제\n",
    "#print(a)   # 삭제 되어서 출력 되지 않음"
   ]
  },
  {
   "cell_type": "code",
   "execution_count": 78,
   "id": "ec58a903",
   "metadata": {},
   "outputs": [
    {
     "name": "stdout",
     "output_type": "stream",
     "text": [
      "[1, 2]\n",
      "3\n"
     ]
    }
   ],
   "source": [
    "# 스택(Stack)\n",
    "a = [1, 2, 3]\n",
    "b = a.pop()\n",
    "print(a)\n",
    "print(b)"
   ]
  },
  {
   "cell_type": "markdown",
   "id": "c9e8d7c1",
   "metadata": {},
   "source": [
    "### (4) Tuple\n",
    "+ ( )\n",
    "+ immutable"
   ]
  },
  {
   "cell_type": "code",
   "execution_count": 85,
   "id": "0f2735ac",
   "metadata": {},
   "outputs": [
    {
     "name": "stdout",
     "output_type": "stream",
     "text": [
      "('a', 'b', 'c', 'd', 'b')\n",
      "<class 'tuple'>\n",
      "5\n",
      "2\n",
      "2\n",
      "-------------------------\n",
      "['a', 10, 'c', 'd', 'b']\n",
      "('a', 10, 'c', 'd', 'b')\n"
     ]
    }
   ],
   "source": [
    "a = ('a', 'b', 'c', 'd', 'b')\n",
    "print(a)\n",
    "print(type(a))\n",
    "\n",
    "print(len(a))\n",
    "print(a.index('c'))\n",
    "print(a.count('b'))   # 특정 데이터의 개수\n",
    "\n",
    "print(\"-------------------------\")\n",
    "\n",
    "#a[1] = 10    # 불가\n",
    "b = list(a)\n",
    "b[1] = 10\n",
    "print(b)\n",
    "\n",
    "c = tuple(b)\n",
    "print(c)"
   ]
  },
  {
   "cell_type": "code",
   "execution_count": 89,
   "id": "2f45bdd7",
   "metadata": {},
   "outputs": [
    {
     "name": "stdout",
     "output_type": "stream",
     "text": [
      "(10, 20, 30)\n",
      "10 20 30\n",
      "-------------------------\n",
      "10 20 30\n"
     ]
    }
   ],
   "source": [
    "# packing과 unpacking \n",
    "\n",
    "a = 10, 20, 30    # packing\n",
    "print(a)\n",
    "\n",
    "a1 = a[0]\n",
    "a2 = a[1]\n",
    "a3 = a[2]\n",
    "print(a1, a2, a3)\n",
    "\n",
    "print(\"-------------------------\")\n",
    "\n",
    "a1, a2, a3 = a     # unpacking\n",
    "print(a1, a2, a3)"
   ]
  },
  {
   "cell_type": "markdown",
   "id": "9f8d2150",
   "metadata": {},
   "source": [
    "### (3) Dict(Dictionary)\n",
    "\n",
    "+ 순서가 없다.\n",
    "+ {키 : 값, ... }\n",
    "+ 검색 용도\n",
    "+ mutable"
   ]
  },
  {
   "cell_type": "code",
   "execution_count": 2,
   "id": "16c2f537",
   "metadata": {},
   "outputs": [
    {
     "name": "stdout",
     "output_type": "stream",
     "text": [
      "{'name': '홍길동', 'tel': '111-1111', 'age': 25}\n",
      "<class 'dict'>\n"
     ]
    }
   ],
   "source": [
    "a = {\"name\": \"홍길동\", \"tel\": \"111-1111\", \"age\": 25}\n",
    "print(a)\n",
    "print(type(a))"
   ]
  },
  {
   "cell_type": "code",
   "execution_count": 99,
   "id": "e1fb25e4",
   "metadata": {},
   "outputs": [
    {
     "name": "stdout",
     "output_type": "stream",
     "text": [
      "홍길동 111-1111 25\n",
      "('홍길동', '111-1111', 25)\n"
     ]
    }
   ],
   "source": [
    "#a[0]  # 인덱스 사용 불가\n",
    "\n",
    "print(a[\"name\"], a[\"tel\"], a[\"age\"])\n",
    "\n",
    "b = a[\"name\"], a[\"tel\"], a[\"age\"]   # packing\n",
    "print(b)"
   ]
  },
  {
   "cell_type": "code",
   "execution_count": 102,
   "id": "c4914386",
   "metadata": {},
   "outputs": [
    {
     "name": "stdout",
     "output_type": "stream",
     "text": [
      "dict_keys(['name', 'tel', 'age'])\n",
      "dict_values(['홍길동', '111-1111', 25])\n",
      "dict_items([('name', '홍길동'), ('tel', '111-1111'), ('age', 25)])\n"
     ]
    }
   ],
   "source": [
    "print(a.keys())\n",
    "print(a.values())\n",
    "print(a.items())"
   ]
  },
  {
   "cell_type": "code",
   "execution_count": 103,
   "id": "e9250ec6",
   "metadata": {},
   "outputs": [
    {
     "name": "stdout",
     "output_type": "stream",
     "text": [
      "[('name', '홍길동'), ('tel', '111-1111'), ('age', 25)]\n",
      "('name', '홍길동')\n",
      "홍길동\n"
     ]
    }
   ],
   "source": [
    "# 반복문을 이용한 자동화를 구현\n",
    "b = list(a.items())\n",
    "print(b)\n",
    "print(b[0])\n",
    "print(b[0][1])"
   ]
  },
  {
   "cell_type": "code",
   "execution_count": 106,
   "id": "18325b2f",
   "metadata": {},
   "outputs": [
    {
     "name": "stdout",
     "output_type": "stream",
     "text": [
      "{'name': '임꺽정', 'tel': '111-1111', 'age': 25}\n",
      "{'name': '임꺽정', 'tel': '111-1111', 'age': 25, 'hobby': ['낚시', '독서', '여행']}\n"
     ]
    }
   ],
   "source": [
    "# 수정\n",
    "\n",
    "a['name'] = \"임꺽정\"\n",
    "print(a)\n",
    "\n",
    "#추가\n",
    "a['hobby'] = [\"낚시\", \"독서\", \"여행\"]\n",
    "print(a)"
   ]
  },
  {
   "cell_type": "code",
   "execution_count": 3,
   "id": "e1ff85e1",
   "metadata": {},
   "outputs": [
    {
     "name": "stdout",
     "output_type": "stream",
     "text": [
      "{'name': '홍길동', 'age': 25}\n"
     ]
    }
   ],
   "source": [
    "# 삭제\n",
    "del a[\"tel\"]\n",
    "print(a)"
   ]
  },
  {
   "cell_type": "code",
   "execution_count": 4,
   "id": "b39fac6e",
   "metadata": {},
   "outputs": [
    {
     "name": "stdout",
     "output_type": "stream",
     "text": [
      "{}\n"
     ]
    }
   ],
   "source": [
    "a.clear()\n",
    "print(a)"
   ]
  },
  {
   "cell_type": "code",
   "execution_count": 8,
   "id": "e31172cb",
   "metadata": {},
   "outputs": [
    {
     "name": "stdout",
     "output_type": "stream",
     "text": [
      "홍길동\n",
      "홍길동\n",
      "None\n",
      "독서\n"
     ]
    }
   ],
   "source": [
    "#데이터 가져오기: get(\"키\", default)\n",
    "\n",
    "a = {\"name\": \"홍길동\", \"tel\": \"111-1111\", \"age\": 25}\n",
    "\n",
    "print(a[\"name\"])\n",
    "print(a.get(\"name\"))\n",
    "\n",
    "#print(a[\"hobby\"])  # 오류발생\n",
    "print(a.get(\"hobby\")) # None 반환\n",
    "print(a.get(\"hobby\", \"독서\"))  # 기본 값 지정 가능"
   ]
  },
  {
   "cell_type": "markdown",
   "id": "3ac97163",
   "metadata": {},
   "source": [
    "### (3) Set\n",
    "\n",
    "+ { }\n",
    "+ 순서가 없다\n",
    "+ 중복 불가"
   ]
  },
  {
   "cell_type": "code",
   "execution_count": 13,
   "id": "87ad1d22",
   "metadata": {},
   "outputs": [
    {
     "name": "stdout",
     "output_type": "stream",
     "text": [
      "{1, 2, 3, 4}\n",
      "<class 'set'>\n"
     ]
    }
   ],
   "source": [
    "a = {1, 2, 3, 4, 2, 4}\n",
    "print(a)\n",
    "print(type(a))"
   ]
  },
  {
   "cell_type": "code",
   "execution_count": 15,
   "id": "791755e4",
   "metadata": {},
   "outputs": [
    {
     "name": "stdout",
     "output_type": "stream",
     "text": [
      "1\n"
     ]
    }
   ],
   "source": [
    "# print(a[0])    # 이런식으로 접근 불가\n",
    "\n",
    "b = list(a)\n",
    "print(b[0])"
   ]
  },
  {
   "cell_type": "code",
   "execution_count": 17,
   "id": "5d003def",
   "metadata": {},
   "outputs": [
    {
     "name": "stdout",
     "output_type": "stream",
     "text": [
      "{1, 2, 3, 4, 5, 6, 7, 8, 9}\n",
      "{4, 5, 6}\n",
      "{1, 2, 3}\n"
     ]
    }
   ],
   "source": [
    "# 집합 연산\n",
    "\n",
    "s1 = {1, 2, 3, 4, 5, 6}\n",
    "s2 = {4, 5, 6, 7, 8, 9}\n",
    "\n",
    "# 합집합\n",
    "print(s1.union(s2))\n",
    "\n",
    "# 교집합\n",
    "print(s1.intersection(s2))\n",
    "\n",
    "# 차집합\n",
    "print(s1.difference(s2))"
   ]
  },
  {
   "cell_type": "markdown",
   "id": "247d8023",
   "metadata": {},
   "source": [
    "+ CRUD"
   ]
  },
  {
   "cell_type": "code",
   "execution_count": 21,
   "id": "bd206137",
   "metadata": {
    "collapsed": true
   },
   "outputs": [
    {
     "name": "stdout",
     "output_type": "stream",
     "text": [
      "{1, 2, 3, 4, 5, 6, 7, 8}\n",
      "{1, 2, 3, 4, 5, 6, 7, 8, 9}\n",
      "{1, 2, 3, 4, 5, 6, 7, 8}\n",
      "{1, 2, 3, 4, 5, 6, 7}\n"
     ]
    }
   ],
   "source": [
    "s1 = {1, 2, 3, 4, 5, 6}\n",
    "\n",
    "# 여러개 추가\n",
    "s1.update({7, 8})\n",
    "print(s1)\n",
    "\n",
    "# 한 개 추가\n",
    "s1.add(9)\n",
    "print(s1)\n",
    "\n",
    "# 삭제\n",
    "s1.remove(9)\n",
    "print(s1)\n",
    "\n",
    "s1.discard(8)\n",
    "print(s1)\n",
    "\n",
    "# s1.remove(10)   # 10이 없어서 에러\n",
    "s1.discard(10)  # 없어도 그냥 넘어감"
   ]
  },
  {
   "cell_type": "code",
   "execution_count": 23,
   "id": "4baea59c",
   "metadata": {},
   "outputs": [
    {
     "name": "stdout",
     "output_type": "stream",
     "text": [
      "[1, 2, 3, 4, 5]\n"
     ]
    }
   ],
   "source": [
    "# quiz: 중복제거\n",
    "data = [1, 2, 3, 4, 4, 5, 2]\n",
    "\n",
    "data = set(data)\n",
    "data = list(data)\n",
    "print(data)"
   ]
  },
  {
   "cell_type": "markdown",
   "id": "068bfee5",
   "metadata": {},
   "source": [
    "## 4. Operator\n",
    "\n",
    "    1) 산술 연산자\n",
    "        * / + - % //(몫) **(제곱)\n",
    "        \n",
    "    2) 비교 연산자\n",
    "        > < >= <= == !=\n",
    "        \n",
    "    3) 논리 연산자\n",
    "        and, or, not\n",
    "      \n",
    "    4) 대입 (치환) 연산자\n",
    "        = += -= /= *= ...\n",
    "        \n",
    "    5) 포함 여부 연산자\n",
    "        in, not in\n",
    "        \n",
    "    6) 비트 연산자\n",
    "        &, |, ^(XOR), ~, >>, <<, ..."
   ]
  },
  {
   "cell_type": "code",
   "execution_count": 28,
   "id": "0c35e304",
   "metadata": {},
   "outputs": [
    {
     "name": "stdout",
     "output_type": "stream",
     "text": [
      "5\n"
     ]
    }
   ],
   "source": [
    "print(10 and 5)"
   ]
  },
  {
   "cell_type": "code",
   "execution_count": 29,
   "id": "01010e7b",
   "metadata": {},
   "outputs": [
    {
     "name": "stdout",
     "output_type": "stream",
     "text": [
      "0\n"
     ]
    }
   ],
   "source": [
    "print(10 & 5)"
   ]
  },
  {
   "cell_type": "raw",
   "id": "a97d3339",
   "metadata": {},
   "source": [
    "  0 0 0 0  1 0 1 0   (10)\n",
    "& 0 0 0 0  0 1 0 1    (5)\n",
    "-------------------------\n",
    "  0 0 0 0  0 0 0 0    (0)"
   ]
  },
  {
   "cell_type": "code",
   "execution_count": 34,
   "id": "ed5ead86",
   "metadata": {},
   "outputs": [
    {
     "name": "stdout",
     "output_type": "stream",
     "text": [
      "암호화: 387127144\n",
      "------------------------------\n",
      "복호화: 648723\n"
     ]
    }
   ],
   "source": [
    "original = 648723\n",
    "key = 387641723\n",
    "\n",
    "encod = original ^ key\n",
    "print(\"암호화:\", encod)\n",
    "\n",
    "print(\"------------------------------\")\n",
    "\n",
    "decode = encod ^ key\n",
    "print(\"복호화:\", decode)"
   ]
  },
  {
   "cell_type": "code",
   "execution_count": null,
   "id": "d69605f4",
   "metadata": {},
   "outputs": [],
   "source": []
  }
 ],
 "metadata": {
  "kernelspec": {
   "display_name": "Python 3 (ipykernel)",
   "language": "python",
   "name": "python3"
  },
  "language_info": {
   "codemirror_mode": {
    "name": "ipython",
    "version": 3
   },
   "file_extension": ".py",
   "mimetype": "text/x-python",
   "name": "python",
   "nbconvert_exporter": "python",
   "pygments_lexer": "ipython3",
   "version": "3.9.12"
  }
 },
 "nbformat": 4,
 "nbformat_minor": 5
}
