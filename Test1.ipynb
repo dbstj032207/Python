{
 "cells": [
  {
   "cell_type": "code",
   "execution_count": 11,
   "id": "c5b5ca70",
   "metadata": {},
   "outputs": [
    {
     "name": "stdout",
     "output_type": "stream",
     "text": [
      "교환할 돈은 얼마입니까? : 2763\n",
      "오백원짜리 ===> 5개\n",
      "백원짜리 ===> 2개\n",
      "오십원짜리 ===> 1개\n",
      "십원짜리 ===> 1개\n",
      "나머지 바꾸지 못한 잔돈 ===> 3원\n"
     ]
    }
   ],
   "source": [
    "money = int(input(\"교환할 돈은 얼마입니까? : \"))\n",
    "\n",
    "coin_500 = money // 500\n",
    "money = money % 500\n",
    "\n",
    "coin_100 = money // 100\n",
    "money = money % 100\n",
    "\n",
    "coin_50 = money // 50\n",
    "money = money % 50\n",
    "\n",
    "coin_10 = money // 10\n",
    "money = money % 10\n",
    "\n",
    "    \n",
    "print(\"오백원짜리 ===> %s개\" % coin_500)\n",
    "print(\"백원짜리 ===> %s개\" % coin_100)\n",
    "print(\"오십원짜리 ===> %s개\" % coin_50)\n",
    "print(\"십원짜리 ===> %s개\" % coin_10)\n",
    "print(\"나머지 바꾸지 못한 잔돈 ===> %s원\" % money)"
   ]
  },
  {
   "cell_type": "code",
   "execution_count": 17,
   "id": "33303a0f",
   "metadata": {},
   "outputs": [
    {
     "name": "stdout",
     "output_type": "stream",
     "text": [
      "연도를 입력 : 2019\n",
      "윤년이 아닙니다.\n"
     ]
    }
   ],
   "source": [
    "result=\"\"\n",
    "year = int(input(\"연도를 입력 : \"))\n",
    "if(year % 4 == 0) :\n",
    "    if(year % 100 == 0) :\n",
    "        if(year % 400 == 0) :\n",
    "            result = \"윤년입니다.\"\n",
    "        else:\n",
    "            result = \"윤년이 아닙니다.\"\n",
    "    else:\n",
    "        result = \"윤년입니다.\"\n",
    "        \n",
    "else:\n",
    "    result = \"윤년이 아닙니다.\"\n",
    "print(result)"
   ]
  },
  {
   "cell_type": "code",
   "execution_count": 19,
   "id": "fc269ab6",
   "metadata": {},
   "outputs": [
    {
     "name": "stdout",
     "output_type": "stream",
     "text": [
      "연산자 : +\n",
      "숫자1 : 10\n",
      "숫자2 : 15\n",
      "결과 : 10 + 15 = 25\n"
     ]
    }
   ],
   "source": [
    "op = input(\"연산자 : \")\n",
    "num1 = int(input(\"숫자1 : \"))\n",
    "num2 = int(input(\"숫자2 : \"))\n",
    "\n",
    "result = 0\n",
    "\n",
    "if op == '+':\n",
    "    result = num1 + num2\n",
    "elif op == '-':\n",
    "    result = num1 - num2\n",
    "elif op == '*':\n",
    "    result = num1 * num2\n",
    "elif op == '/':\n",
    "    result = num1 / num2\n",
    "\n",
    "print(\"결과 : %d %c %d = %s\" % (num1, op, num2, result) )"
   ]
  },
  {
   "cell_type": "code",
   "execution_count": 20,
   "id": "32e7df35",
   "metadata": {},
   "outputs": [
    {
     "name": "stdout",
     "output_type": "stream",
     "text": [
      "친구관리 프로그램\n",
      "===========================\n",
      "1.친구 리스트 출력\n",
      "2.친구 추가\n",
      "3.친구 삭제\n",
      "4.이름 변경\n",
      "9.종료\n",
      "메뉴를 선택: 1\n",
      "[]\n",
      "----------------------------\n",
      "1.친구 리스트 출력\n",
      "2.친구 추가\n",
      "3.친구 삭제\n",
      "4.이름 변경\n",
      "9.종료\n"
     ]
    },
    {
     "ename": "KeyboardInterrupt",
     "evalue": "Interrupted by user",
     "output_type": "error",
     "traceback": [
      "\u001b[1;31m---------------------------------------------------------------------------\u001b[0m",
      "\u001b[1;31mKeyboardInterrupt\u001b[0m                         Traceback (most recent call last)",
      "Input \u001b[1;32mIn [20]\u001b[0m, in \u001b[0;36m<cell line: 5>\u001b[1;34m()\u001b[0m\n\u001b[0;32m      8\u001b[0m \u001b[38;5;28mprint\u001b[39m(\u001b[38;5;124m\"\u001b[39m\u001b[38;5;124m4.이름 변경\u001b[39m\u001b[38;5;124m\"\u001b[39m)\n\u001b[0;32m      9\u001b[0m \u001b[38;5;28mprint\u001b[39m(\u001b[38;5;124m\"\u001b[39m\u001b[38;5;124m9.종료\u001b[39m\u001b[38;5;124m\"\u001b[39m)\n\u001b[1;32m---> 10\u001b[0m menu \u001b[38;5;241m=\u001b[39m \u001b[38;5;28;43minput\u001b[39;49m\u001b[43m(\u001b[49m\u001b[38;5;124;43m\"\u001b[39;49m\u001b[38;5;124;43m메뉴를 선택: \u001b[39;49m\u001b[38;5;124;43m\"\u001b[39;49m\u001b[43m)\u001b[49m\n\u001b[0;32m     11\u001b[0m \u001b[38;5;28;01mif\u001b[39;00m(menu \u001b[38;5;241m==\u001b[39m \u001b[38;5;124m'\u001b[39m\u001b[38;5;124m9\u001b[39m\u001b[38;5;124m'\u001b[39m):\n\u001b[0;32m     12\u001b[0m     \u001b[38;5;28;01mbreak\u001b[39;00m\n",
      "File \u001b[1;32m~\\anaconda3\\lib\\site-packages\\ipykernel\\kernelbase.py:1075\u001b[0m, in \u001b[0;36mKernel.raw_input\u001b[1;34m(self, prompt)\u001b[0m\n\u001b[0;32m   1071\u001b[0m \u001b[38;5;28;01mif\u001b[39;00m \u001b[38;5;129;01mnot\u001b[39;00m \u001b[38;5;28mself\u001b[39m\u001b[38;5;241m.\u001b[39m_allow_stdin:\n\u001b[0;32m   1072\u001b[0m     \u001b[38;5;28;01mraise\u001b[39;00m StdinNotImplementedError(\n\u001b[0;32m   1073\u001b[0m         \u001b[38;5;124m\"\u001b[39m\u001b[38;5;124mraw_input was called, but this frontend does not support input requests.\u001b[39m\u001b[38;5;124m\"\u001b[39m\n\u001b[0;32m   1074\u001b[0m     )\n\u001b[1;32m-> 1075\u001b[0m \u001b[38;5;28;01mreturn\u001b[39;00m \u001b[38;5;28;43mself\u001b[39;49m\u001b[38;5;241;43m.\u001b[39;49m\u001b[43m_input_request\u001b[49m\u001b[43m(\u001b[49m\n\u001b[0;32m   1076\u001b[0m \u001b[43m    \u001b[49m\u001b[38;5;28;43mstr\u001b[39;49m\u001b[43m(\u001b[49m\u001b[43mprompt\u001b[49m\u001b[43m)\u001b[49m\u001b[43m,\u001b[49m\n\u001b[0;32m   1077\u001b[0m \u001b[43m    \u001b[49m\u001b[38;5;28;43mself\u001b[39;49m\u001b[38;5;241;43m.\u001b[39;49m\u001b[43m_parent_ident\u001b[49m\u001b[43m[\u001b[49m\u001b[38;5;124;43m\"\u001b[39;49m\u001b[38;5;124;43mshell\u001b[39;49m\u001b[38;5;124;43m\"\u001b[39;49m\u001b[43m]\u001b[49m\u001b[43m,\u001b[49m\n\u001b[0;32m   1078\u001b[0m \u001b[43m    \u001b[49m\u001b[38;5;28;43mself\u001b[39;49m\u001b[38;5;241;43m.\u001b[39;49m\u001b[43mget_parent\u001b[49m\u001b[43m(\u001b[49m\u001b[38;5;124;43m\"\u001b[39;49m\u001b[38;5;124;43mshell\u001b[39;49m\u001b[38;5;124;43m\"\u001b[39;49m\u001b[43m)\u001b[49m\u001b[43m,\u001b[49m\n\u001b[0;32m   1079\u001b[0m \u001b[43m    \u001b[49m\u001b[43mpassword\u001b[49m\u001b[38;5;241;43m=\u001b[39;49m\u001b[38;5;28;43;01mFalse\u001b[39;49;00m\u001b[43m,\u001b[49m\n\u001b[0;32m   1080\u001b[0m \u001b[43m\u001b[49m\u001b[43m)\u001b[49m\n",
      "File \u001b[1;32m~\\anaconda3\\lib\\site-packages\\ipykernel\\kernelbase.py:1120\u001b[0m, in \u001b[0;36mKernel._input_request\u001b[1;34m(self, prompt, ident, parent, password)\u001b[0m\n\u001b[0;32m   1117\u001b[0m             \u001b[38;5;28;01mbreak\u001b[39;00m\n\u001b[0;32m   1118\u001b[0m \u001b[38;5;28;01mexcept\u001b[39;00m \u001b[38;5;167;01mKeyboardInterrupt\u001b[39;00m:\n\u001b[0;32m   1119\u001b[0m     \u001b[38;5;66;03m# re-raise KeyboardInterrupt, to truncate traceback\u001b[39;00m\n\u001b[1;32m-> 1120\u001b[0m     \u001b[38;5;28;01mraise\u001b[39;00m \u001b[38;5;167;01mKeyboardInterrupt\u001b[39;00m(\u001b[38;5;124m\"\u001b[39m\u001b[38;5;124mInterrupted by user\u001b[39m\u001b[38;5;124m\"\u001b[39m) \u001b[38;5;28;01mfrom\u001b[39;00m \u001b[38;5;28mNone\u001b[39m\n\u001b[0;32m   1121\u001b[0m \u001b[38;5;28;01mexcept\u001b[39;00m \u001b[38;5;167;01mException\u001b[39;00m:\n\u001b[0;32m   1122\u001b[0m     \u001b[38;5;28mself\u001b[39m\u001b[38;5;241m.\u001b[39mlog\u001b[38;5;241m.\u001b[39mwarning(\u001b[38;5;124m\"\u001b[39m\u001b[38;5;124mInvalid Message:\u001b[39m\u001b[38;5;124m\"\u001b[39m, exc_info\u001b[38;5;241m=\u001b[39m\u001b[38;5;28;01mTrue\u001b[39;00m)\n",
      "\u001b[1;31mKeyboardInterrupt\u001b[0m: Interrupted by user"
     ]
    }
   ],
   "source": [
    "print(\"친구관리 프로그램\")\n",
    "print(\"===========================\")\n",
    "f_list = []\n",
    "while(1):\n",
    "    print(\"1.친구 리스트 출력\")\n",
    "    print(\"2.친구 추가\")\n",
    "    print(\"3.친구 삭제\")\n",
    "    print(\"4.이름 변경\")\n",
    "    print(\"9.종료\")\n",
    "    menu = input(\"메뉴를 선택: \")\n",
    "    if(menu == '9'):\n",
    "        break\n",
    "    elif(menu == '1'):\n",
    "        print(f_list)\n",
    "    elif(menu == '2'):\n",
    "        a_name = input(\"이름을 입력: \")\n",
    "        f_list.append(a_name)\n",
    "    elif(menu == '3'):\n",
    "        d_name = input(\"삭제할 이름 입력: \")\n",
    "        f_list.remove(d_name)\n",
    "    elif(menu == '4'):\n",
    "        m_name = input(\"변경할 이름 선택: \")\n",
    "        n_name = input(\"변경하고 싶은 이름 입력: \")\n",
    "        m_index = f_list.index(m_name)\n",
    "        f_list[m_index] = n_name\n",
    "    else:\n",
    "        print(\"올바른 값을 입력하시오\")\n",
    "    print(\"----------------------------\")"
   ]
  },
  {
   "cell_type": "code",
   "execution_count": 25,
   "id": "13754eb5",
   "metadata": {},
   "outputs": [
    {
     "name": "stdout",
     "output_type": "stream",
     "text": [
      "최대값: 99\n",
      "최소값: 1\n"
     ]
    }
   ],
   "source": [
    "a = [22, 1, 3, 4, 7, 98, 21, 55, 87, 99, 19, 20, 45]\n",
    "\n",
    "max = a[0]\n",
    "min = a[0]\n",
    "\n",
    "for i in a:\n",
    "    if(i > max):\n",
    "        max = i\n",
    "    if(i < min):\n",
    "        min = i\n",
    "        \n",
    "print(\"최대값:\", max)\n",
    "print(\"최소값:\", min)"
   ]
  },
  {
   "cell_type": "code",
   "execution_count": 29,
   "id": "08b2bf25",
   "metadata": {},
   "outputs": [
    {
     "name": "stdout",
     "output_type": "stream",
     "text": [
      "['AD', 'AE', 'AA', 'BD', 'BE', 'BA', 'CD', 'CE', 'CA']\n",
      "------------------------------------------------------\n",
      "['AD', 'AE', 'AA', 'BD', 'BE', 'BA', 'CD', 'CE', 'CA']\n"
     ]
    }
   ],
   "source": [
    "c1 = [\"A\", \"B\", \"C\"]\n",
    "c2 = [\"D\", \"E\", \"A\"]\n",
    "\n",
    "result = []\n",
    "for i in c1:\n",
    "    for j in c2:\n",
    "        temp = i + j\n",
    "        result.append(temp)\n",
    "print(result)\n",
    "\n",
    "print(\"------------------------------------------------------\")\n",
    "\n",
    "result = [row + col for row in c1 for col in c2]\n",
    "print(result)"
   ]
  },
  {
   "cell_type": "code",
   "execution_count": 30,
   "id": "478666d9",
   "metadata": {},
   "outputs": [
    {
     "name": "stdout",
     "output_type": "stream",
     "text": [
      "1.5\n",
      "3.0\n"
     ]
    }
   ],
   "source": [
    "def avg_numbers(*args):\n",
    "    sum = 0\n",
    "    for i in args:\n",
    "        sum += i\n",
    "    avg = sum / len(args)\n",
    "    print(avg)\n",
    "\n",
    "avg_numbers(1, 2)  # 1.5  출력\n",
    "avg_numbers(1, 2, 3, 4, 5)  # 3.0  출력"
   ]
  },
  {
   "cell_type": "code",
   "execution_count": 33,
   "id": "6c47f360",
   "metadata": {},
   "outputs": [
    {
     "name": "stdout",
     "output_type": "stream",
     "text": [
      "Life is too short\n"
     ]
    }
   ],
   "source": [
    "f = open(\"test.txt\", \"w\")\n",
    "\n",
    "f.write(\"Life is too short\")\n",
    "\n",
    "f.close()\n",
    "\n",
    "f = open(\"test.txt\", \"r\")\n",
    "print(f.readline())\n",
    "\n",
    "f.close()"
   ]
  },
  {
   "cell_type": "code",
   "execution_count": 36,
   "id": "506cf269",
   "metadata": {},
   "outputs": [
    {
     "name": "stdout",
     "output_type": "stream",
     "text": [
      "3개\n",
      "3개\n",
      "3개\n",
      "3개\n"
     ]
    }
   ],
   "source": [
    "class Counter:\n",
    "    m_cnt = 0\n",
    "    \n",
    "    def __init__(self):\n",
    "        Counter.m_cnt += 1\n",
    "\n",
    "    @staticmethod\n",
    "    def printCount():\n",
    "        print(\"%s개\" % Counter.m_cnt)\n",
    "\n",
    "\n",
    "a, b, c, = Counter(), Counter(), Counter()\n",
    "\n",
    "a.printCount() \n",
    "b.printCount() \n",
    "c.printCount()  \n",
    "\n",
    "Counter.printCount()"
   ]
  },
  {
   "cell_type": "code",
   "execution_count": 37,
   "id": "a4e0e405",
   "metadata": {},
   "outputs": [
    {
     "name": "stdout",
     "output_type": "stream",
     "text": [
      "사번 :  1111\n",
      "이름 :  홍길동\n",
      "급여 :  1000000\n",
      "취미 :  ['여행', '낚시', '운동']\n",
      "---------------------------------\n",
      "인원수 :  3\n",
      "---------------------------------\n",
      "사번 :  1113\n",
      "이름 :  신돌석\n",
      "급여 :  2000000\n",
      "취미 :  ['독서', '피아노', '드론']\n",
      "---------------------------------\n"
     ]
    }
   ],
   "source": [
    "class Employee:\n",
    "    m_cnt = 0\n",
    "    empno = int()\n",
    "    name = str()\n",
    "    salary = int()\n",
    "    hobbies = []\n",
    "    \n",
    "    def __init__(self, empno=0, name=None, salary=0, hobbies=None):\n",
    "        Employee.m_cnt += 1\n",
    "        self.empno = empno\n",
    "        self.name = name\n",
    "        self.salary = salary\n",
    "        self.hobbies = hobbies\n",
    "    \n",
    "    def display(self):\n",
    "        print(\"사번 : \", self.empno)\n",
    "        print(\"이름 : \", self.name)\n",
    "        print(\"급여 : \", self.salary)\n",
    "        print(\"취미 : \", self.hobbies)\n",
    "        print(\"---------------------------------\")\n",
    "        \n",
    "    @staticmethod\n",
    "    def getCount():\n",
    "        return Employee.m_cnt\n",
    "    \n",
    "    def setSalary(self, salary):\n",
    "        self.salary = salary\n",
    "        \n",
    "    def appendHobby(self, *hobby):\n",
    "        for i in hobby:\n",
    "            self.hobbies.append(i)\n",
    "        \n",
    "e1 = Employee(1111, \"홍길동\", 1000000, [\"여행\", \"낚시\", \"운동\"])\n",
    "e1.display()\n",
    "\n",
    "e2 = Employee(1112, \"임꺽정\", 1200000, [\"자전거\", \"볼링\"])\n",
    "e3 = Employee(1113, \"신돌석\", 1400000, [\"독서\"])\n",
    "\n",
    "total = Employee.getCount()\n",
    "print(\"인원수 : \", total)\n",
    "\n",
    "print(\"---------------------------------\")\n",
    "\n",
    "e3.setSalary(2000000)\n",
    "e3.appendHobby(\"피아노\", \"드론\")\n",
    "e3.display()"
   ]
  },
  {
   "cell_type": "code",
   "execution_count": null,
   "id": "5203bcf8",
   "metadata": {},
   "outputs": [],
   "source": []
  }
 ],
 "metadata": {
  "kernelspec": {
   "display_name": "Python 3 (ipykernel)",
   "language": "python",
   "name": "python3"
  },
  "language_info": {
   "codemirror_mode": {
    "name": "ipython",
    "version": 3
   },
   "file_extension": ".py",
   "mimetype": "text/x-python",
   "name": "python",
   "nbconvert_exporter": "python",
   "pygments_lexer": "ipython3",
   "version": "3.9.12"
  }
 },
 "nbformat": 4,
 "nbformat_minor": 5
}
