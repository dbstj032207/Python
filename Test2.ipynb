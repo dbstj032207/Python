{
 "cells": [
  {
   "cell_type": "code",
   "execution_count": 1,
   "id": "a6d76c79",
   "metadata": {},
   "outputs": [
    {
     "name": "stdout",
     "output_type": "stream",
     "text": [
      "100\n"
     ]
    }
   ],
   "source": [
    "class Calculator:\n",
    "    def __init__(self):\n",
    "        self.value = 0\n",
    "\n",
    "    def add(self, val):\n",
    "        self.value += val\n",
    "        \n",
    "class MaxLimitCalculator(Calculator):\n",
    "    def add(self, val):\n",
    "        self.value += val\n",
    "        if self.value > 100:\n",
    "            self.value = 100\n",
    "            \n",
    "cal = MaxLimitCalculator()\n",
    "cal.add(50) # 50 더하기\n",
    "cal.add(60) # 60 더하기\n",
    "\n",
    "print(cal.value) # 100을 출력"
   ]
  },
  {
   "cell_type": "code",
   "execution_count": 6,
   "id": "22d9cb25",
   "metadata": {},
   "outputs": [
    {
     "name": "stdout",
     "output_type": "stream",
     "text": [
      "[1, 3, 8]\n",
      "----------------------------------\n",
      "[1, 3, 8]\n"
     ]
    }
   ],
   "source": [
    "data = [1, -2, 3, -5, 8, -3]\n",
    "\n",
    "def minus_remove(data):\n",
    "    for i in data:\n",
    "        if(i < 0):\n",
    "            data.remove(i)\n",
    "            \n",
    "minus_remove(data)\n",
    "print(data)\n",
    "\n",
    "print(\"----------------------------------\")\n",
    "\n",
    "data = [1, -2, 3, -5, 8, -3]\n",
    "\n",
    "data = list(filter(lambda x:x>0, data))\n",
    "            \n",
    "print(data)"
   ]
  },
  {
   "cell_type": "code",
   "execution_count": 10,
   "id": "71a3f52a",
   "metadata": {},
   "outputs": [
    {
     "name": "stdout",
     "output_type": "stream",
     "text": [
      "[29, 11, 28, 1, 41, 31]\n"
     ]
    }
   ],
   "source": [
    "import random\n",
    "print(random.sample(range(1,46),6))"
   ]
  },
  {
   "cell_type": "code",
   "execution_count": 19,
   "id": "d8340a29",
   "metadata": {},
   "outputs": [
    {
     "name": "stdout",
     "output_type": "stream",
     "text": [
      "0\n",
      "1\n",
      "1\n",
      "2\n",
      "3\n",
      "5\n",
      "8\n",
      "13\n",
      "21\n",
      "34\n"
     ]
    }
   ],
   "source": [
    "def Fibo(n):\n",
    "    curr, next = 0, 1\n",
    "    for i in range(n):\n",
    "        curr, next = next, curr + next\n",
    "    return curr\n",
    "\n",
    "def Print_Fibo(n):\n",
    "    for i in range(n):\n",
    "        print(Fibo(i))\n",
    "        \n",
    "Print_Fibo(10)"
   ]
  },
  {
   "cell_type": "code",
   "execution_count": 24,
   "id": "7ca41e98",
   "metadata": {},
   "outputs": [
    {
     "name": "stdout",
     "output_type": "stream",
     "text": [
      "454*67-9-3\n"
     ]
    }
   ],
   "source": [
    "def DashInsert(data):\n",
    "    numbers = list(map(int, data))\n",
    "    result = []\n",
    "\n",
    "    for i, num in enumerate(numbers):\n",
    "        result.append(str(num))\n",
    "        if i < len(numbers)-1:                   \n",
    "            is_odd = num % 2 == 1                \n",
    "            is_next_odd = numbers[i+1] % 2 == 1  \n",
    "            if is_odd and is_next_odd:           \n",
    "                result.append(\"-\")\n",
    "            elif not is_odd and not is_next_odd: \n",
    "                result.append(\"*\")\n",
    "\n",
    "    print(\"\".join(result))      \n",
    "    \n",
    "DashInsert(\"4546793\")"
   ]
  },
  {
   "cell_type": "code",
   "execution_count": 32,
   "id": "9d12f59b",
   "metadata": {},
   "outputs": [
    {
     "name": "stdout",
     "output_type": "stream",
     "text": [
      "[[1, 4.188679245283019], [2, 3.7131782945736433], [3, 3.9019607843137254], [4, 4.190476190476191], [5, 3.1464646464646466], [6, 3.9014084507042255], [7, 4.32258064516129], [8, 3.884892086330935], [9, 3.7358490566037736], [10, 4.114713216957606]]\n",
      "------------------------------------------------------------------------\n",
      "283 4.962962962962963\n"
     ]
    }
   ],
   "source": [
    "import numpy as np\n",
    "\n",
    "data = np.loadtxt(\"Analysis/data/ml-1m/ratings.dat\", delimiter=\"::\", dtype=np.int64)\n",
    "\n",
    "# 문제 1) 사용자별로 평점 평균 구하기. (10명만 출력)\n",
    "user_ids = np.unique(data[:, 0])\n",
    "\n",
    "mean_rate_by_user_list = []\n",
    "for user_id in user_ids:\n",
    "    rate_for_user = data[data[:, 0] == user_id, 2]\n",
    "    mean_rate = rate_for_user.mean()\n",
    "    mean_rate_by_user_list.append([user_id, mean_rate])\n",
    "    \n",
    "print(mean_rate_by_user_list[:10])\n",
    "\n",
    "print(\"------------------------------------------------------------------------\")\n",
    "\n",
    "# 문제 2) 위의 결과 중에서 최고 평점 평균 구하기. (사용자 아이디와 평점 평균을 같이 구하시오.)\n",
    "\n",
    "max_userid = mean_rate_by_user_list[0][0]\n",
    "max = mean_rate_by_user_list[0][1]\n",
    "for mean_rate_by_user in mean_rate_by_user_list:\n",
    "    if(max < mean_rate_by_user[1]):\n",
    "        max = mean_rate_by_user[1]\n",
    "        max_userid = mean_rate_by_user[0]\n",
    "\n",
    "print(max_userid, max)"
   ]
  },
  {
   "cell_type": "code",
   "execution_count": 36,
   "id": "32a60dd4",
   "metadata": {},
   "outputs": [
    {
     "name": "stdout",
     "output_type": "stream",
     "text": [
      "    국어  영어\n",
      "춘향  80  90\n",
      "몽룡  90  70\n",
      "향단  70  60\n",
      "방자  30  40\n",
      "------------------------------------------\n",
      "    국어  영어  수학   평균점수\n",
      "춘향  80  90  90  86.67\n",
      "몽룡  90  70  60  73.33\n",
      "향단  70  60  80  70.00\n",
      "방자  30  40  70  46.67\n"
     ]
    }
   ],
   "source": [
    "import pandas as pd\n",
    "\n",
    "data = {\n",
    "    \"국어\" : [80, 90, 70, 30], \n",
    "    \"영어\" : [90, 70, 60, 40], \n",
    "    \"수학\" : [90, 60, 80, 70]\n",
    "}\n",
    "\n",
    "idx = [\"춘향\", \"몽룡\", \"향단\", \"방자\"]\n",
    "cols = [\"국어\", \"영어\", \"수학\"]\n",
    "df = pd.DataFrame(data, columns = cols, index = idx)\n",
    "\n",
    "# 1) 모든 학생의 국어와 영어 점수를 조회하시오.\n",
    "print(df[[\"국어\" , \"영어\"]])\n",
    "\n",
    "print(\"------------------------------------------\")\n",
    "\n",
    "# 2) 모든 학생의 각 과목평균점수를 새로운 열(과목평균)로 추가하시오.\n",
    "df[\"평균점수\"] = ((df[\"국어\"] + df[\"영어\"] + df[\"수학\"]) / 3).round(2)\n",
    "print(df)"
   ]
  },
  {
   "cell_type": "code",
   "execution_count": 37,
   "id": "21518a93",
   "metadata": {},
   "outputs": [
    {
     "name": "stdout",
     "output_type": "stream",
     "text": [
      "    국어  영어  수학   평균점수\n",
      "춘향  80  90  90  86.67\n",
      "몽룡  90  70  60  73.33\n",
      "향단  70  60  80  70.00\n",
      "방자  30  80  70  60.00\n",
      "------------------------------------------\n",
      "향단\n",
      "국어      70.0\n",
      "영어      60.0\n",
      "수학      80.0\n",
      "평균점수    70.0\n",
      "dtype: float64\n"
     ]
    },
    {
     "name": "stderr",
     "output_type": "stream",
     "text": [
      "C:\\Users\\dbs03\\AppData\\Local\\Temp\\ipykernel_11676\\2836800117.py:3: SettingWithCopyWarning: \n",
      "A value is trying to be set on a copy of a slice from a DataFrame\n",
      "\n",
      "See the caveats in the documentation: https://pandas.pydata.org/pandas-docs/stable/user_guide/indexing.html#returning-a-view-versus-a-copy\n",
      "  df[\"영어\"][\"방자\"] = 80\n"
     ]
    }
   ],
   "source": [
    "# 1) 방자의 영어점수를 80점으로 수정하고 평균점수도 다시 수정하시오.\n",
    "\n",
    "df[\"영어\"][\"방자\"] = 80\n",
    "df[\"평균점수\"] = ((df[\"국어\"] + df[\"영어\"] + df[\"수학\"]) / 3).round(2)\n",
    "print(df)\n",
    "\n",
    "print(\"------------------------------------------\")\n",
    "\n",
    "# 2) 향단의 점수를 Series로 출력하시오\n",
    "temp = df[\"향단\" : \"향단\"]\n",
    "temp_Series = pd.Series(temp.values.tolist()[0], index=temp.columns.values.tolist())\n",
    "temp_Series.index.name = \"향단\"\n",
    "print(temp_Series)\n"
   ]
  },
  {
   "cell_type": "code",
   "execution_count": 96,
   "id": "52c4ffe7",
   "metadata": {},
   "outputs": [
    {
     "name": "stdout",
     "output_type": "stream",
     "text": [
      "<re.Match object; span=(779, 796), match='oakchul@yna.co.kr'>\n"
     ]
    }
   ],
   "source": [
    "import re\n",
    "\n",
    "news = \"\"\"\n",
    "(로스앤젤레스=연합뉴스) 옥철 특파원 = 팀 쿡 애플 최고경영자(CEO)가 16일(현지시간) 실리콘밸리 앞\n",
    "마당 격인 미국 서부 명문 스탠퍼드대학 학위수여식에서 테크기업들을 향해 쓴소리를 쏟아냈다.쿡은 이\n",
    "날 연설에서 실리콘밸리 테크기업들은 자신들이 만든 혼란에 대한 책임을 질 필요가 있다고 경고했다.\n",
    "근래 IT 업계의 가장 큰 이슈인 개인정보 침해, 사생활 보호 문제를 콕 집어 라이벌인 구글, 페이스북\n",
    "등 IT 공룡을 겨냥한 발언이라는 해석이 나왔다.쿡은 \"최근 실리콘밸리 산업은 고귀한 혁신과는 점점\n",
    "더 거리가 멀어지는 것으로 알려져 있다. 책임을 받아들이지 않고도 신뢰를 얻을 수 있다는 그런 믿음\n",
    "말이다\"라고 꼬집었다.개인정보 유출 사건으로 미 의회 청문회에 줄줄이 불려 나간 경쟁사 CEO들을\n",
    "향해 일침을 가한 것으로 보인다.그는 또 실리콘밸리에서 희대의 사기극을 연출한 바이오벤처 스타트업\n",
    "테라노스(Theranos)를 직격했다.쿡은 \"피 한 방울로 거짓된 기적을 만들 수 있다고 믿었느냐\"면서\n",
    "\"이런 식으로 혼돈의 공장을 만든다면 그 책임에서 절대 벗어날 수 없다\"라고 비난했다.테라노스는\n",
    "손가락 끝을 찔러 극미량의 혈액 샘플만 있으면 각종 의학정보 분석은 물론 거의 모든 질병 진단이\n",
    "가능한 바이오헬스 기술을 개발했다고 속여 월가 큰손들로부터 거액의 투자를 유치했다가 해당 기술이\n",
    "사기인 것으로 드러나 청산한 기업이다.쿡은 애플의 경우 프라이버시(사생활) 보호에 초점을 맞춘\n",
    "새로운 제품 기능들로 경쟁사들에 맞서고 있다며 자사의 데이터 보호 정책을 은근히 홍보하기도 했다.\n",
    "oakchul@yna.co.kr저작권자(c)연합뉴스. 무단전재-재배포금지\n",
    "\"\"\"\n",
    "p = re.compile(r'([a-zA-Z0-9._%+-]+@[a-zA-Z0-9.-]+(\\.[a-zA-Z]{2,4}))')\n",
    "\n",
    "print(p.search(news))"
   ]
  },
  {
   "cell_type": "code",
   "execution_count": 82,
   "id": "7e30b205",
   "metadata": {},
   "outputs": [
    {
     "name": "stdout",
     "output_type": "stream",
     "text": [
      "True True True False False False True False "
     ]
    }
   ],
   "source": [
    "import re\n",
    "\n",
    "webs = ['http://www.test.co.kr',\n",
    "        'https://www.test1.com',\n",
    "        'http://www.test.com',\n",
    "        'ftp://www.test.com',\n",
    "        'http:://www.test.com',\n",
    "      'htp://www.test.com',\n",
    "      'http://www.google.com',\n",
    "      'https://www.homepage.com.']\n",
    "\n",
    "p = re.compile(r'https?://[\\w.]+\\w+$')\n",
    "for web in webs:\n",
    "    print(p.match(web) != None, end=' ')"
   ]
  },
  {
   "cell_type": "code",
   "execution_count": null,
   "id": "a0ea1075",
   "metadata": {},
   "outputs": [],
   "source": []
  },
  {
   "cell_type": "code",
   "execution_count": null,
   "id": "8028c6ec",
   "metadata": {},
   "outputs": [],
   "source": []
  }
 ],
 "metadata": {
  "kernelspec": {
   "display_name": "Python 3 (ipykernel)",
   "language": "python",
   "name": "python3"
  },
  "language_info": {
   "codemirror_mode": {
    "name": "ipython",
    "version": 3
   },
   "file_extension": ".py",
   "mimetype": "text/x-python",
   "name": "python",
   "nbconvert_exporter": "python",
   "pygments_lexer": "ipython3",
   "version": "3.9.12"
  }
 },
 "nbformat": 4,
 "nbformat_minor": 5
}
