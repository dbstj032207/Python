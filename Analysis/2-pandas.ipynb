{
 "cells": [
  {
   "cell_type": "markdown",
   "id": "92ce82ef",
   "metadata": {},
   "source": [
    "## pandas에서 제공하는 대표적인 자료 구조\n",
    "\n",
    "+ Series\n",
    "+ DataFrame\n",
    "+ https://pandas.pydata.org"
   ]
  },
  {
   "cell_type": "code",
   "execution_count": 1,
   "id": "23d60f91",
   "metadata": {},
   "outputs": [],
   "source": [
    "import numpy as np\n",
    "import pandas as pd"
   ]
  },
  {
   "cell_type": "markdown",
   "id": "f77ad61d",
   "metadata": {},
   "source": [
    "### 1. Series\n",
    "+ 값과 인덱스를 하나로 합친 구조"
   ]
  },
  {
   "cell_type": "code",
   "execution_count": 5,
   "id": "e062b731",
   "metadata": {},
   "outputs": [
    {
     "name": "stdout",
     "output_type": "stream",
     "text": [
      "0    9904312\n",
      "1    3448737\n",
      "2    2890451\n",
      "3    2466052\n",
      "dtype: int64\n",
      "<class 'pandas.core.series.Series'>\n"
     ]
    }
   ],
   "source": [
    "s = pd.Series([9904312, 3448737, 2890451, 2466052])\n",
    "print(s)\n",
    "print(type(s))"
   ]
  },
  {
   "cell_type": "code",
   "execution_count": 6,
   "id": "5b73bf20",
   "metadata": {},
   "outputs": [
    {
     "name": "stdout",
     "output_type": "stream",
     "text": [
      "(0, 9904312)\n",
      "(1, 3448737)\n",
      "(2, 2890451)\n",
      "(3, 2466052)\n"
     ]
    }
   ],
   "source": [
    "for i in enumerate([9904312, 3448737, 2890451, 2466052]):\n",
    "    print(i)\n"
   ]
  },
  {
   "cell_type": "code",
   "execution_count": 10,
   "id": "b20f355d",
   "metadata": {},
   "outputs": [
    {
     "name": "stdout",
     "output_type": "stream",
     "text": [
      "서울    9904312\n",
      "부산    3448737\n",
      "인천    2890451\n",
      "대구    2466052\n",
      "dtype: int64\n",
      "----------------------------\n",
      "[9904312 3448737 2890451 2466052] <class 'numpy.ndarray'>\n",
      "Index(['서울', '부산', '인천', '대구'], dtype='object')\n",
      "----------------------------\n",
      "도시\n",
      "서울    9904312\n",
      "부산    3448737\n",
      "인천    2890451\n",
      "대구    2466052\n",
      "dtype: int64\n",
      "----------------------------\n",
      "도시\n",
      "서울    9904312\n",
      "부산    3448737\n",
      "인천    2890451\n",
      "대구    2466052\n",
      "Name: 인구, dtype: int64\n"
     ]
    }
   ],
   "source": [
    "#### 인덱스를 자유롭게 지정\n",
    "s = pd.Series([9904312, 3448737, 2890451, 2466052], index=[\"서울\", \"부산\", \"인천\", \"대구\"])\n",
    "print(s)\n",
    "\n",
    "print(\"----------------------------\")\n",
    "\n",
    "print(s.values, type(s.values))\n",
    "print(s.index)\n",
    "\n",
    "print(\"----------------------------\")\n",
    "\n",
    "# 인덱스에 이름 지정\n",
    "s.index.name = \"도시\"\n",
    "print(s)\n",
    "\n",
    "print(\"----------------------------\")\n",
    "\n",
    "# Series 전체에 이름 지정\n",
    "s.name = \"인구\"\n",
    "print(s)"
   ]
  },
  {
   "cell_type": "code",
   "execution_count": 11,
   "id": "e577d9df",
   "metadata": {},
   "outputs": [
    {
     "name": "stdout",
     "output_type": "stream",
     "text": [
      "도시\n",
      "서울    9.904312\n",
      "부산    3.448737\n",
      "인천    2.890451\n",
      "대구    2.466052\n",
      "Name: 인구, dtype: float64\n"
     ]
    }
   ],
   "source": [
    "##### 백터화 연산\n",
    "\n",
    "s1 = s / 1000000\n",
    "print(s1)"
   ]
  },
  {
   "cell_type": "code",
   "execution_count": 18,
   "id": "d4f0eaa1",
   "metadata": {},
   "outputs": [
    {
     "name": "stdout",
     "output_type": "stream",
     "text": [
      "3448737 3448737\n",
      "-----------------------------\n",
      "도시\n",
      "부산    3448737\n",
      "인천    2890451\n",
      "Name: 인구, dtype: int64\n",
      "-----------------------------\n",
      "도시\n",
      "부산    3448737\n",
      "인천    2890451\n",
      "Name: 인구, dtype: int64\n",
      "-----------------------------\n",
      "3448737 .  9904312\n",
      "-----------------------------\n",
      "도시\n",
      "부산    3448737\n",
      "인천    2890451\n",
      "Name: 인구, dtype: int64\n"
     ]
    }
   ],
   "source": [
    "##### 인덱싱\n",
    "\n",
    "print(s[1], s[\"부산\"])\n",
    "\n",
    "print(\"-----------------------------\")\n",
    "\n",
    "print(s[1:3])\n",
    "\n",
    "print(\"-----------------------------\")\n",
    "\n",
    "print(s[\"부산\":\"인천\"])\n",
    "\n",
    "print(\"-----------------------------\")\n",
    "\n",
    "print(s.부산, \". \", s.서울)\n",
    "\n",
    "print(\"-----------------------------\")\n",
    "\n",
    "print(s[(s > 250e4) & (s < 500e4)])"
   ]
  },
  {
   "cell_type": "code",
   "execution_count": 22,
   "id": "8b00dd42",
   "metadata": {},
   "outputs": [
    {
     "name": "stdout",
     "output_type": "stream",
     "text": [
      "True\n",
      "False\n",
      "--------------------------------\n",
      "[('서울', 9904312), ('부산', 3448737), ('인천', 2890451), ('대구', 2466052)]\n",
      "--------------------------------\n",
      "서울    9904312\n",
      "부산    3448737\n",
      "인천    2890451\n",
      "대전    1490158\n",
      "dtype: int64\n"
     ]
    }
   ],
   "source": [
    "##### Series와 dict\n",
    "\n",
    "print(\"서울\" in s)\n",
    "print(\"대전\" in s)\n",
    "\n",
    "print(\"--------------------------------\")\n",
    "\n",
    "print(list(s.items()))\n",
    "\n",
    "print(\"--------------------------------\")\n",
    "\n",
    "{\"서울\" : 9904312, \"부산\" : 3448737, \"인천\" : 2890451, \"대전\" : 1490158}\n",
    "\n",
    "s2 = pd.Series({\"서울\" : 9904312, \"부산\" : 3448737, \"인천\" : 2890451, \"대전\" : 1490158})\n",
    "\n",
    "print(s2)"
   ]
  },
  {
   "cell_type": "code",
   "execution_count": 26,
   "id": "3e99e5d2",
   "metadata": {},
   "outputs": [
    {
     "name": "stdout",
     "output_type": "stream",
     "text": [
      "도시\n",
      "서울    9904312\n",
      "부산    3448737\n",
      "인천    2890451\n",
      "대구    2466052\n",
      "Name: 인구, dtype: int64\n",
      "--------------------------------\n",
      "서울    9904312\n",
      "부산    3448737\n",
      "인천    2890451\n",
      "대전    1490158\n",
      "dtype: int64\n",
      "--------------------------------\n",
      "대구    NaN\n",
      "대전    NaN\n",
      "부산    0.0\n",
      "서울    0.0\n",
      "인천    0.0\n",
      "dtype: float64\n",
      "--------------------------------\n"
     ]
    }
   ],
   "source": [
    "##### 인덱스 기반 연산\n",
    "\n",
    "print(s)\n",
    "print(\"--------------------------------\")\n",
    "print(s2)\n",
    "print(\"--------------------------------\")\n",
    "\n",
    "print(s-s2)\n",
    "\n",
    "print(\"--------------------------------\")\n",
    "\n",
    "result = s - s2"
   ]
  },
  {
   "cell_type": "code",
   "execution_count": 27,
   "id": "14049401",
   "metadata": {},
   "outputs": [
    {
     "name": "stdout",
     "output_type": "stream",
     "text": [
      "대구    NaN\n",
      "대전    NaN\n",
      "부산    0.0\n",
      "서울    0.0\n",
      "인천    0.0\n",
      "dtype: float64\n",
      "대구    False\n",
      "대전    False\n",
      "부산     True\n",
      "서울     True\n",
      "인천     True\n",
      "dtype: bool\n",
      "부산    0.0\n",
      "서울    0.0\n",
      "인천    0.0\n",
      "dtype: float64\n"
     ]
    }
   ],
   "source": [
    "##### 결측치 제거\n",
    "\n",
    "print(result)\n",
    "print(result.notnull())\n",
    "print(result[result.notnull()])\n"
   ]
  },
  {
   "cell_type": "code",
   "execution_count": 34,
   "id": "79a280d7",
   "metadata": {},
   "outputs": [
    {
     "name": "stdout",
     "output_type": "stream",
     "text": [
      "대구     NaN\n",
      "대전     NaN\n",
      "부산    1.63\n",
      "서울    0.00\n",
      "인천    0.00\n",
      "경기    2.45\n",
      "dtype: float64\n",
      "------------------------------\n",
      "대구     NaN\n",
      "대전     NaN\n",
      "부산    1.63\n",
      "서울    0.00\n",
      "인천    0.00\n",
      "경기    2.45\n",
      "dtype: float64\n",
      "------------------------------\n",
      "대구     NaN\n",
      "대전     NaN\n",
      "부산    1.63\n",
      "서울    0.00\n",
      "인천    0.00\n",
      "경기    2.45\n",
      "dtype: float64\n",
      "------------------------------\n"
     ]
    }
   ],
   "source": [
    "##### 데이터 수정, 삭제, 추가\n",
    "\n",
    "print(result)\n",
    "\n",
    "print(\"------------------------------\")\n",
    "result[\"부산\"] = 1.63   # 수정\n",
    "print(result)\n",
    "print(\"------------------------------\")\n",
    "result[\"경기\"] = 2.45   # 추가\n",
    "print(result)\n",
    "print(\"------------------------------\")\n",
    "del result[\"서울\"]      # 삭제\n",
    "print(result)"
   ]
  },
  {
   "cell_type": "markdown",
   "id": "da4a6a41",
   "metadata": {},
   "source": [
    "### 2. Dataframe\n",
    "+ 여러 개의 Series를 묶어놓은 것"
   ]
  },
  {
   "cell_type": "code",
   "execution_count": 165,
   "id": "5e06f985",
   "metadata": {},
   "outputs": [],
   "source": [
    "data = {\n",
    "    \"2015\": [9904312, 3448737, 2890451, 2466052],\n",
    "    \"2010\": [9631482, 3393191, 2632035, 2431774],\n",
    "    \"2005\": [9762546, 3512547, 2517680, 2456016],\n",
    "    \"2000\": [9853972, 3655437, 2466338, 2473990],\n",
    "    \"지역\": [\"수도권\", \"경상권\", \"수도권\", \"경상권\"],\n",
    "    \"2010-2015 증가율\": [0.0283, 0.0163, 0.0982, 0.0141]\n",
    "}\n"
   ]
  },
  {
   "cell_type": "code",
   "execution_count": 166,
   "id": "36a87973",
   "metadata": {},
   "outputs": [
    {
     "data": {
      "text/html": [
       "<div>\n",
       "<style scoped>\n",
       "    .dataframe tbody tr th:only-of-type {\n",
       "        vertical-align: middle;\n",
       "    }\n",
       "\n",
       "    .dataframe tbody tr th {\n",
       "        vertical-align: top;\n",
       "    }\n",
       "\n",
       "    .dataframe thead th {\n",
       "        text-align: right;\n",
       "    }\n",
       "</style>\n",
       "<table border=\"1\" class=\"dataframe\">\n",
       "  <thead>\n",
       "    <tr style=\"text-align: right;\">\n",
       "      <th></th>\n",
       "      <th>2015</th>\n",
       "      <th>2010</th>\n",
       "      <th>2005</th>\n",
       "      <th>2000</th>\n",
       "      <th>지역</th>\n",
       "      <th>2010-2015 증가율</th>\n",
       "    </tr>\n",
       "  </thead>\n",
       "  <tbody>\n",
       "    <tr>\n",
       "      <th>0</th>\n",
       "      <td>9904312</td>\n",
       "      <td>9631482</td>\n",
       "      <td>9762546</td>\n",
       "      <td>9853972</td>\n",
       "      <td>수도권</td>\n",
       "      <td>0.0283</td>\n",
       "    </tr>\n",
       "    <tr>\n",
       "      <th>1</th>\n",
       "      <td>3448737</td>\n",
       "      <td>3393191</td>\n",
       "      <td>3512547</td>\n",
       "      <td>3655437</td>\n",
       "      <td>경상권</td>\n",
       "      <td>0.0163</td>\n",
       "    </tr>\n",
       "    <tr>\n",
       "      <th>2</th>\n",
       "      <td>2890451</td>\n",
       "      <td>2632035</td>\n",
       "      <td>2517680</td>\n",
       "      <td>2466338</td>\n",
       "      <td>수도권</td>\n",
       "      <td>0.0982</td>\n",
       "    </tr>\n",
       "    <tr>\n",
       "      <th>3</th>\n",
       "      <td>2466052</td>\n",
       "      <td>2431774</td>\n",
       "      <td>2456016</td>\n",
       "      <td>2473990</td>\n",
       "      <td>경상권</td>\n",
       "      <td>0.0141</td>\n",
       "    </tr>\n",
       "  </tbody>\n",
       "</table>\n",
       "</div>"
      ],
      "text/plain": [
       "      2015     2010     2005     2000   지역  2010-2015 증가율\n",
       "0  9904312  9631482  9762546  9853972  수도권         0.0283\n",
       "1  3448737  3393191  3512547  3655437  경상권         0.0163\n",
       "2  2890451  2632035  2517680  2466338  수도권         0.0982\n",
       "3  2466052  2431774  2456016  2473990  경상권         0.0141"
      ]
     },
     "execution_count": 166,
     "metadata": {},
     "output_type": "execute_result"
    }
   ],
   "source": [
    "df = pd.DataFrame(data)\n",
    "df"
   ]
  },
  {
   "cell_type": "markdown",
   "id": "e353ad85",
   "metadata": {},
   "source": [
    "#### (1) 컬럼의 순서(위치) 바꾸기"
   ]
  },
  {
   "cell_type": "code",
   "execution_count": 167,
   "id": "19313da2",
   "metadata": {
    "scrolled": true
   },
   "outputs": [
    {
     "data": {
      "text/html": [
       "<div>\n",
       "<style scoped>\n",
       "    .dataframe tbody tr th:only-of-type {\n",
       "        vertical-align: middle;\n",
       "    }\n",
       "\n",
       "    .dataframe tbody tr th {\n",
       "        vertical-align: top;\n",
       "    }\n",
       "\n",
       "    .dataframe thead th {\n",
       "        text-align: right;\n",
       "    }\n",
       "</style>\n",
       "<table border=\"1\" class=\"dataframe\">\n",
       "  <thead>\n",
       "    <tr style=\"text-align: right;\">\n",
       "      <th></th>\n",
       "      <th>지역</th>\n",
       "      <th>2015</th>\n",
       "      <th>2010</th>\n",
       "      <th>2005</th>\n",
       "      <th>2000</th>\n",
       "      <th>2010-2015 증가율</th>\n",
       "    </tr>\n",
       "  </thead>\n",
       "  <tbody>\n",
       "    <tr>\n",
       "      <th>0</th>\n",
       "      <td>수도권</td>\n",
       "      <td>9904312</td>\n",
       "      <td>9631482</td>\n",
       "      <td>9762546</td>\n",
       "      <td>9853972</td>\n",
       "      <td>0.0283</td>\n",
       "    </tr>\n",
       "    <tr>\n",
       "      <th>1</th>\n",
       "      <td>경상권</td>\n",
       "      <td>3448737</td>\n",
       "      <td>3393191</td>\n",
       "      <td>3512547</td>\n",
       "      <td>3655437</td>\n",
       "      <td>0.0163</td>\n",
       "    </tr>\n",
       "    <tr>\n",
       "      <th>2</th>\n",
       "      <td>수도권</td>\n",
       "      <td>2890451</td>\n",
       "      <td>2632035</td>\n",
       "      <td>2517680</td>\n",
       "      <td>2466338</td>\n",
       "      <td>0.0982</td>\n",
       "    </tr>\n",
       "    <tr>\n",
       "      <th>3</th>\n",
       "      <td>경상권</td>\n",
       "      <td>2466052</td>\n",
       "      <td>2431774</td>\n",
       "      <td>2456016</td>\n",
       "      <td>2473990</td>\n",
       "      <td>0.0141</td>\n",
       "    </tr>\n",
       "  </tbody>\n",
       "</table>\n",
       "</div>"
      ],
      "text/plain": [
       "    지역     2015     2010     2005     2000  2010-2015 증가율\n",
       "0  수도권  9904312  9631482  9762546  9853972         0.0283\n",
       "1  경상권  3448737  3393191  3512547  3655437         0.0163\n",
       "2  수도권  2890451  2632035  2517680  2466338         0.0982\n",
       "3  경상권  2466052  2431774  2456016  2473990         0.0141"
      ]
     },
     "execution_count": 167,
     "metadata": {},
     "output_type": "execute_result"
    }
   ],
   "source": [
    "cols = [\"지역\", \"2015\", \"2010\", \"2005\", \"2000\", \"2010-2015 증가율\"]\n",
    "df = pd.DataFrame(data, columns = cols)\n",
    "df"
   ]
  },
  {
   "cell_type": "markdown",
   "id": "0eb19e46",
   "metadata": {},
   "source": [
    "### (2) 인덱스 변경"
   ]
  },
  {
   "cell_type": "code",
   "execution_count": 168,
   "id": "50704bae",
   "metadata": {},
   "outputs": [
    {
     "data": {
      "text/html": [
       "<div>\n",
       "<style scoped>\n",
       "    .dataframe tbody tr th:only-of-type {\n",
       "        vertical-align: middle;\n",
       "    }\n",
       "\n",
       "    .dataframe tbody tr th {\n",
       "        vertical-align: top;\n",
       "    }\n",
       "\n",
       "    .dataframe thead th {\n",
       "        text-align: right;\n",
       "    }\n",
       "</style>\n",
       "<table border=\"1\" class=\"dataframe\">\n",
       "  <thead>\n",
       "    <tr style=\"text-align: right;\">\n",
       "      <th></th>\n",
       "      <th>지역</th>\n",
       "      <th>2015</th>\n",
       "      <th>2010</th>\n",
       "      <th>2005</th>\n",
       "      <th>2000</th>\n",
       "      <th>2010-2015 증가율</th>\n",
       "    </tr>\n",
       "  </thead>\n",
       "  <tbody>\n",
       "    <tr>\n",
       "      <th>서울</th>\n",
       "      <td>수도권</td>\n",
       "      <td>9904312</td>\n",
       "      <td>9631482</td>\n",
       "      <td>9762546</td>\n",
       "      <td>9853972</td>\n",
       "      <td>0.0283</td>\n",
       "    </tr>\n",
       "    <tr>\n",
       "      <th>부산</th>\n",
       "      <td>경상권</td>\n",
       "      <td>3448737</td>\n",
       "      <td>3393191</td>\n",
       "      <td>3512547</td>\n",
       "      <td>3655437</td>\n",
       "      <td>0.0163</td>\n",
       "    </tr>\n",
       "    <tr>\n",
       "      <th>인천</th>\n",
       "      <td>수도권</td>\n",
       "      <td>2890451</td>\n",
       "      <td>2632035</td>\n",
       "      <td>2517680</td>\n",
       "      <td>2466338</td>\n",
       "      <td>0.0982</td>\n",
       "    </tr>\n",
       "    <tr>\n",
       "      <th>대구</th>\n",
       "      <td>경상권</td>\n",
       "      <td>2466052</td>\n",
       "      <td>2431774</td>\n",
       "      <td>2456016</td>\n",
       "      <td>2473990</td>\n",
       "      <td>0.0141</td>\n",
       "    </tr>\n",
       "  </tbody>\n",
       "</table>\n",
       "</div>"
      ],
      "text/plain": [
       "     지역     2015     2010     2005     2000  2010-2015 증가율\n",
       "서울  수도권  9904312  9631482  9762546  9853972         0.0283\n",
       "부산  경상권  3448737  3393191  3512547  3655437         0.0163\n",
       "인천  수도권  2890451  2632035  2517680  2466338         0.0982\n",
       "대구  경상권  2466052  2431774  2456016  2473990         0.0141"
      ]
     },
     "execution_count": 168,
     "metadata": {},
     "output_type": "execute_result"
    }
   ],
   "source": [
    "idx = [\"서울\", \"부산\", \"인천\", \"대구\"]\n",
    "df = pd.DataFrame(data, columns = cols, index = idx)\n",
    "\n",
    "df"
   ]
  },
  {
   "cell_type": "code",
   "execution_count": 169,
   "id": "bb9457cd",
   "metadata": {},
   "outputs": [
    {
     "name": "stdout",
     "output_type": "stream",
     "text": [
      "[['수도권' 9904312 9631482 9762546 9853972 0.0283]\n",
      " ['경상권' 3448737 3393191 3512547 3655437 0.0163]\n",
      " ['수도권' 2890451 2632035 2517680 2466338 0.0982]\n",
      " ['경상권' 2466052 2431774 2456016 2473990 0.0141]]\n",
      "Index(['지역', '2015', '2010', '2005', '2000', '2010-2015 증가율'], dtype='object')\n",
      "Index(['서울', '부산', '인천', '대구'], dtype='object')\n"
     ]
    }
   ],
   "source": [
    "print(df.values)\n",
    "print(df.columns)\n",
    "print(df.index)"
   ]
  },
  {
   "cell_type": "code",
   "execution_count": 170,
   "id": "5209c4dc",
   "metadata": {},
   "outputs": [
    {
     "data": {
      "text/html": [
       "<div>\n",
       "<style scoped>\n",
       "    .dataframe tbody tr th:only-of-type {\n",
       "        vertical-align: middle;\n",
       "    }\n",
       "\n",
       "    .dataframe tbody tr th {\n",
       "        vertical-align: top;\n",
       "    }\n",
       "\n",
       "    .dataframe thead th {\n",
       "        text-align: right;\n",
       "    }\n",
       "</style>\n",
       "<table border=\"1\" class=\"dataframe\">\n",
       "  <thead>\n",
       "    <tr style=\"text-align: right;\">\n",
       "      <th>특성</th>\n",
       "      <th>지역</th>\n",
       "      <th>2015</th>\n",
       "      <th>2010</th>\n",
       "      <th>2005</th>\n",
       "      <th>2000</th>\n",
       "      <th>2010-2015 증가율</th>\n",
       "    </tr>\n",
       "    <tr>\n",
       "      <th>도시</th>\n",
       "      <th></th>\n",
       "      <th></th>\n",
       "      <th></th>\n",
       "      <th></th>\n",
       "      <th></th>\n",
       "      <th></th>\n",
       "    </tr>\n",
       "  </thead>\n",
       "  <tbody>\n",
       "    <tr>\n",
       "      <th>서울</th>\n",
       "      <td>수도권</td>\n",
       "      <td>9904312</td>\n",
       "      <td>9631482</td>\n",
       "      <td>9762546</td>\n",
       "      <td>9853972</td>\n",
       "      <td>0.0283</td>\n",
       "    </tr>\n",
       "    <tr>\n",
       "      <th>부산</th>\n",
       "      <td>경상권</td>\n",
       "      <td>3448737</td>\n",
       "      <td>3393191</td>\n",
       "      <td>3512547</td>\n",
       "      <td>3655437</td>\n",
       "      <td>0.0163</td>\n",
       "    </tr>\n",
       "    <tr>\n",
       "      <th>인천</th>\n",
       "      <td>수도권</td>\n",
       "      <td>2890451</td>\n",
       "      <td>2632035</td>\n",
       "      <td>2517680</td>\n",
       "      <td>2466338</td>\n",
       "      <td>0.0982</td>\n",
       "    </tr>\n",
       "    <tr>\n",
       "      <th>대구</th>\n",
       "      <td>경상권</td>\n",
       "      <td>2466052</td>\n",
       "      <td>2431774</td>\n",
       "      <td>2456016</td>\n",
       "      <td>2473990</td>\n",
       "      <td>0.0141</td>\n",
       "    </tr>\n",
       "  </tbody>\n",
       "</table>\n",
       "</div>"
      ],
      "text/plain": [
       "특성   지역     2015     2010     2005     2000  2010-2015 증가율\n",
       "도시                                                        \n",
       "서울  수도권  9904312  9631482  9762546  9853972         0.0283\n",
       "부산  경상권  3448737  3393191  3512547  3655437         0.0163\n",
       "인천  수도권  2890451  2632035  2517680  2466338         0.0982\n",
       "대구  경상권  2466052  2431774  2456016  2473990         0.0141"
      ]
     },
     "execution_count": 170,
     "metadata": {},
     "output_type": "execute_result"
    }
   ],
   "source": [
    "##### 컬럼과 인덱스에 이름 부여\n",
    "\n",
    "df.index.name = \"도시\"\n",
    "df.columns.name = \"특성\"\n",
    "df"
   ]
  },
  {
   "cell_type": "code",
   "execution_count": 171,
   "id": "a51c8a29",
   "metadata": {},
   "outputs": [
    {
     "data": {
      "text/html": [
       "<div>\n",
       "<style scoped>\n",
       "    .dataframe tbody tr th:only-of-type {\n",
       "        vertical-align: middle;\n",
       "    }\n",
       "\n",
       "    .dataframe tbody tr th {\n",
       "        vertical-align: top;\n",
       "    }\n",
       "\n",
       "    .dataframe thead th {\n",
       "        text-align: right;\n",
       "    }\n",
       "</style>\n",
       "<table border=\"1\" class=\"dataframe\">\n",
       "  <thead>\n",
       "    <tr style=\"text-align: right;\">\n",
       "      <th>도시</th>\n",
       "      <th>서울</th>\n",
       "      <th>부산</th>\n",
       "      <th>인천</th>\n",
       "      <th>대구</th>\n",
       "    </tr>\n",
       "    <tr>\n",
       "      <th>특성</th>\n",
       "      <th></th>\n",
       "      <th></th>\n",
       "      <th></th>\n",
       "      <th></th>\n",
       "    </tr>\n",
       "  </thead>\n",
       "  <tbody>\n",
       "    <tr>\n",
       "      <th>지역</th>\n",
       "      <td>수도권</td>\n",
       "      <td>경상권</td>\n",
       "      <td>수도권</td>\n",
       "      <td>경상권</td>\n",
       "    </tr>\n",
       "    <tr>\n",
       "      <th>2015</th>\n",
       "      <td>9904312</td>\n",
       "      <td>3448737</td>\n",
       "      <td>2890451</td>\n",
       "      <td>2466052</td>\n",
       "    </tr>\n",
       "    <tr>\n",
       "      <th>2010</th>\n",
       "      <td>9631482</td>\n",
       "      <td>3393191</td>\n",
       "      <td>2632035</td>\n",
       "      <td>2431774</td>\n",
       "    </tr>\n",
       "    <tr>\n",
       "      <th>2005</th>\n",
       "      <td>9762546</td>\n",
       "      <td>3512547</td>\n",
       "      <td>2517680</td>\n",
       "      <td>2456016</td>\n",
       "    </tr>\n",
       "    <tr>\n",
       "      <th>2000</th>\n",
       "      <td>9853972</td>\n",
       "      <td>3655437</td>\n",
       "      <td>2466338</td>\n",
       "      <td>2473990</td>\n",
       "    </tr>\n",
       "    <tr>\n",
       "      <th>2010-2015 증가율</th>\n",
       "      <td>0.0283</td>\n",
       "      <td>0.0163</td>\n",
       "      <td>0.0982</td>\n",
       "      <td>0.0141</td>\n",
       "    </tr>\n",
       "  </tbody>\n",
       "</table>\n",
       "</div>"
      ],
      "text/plain": [
       "도시                  서울       부산       인천       대구\n",
       "특성                                               \n",
       "지역                 수도권      경상권      수도권      경상권\n",
       "2015           9904312  3448737  2890451  2466052\n",
       "2010           9631482  3393191  2632035  2431774\n",
       "2005           9762546  3512547  2517680  2456016\n",
       "2000           9853972  3655437  2466338  2473990\n",
       "2010-2015 증가율   0.0283   0.0163   0.0982   0.0141"
      ]
     },
     "execution_count": 171,
     "metadata": {},
     "output_type": "execute_result"
    }
   ],
   "source": [
    "##### 전치\n",
    "\n",
    "df.T"
   ]
  },
  {
   "cell_type": "markdown",
   "id": "5911d37d",
   "metadata": {},
   "source": [
    "### 인덱싱"
   ]
  },
  {
   "cell_type": "code",
   "execution_count": 172,
   "id": "7810e1db",
   "metadata": {},
   "outputs": [
    {
     "data": {
      "text/html": [
       "<div>\n",
       "<style scoped>\n",
       "    .dataframe tbody tr th:only-of-type {\n",
       "        vertical-align: middle;\n",
       "    }\n",
       "\n",
       "    .dataframe tbody tr th {\n",
       "        vertical-align: top;\n",
       "    }\n",
       "\n",
       "    .dataframe thead th {\n",
       "        text-align: right;\n",
       "    }\n",
       "</style>\n",
       "<table border=\"1\" class=\"dataframe\">\n",
       "  <thead>\n",
       "    <tr style=\"text-align: right;\">\n",
       "      <th>특성</th>\n",
       "      <th>지역</th>\n",
       "      <th>2015</th>\n",
       "      <th>2010</th>\n",
       "      <th>2005</th>\n",
       "      <th>2000</th>\n",
       "      <th>2010-2015 증가율</th>\n",
       "    </tr>\n",
       "    <tr>\n",
       "      <th>도시</th>\n",
       "      <th></th>\n",
       "      <th></th>\n",
       "      <th></th>\n",
       "      <th></th>\n",
       "      <th></th>\n",
       "      <th></th>\n",
       "    </tr>\n",
       "  </thead>\n",
       "  <tbody>\n",
       "    <tr>\n",
       "      <th>서울</th>\n",
       "      <td>수도권</td>\n",
       "      <td>9904312</td>\n",
       "      <td>9631482</td>\n",
       "      <td>9762546</td>\n",
       "      <td>9853972</td>\n",
       "      <td>0.0283</td>\n",
       "    </tr>\n",
       "    <tr>\n",
       "      <th>부산</th>\n",
       "      <td>경상권</td>\n",
       "      <td>3448737</td>\n",
       "      <td>3393191</td>\n",
       "      <td>3512547</td>\n",
       "      <td>3655437</td>\n",
       "      <td>0.0163</td>\n",
       "    </tr>\n",
       "    <tr>\n",
       "      <th>인천</th>\n",
       "      <td>수도권</td>\n",
       "      <td>2890451</td>\n",
       "      <td>2632035</td>\n",
       "      <td>2517680</td>\n",
       "      <td>2466338</td>\n",
       "      <td>0.0982</td>\n",
       "    </tr>\n",
       "    <tr>\n",
       "      <th>대구</th>\n",
       "      <td>경상권</td>\n",
       "      <td>2466052</td>\n",
       "      <td>2431774</td>\n",
       "      <td>2456016</td>\n",
       "      <td>2473990</td>\n",
       "      <td>0.0141</td>\n",
       "    </tr>\n",
       "  </tbody>\n",
       "</table>\n",
       "</div>"
      ],
      "text/plain": [
       "특성   지역     2015     2010     2005     2000  2010-2015 증가율\n",
       "도시                                                        \n",
       "서울  수도권  9904312  9631482  9762546  9853972         0.0283\n",
       "부산  경상권  3448737  3393191  3512547  3655437         0.0163\n",
       "인천  수도권  2890451  2632035  2517680  2466338         0.0982\n",
       "대구  경상권  2466052  2431774  2456016  2473990         0.0141"
      ]
     },
     "execution_count": 172,
     "metadata": {},
     "output_type": "execute_result"
    }
   ],
   "source": [
    "df"
   ]
  },
  {
   "cell_type": "code",
   "execution_count": 173,
   "id": "5982dc7d",
   "metadata": {},
   "outputs": [
    {
     "name": "stdout",
     "output_type": "stream",
     "text": [
      "도시\n",
      "서울    수도권\n",
      "부산    경상권\n",
      "인천    수도권\n",
      "대구    경상권\n",
      "Name: 지역, dtype: object\n",
      "<class 'pandas.core.series.Series'>\n",
      "-------------------------------\n",
      "특성   지역     2005\n",
      "도시              \n",
      "서울  수도권  9762546\n",
      "부산  경상권  3512547\n",
      "인천  수도권  2517680\n",
      "대구  경상권  2456016\n",
      "<class 'pandas.core.frame.DataFrame'>\n",
      "-------------------------------\n",
      "특성   지역\n",
      "도시     \n",
      "서울  수도권\n",
      "부산  경상권\n",
      "인천  수도권\n",
      "대구  경상권\n",
      "-------------------------------\n"
     ]
    }
   ],
   "source": [
    "##### 열 인덱싱\n",
    "\n",
    "print(df[\"지역\"])\n",
    "print(type(df[\"지역\"]))\n",
    "      \n",
    "print(\"-------------------------------\")\n",
    "      \n",
    "print(df[[\"지역\", \"2005\"]])\n",
    "print(type(df[[\"지역\", \"2005\"]]))\n",
    "      \n",
    "print(\"-------------------------------\")\n",
    "\n",
    "print(df[[\"지역\"]])\n",
    "      \n",
    "print(\"-------------------------------\")\n",
    "\n",
    "# print(df[0])\n",
    "# print(df[[\"2015\" : \"2005\"]])\n"
   ]
  },
  {
   "cell_type": "code",
   "execution_count": 174,
   "id": "7be68fe8",
   "metadata": {},
   "outputs": [
    {
     "name": "stdout",
     "output_type": "stream",
     "text": [
      "특성   지역     2015     2010     2005     2000  2010-2015 증가율\n",
      "도시                                                        \n",
      "서울  수도권  9904312  9631482  9762546  9853972         0.0283\n",
      "-------------------------------\n",
      "특성   지역     2015     2010     2005     2000  2010-2015 증가율\n",
      "도시                                                        \n",
      "서울  수도권  9904312  9631482  9762546  9853972         0.0283\n",
      "부산  경상권  3448737  3393191  3512547  3655437         0.0163\n",
      "-------------------------------\n",
      "특성   지역     2015     2010     2005     2000  2010-2015 증가율\n",
      "도시                                                        \n",
      "서울  수도권  9904312  9631482  9762546  9853972         0.0283\n",
      "부산  경상권  3448737  3393191  3512547  3655437         0.0163\n",
      "인천  수도권  2890451  2632035  2517680  2466338         0.0982\n",
      "대구  경상권  2466052  2431774  2456016  2473990         0.0141\n",
      "-------------------------------\n",
      "특성   지역     2015     2010     2005     2000  2010-2015 증가율\n",
      "도시                                                        \n",
      "서울  수도권  9904312  9631482  9762546  9853972         0.0283\n"
     ]
    }
   ],
   "source": [
    "##### 행 인덱싱 ( 반드시 : 으로 슬라이싱 )\n",
    "\n",
    "print(df[0 : 1])\n",
    "\n",
    "print(\"-------------------------------\")\n",
    "\n",
    "print(df[0 : 2])\n",
    "\n",
    "print(\"-------------------------------\")\n",
    "\n",
    "print(df[:])\n",
    "\n",
    "print(\"-------------------------------\")\n",
    "\n",
    "print(df[\"서울\" : \"서울\"])"
   ]
  },
  {
   "cell_type": "code",
   "execution_count": 175,
   "id": "2bd8c594",
   "metadata": {},
   "outputs": [
    {
     "name": "stdout",
     "output_type": "stream",
     "text": [
      "2456016\n",
      "특성     2015     2010     2005\n",
      "도시                           \n",
      "서울  9904312  9631482  9762546\n",
      "부산  3448737  3393191  3512547\n",
      "인천  2890451  2632035  2517680\n"
     ]
    }
   ],
   "source": [
    "##### 동시에 열과 행에 접근\n",
    "\n",
    "print(df[\"2005\"][\"대구\"])\n",
    "\n",
    "# 2005년도부터 2015년도까지 서울, 부산, 인천의 인구수 조회\n",
    "\n",
    "print(df[[\"2015\", \"2010\", \"2005\"]][\"서울\":\"인천\"])"
   ]
  },
  {
   "cell_type": "markdown",
   "id": "cb18d346",
   "metadata": {},
   "source": [
    "### # (4) 추가, 수정, 삭제"
   ]
  },
  {
   "cell_type": "code",
   "execution_count": 176,
   "id": "508e748f",
   "metadata": {},
   "outputs": [
    {
     "name": "stdout",
     "output_type": "stream",
     "text": [
      "특성   지역     2015     2010     2005     2000  2010-2015 증가율\n",
      "도시                                                        \n",
      "서울  수도권  9904312  9631482  9762546  9853972           2.83\n",
      "부산  경상권  3448737  3393191  3512547  3655437           1.63\n",
      "인천  수도권  2890451  2632035  2517680  2466338           9.82\n",
      "대구  경상권  2466052  2431774  2456016  2473990           1.41\n",
      "특성   지역     2015     2010     2005     2000  2010-2015 증가율  2010-2010 증가율\n",
      "도시                                                                       \n",
      "서울  수도권  9904312  9631482  9762546  9853972           2.83          -1.34\n",
      "부산  경상권  3448737  3393191  3512547  3655437           1.63          -3.40\n",
      "인천  수도권  2890451  2632035  2517680  2466338           9.82           4.54\n",
      "대구  경상권  2466052  2431774  2456016  2473990           1.41          -0.99\n",
      "특성   지역     2015     2010     2005     2000  2010-2015 증가율\n",
      "도시                                                        \n",
      "서울  수도권  9904312  9631482  9762546  9853972           2.83\n",
      "부산  경상권  3448737  3393191  3512547  3655437           1.63\n",
      "인천  수도권  2890451  2632035  2517680  2466338           9.82\n",
      "대구  경상권  2466052  2431774  2456016  2473990           1.41\n"
     ]
    }
   ],
   "source": [
    "# 수정\n",
    "df[\"2010-2015 증가율\"] = df[\"2010-2015 증가율\"] * 100\n",
    "print(df)\n",
    "\n",
    "# 추가\n",
    "df[\"2010-2010 증가율\"] = ((df[\"2010\"] - df[\"2005\"]) / df[\"2005\"] * 100).round(2)\n",
    "print(df)\n",
    "\n",
    "# 삭제\n",
    "del df[\"2010-2010 증가율\"]\n",
    "print(df)"
   ]
  },
  {
   "cell_type": "markdown",
   "id": "5d613095",
   "metadata": {},
   "source": [
    "### (5) 실습"
   ]
  },
  {
   "cell_type": "code",
   "execution_count": 152,
   "id": "2a8b3010",
   "metadata": {},
   "outputs": [
    {
     "name": "stdout",
     "output_type": "stream",
     "text": [
      "    국어  영어  수학\n",
      "춘향  80  90  90\n",
      "몽룡  90  70  60\n",
      "향단  70  60  80\n",
      "방자  30  40  70\n",
      "------------------------------------------\n",
      "    수학\n",
      "춘향  90\n",
      "몽룡  60\n",
      "향단  80\n",
      "방자  70\n",
      "------------------------------------------\n",
      "    국어  영어\n",
      "춘향  80  90\n",
      "몽룡  90  70\n",
      "향단  70  60\n",
      "방자  30  40\n",
      "------------------------------------------\n",
      "    국어  영어  수학   평균점수\n",
      "춘향  80  90  90  86.67\n",
      "몽룡  90  70  60  73.33\n",
      "향단  70  60  80  70.00\n",
      "방자  30  40  70  46.67\n",
      "------------------------------------------\n",
      "    국어  영어  수학   평균점수\n",
      "춘향  80  90  90  86.67\n",
      "몽룡  90  70  60  73.33\n",
      "향단  70  60  80  70.00\n",
      "방자  30  80  70  60.00\n",
      "------------------------------------------\n",
      "    국어  영어  수학   평균점수\n",
      "춘향  80  90  90  86.67\n",
      "------------------------------------------\n",
      "향단\n",
      "국어      70.0\n",
      "영어      60.0\n",
      "수학      80.0\n",
      "평균점수    70.0\n",
      "dtype: float64\n"
     ]
    },
    {
     "name": "stderr",
     "output_type": "stream",
     "text": [
      "C:\\Users\\dbs03\\AppData\\Local\\Temp\\ipykernel_17008\\2191498340.py:40: SettingWithCopyWarning: \n",
      "A value is trying to be set on a copy of a slice from a DataFrame\n",
      "\n",
      "See the caveats in the documentation: https://pandas.pydata.org/pandas-docs/stable/user_guide/indexing.html#returning-a-view-versus-a-copy\n",
      "  df[\"영어\"][\"방자\"] = 80\n"
     ]
    }
   ],
   "source": [
    "data = {\n",
    "    \"국어\" : [80, 90, 70, 30], \n",
    "    \"영어\" : [90, 70, 60, 40], \n",
    "    \"수학\" : [90, 60, 80, 70]\n",
    "}\n",
    "\n",
    "# 1)  인덱스를 춘향, 몽룡, 향단, 방자로 구성된 데이터 프레임 df를 작성\n",
    "\n",
    "df = pd.DataFrame(data)\n",
    "\n",
    "idx = [\"춘향\", \"몽룡\", \"향단\", \"방자\"]\n",
    "cols = [\"국어\", \"영어\", \"수학\"]\n",
    "df = pd.DataFrame(data, columns = cols, index = idx)\n",
    "print(df)\n",
    "\n",
    "print(\"------------------------------------------\")\n",
    "\n",
    "# 2) 모든 학생의 수학 점수를 조회\n",
    "\n",
    "print(df[[\"수학\"]])\n",
    "\n",
    "print(\"------------------------------------------\")\n",
    "\n",
    "# 3) 모든 학생의 국어와 영어 점수를 조회\n",
    "\n",
    "print(df[[\"국어\" , \"영어\"]])\n",
    "\n",
    "print(\"------------------------------------------\")\n",
    "\n",
    "# 4) 모든 학생의 각 과목 평균점수를 새로운 열(과목 평균)로 추가\n",
    "\n",
    "# 추가\n",
    "df[\"평균점수\"] = ((df[\"국어\"] + df[\"영어\"] + df[\"수학\"]) / 3).round(2)\n",
    "print(df)\n",
    "\n",
    "print(\"------------------------------------------\")\n",
    "\n",
    "# 5) 방자의 영어 점수를 80점으로 수정하고 평균 점수도 다시 수정하시오.\n",
    "\n",
    "df[\"영어\"][\"방자\"] = 80\n",
    "df[\"평균점수\"] = ((df[\"국어\"] + df[\"영어\"] + df[\"수학\"]) / 3).round(2)\n",
    "print(df)\n",
    "\n",
    "print(\"------------------------------------------\")\n",
    "\n",
    "# 6) 춘향의 점수를 데이터 프레임 형식으로 출력\n",
    "print(df[\"춘향\" : \"춘향\"])\n",
    "\n",
    "print(\"------------------------------------------\")\n",
    "\n",
    "# 7) 향단의 점수를 Series로 출력\n",
    "temp = df[\"향단\" : \"향단\"]\n",
    "temp_Series = pd.Series(temp.values.tolist()[0], index=temp.columns.values.tolist())\n",
    "temp_Series.index.name = \"향단\"\n",
    "print(temp_Series)\n"
   ]
  },
  {
   "cell_type": "markdown",
   "id": "6d4e3c48",
   "metadata": {},
   "source": [
    "### (6) 파일 입출력\n",
    "+ read_csv()\n",
    "+ to_csv()\n",
    "+ read_table()"
   ]
  },
  {
   "cell_type": "code",
   "execution_count": 97,
   "id": "9227c7cc",
   "metadata": {},
   "outputs": [
    {
     "name": "stdout",
     "output_type": "stream",
     "text": [
      "Overwriting data/sample1.csv\n"
     ]
    }
   ],
   "source": [
    "%%writefile data/sample1.csv\n",
    "\n",
    "c1, c2, c3\n",
    "1, 1.11, one\n",
    "2, 2.22, two\n",
    "3, 3.33, three"
   ]
  },
  {
   "cell_type": "code",
   "execution_count": 102,
   "id": "92c5e0f9",
   "metadata": {},
   "outputs": [
    {
     "data": {
      "text/html": [
       "<div>\n",
       "<style scoped>\n",
       "    .dataframe tbody tr th:only-of-type {\n",
       "        vertical-align: middle;\n",
       "    }\n",
       "\n",
       "    .dataframe tbody tr th {\n",
       "        vertical-align: top;\n",
       "    }\n",
       "\n",
       "    .dataframe thead th {\n",
       "        text-align: right;\n",
       "    }\n",
       "</style>\n",
       "<table border=\"1\" class=\"dataframe\">\n",
       "  <thead>\n",
       "    <tr style=\"text-align: right;\">\n",
       "      <th></th>\n",
       "      <th>c1</th>\n",
       "      <th>c2</th>\n",
       "      <th>c3</th>\n",
       "    </tr>\n",
       "  </thead>\n",
       "  <tbody>\n",
       "    <tr>\n",
       "      <th>0</th>\n",
       "      <td>1</td>\n",
       "      <td>1.11</td>\n",
       "      <td>one</td>\n",
       "    </tr>\n",
       "    <tr>\n",
       "      <th>1</th>\n",
       "      <td>2</td>\n",
       "      <td>2.22</td>\n",
       "      <td>two</td>\n",
       "    </tr>\n",
       "    <tr>\n",
       "      <th>2</th>\n",
       "      <td>3</td>\n",
       "      <td>3.33</td>\n",
       "      <td>three</td>\n",
       "    </tr>\n",
       "  </tbody>\n",
       "</table>\n",
       "</div>"
      ],
      "text/plain": [
       "   c1    c2      c3\n",
       "0   1  1.11     one\n",
       "1   2  2.22     two\n",
       "2   3  3.33   three"
      ]
     },
     "execution_count": 102,
     "metadata": {},
     "output_type": "execute_result"
    }
   ],
   "source": [
    "sample1 = pd.read_csv(\"data/sample1.csv\")\n",
    "sample1"
   ]
  },
  {
   "cell_type": "code",
   "execution_count": 113,
   "id": "19fd54d6",
   "metadata": {},
   "outputs": [
    {
     "name": "stdout",
     "output_type": "stream",
     "text": [
      "Overwriting data/sample2.csv\n"
     ]
    }
   ],
   "source": [
    "%%writefile data/sample2.csv\n",
    "\n",
    "1, 1.11, one\n",
    "2, 2.22, two\n",
    "3, 3.33, three"
   ]
  },
  {
   "cell_type": "code",
   "execution_count": 114,
   "id": "417022e1",
   "metadata": {},
   "outputs": [
    {
     "data": {
      "text/html": [
       "<div>\n",
       "<style scoped>\n",
       "    .dataframe tbody tr th:only-of-type {\n",
       "        vertical-align: middle;\n",
       "    }\n",
       "\n",
       "    .dataframe tbody tr th {\n",
       "        vertical-align: top;\n",
       "    }\n",
       "\n",
       "    .dataframe thead th {\n",
       "        text-align: right;\n",
       "    }\n",
       "</style>\n",
       "<table border=\"1\" class=\"dataframe\">\n",
       "  <thead>\n",
       "    <tr style=\"text-align: right;\">\n",
       "      <th></th>\n",
       "      <th>c1</th>\n",
       "      <th>c2</th>\n",
       "      <th>c3</th>\n",
       "    </tr>\n",
       "  </thead>\n",
       "  <tbody>\n",
       "    <tr>\n",
       "      <th>0</th>\n",
       "      <td>1</td>\n",
       "      <td>1.11</td>\n",
       "      <td>one</td>\n",
       "    </tr>\n",
       "    <tr>\n",
       "      <th>1</th>\n",
       "      <td>2</td>\n",
       "      <td>2.22</td>\n",
       "      <td>two</td>\n",
       "    </tr>\n",
       "    <tr>\n",
       "      <th>2</th>\n",
       "      <td>3</td>\n",
       "      <td>3.33</td>\n",
       "      <td>three</td>\n",
       "    </tr>\n",
       "  </tbody>\n",
       "</table>\n",
       "</div>"
      ],
      "text/plain": [
       "   c1    c2      c3\n",
       "0   1  1.11     one\n",
       "1   2  2.22     two\n",
       "2   3  3.33   three"
      ]
     },
     "execution_count": 114,
     "metadata": {},
     "output_type": "execute_result"
    }
   ],
   "source": [
    "sample1 = pd.read_csv(\"data/sample2.csv\", names=[\"c1\", \"c2\", \"c3\"])\n",
    "sample1"
   ]
  },
  {
   "cell_type": "code",
   "execution_count": 122,
   "id": "438e1553",
   "metadata": {},
   "outputs": [
    {
     "data": {
      "text/html": [
       "<div>\n",
       "<style scoped>\n",
       "    .dataframe tbody tr th:only-of-type {\n",
       "        vertical-align: middle;\n",
       "    }\n",
       "\n",
       "    .dataframe tbody tr th {\n",
       "        vertical-align: top;\n",
       "    }\n",
       "\n",
       "    .dataframe thead th {\n",
       "        text-align: right;\n",
       "    }\n",
       "</style>\n",
       "<table border=\"1\" class=\"dataframe\">\n",
       "  <thead>\n",
       "    <tr style=\"text-align: right;\">\n",
       "      <th></th>\n",
       "      <th>c2</th>\n",
       "      <th>c3</th>\n",
       "    </tr>\n",
       "    <tr>\n",
       "      <th>c1</th>\n",
       "      <th></th>\n",
       "      <th></th>\n",
       "    </tr>\n",
       "  </thead>\n",
       "  <tbody>\n",
       "    <tr>\n",
       "      <th>1</th>\n",
       "      <td>1.11</td>\n",
       "      <td>one</td>\n",
       "    </tr>\n",
       "    <tr>\n",
       "      <th>2</th>\n",
       "      <td>2.22</td>\n",
       "      <td>two</td>\n",
       "    </tr>\n",
       "    <tr>\n",
       "      <th>3</th>\n",
       "      <td>3.33</td>\n",
       "      <td>three</td>\n",
       "    </tr>\n",
       "  </tbody>\n",
       "</table>\n",
       "</div>"
      ],
      "text/plain": [
       "      c2      c3\n",
       "c1              \n",
       "1   1.11     one\n",
       "2   2.22     two\n",
       "3   3.33   three"
      ]
     },
     "execution_count": 122,
     "metadata": {},
     "output_type": "execute_result"
    }
   ],
   "source": [
    "##### 특정 열을 인덱스로 지정\n",
    "\n",
    "sample2 = pd.read_csv(\"data/sample1.csv\", index_col=\"c1\")\n",
    "sample2"
   ]
  },
  {
   "cell_type": "code",
   "execution_count": 131,
   "id": "08cce270",
   "metadata": {},
   "outputs": [
    {
     "name": "stdout",
     "output_type": "stream",
     "text": [
      "Overwriting data/sample3.txt\n"
     ]
    }
   ],
   "source": [
    "%%writefile data/sample3.txt\n",
    "\n",
    "c1    c2    c3    c4\n",
    "0.23  0.33  0.354 0.2389\n",
    "0.123 0.345 0.567 0.986"
   ]
  },
  {
   "cell_type": "code",
   "execution_count": 153,
   "id": "401314d2",
   "metadata": {},
   "outputs": [
    {
     "data": {
      "text/html": [
       "<div>\n",
       "<style scoped>\n",
       "    .dataframe tbody tr th:only-of-type {\n",
       "        vertical-align: middle;\n",
       "    }\n",
       "\n",
       "    .dataframe tbody tr th {\n",
       "        vertical-align: top;\n",
       "    }\n",
       "\n",
       "    .dataframe thead th {\n",
       "        text-align: right;\n",
       "    }\n",
       "</style>\n",
       "<table border=\"1\" class=\"dataframe\">\n",
       "  <thead>\n",
       "    <tr style=\"text-align: right;\">\n",
       "      <th></th>\n",
       "      <th>c1</th>\n",
       "      <th>c2</th>\n",
       "      <th>c3</th>\n",
       "      <th>c4</th>\n",
       "    </tr>\n",
       "  </thead>\n",
       "  <tbody>\n",
       "    <tr>\n",
       "      <th>0</th>\n",
       "      <td>0.230</td>\n",
       "      <td>0.330</td>\n",
       "      <td>0.354</td>\n",
       "      <td>0.2389</td>\n",
       "    </tr>\n",
       "    <tr>\n",
       "      <th>1</th>\n",
       "      <td>0.123</td>\n",
       "      <td>0.345</td>\n",
       "      <td>0.567</td>\n",
       "      <td>0.9860</td>\n",
       "    </tr>\n",
       "  </tbody>\n",
       "</table>\n",
       "</div>"
      ],
      "text/plain": [
       "      c1     c2     c3      c4\n",
       "0  0.230  0.330  0.354  0.2389\n",
       "1  0.123  0.345  0.567  0.9860"
      ]
     },
     "execution_count": 153,
     "metadata": {},
     "output_type": "execute_result"
    }
   ],
   "source": [
    "sample3 = pd.read_table(\"data/sample3.txt\", sep=\"\\s+\")\n",
    "sample3"
   ]
  },
  {
   "cell_type": "code",
   "execution_count": 154,
   "id": "d3bb4506",
   "metadata": {},
   "outputs": [
    {
     "name": "stdout",
     "output_type": "stream",
     "text": [
      "Overwriting data/sample4.txt\n"
     ]
    }
   ],
   "source": [
    "%%writefile data/sample4.txt\n",
    "파일제목:sample4.txt\n",
    "데이터설명 : 어쩌구 저쩌구\n",
    "c1, c2, c3\n",
    "1, 1.11, one\n",
    "2, 2.22, two\n",
    "3, 3.33, three"
   ]
  },
  {
   "cell_type": "code",
   "execution_count": 156,
   "id": "ccb60a64",
   "metadata": {},
   "outputs": [
    {
     "data": {
      "text/html": [
       "<div>\n",
       "<style scoped>\n",
       "    .dataframe tbody tr th:only-of-type {\n",
       "        vertical-align: middle;\n",
       "    }\n",
       "\n",
       "    .dataframe tbody tr th {\n",
       "        vertical-align: top;\n",
       "    }\n",
       "\n",
       "    .dataframe thead th {\n",
       "        text-align: right;\n",
       "    }\n",
       "</style>\n",
       "<table border=\"1\" class=\"dataframe\">\n",
       "  <thead>\n",
       "    <tr style=\"text-align: right;\">\n",
       "      <th></th>\n",
       "      <th>c1</th>\n",
       "      <th>c2</th>\n",
       "      <th>c3</th>\n",
       "    </tr>\n",
       "  </thead>\n",
       "  <tbody>\n",
       "    <tr>\n",
       "      <th>0</th>\n",
       "      <td>1</td>\n",
       "      <td>1.11</td>\n",
       "      <td>one</td>\n",
       "    </tr>\n",
       "    <tr>\n",
       "      <th>1</th>\n",
       "      <td>2</td>\n",
       "      <td>2.22</td>\n",
       "      <td>two</td>\n",
       "    </tr>\n",
       "    <tr>\n",
       "      <th>2</th>\n",
       "      <td>3</td>\n",
       "      <td>3.33</td>\n",
       "      <td>three</td>\n",
       "    </tr>\n",
       "  </tbody>\n",
       "</table>\n",
       "</div>"
      ],
      "text/plain": [
       "   c1    c2      c3\n",
       "0   1  1.11     one\n",
       "1   2  2.22     two\n",
       "2   3  3.33   three"
      ]
     },
     "execution_count": 156,
     "metadata": {},
     "output_type": "execute_result"
    }
   ],
   "source": [
    "# sample4 = pd.read_table(\"data/sample4.txt\", sep=\",\", skiprows=[0, 1])\n",
    "sample4 = pd.read_table(\"data/sample4.txt\", sep=\",\", skiprows=2)\n",
    "sample4"
   ]
  },
  {
   "cell_type": "code",
   "execution_count": 157,
   "id": "58f8d472",
   "metadata": {},
   "outputs": [
    {
     "name": "stdout",
     "output_type": "stream",
     "text": [
      "Overwriting data/sample5.csv\n"
     ]
    }
   ],
   "source": [
    "%%writefile data/sample5.csv\n",
    "c1, c2, c3\n",
    "1, 1.11, \n",
    "2, 없음, two\n",
    "누락, 3.33, three"
   ]
  },
  {
   "cell_type": "code",
   "execution_count": 161,
   "id": "0add70e5",
   "metadata": {},
   "outputs": [
    {
     "data": {
      "text/html": [
       "<div>\n",
       "<style scoped>\n",
       "    .dataframe tbody tr th:only-of-type {\n",
       "        vertical-align: middle;\n",
       "    }\n",
       "\n",
       "    .dataframe tbody tr th {\n",
       "        vertical-align: top;\n",
       "    }\n",
       "\n",
       "    .dataframe thead th {\n",
       "        text-align: right;\n",
       "    }\n",
       "</style>\n",
       "<table border=\"1\" class=\"dataframe\">\n",
       "  <thead>\n",
       "    <tr style=\"text-align: right;\">\n",
       "      <th></th>\n",
       "      <th>c1</th>\n",
       "      <th>c2</th>\n",
       "      <th>c3</th>\n",
       "    </tr>\n",
       "  </thead>\n",
       "  <tbody>\n",
       "    <tr>\n",
       "      <th>0</th>\n",
       "      <td>1.0</td>\n",
       "      <td>1.11</td>\n",
       "      <td>NaN</td>\n",
       "    </tr>\n",
       "    <tr>\n",
       "      <th>1</th>\n",
       "      <td>2.0</td>\n",
       "      <td>NaN</td>\n",
       "      <td>two</td>\n",
       "    </tr>\n",
       "    <tr>\n",
       "      <th>2</th>\n",
       "      <td>NaN</td>\n",
       "      <td>3.33</td>\n",
       "      <td>three</td>\n",
       "    </tr>\n",
       "  </tbody>\n",
       "</table>\n",
       "</div>"
      ],
      "text/plain": [
       "    c1    c2      c3\n",
       "0  1.0  1.11     NaN\n",
       "1  2.0   NaN     two\n",
       "2  NaN  3.33   three"
      ]
     },
     "execution_count": 161,
     "metadata": {},
     "output_type": "execute_result"
    }
   ],
   "source": [
    "sample5 = pd.read_csv(\"data/sample5.csv\", na_values=[\" \", \" 없음\", \"누락\"])\n",
    "sample5"
   ]
  },
  {
   "cell_type": "code",
   "execution_count": 181,
   "id": "74675628",
   "metadata": {},
   "outputs": [],
   "source": [
    "##### 저장\n",
    "\n",
    "df.to_csv(\"data/sample6.csv\")\n",
    "df.to_csv(\"data/sample7.txt\", sep=\"|\")\n",
    "df.to_csv(\"data/sample8.csv\", header=False, index=False)\n",
    "\n",
    "sample5.to_csv(\"data/sample9.txt\", sep=\":\", na_rep=\"누락\")"
   ]
  },
  {
   "cell_type": "markdown",
   "id": "d44c76c5",
   "metadata": {},
   "source": [
    "### (7) Index\n",
    "\n",
    "+ loc : 라벨값 기반의 2차원 인덱싱을 지원하는 인덱서\n",
    "+ iloc : 순서를 나타내는 정수 기반의 인덱서\n",
    "+ at\n",
    "+ lat"
   ]
  },
  {
   "cell_type": "markdown",
   "id": "02e4ed37",
   "metadata": {},
   "source": [
    "#### loc"
   ]
  },
  {
   "cell_type": "code",
   "execution_count": 6,
   "id": "62e242af",
   "metadata": {},
   "outputs": [
    {
     "data": {
      "text/plain": [
       "array([[10, 11, 12, 13],\n",
       "       [14, 15, 16, 17],\n",
       "       [18, 19, 20, 21]])"
      ]
     },
     "execution_count": 6,
     "metadata": {},
     "output_type": "execute_result"
    }
   ],
   "source": [
    "np.arange(10, 22).reshape(3, 4)"
   ]
  },
  {
   "cell_type": "code",
   "execution_count": 10,
   "id": "ca9151d2",
   "metadata": {},
   "outputs": [
    {
     "data": {
      "text/html": [
       "<div>\n",
       "<style scoped>\n",
       "    .dataframe tbody tr th:only-of-type {\n",
       "        vertical-align: middle;\n",
       "    }\n",
       "\n",
       "    .dataframe tbody tr th {\n",
       "        vertical-align: top;\n",
       "    }\n",
       "\n",
       "    .dataframe thead th {\n",
       "        text-align: right;\n",
       "    }\n",
       "</style>\n",
       "<table border=\"1\" class=\"dataframe\">\n",
       "  <thead>\n",
       "    <tr style=\"text-align: right;\">\n",
       "      <th></th>\n",
       "      <th>A</th>\n",
       "      <th>B</th>\n",
       "      <th>C</th>\n",
       "      <th>D</th>\n",
       "    </tr>\n",
       "  </thead>\n",
       "  <tbody>\n",
       "    <tr>\n",
       "      <th>a</th>\n",
       "      <td>10</td>\n",
       "      <td>11</td>\n",
       "      <td>12</td>\n",
       "      <td>13</td>\n",
       "    </tr>\n",
       "    <tr>\n",
       "      <th>b</th>\n",
       "      <td>14</td>\n",
       "      <td>15</td>\n",
       "      <td>16</td>\n",
       "      <td>17</td>\n",
       "    </tr>\n",
       "    <tr>\n",
       "      <th>c</th>\n",
       "      <td>18</td>\n",
       "      <td>19</td>\n",
       "      <td>20</td>\n",
       "      <td>21</td>\n",
       "    </tr>\n",
       "  </tbody>\n",
       "</table>\n",
       "</div>"
      ],
      "text/plain": [
       "    A   B   C   D\n",
       "a  10  11  12  13\n",
       "b  14  15  16  17\n",
       "c  18  19  20  21"
      ]
     },
     "execution_count": 10,
     "metadata": {},
     "output_type": "execute_result"
    }
   ],
   "source": [
    "df = pd.DataFrame(np.arange(10, 22).reshape(3, 4), columns=[\"A\", \"B\", \"C\", \"D\"],\n",
    "            index=[\"a\", \"b\", \"c\"])\n",
    "\n",
    "df"
   ]
  },
  {
   "cell_type": "code",
   "execution_count": 12,
   "id": "a922583f",
   "metadata": {},
   "outputs": [
    {
     "name": "stdout",
     "output_type": "stream",
     "text": [
      "    A   B   C   D\n",
      "b  14  15  16  17\n",
      "-----------------------------\n",
      "A    14\n",
      "B    15\n",
      "C    16\n",
      "D    17\n",
      "Name: b, dtype: int32\n"
     ]
    }
   ],
   "source": [
    "#### 행에 접근\n",
    "\n",
    "print(df[\"b\":\"b\"])\n",
    "print(df[1:2])\n",
    "\n",
    "print(\"-----------------------------\")\n",
    "\n",
    "print(df.loc[\"b\"])\n",
    "# print(df.loc[2])"
   ]
  },
  {
   "cell_type": "code",
   "execution_count": null,
   "id": "61fde206",
   "metadata": {},
   "outputs": [],
   "source": [
    "##### 행과 열에 접근\n",
    "\n",
    "# b행 b열에 있는 하나의 값 조회\n",
    "print(df[\"B\"][\"b\"])\n",
    "print(df[\"B\"][1])\n",
    "# print(df[\"B\", \"b\"])\n",
    "print(\"-----------------------------\")\n",
    "print(df.loc[\"b\"][\"B\"])\n",
    "# print(df.loc[1][\"B\"])\n",
    "print(df.loc[\"b\", \"B\"])\n",
    "\n",
    "print(\"-----------------------------\")\n",
    "\n",
    "print(df.loc[\"b\":, \"B\":])\n",
    "print(df.loc[[\"a\", \"c\"], [\"B\", \"C\"]])\n",
    "\n",
    "print(\"-----------------------------\")\n",
    "\n",
    "# A열에 있는 값이 15보다 큰 행만 조회\n",
    "print(df.loc[df.loc[:, \"A\"]>15])\n",
    "print(df.loc[df[\"A\"]>15])\n",
    "\n",
    "# 모든 행에 대해서 첫번째 행에 있는 값이 11보다 작거나 같은 행의 컬럼을 조회\n"
   ]
  },
  {
   "cell_type": "markdown",
   "id": "7453fef4",
   "metadata": {},
   "source": [
    "#### iloc"
   ]
  },
  {
   "cell_type": "code",
   "execution_count": 27,
   "id": "9489144e",
   "metadata": {},
   "outputs": [
    {
     "name": "stdout",
     "output_type": "stream",
     "text": [
      "10\n",
      "----------------------\n",
      "10\n",
      "----------------------\n",
      "10\n"
     ]
    }
   ],
   "source": [
    "print(df[\"A\"][\"a\"])\n",
    "# print(df[0][0])\n",
    "\n",
    "print(\"----------------------\")\n",
    "\n",
    "print(df.loc[\"a\", \"A\"])\n",
    "# print(df.loc[0, 0])\n",
    "\n",
    "print(\"----------------------\")\n",
    "\n",
    "print(df.iloc[0, 0])"
   ]
  },
  {
   "cell_type": "markdown",
   "id": "d56d71d4",
   "metadata": {},
   "source": [
    "#### at, iat"
   ]
  },
  {
   "cell_type": "code",
   "execution_count": 28,
   "id": "310164b3",
   "metadata": {},
   "outputs": [
    {
     "name": "stdout",
     "output_type": "stream",
     "text": [
      "8.62 µs ± 266 ns per loop (mean ± std. dev. of 7 runs, 100,000 loops each)\n",
      "4.51 µs ± 400 ns per loop (mean ± std. dev. of 7 runs, 100,000 loops each)\n"
     ]
    }
   ],
   "source": [
    "%timeit df.loc[\"a\", \"A\"]\n",
    "%timeit df.at[\"a\", \"A\"]"
   ]
  },
  {
   "cell_type": "markdown",
   "id": "45e5dcfe",
   "metadata": {},
   "source": [
    "## 3. Data Manipulation"
   ]
  },
  {
   "cell_type": "markdown",
   "id": "5b9a4e00",
   "metadata": {},
   "source": [
    "### (1) 데이터의 개수 세기"
   ]
  },
  {
   "cell_type": "code",
   "execution_count": 31,
   "id": "faa71f46",
   "metadata": {},
   "outputs": [
    {
     "name": "stdout",
     "output_type": "stream",
     "text": [
      "10\n",
      "10\n",
      "----------------------\n",
      "10\n",
      "9\n"
     ]
    }
   ],
   "source": [
    "##### Series\n",
    "\n",
    "s = pd.Series(range(10))\n",
    "s\n",
    "\n",
    "print(len(s))\n",
    "print(s.count())\n",
    "\n",
    "print(\"----------------------\")\n",
    "\n",
    "s[3] = np.nan\n",
    "s\n",
    "\n",
    "print(len(s))\n",
    "print(s.count()) # 결측치를 제외하고 카운트"
   ]
  },
  {
   "cell_type": "code",
   "execution_count": 34,
   "id": "d3ea4306",
   "metadata": {},
   "outputs": [
    {
     "data": {
      "text/html": [
       "<div>\n",
       "<style scoped>\n",
       "    .dataframe tbody tr th:only-of-type {\n",
       "        vertical-align: middle;\n",
       "    }\n",
       "\n",
       "    .dataframe tbody tr th {\n",
       "        vertical-align: top;\n",
       "    }\n",
       "\n",
       "    .dataframe thead th {\n",
       "        text-align: right;\n",
       "    }\n",
       "</style>\n",
       "<table border=\"1\" class=\"dataframe\">\n",
       "  <thead>\n",
       "    <tr style=\"text-align: right;\">\n",
       "      <th></th>\n",
       "      <th>0</th>\n",
       "      <th>1</th>\n",
       "      <th>2</th>\n",
       "      <th>3</th>\n",
       "      <th>4</th>\n",
       "    </tr>\n",
       "  </thead>\n",
       "  <tbody>\n",
       "    <tr>\n",
       "      <th>0</th>\n",
       "      <td>4</td>\n",
       "      <td>4</td>\n",
       "      <td>3</td>\n",
       "      <td>3</td>\n",
       "      <td>2</td>\n",
       "    </tr>\n",
       "    <tr>\n",
       "      <th>1</th>\n",
       "      <td>1</td>\n",
       "      <td>0</td>\n",
       "      <td>2</td>\n",
       "      <td>4</td>\n",
       "      <td>1</td>\n",
       "    </tr>\n",
       "    <tr>\n",
       "      <th>2</th>\n",
       "      <td>0</td>\n",
       "      <td>0</td>\n",
       "      <td>1</td>\n",
       "      <td>4</td>\n",
       "      <td>2</td>\n",
       "    </tr>\n",
       "    <tr>\n",
       "      <th>3</th>\n",
       "      <td>4</td>\n",
       "      <td>1</td>\n",
       "      <td>4</td>\n",
       "      <td>4</td>\n",
       "      <td>3</td>\n",
       "    </tr>\n",
       "  </tbody>\n",
       "</table>\n",
       "</div>"
      ],
      "text/plain": [
       "   0  1  2  3  4\n",
       "0  4  4  3  3  2\n",
       "1  1  0  2  4  1\n",
       "2  0  0  1  4  2\n",
       "3  4  1  4  4  3"
      ]
     },
     "execution_count": 34,
     "metadata": {},
     "output_type": "execute_result"
    }
   ],
   "source": [
    "##### DataFrame\n",
    "\n",
    "df = pd.DataFrame(np.random.randint(5, size=(4, 5)))\n",
    "df"
   ]
  },
  {
   "cell_type": "code",
   "execution_count": 35,
   "id": "c0f0af0f",
   "metadata": {},
   "outputs": [
    {
     "data": {
      "text/plain": [
       "0    4\n",
       "1    4\n",
       "2    4\n",
       "3    4\n",
       "4    4\n",
       "dtype: int64"
      ]
     },
     "execution_count": 35,
     "metadata": {},
     "output_type": "execute_result"
    }
   ],
   "source": [
    "df.count()"
   ]
  },
  {
   "cell_type": "code",
   "execution_count": 36,
   "id": "741bd779",
   "metadata": {},
   "outputs": [
    {
     "data": {
      "text/html": [
       "<div>\n",
       "<style scoped>\n",
       "    .dataframe tbody tr th:only-of-type {\n",
       "        vertical-align: middle;\n",
       "    }\n",
       "\n",
       "    .dataframe tbody tr th {\n",
       "        vertical-align: top;\n",
       "    }\n",
       "\n",
       "    .dataframe thead th {\n",
       "        text-align: right;\n",
       "    }\n",
       "</style>\n",
       "<table border=\"1\" class=\"dataframe\">\n",
       "  <thead>\n",
       "    <tr style=\"text-align: right;\">\n",
       "      <th></th>\n",
       "      <th>0</th>\n",
       "      <th>1</th>\n",
       "      <th>2</th>\n",
       "      <th>3</th>\n",
       "      <th>4</th>\n",
       "    </tr>\n",
       "  </thead>\n",
       "  <tbody>\n",
       "    <tr>\n",
       "      <th>0</th>\n",
       "      <td>4</td>\n",
       "      <td>4</td>\n",
       "      <td>3</td>\n",
       "      <td>3.0</td>\n",
       "      <td>2</td>\n",
       "    </tr>\n",
       "    <tr>\n",
       "      <th>1</th>\n",
       "      <td>1</td>\n",
       "      <td>0</td>\n",
       "      <td>2</td>\n",
       "      <td>4.0</td>\n",
       "      <td>1</td>\n",
       "    </tr>\n",
       "    <tr>\n",
       "      <th>2</th>\n",
       "      <td>0</td>\n",
       "      <td>0</td>\n",
       "      <td>1</td>\n",
       "      <td>NaN</td>\n",
       "      <td>2</td>\n",
       "    </tr>\n",
       "    <tr>\n",
       "      <th>3</th>\n",
       "      <td>4</td>\n",
       "      <td>1</td>\n",
       "      <td>4</td>\n",
       "      <td>4.0</td>\n",
       "      <td>3</td>\n",
       "    </tr>\n",
       "  </tbody>\n",
       "</table>\n",
       "</div>"
      ],
      "text/plain": [
       "   0  1  2    3  4\n",
       "0  4  4  3  3.0  2\n",
       "1  1  0  2  4.0  1\n",
       "2  0  0  1  NaN  2\n",
       "3  4  1  4  4.0  3"
      ]
     },
     "execution_count": 36,
     "metadata": {},
     "output_type": "execute_result"
    }
   ],
   "source": [
    "df.iloc[2, 3] = np.nan\n",
    "df"
   ]
  },
  {
   "cell_type": "code",
   "execution_count": 37,
   "id": "b74b6e70",
   "metadata": {},
   "outputs": [
    {
     "data": {
      "text/plain": [
       "0    4\n",
       "1    4\n",
       "2    4\n",
       "3    3\n",
       "4    4\n",
       "dtype: int64"
      ]
     },
     "execution_count": 37,
     "metadata": {},
     "output_type": "execute_result"
    }
   ],
   "source": [
    "df.count()"
   ]
  },
  {
   "cell_type": "code",
   "execution_count": 46,
   "id": "bd30fe54",
   "metadata": {},
   "outputs": [
    {
     "name": "stdout",
     "output_type": "stream",
     "text": [
      "2    22\n",
      "0    18\n",
      "3    16\n",
      "5    15\n",
      "4    15\n",
      "1    14\n",
      "dtype: int64\n",
      "------------------------------\n",
      "4    2\n",
      "1    1\n",
      "0    1\n",
      "Name: 0, dtype: int64\n",
      "0    2\n",
      "4    1\n",
      "1    1\n",
      "Name: 1, dtype: int64\n"
     ]
    }
   ],
   "source": [
    "##### 카테고리별로 갯수 세기\n",
    "np.random.seed(2)\n",
    "\n",
    "s2 = pd.Series(np.random.randint(6, size=100))\n",
    "s2\n",
    "\n",
    "print(s2.value_counts())\n",
    "\n",
    "print(\"------------------------------\")\n",
    "print(df[0].value_counts())\n",
    "print(df[1].value_counts())"
   ]
  },
  {
   "cell_type": "markdown",
   "id": "2eec2c79",
   "metadata": {},
   "source": [
    "### (2) 정렬\n",
    "+ sort_index()\n",
    "+ sort_values()\n",
    "+ 결측치는 정렬의 대상이 되지 않는다."
   ]
  },
  {
   "cell_type": "code",
   "execution_count": null,
   "id": "563704cb",
   "metadata": {},
   "outputs": [],
   "source": [
    "##### Series\n",
    "np.random.seed(2)\n",
    "\n",
    "s = pd.Series(np.random.randint(6, size=100))\n",
    "\n",
    "print(s.value_counts().sort_index())\n",
    "print(\"------------------------------\")\n",
    "print(s.value_counts().sort_values())\n",
    "print(\"------------------------------\")\n",
    "print(s.sort_values(ascending=False))"
   ]
  },
  {
   "cell_type": "code",
   "execution_count": 60,
   "id": "66231124",
   "metadata": {},
   "outputs": [
    {
     "name": "stdout",
     "output_type": "stream",
     "text": [
      "   0  1  2  3\n",
      "0  0  0  3  2\n",
      "1  3  0  2  1\n",
      "2  3  2  4  4\n",
      "3  4  3  4  2\n",
      "----------------------------------------------------\n",
      "   0  1  2  3\n",
      "1  3  0  2  1\n",
      "0  0  0  3  2\n",
      "2  3  2  4  4\n",
      "3  4  3  4  2\n",
      "----------------------------------------------------\n",
      "   0  1  2  3\n",
      "0  0  0  3  2\n",
      "1  3  0  2  1\n",
      "2  3  2  4  4\n",
      "3  4  3  4  2\n",
      "----------------------------------------------------\n",
      "   seq  name  age\n",
      "0    1  park   30\n",
      "1    3   lee   20\n",
      "2    2  choi   40\n",
      "----------------------------------------------------\n",
      "   seq  name  age\n",
      "1    3   lee   20\n",
      "2    2  choi   40\n",
      "0    1  park   30\n",
      "----------------------------------------------------\n",
      "   seq  name  age\n",
      "0    1  park   30\n",
      "1    3   lee   20\n",
      "2    2  choi   40\n",
      "   seq  name  age\n",
      "0    1  park   30\n",
      "1    3   lee   20\n",
      "2    2  choi   40\n",
      "   seq  name  age\n",
      "0    1  park   30\n",
      "1    3   lee   20\n",
      "2    2  choi   40\n",
      "----------------------------------------------------\n",
      "   seq  name  age\n",
      "0    1  park   30\n",
      "1    3   lee   20\n",
      "2    2  choi   40\n",
      "----------------------------------------------------\n",
      "   seq  name  age\n",
      "0    1  park   30\n",
      "1    3   lee   20\n",
      "2    2  choi   40\n"
     ]
    }
   ],
   "source": [
    "##### DataFrame\n",
    "np.random.seed(2)\n",
    "\n",
    "df = pd.DataFrame(np.random.randint(5, size=(4, 4)))\n",
    "print(df)\n",
    "\n",
    "print(\"----------------------------------------------------\")\n",
    "\n",
    "print(df.sort_values(by=2))\n",
    "print(\"----------------------------------------------------\")\n",
    "print(df.sort_values(by=[0, 2]))\n",
    "\n",
    "print(\"----------------------------------------------------\")\n",
    "\n",
    "df1 = pd.DataFrame({\"seq\":[1, 3, 2], \"name\":[\"park\", \"lee\", \"choi\"], \"age\":[30, 20, 40]})\n",
    "print(df1)\n",
    "\n",
    "print(\"----------------------------------------------------\")\n",
    "\n",
    "# seq를 기준으로 정렬(내림차순)\n",
    "print(df1.sort_values(by=\"seq\", ascending=False, axis=0))\n",
    "\n",
    "print(\"----------------------------------------------------\")\n",
    "\n",
    "# index를 기준으로 정렬\n",
    "print(df1.sort_index())\n",
    "print(df1.sort_index(axis=0))\n",
    "print(df1.sort_index(axis=1, ascending=False))\n",
    "\n",
    "print(\"----------------------------------------------------\")\n",
    "\n",
    "print(df1) # 원본데이터는 변경되지 않음\n",
    "\n",
    "print(\"----------------------------------------------------\")\n",
    "\n",
    "df1.sort_index(axis=1, ascending=False, inplace=True) # 원본데이터를 정렬\n",
    "print(df1)"
   ]
  },
  {
   "cell_type": "markdown",
   "id": "48ecd502",
   "metadata": {},
   "source": [
    "### (3) 행, 열의 집계 연산(합계, 평균, ...)"
   ]
  },
  {
   "cell_type": "code",
   "execution_count": 66,
   "id": "4820a1c9",
   "metadata": {},
   "outputs": [
    {
     "name": "stdout",
     "output_type": "stream",
     "text": [
      "   0  1  2  3  4  5  6  7\n",
      "0  8  8  6  2  8  7  2  1\n",
      "1  5  4  4  5  7  3  6  4\n",
      "2  3  7  6  1  3  5  8  4\n",
      "3  6  3  9  2  0  4  2  4\n",
      "----------------------------------------------------\n",
      "0    22\n",
      "1    22\n",
      "2    25\n",
      "3    10\n",
      "4    18\n",
      "5    19\n",
      "6    18\n",
      "7    13\n",
      "dtype: int64\n",
      "----------------------------------------------------\n",
      "0    22\n",
      "1    22\n",
      "2    25\n",
      "3    10\n",
      "4    18\n",
      "5    19\n",
      "6    18\n",
      "7    13\n",
      "dtype: int64\n",
      "----------------------------------------------------\n",
      "0    42\n",
      "1    38\n",
      "2    37\n",
      "3    30\n",
      "dtype: int64\n",
      "----------------------------------------------------\n",
      "           0     1     2     3     4     5     6     7\n",
      "0        8.0   8.0   6.0   2.0   8.0   7.0   2.0   1.0\n",
      "1        5.0   4.0   4.0   5.0   7.0   3.0   6.0   4.0\n",
      "2        3.0   7.0   6.0   1.0   3.0   5.0   8.0   4.0\n",
      "3        6.0   3.0   9.0   2.0   0.0   4.0   2.0   4.0\n",
      "ColSum  22.0  22.0  25.0  10.0  18.0  19.0  18.0  13.0\n",
      "----------------------------------------------------\n",
      "           0     1     2     3     4     5     6     7  RowSum\n",
      "0        8.0   8.0   6.0   2.0   8.0   7.0   2.0   1.0    42.0\n",
      "1        5.0   4.0   4.0   5.0   7.0   3.0   6.0   4.0    38.0\n",
      "2        3.0   7.0   6.0   1.0   3.0   5.0   8.0   4.0    37.0\n",
      "3        6.0   3.0   9.0   2.0   0.0   4.0   2.0   4.0    30.0\n",
      "ColSum  22.0  22.0  25.0  10.0  18.0  19.0  18.0  13.0   147.0\n"
     ]
    }
   ],
   "source": [
    "##### DataFrame\n",
    "np.random.seed(2)\n",
    "\n",
    "df = pd.DataFrame(np.random.randint(10, size=(4, 8)))\n",
    "print(df)\n",
    "\n",
    "print(\"----------------------------------------------------\")\n",
    "\n",
    "print(df.sum())\n",
    "print(\"----------------------------------------------------\")\n",
    "print(df.sum(axis=0))\n",
    "print(\"----------------------------------------------------\")\n",
    "print(df.sum(axis=1))\n",
    "print(\"----------------------------------------------------\")\n",
    "\n",
    "df.loc[\"ColSum\", :] = df.sum()\n",
    "print(df)\n",
    "\n",
    "print(\"----------------------------------------------------\")\n",
    "\n",
    "df[\"RowSum\"] = df.sum(axis=1)\n",
    "print(df)"
   ]
  },
  {
   "cell_type": "markdown",
   "id": "56f5c0c0",
   "metadata": {},
   "source": [
    "### (4) apply()\n",
    "\n",
    "+ 행이나 열 단위로 더 복잡한 처리를 하고자 할 때 사용\n",
    "+ 인수로 행 또는 열을 받는 함수를 apply()의 인자로 넣으면 각 열(또는 행)을 반복하여 그 함수에 적용"
   ]
  },
  {
   "cell_type": "code",
   "execution_count": 68,
   "id": "a7ce665d",
   "metadata": {},
   "outputs": [
    {
     "data": {
      "text/html": [
       "<div>\n",
       "<style scoped>\n",
       "    .dataframe tbody tr th:only-of-type {\n",
       "        vertical-align: middle;\n",
       "    }\n",
       "\n",
       "    .dataframe tbody tr th {\n",
       "        vertical-align: top;\n",
       "    }\n",
       "\n",
       "    .dataframe thead th {\n",
       "        text-align: right;\n",
       "    }\n",
       "</style>\n",
       "<table border=\"1\" class=\"dataframe\">\n",
       "  <thead>\n",
       "    <tr style=\"text-align: right;\">\n",
       "      <th></th>\n",
       "      <th>A</th>\n",
       "      <th>B</th>\n",
       "      <th>C</th>\n",
       "    </tr>\n",
       "  </thead>\n",
       "  <tbody>\n",
       "    <tr>\n",
       "      <th>0</th>\n",
       "      <td>1</td>\n",
       "      <td>2</td>\n",
       "      <td>1</td>\n",
       "    </tr>\n",
       "    <tr>\n",
       "      <th>1</th>\n",
       "      <td>3</td>\n",
       "      <td>3</td>\n",
       "      <td>5</td>\n",
       "    </tr>\n",
       "    <tr>\n",
       "      <th>2</th>\n",
       "      <td>4</td>\n",
       "      <td>1</td>\n",
       "      <td>2</td>\n",
       "    </tr>\n",
       "    <tr>\n",
       "      <th>3</th>\n",
       "      <td>3</td>\n",
       "      <td>2</td>\n",
       "      <td>4</td>\n",
       "    </tr>\n",
       "    <tr>\n",
       "      <th>4</th>\n",
       "      <td>4</td>\n",
       "      <td>3</td>\n",
       "      <td>4</td>\n",
       "    </tr>\n",
       "  </tbody>\n",
       "</table>\n",
       "</div>"
      ],
      "text/plain": [
       "   A  B  C\n",
       "0  1  2  1\n",
       "1  3  3  5\n",
       "2  4  1  2\n",
       "3  3  2  4\n",
       "4  4  3  4"
      ]
     },
     "execution_count": 68,
     "metadata": {},
     "output_type": "execute_result"
    }
   ],
   "source": [
    "df = pd.DataFrame({\n",
    "    \"A\":[1, 3, 4, 3, 4],\n",
    "    \"B\":[2, 3, 1, 2, 3],\n",
    "    \"C\":[1, 5, 2, 4, 4]\n",
    "})\n",
    "df\n"
   ]
  },
  {
   "cell_type": "code",
   "execution_count": 71,
   "id": "ea6aeb59",
   "metadata": {},
   "outputs": [
    {
     "name": "stdout",
     "output_type": "stream",
     "text": [
      "3\n",
      "2\n",
      "4\n",
      "----------------------------\n",
      "A    3\n",
      "B    2\n",
      "C    4\n",
      "dtype: int64\n",
      "----------------------------\n",
      "0    1\n",
      "1    2\n",
      "2    3\n",
      "3    2\n",
      "4    1\n",
      "dtype: int64\n"
     ]
    }
   ],
   "source": [
    "def diff(x):\n",
    "    return x.max() - x.min()\n",
    "\n",
    "###########################\n",
    "print(diff(df[\"A\"]))\n",
    "print(diff(df[\"B\"]))\n",
    "print(diff(df[\"C\"]))\n",
    "\n",
    "print(\"----------------------------\")\n",
    "\n",
    "print(df.apply(diff, axis=0))\n",
    "print(\"----------------------------\")\n",
    "print(df.apply(diff, axis=1))"
   ]
  },
  {
   "cell_type": "code",
   "execution_count": 73,
   "id": "ee2027a2",
   "metadata": {},
   "outputs": [
    {
     "data": {
      "text/plain": [
       "A    3\n",
       "B    2\n",
       "C    4\n",
       "dtype: int64"
      ]
     },
     "execution_count": 73,
     "metadata": {},
     "output_type": "execute_result"
    }
   ],
   "source": [
    "##### 람다 함수\n",
    "df.apply(lambda x:x.max() - x.min(), axis=0)"
   ]
  },
  {
   "cell_type": "code",
   "execution_count": 74,
   "id": "50178567",
   "metadata": {},
   "outputs": [
    {
     "name": "stdout",
     "output_type": "stream",
     "text": [
      "3    2\n",
      "4    2\n",
      "1    1\n",
      "Name: A, dtype: int64\n",
      "2    2\n",
      "3    2\n",
      "1    1\n",
      "Name: B, dtype: int64\n",
      "4    2\n",
      "1    1\n",
      "5    1\n",
      "2    1\n",
      "Name: C, dtype: int64\n",
      "--------------------------------------\n"
     ]
    },
    {
     "data": {
      "text/html": [
       "<div>\n",
       "<style scoped>\n",
       "    .dataframe tbody tr th:only-of-type {\n",
       "        vertical-align: middle;\n",
       "    }\n",
       "\n",
       "    .dataframe tbody tr th {\n",
       "        vertical-align: top;\n",
       "    }\n",
       "\n",
       "    .dataframe thead th {\n",
       "        text-align: right;\n",
       "    }\n",
       "</style>\n",
       "<table border=\"1\" class=\"dataframe\">\n",
       "  <thead>\n",
       "    <tr style=\"text-align: right;\">\n",
       "      <th></th>\n",
       "      <th>A</th>\n",
       "      <th>B</th>\n",
       "      <th>C</th>\n",
       "    </tr>\n",
       "  </thead>\n",
       "  <tbody>\n",
       "    <tr>\n",
       "      <th>1</th>\n",
       "      <td>1.0</td>\n",
       "      <td>1.0</td>\n",
       "      <td>1.0</td>\n",
       "    </tr>\n",
       "    <tr>\n",
       "      <th>2</th>\n",
       "      <td>NaN</td>\n",
       "      <td>2.0</td>\n",
       "      <td>1.0</td>\n",
       "    </tr>\n",
       "    <tr>\n",
       "      <th>3</th>\n",
       "      <td>2.0</td>\n",
       "      <td>2.0</td>\n",
       "      <td>NaN</td>\n",
       "    </tr>\n",
       "    <tr>\n",
       "      <th>4</th>\n",
       "      <td>2.0</td>\n",
       "      <td>NaN</td>\n",
       "      <td>2.0</td>\n",
       "    </tr>\n",
       "    <tr>\n",
       "      <th>5</th>\n",
       "      <td>NaN</td>\n",
       "      <td>NaN</td>\n",
       "      <td>1.0</td>\n",
       "    </tr>\n",
       "  </tbody>\n",
       "</table>\n",
       "</div>"
      ],
      "text/plain": [
       "     A    B    C\n",
       "1  1.0  1.0  1.0\n",
       "2  NaN  2.0  1.0\n",
       "3  2.0  2.0  NaN\n",
       "4  2.0  NaN  2.0\n",
       "5  NaN  NaN  1.0"
      ]
     },
     "execution_count": 74,
     "metadata": {},
     "output_type": "execute_result"
    }
   ],
   "source": [
    "print(df[\"A\"].value_counts())\n",
    "print(df[\"B\"].value_counts())\n",
    "print(df[\"C\"].value_counts())\n",
    "\n",
    "print(\"--------------------------------------\")\n",
    "\n",
    "df.apply(pd.value_counts, axis=0)"
   ]
  },
  {
   "cell_type": "markdown",
   "id": "3aebf157",
   "metadata": {},
   "source": [
    "### (5) 숫자값을 카테고리로 변경(양적 데이터 -> 질적 데이터)\n",
    "+ cut()\n",
    "+ qcut()"
   ]
  },
  {
   "cell_type": "code",
   "execution_count": 81,
   "id": "446133f9",
   "metadata": {},
   "outputs": [
    {
     "data": {
      "text/plain": [
       "[NaN, '미성년자', '미성년자', '청년', '청년', ..., '노년', '청년', '장년', '중년', NaN]\n",
       "Length: 12\n",
       "Categories (5, object): ['미성년자' < '청년' < '중년' < '장년' < '노년']"
      ]
     },
     "execution_count": 81,
     "metadata": {},
     "output_type": "execute_result"
    }
   ],
   "source": [
    "# 1 ~ 15 : 미성년자\n",
    "# 16 ~ 25 : 청년\n",
    "# 26 ~ 35 : 중년\n",
    "# 36 ~ 60 : 장년\n",
    "# 61 ~ 99 : 노년\n",
    "\n",
    "ages = [0, 2, 10, 21, 23, 37, 31, 61, 20, 41, 32, 100]\n",
    "\n",
    "cat = pd.cut(x=ages, bins=[1, 15, 25, 35, 60, 99], \n",
    "          labels=[\"미성년자\", \"청년\", \"중년\", \"장년\", \"노년\"])\n",
    "cat"
   ]
  },
  {
   "cell_type": "code",
   "execution_count": 83,
   "id": "f2e6f03e",
   "metadata": {},
   "outputs": [
    {
     "name": "stdout",
     "output_type": "stream",
     "text": [
      "<class 'pandas.core.arrays.categorical.Categorical'>\n",
      "Index(['미성년자', '청년', '중년', '장년', '노년'], dtype='object')\n",
      "[-1  0  0  1  1  3  2  4  1  3  2 -1]\n"
     ]
    }
   ],
   "source": [
    "print(type(cat))\n",
    "print(cat.categories)\n",
    "print(cat.codes)"
   ]
  },
  {
   "cell_type": "code",
   "execution_count": 87,
   "id": "216571dc",
   "metadata": {},
   "outputs": [
    {
     "name": "stdout",
     "output_type": "stream",
     "text": [
      "[ 0.46743311 -0.65153386 -1.55111085 -0.98065937 -1.92976791  1.08920566\n",
      " -0.21475442  0.77810593  0.34417516  1.13722867 -0.03396209  0.87750193\n",
      "  0.08905175  0.53228604  0.07000984  0.51154977 -0.8411135   0.73354563\n",
      "  0.16921267  0.52085725  0.5488608   0.05153101  1.38705166  2.49518749\n",
      "  0.06036241 -0.59235982 -0.72755832  1.35099667  0.66146251  1.8502805\n",
      "  0.22939746 -1.43098002 -2.0886155  -0.30903482 -0.48219668  0.17870076\n",
      " -1.0282453  -1.98544372 -1.04766042  0.38303054 -1.99146411 -1.00385355\n",
      " -0.07417896  0.69238217  0.40211121  0.92954864  0.80795912 -1.72551928\n",
      " -2.63591063  0.98043521  0.14097589  0.83138488  0.12270617  0.69951689\n",
      "  0.6688202   1.28525531  0.3208184  -1.27496244  1.04849034  1.72520311\n",
      "  2.30677471  1.04133905  0.97521788  0.75213466  1.83957541 -0.47130544\n",
      " -0.53954006 -0.13503553 -1.17639612  1.43298905 -1.67455198  0.3786587\n",
      " -0.6513132  -0.94638913 -0.0589768   0.32946936 -0.60016533  0.49392574\n",
      " -0.48532313  1.56402265 -0.38919383  0.44200486 -0.25273053  1.14565511\n",
      " -0.42780534 -0.79189258 -0.45517689  1.77411629 -0.75630889 -0.77223542\n",
      "  1.03157673  1.34853988 -0.40469303 -0.56127558  0.00431505 -0.33534561\n",
      " -0.94632661 -0.08740308 -1.84331213 -0.22603465]\n",
      "['Q3', 'Q1', 'Q1', 'Q1', 'Q1', ..., 'Q2', 'Q1', 'Q2', 'Q1', 'Q2']\n",
      "Length: 100\n",
      "Categories (4, object): ['Q1' < 'Q2' < 'Q3' < 'Q4']\n"
     ]
    },
    {
     "data": {
      "text/plain": [
       "Q1    25\n",
       "Q2    25\n",
       "Q3    25\n",
       "Q4    25\n",
       "dtype: int64"
      ]
     },
     "execution_count": 87,
     "metadata": {},
     "output_type": "execute_result"
    }
   ],
   "source": [
    "##### qcut\n",
    "\n",
    "data = np.random.randn(100)\n",
    "\n",
    "cat = pd.qcut(data, 4, labels=[\"Q1\", \"Q2\", \"Q3\", \"Q4\"])\n",
    "print(data)\n",
    "print(cat)\n",
    "pd.value_counts(cat)"
   ]
  },
  {
   "cell_type": "markdown",
   "id": "8c8fe428",
   "metadata": {},
   "source": [
    "### 4. Index Maniqulation\n",
    "\n",
    "#### (1) set_index(), reset_index()"
   ]
  },
  {
   "cell_type": "code",
   "execution_count": 93,
   "id": "e74817ad",
   "metadata": {},
   "outputs": [
    {
     "data": {
      "text/html": [
       "<div>\n",
       "<style scoped>\n",
       "    .dataframe tbody tr th:only-of-type {\n",
       "        vertical-align: middle;\n",
       "    }\n",
       "\n",
       "    .dataframe tbody tr th {\n",
       "        vertical-align: top;\n",
       "    }\n",
       "\n",
       "    .dataframe thead th {\n",
       "        text-align: right;\n",
       "    }\n",
       "</style>\n",
       "<table border=\"1\" class=\"dataframe\">\n",
       "  <thead>\n",
       "    <tr style=\"text-align: right;\">\n",
       "      <th></th>\n",
       "      <th>C1</th>\n",
       "      <th>C2</th>\n",
       "      <th>C3</th>\n",
       "      <th>C4</th>\n",
       "    </tr>\n",
       "  </thead>\n",
       "  <tbody>\n",
       "    <tr>\n",
       "      <th>0</th>\n",
       "      <td>A</td>\n",
       "      <td>1.0</td>\n",
       "      <td>1.0</td>\n",
       "      <td>1.0</td>\n",
       "    </tr>\n",
       "    <tr>\n",
       "      <th>1</th>\n",
       "      <td>B</td>\n",
       "      <td>1.0</td>\n",
       "      <td>0.0</td>\n",
       "      <td>1.0</td>\n",
       "    </tr>\n",
       "    <tr>\n",
       "      <th>2</th>\n",
       "      <td>C</td>\n",
       "      <td>1.0</td>\n",
       "      <td>1.0</td>\n",
       "      <td>1.0</td>\n",
       "    </tr>\n",
       "    <tr>\n",
       "      <th>3</th>\n",
       "      <td>D</td>\n",
       "      <td>1.0</td>\n",
       "      <td>1.0</td>\n",
       "      <td>1.0</td>\n",
       "    </tr>\n",
       "    <tr>\n",
       "      <th>4</th>\n",
       "      <td>E</td>\n",
       "      <td>0.0</td>\n",
       "      <td>0.0</td>\n",
       "      <td>0.0</td>\n",
       "    </tr>\n",
       "  </tbody>\n",
       "</table>\n",
       "</div>"
      ],
      "text/plain": [
       "  C1   C2   C3   C4\n",
       "0  A  1.0  1.0  1.0\n",
       "1  B  1.0  0.0  1.0\n",
       "2  C  1.0  1.0  1.0\n",
       "3  D  1.0  1.0  1.0\n",
       "4  E  0.0  0.0  0.0"
      ]
     },
     "execution_count": 93,
     "metadata": {},
     "output_type": "execute_result"
    }
   ],
   "source": [
    "np.random.seed(0)\n",
    "\n",
    "df = pd.DataFrame(np.vstack([list(\"ABCDE\"), np.round(np.random.rand(3, 5))]).T, \n",
    "            columns=[\"C1\", \"C2\", \"C3\", \"C4\"])\n",
    "df"
   ]
  },
  {
   "cell_type": "code",
   "execution_count": 94,
   "id": "6fbdb9b4",
   "metadata": {},
   "outputs": [
    {
     "data": {
      "text/html": [
       "<div>\n",
       "<style scoped>\n",
       "    .dataframe tbody tr th:only-of-type {\n",
       "        vertical-align: middle;\n",
       "    }\n",
       "\n",
       "    .dataframe tbody tr th {\n",
       "        vertical-align: top;\n",
       "    }\n",
       "\n",
       "    .dataframe thead th {\n",
       "        text-align: right;\n",
       "    }\n",
       "</style>\n",
       "<table border=\"1\" class=\"dataframe\">\n",
       "  <thead>\n",
       "    <tr style=\"text-align: right;\">\n",
       "      <th></th>\n",
       "      <th>C2</th>\n",
       "      <th>C3</th>\n",
       "      <th>C4</th>\n",
       "    </tr>\n",
       "    <tr>\n",
       "      <th>C1</th>\n",
       "      <th></th>\n",
       "      <th></th>\n",
       "      <th></th>\n",
       "    </tr>\n",
       "  </thead>\n",
       "  <tbody>\n",
       "    <tr>\n",
       "      <th>A</th>\n",
       "      <td>1.0</td>\n",
       "      <td>1.0</td>\n",
       "      <td>1.0</td>\n",
       "    </tr>\n",
       "    <tr>\n",
       "      <th>B</th>\n",
       "      <td>1.0</td>\n",
       "      <td>0.0</td>\n",
       "      <td>1.0</td>\n",
       "    </tr>\n",
       "    <tr>\n",
       "      <th>C</th>\n",
       "      <td>1.0</td>\n",
       "      <td>1.0</td>\n",
       "      <td>1.0</td>\n",
       "    </tr>\n",
       "    <tr>\n",
       "      <th>D</th>\n",
       "      <td>1.0</td>\n",
       "      <td>1.0</td>\n",
       "      <td>1.0</td>\n",
       "    </tr>\n",
       "    <tr>\n",
       "      <th>E</th>\n",
       "      <td>0.0</td>\n",
       "      <td>0.0</td>\n",
       "      <td>0.0</td>\n",
       "    </tr>\n",
       "  </tbody>\n",
       "</table>\n",
       "</div>"
      ],
      "text/plain": [
       "     C2   C3   C4\n",
       "C1               \n",
       "A   1.0  1.0  1.0\n",
       "B   1.0  0.0  1.0\n",
       "C   1.0  1.0  1.0\n",
       "D   1.0  1.0  1.0\n",
       "E   0.0  0.0  0.0"
      ]
     },
     "execution_count": 94,
     "metadata": {},
     "output_type": "execute_result"
    }
   ],
   "source": [
    "df2 = df.set_index(\"C1\")\n",
    "df2"
   ]
  },
  {
   "cell_type": "code",
   "execution_count": 97,
   "id": "4ef262c4",
   "metadata": {},
   "outputs": [
    {
     "data": {
      "text/html": [
       "<div>\n",
       "<style scoped>\n",
       "    .dataframe tbody tr th:only-of-type {\n",
       "        vertical-align: middle;\n",
       "    }\n",
       "\n",
       "    .dataframe tbody tr th {\n",
       "        vertical-align: top;\n",
       "    }\n",
       "\n",
       "    .dataframe thead th {\n",
       "        text-align: right;\n",
       "    }\n",
       "</style>\n",
       "<table border=\"1\" class=\"dataframe\">\n",
       "  <thead>\n",
       "    <tr style=\"text-align: right;\">\n",
       "      <th></th>\n",
       "      <th>C2</th>\n",
       "      <th>C3</th>\n",
       "      <th>C4</th>\n",
       "    </tr>\n",
       "  </thead>\n",
       "  <tbody>\n",
       "    <tr>\n",
       "      <th>0</th>\n",
       "      <td>1.0</td>\n",
       "      <td>1.0</td>\n",
       "      <td>1.0</td>\n",
       "    </tr>\n",
       "    <tr>\n",
       "      <th>1</th>\n",
       "      <td>1.0</td>\n",
       "      <td>0.0</td>\n",
       "      <td>1.0</td>\n",
       "    </tr>\n",
       "    <tr>\n",
       "      <th>2</th>\n",
       "      <td>1.0</td>\n",
       "      <td>1.0</td>\n",
       "      <td>1.0</td>\n",
       "    </tr>\n",
       "    <tr>\n",
       "      <th>3</th>\n",
       "      <td>1.0</td>\n",
       "      <td>1.0</td>\n",
       "      <td>1.0</td>\n",
       "    </tr>\n",
       "    <tr>\n",
       "      <th>4</th>\n",
       "      <td>0.0</td>\n",
       "      <td>0.0</td>\n",
       "      <td>0.0</td>\n",
       "    </tr>\n",
       "  </tbody>\n",
       "</table>\n",
       "</div>"
      ],
      "text/plain": [
       "    C2   C3   C4\n",
       "0  1.0  1.0  1.0\n",
       "1  1.0  0.0  1.0\n",
       "2  1.0  1.0  1.0\n",
       "3  1.0  1.0  1.0\n",
       "4  0.0  0.0  0.0"
      ]
     },
     "execution_count": 97,
     "metadata": {},
     "output_type": "execute_result"
    }
   ],
   "source": [
    "df2.reset_index(drop=True)"
   ]
  },
  {
   "cell_type": "markdown",
   "id": "85df43be",
   "metadata": {},
   "source": [
    "### (2) 다중 인덱스 조작"
   ]
  },
  {
   "cell_type": "code",
   "execution_count": 106,
   "id": "08a1859c",
   "metadata": {},
   "outputs": [
    {
     "data": {
      "text/html": [
       "<div>\n",
       "<style scoped>\n",
       "    .dataframe tbody tr th:only-of-type {\n",
       "        vertical-align: middle;\n",
       "    }\n",
       "\n",
       "    .dataframe tbody tr th {\n",
       "        vertical-align: top;\n",
       "    }\n",
       "\n",
       "    .dataframe thead tr th {\n",
       "        text-align: left;\n",
       "    }\n",
       "</style>\n",
       "<table border=\"1\" class=\"dataframe\">\n",
       "  <thead>\n",
       "    <tr>\n",
       "      <th>Cidx1</th>\n",
       "      <th colspan=\"2\" halign=\"left\">A</th>\n",
       "      <th colspan=\"2\" halign=\"left\">B</th>\n",
       "    </tr>\n",
       "    <tr>\n",
       "      <th>Cidx2</th>\n",
       "      <th>C1</th>\n",
       "      <th>C2</th>\n",
       "      <th>C3</th>\n",
       "      <th>C4</th>\n",
       "    </tr>\n",
       "  </thead>\n",
       "  <tbody>\n",
       "    <tr>\n",
       "      <th>0</th>\n",
       "      <td>A</td>\n",
       "      <td>0.0</td>\n",
       "      <td>0.0</td>\n",
       "      <td>1.0</td>\n",
       "    </tr>\n",
       "    <tr>\n",
       "      <th>1</th>\n",
       "      <td>B</td>\n",
       "      <td>0.0</td>\n",
       "      <td>1.0</td>\n",
       "      <td>0.0</td>\n",
       "    </tr>\n",
       "    <tr>\n",
       "      <th>2</th>\n",
       "      <td>C</td>\n",
       "      <td>1.0</td>\n",
       "      <td>0.0</td>\n",
       "      <td>1.0</td>\n",
       "    </tr>\n",
       "    <tr>\n",
       "      <th>3</th>\n",
       "      <td>D</td>\n",
       "      <td>0.0</td>\n",
       "      <td>1.0</td>\n",
       "      <td>1.0</td>\n",
       "    </tr>\n",
       "    <tr>\n",
       "      <th>4</th>\n",
       "      <td>E</td>\n",
       "      <td>0.0</td>\n",
       "      <td>0.0</td>\n",
       "      <td>1.0</td>\n",
       "    </tr>\n",
       "  </tbody>\n",
       "</table>\n",
       "</div>"
      ],
      "text/plain": [
       "Cidx1  A         B     \n",
       "Cidx2 C1   C2   C3   C4\n",
       "0      A  0.0  0.0  1.0\n",
       "1      B  0.0  1.0  0.0\n",
       "2      C  1.0  0.0  1.0\n",
       "3      D  0.0  1.0  1.0\n",
       "4      E  0.0  0.0  1.0"
      ]
     },
     "execution_count": 106,
     "metadata": {},
     "output_type": "execute_result"
    }
   ],
   "source": [
    "##### 다중 컬럼\n",
    "np.random.seed(0)\n",
    "\n",
    "df = pd.DataFrame(np.vstack([list(\"ABCDE\"), np.round(np.random.rand(3, 5))]).T, \n",
    "            columns=[[\"A\", \"A\", \"B\", \"B\"], [\"C1\", \"C2\", \"C3\", \"C4\"]])\n",
    "\n",
    "df.columns.names = [\"Cidx1\", \"Cidx2\"]\n",
    "df"
   ]
  },
  {
   "cell_type": "code",
   "execution_count": 117,
   "id": "bb286411",
   "metadata": {},
   "outputs": [
    {
     "name": "stdout",
     "output_type": "stream",
     "text": [
      "0    0.0\n",
      "1    0.0\n",
      "2    1.0\n",
      "3    0.0\n",
      "4    0.0\n",
      "Name: (A, C2), dtype: object\n",
      "0    0.0\n",
      "1    0.0\n",
      "2    1.0\n",
      "3    0.0\n",
      "4    0.0\n",
      "Name: (A, C2), dtype: object\n",
      "0.0\n",
      "1    0.0\n",
      "2    1.0\n",
      "3    0.0\n",
      "4    0.0\n",
      "Name: (A, C2), dtype: object\n",
      "--------------------\n",
      "0.0\n",
      "2    1.0\n",
      "3    0.0\n",
      "4    0.0\n",
      "Name: (A, C2), dtype: object\n",
      "--------------------\n",
      "0.0\n",
      "2    1.0\n",
      "3    0.0\n",
      "4    0.0\n",
      "Name: (A, C2), dtype: object\n"
     ]
    }
   ],
   "source": [
    "##### 인덱싱\n",
    "\n",
    "# print(df[\"B\"][\"C2\"])\n",
    "print(df[\"A\",\"C2\"])\n",
    "print(df[(\"A\", \"C2\")])\n",
    "\n",
    "print(df[\"A\", \"C2\"][1])\n",
    "print(df[\"A\", \"C2\"][1:])\n",
    "\n",
    "print(\"--------------------\")\n",
    "\n",
    "# loc\n",
    "print(df.loc[1, (\"A\", \"C2\")])\n",
    "print(df.loc[2:, (\"A\", \"C2\")])\n",
    "\n",
    "print(\"--------------------\")\n",
    "\n",
    "#iloc\n",
    "print(df.iloc[1, 1])\n",
    "print(df.iloc[2:, 1])"
   ]
  },
  {
   "cell_type": "code",
   "execution_count": 124,
   "id": "07688c3e",
   "metadata": {},
   "outputs": [
    {
     "name": "stdout",
     "output_type": "stream",
     "text": [
      "           A           B      \n",
      "           C     D     C     D\n",
      "M id_1  0.55  0.72  0.60  0.54\n",
      "  id_2  0.42  0.65  0.44  0.89\n",
      "  id_3  0.96  0.38  0.79  0.53\n",
      "F id_1  0.57  0.93  0.07  0.09\n",
      "  id_2  0.02  0.83  0.78  0.87\n",
      "  id_3  0.98  0.80  0.46  0.78\n"
     ]
    },
    {
     "data": {
      "text/html": [
       "<div>\n",
       "<style scoped>\n",
       "    .dataframe tbody tr th:only-of-type {\n",
       "        vertical-align: middle;\n",
       "    }\n",
       "\n",
       "    .dataframe tbody tr th {\n",
       "        vertical-align: top;\n",
       "    }\n",
       "\n",
       "    .dataframe thead tr th {\n",
       "        text-align: left;\n",
       "    }\n",
       "\n",
       "    .dataframe thead tr:last-of-type th {\n",
       "        text-align: right;\n",
       "    }\n",
       "</style>\n",
       "<table border=\"1\" class=\"dataframe\">\n",
       "  <thead>\n",
       "    <tr>\n",
       "      <th></th>\n",
       "      <th>Cidx1</th>\n",
       "      <th colspan=\"2\" halign=\"left\">A</th>\n",
       "      <th colspan=\"2\" halign=\"left\">B</th>\n",
       "    </tr>\n",
       "    <tr>\n",
       "      <th></th>\n",
       "      <th>Cidx2</th>\n",
       "      <th>C</th>\n",
       "      <th>D</th>\n",
       "      <th>C</th>\n",
       "      <th>D</th>\n",
       "    </tr>\n",
       "    <tr>\n",
       "      <th>Ridx1</th>\n",
       "      <th>Ridx2</th>\n",
       "      <th></th>\n",
       "      <th></th>\n",
       "      <th></th>\n",
       "      <th></th>\n",
       "    </tr>\n",
       "  </thead>\n",
       "  <tbody>\n",
       "    <tr>\n",
       "      <th rowspan=\"3\" valign=\"top\">M</th>\n",
       "      <th>id_1</th>\n",
       "      <td>0.55</td>\n",
       "      <td>0.72</td>\n",
       "      <td>0.60</td>\n",
       "      <td>0.54</td>\n",
       "    </tr>\n",
       "    <tr>\n",
       "      <th>id_2</th>\n",
       "      <td>0.42</td>\n",
       "      <td>0.65</td>\n",
       "      <td>0.44</td>\n",
       "      <td>0.89</td>\n",
       "    </tr>\n",
       "    <tr>\n",
       "      <th>id_3</th>\n",
       "      <td>0.96</td>\n",
       "      <td>0.38</td>\n",
       "      <td>0.79</td>\n",
       "      <td>0.53</td>\n",
       "    </tr>\n",
       "    <tr>\n",
       "      <th rowspan=\"3\" valign=\"top\">F</th>\n",
       "      <th>id_1</th>\n",
       "      <td>0.57</td>\n",
       "      <td>0.93</td>\n",
       "      <td>0.07</td>\n",
       "      <td>0.09</td>\n",
       "    </tr>\n",
       "    <tr>\n",
       "      <th>id_2</th>\n",
       "      <td>0.02</td>\n",
       "      <td>0.83</td>\n",
       "      <td>0.78</td>\n",
       "      <td>0.87</td>\n",
       "    </tr>\n",
       "    <tr>\n",
       "      <th>id_3</th>\n",
       "      <td>0.98</td>\n",
       "      <td>0.80</td>\n",
       "      <td>0.46</td>\n",
       "      <td>0.78</td>\n",
       "    </tr>\n",
       "  </tbody>\n",
       "</table>\n",
       "</div>"
      ],
      "text/plain": [
       "Cidx1           A           B      \n",
       "Cidx2           C     D     C     D\n",
       "Ridx1 Ridx2                        \n",
       "M     id_1   0.55  0.72  0.60  0.54\n",
       "      id_2   0.42  0.65  0.44  0.89\n",
       "      id_3   0.96  0.38  0.79  0.53\n",
       "F     id_1   0.57  0.93  0.07  0.09\n",
       "      id_2   0.02  0.83  0.78  0.87\n",
       "      id_3   0.98  0.80  0.46  0.78"
      ]
     },
     "execution_count": 124,
     "metadata": {},
     "output_type": "execute_result"
    }
   ],
   "source": [
    "##### 다중 컬럼과 다중 인덱스\n",
    "np.random.seed(0)\n",
    "# df = pd.DataFrame(np.round(np.random.rand(6, 4), 2),\n",
    "#                  columns=[[\"A\", \"A\", \"B\", \"B\"], [\"C\", \"D\",\"C\", \"D\"]],\n",
    "#                  index=[[\"M\", \"M\", \"M\", \"F\", \"F\", \"F\"], \n",
    "#                        [\"id_1\", \"id_2\", \"id_3\", \"id_1\", \"id_2\", \"id_3\"]])\n",
    "df = pd.DataFrame(np.round(np.random.rand(6, 4), 2),\n",
    "                 columns=[[\"A\", \"A\", \"B\", \"B\"], [\"C\", \"D\",\"C\", \"D\"]],\n",
    "                 index=[[\"M\", \"M\", \"M\", \"F\", \"F\", \"F\"], \n",
    "                       [\"id_\" + str(i+1) for i in range(3)]*2])\n",
    "print(df)\n",
    "\n",
    "df.columns.names = [\"Cidx1\", \"Cidx2\"]\n",
    "df.index.names = [\"Ridx1\", \"Ridx2\"]\n",
    "print(df)"
   ]
  },
  {
   "cell_type": "code",
   "execution_count": 153,
   "id": "db824f3a",
   "metadata": {},
   "outputs": [
    {
     "name": "stdout",
     "output_type": "stream",
     "text": [
      "Ridx2\n",
      "id_1    0.55\n",
      "Name: C, dtype: float64\n",
      "---------------------------\n",
      "0.55\n",
      "---------------------------\n",
      "0.55\n",
      "---------------------------\n",
      "Ridx1  Ridx2\n",
      "M      id_1     0.55\n",
      "Name: (A, C), dtype: float64\n"
     ]
    }
   ],
   "source": [
    "\"\"\"\n",
    "loc\n",
    "----\n",
    "Ridx2\n",
    "id_1    0.55\n",
    "\"\"\"\n",
    "\n",
    "print(df.loc[\"M\"][\"A\"] [\"C\"][:1])\n",
    "\n",
    "print(\"---------------------------\")\n",
    "\n",
    "\"\"\"\n",
    "기본 인덱스\n",
    "--------------\n",
    "0.55\n",
    "\"\"\"\n",
    "\n",
    "print(df[\"A\"][\"C\"][\"M\"][0])\n",
    "print(\"---------------------------\")\n",
    "\n",
    "\n",
    "\"\"\"\n",
    "iloc\n",
    "--------------\n",
    "0.55\n",
    "\"\"\"\n",
    "print(df.iloc[0, 0])\n",
    "print(\"---------------------------\")\n",
    "\n",
    "\"\"\"\n",
    "iloc\n",
    "--------------\n",
    "Ridx1  Ridx2\n",
    "M      id_1     0.55\n",
    "\"\"\"\n",
    "\n",
    "print(df.iloc[:1, 0])\n",
    "\n",
    "print(\"---------------------------\")"
   ]
  },
  {
   "cell_type": "code",
   "execution_count": 159,
   "id": "6c045297",
   "metadata": {},
   "outputs": [
    {
     "name": "stdout",
     "output_type": "stream",
     "text": [
      "Ridx1           M                 F            \n",
      "Ridx2        id_1  id_2  id_3  id_1  id_2  id_3\n",
      "Cidx1 Cidx2                                    \n",
      "A     C      0.55  0.42  0.96  0.57  0.02  0.98\n",
      "      D      0.72  0.65  0.38  0.93  0.83  0.80\n",
      "B     C      0.60  0.44  0.79  0.07  0.78  0.46\n",
      "      D      0.54  0.89  0.53  0.09  0.87  0.78\n",
      "----------------------------\n",
      "Cidx2                 C     D\n",
      "Ridx1 Ridx2 Cidx1            \n",
      "M     id_1  A      0.55  0.72\n",
      "            B      0.60  0.54\n",
      "      id_2  A      0.42  0.65\n",
      "            B      0.44  0.89\n",
      "      id_3  A      0.96  0.38\n",
      "            B      0.79  0.53\n",
      "F     id_1  A      0.57  0.93\n",
      "            B      0.07  0.09\n",
      "      id_2  A      0.02  0.83\n",
      "            B      0.78  0.87\n",
      "      id_3  A      0.98  0.80\n",
      "            B      0.46  0.78\n",
      "----------------------------\n",
      "Cidx2                 C     D\n",
      "Ridx1 Ridx2 Cidx1            \n",
      "M     id_1  A      0.55  0.72\n",
      "            B      0.60  0.54\n",
      "      id_2  A      0.42  0.65\n",
      "            B      0.44  0.89\n",
      "      id_3  A      0.96  0.38\n",
      "            B      0.79  0.53\n",
      "F     id_1  A      0.57  0.93\n",
      "            B      0.07  0.09\n",
      "      id_2  A      0.02  0.83\n",
      "            B      0.78  0.87\n",
      "      id_3  A      0.98  0.80\n",
      "            B      0.46  0.78\n",
      "----------------------------\n",
      "Cidx1                 A     B\n",
      "Ridx1 Ridx2 Cidx2            \n",
      "M     id_1  C      0.55  0.60\n",
      "            D      0.72  0.54\n",
      "      id_2  C      0.42  0.44\n",
      "            D      0.65  0.89\n",
      "      id_3  C      0.96  0.79\n",
      "            D      0.38  0.53\n",
      "F     id_1  C      0.57  0.07\n",
      "            D      0.93  0.09\n",
      "      id_2  C      0.02  0.78\n",
      "            D      0.83  0.87\n",
      "      id_3  C      0.98  0.46\n",
      "            D      0.80  0.78\n",
      "----------------------------\n",
      "Cidx1     A                       B                  \n",
      "Cidx2     C           D           C           D      \n",
      "Ridx1     F     M     F     M     F     M     F     M\n",
      "Ridx2                                                \n",
      "id_1   0.57  0.55  0.93  0.72  0.07  0.60  0.09  0.54\n",
      "id_2   0.02  0.42  0.83  0.65  0.78  0.44  0.87  0.89\n",
      "id_3   0.98  0.96  0.80  0.38  0.46  0.79  0.78  0.53\n",
      "----------------------------\n",
      "Cidx1     A                       B                  \n",
      "Cidx2     C           D           C           D      \n",
      "Ridx1     F     M     F     M     F     M     F     M\n",
      "Ridx2                                                \n",
      "id_1   0.57  0.55  0.93  0.72  0.07  0.60  0.09  0.54\n",
      "id_2   0.02  0.42  0.83  0.65  0.78  0.44  0.87  0.89\n",
      "id_3   0.98  0.96  0.80  0.38  0.46  0.79  0.78  0.53\n",
      "----------------------------\n",
      "Cidx1     A                                   B                              \n",
      "Cidx2     C                 D                 C                 D            \n",
      "Ridx2  id_1  id_2  id_3  id_1  id_2  id_3  id_1  id_2  id_3  id_1  id_2  id_3\n",
      "Ridx1                                                                        \n",
      "F      0.57  0.02  0.98  0.93  0.83  0.80  0.07  0.78  0.46  0.09  0.87  0.78\n",
      "M      0.55  0.42  0.96  0.72  0.65  0.38  0.60  0.44  0.79  0.54  0.89  0.53\n"
     ]
    }
   ],
   "source": [
    "##### 행 인덱스와 열 인덱스를 교환 : stack() - 열을 행으로, \n",
    "#####                                unstack() - 행을 열로\n",
    "\n",
    "print(df.T)\n",
    "print(\"----------------------------\")\n",
    "\n",
    "print(df.stack(\"Cidx1\"))\n",
    "\n",
    "print(\"----------------------------\")\n",
    "\n",
    "print(df.stack(0))\n",
    "\n",
    "print(\"----------------------------\")\n",
    "\n",
    "print(df.stack(1))\n",
    "\n",
    "print(\"----------------------------\")\n",
    "\n",
    "print(df.unstack(\"Ridx1\"))\n",
    "\n",
    "print(\"----------------------------\")\n",
    "\n",
    "print(df.unstack(0))\n",
    "\n",
    "print(\"----------------------------\")\n",
    "\n",
    "print(df.unstack(1))"
   ]
  },
  {
   "cell_type": "code",
   "execution_count": 160,
   "id": "05dbf744",
   "metadata": {},
   "outputs": [
    {
     "data": {
      "text/html": [
       "<div>\n",
       "<style scoped>\n",
       "    .dataframe tbody tr th:only-of-type {\n",
       "        vertical-align: middle;\n",
       "    }\n",
       "\n",
       "    .dataframe tbody tr th {\n",
       "        vertical-align: top;\n",
       "    }\n",
       "\n",
       "    .dataframe thead tr th {\n",
       "        text-align: left;\n",
       "    }\n",
       "\n",
       "    .dataframe thead tr:last-of-type th {\n",
       "        text-align: right;\n",
       "    }\n",
       "</style>\n",
       "<table border=\"1\" class=\"dataframe\">\n",
       "  <thead>\n",
       "    <tr>\n",
       "      <th></th>\n",
       "      <th>Cidx2</th>\n",
       "      <th>C</th>\n",
       "      <th>D</th>\n",
       "      <th>C</th>\n",
       "      <th>D</th>\n",
       "    </tr>\n",
       "    <tr>\n",
       "      <th></th>\n",
       "      <th>Cidx1</th>\n",
       "      <th>A</th>\n",
       "      <th>A</th>\n",
       "      <th>B</th>\n",
       "      <th>B</th>\n",
       "    </tr>\n",
       "    <tr>\n",
       "      <th>Ridx1</th>\n",
       "      <th>Ridx2</th>\n",
       "      <th></th>\n",
       "      <th></th>\n",
       "      <th></th>\n",
       "      <th></th>\n",
       "    </tr>\n",
       "  </thead>\n",
       "  <tbody>\n",
       "    <tr>\n",
       "      <th rowspan=\"3\" valign=\"top\">M</th>\n",
       "      <th>id_1</th>\n",
       "      <td>0.55</td>\n",
       "      <td>0.72</td>\n",
       "      <td>0.60</td>\n",
       "      <td>0.54</td>\n",
       "    </tr>\n",
       "    <tr>\n",
       "      <th>id_2</th>\n",
       "      <td>0.42</td>\n",
       "      <td>0.65</td>\n",
       "      <td>0.44</td>\n",
       "      <td>0.89</td>\n",
       "    </tr>\n",
       "    <tr>\n",
       "      <th>id_3</th>\n",
       "      <td>0.96</td>\n",
       "      <td>0.38</td>\n",
       "      <td>0.79</td>\n",
       "      <td>0.53</td>\n",
       "    </tr>\n",
       "    <tr>\n",
       "      <th rowspan=\"3\" valign=\"top\">F</th>\n",
       "      <th>id_1</th>\n",
       "      <td>0.57</td>\n",
       "      <td>0.93</td>\n",
       "      <td>0.07</td>\n",
       "      <td>0.09</td>\n",
       "    </tr>\n",
       "    <tr>\n",
       "      <th>id_2</th>\n",
       "      <td>0.02</td>\n",
       "      <td>0.83</td>\n",
       "      <td>0.78</td>\n",
       "      <td>0.87</td>\n",
       "    </tr>\n",
       "    <tr>\n",
       "      <th>id_3</th>\n",
       "      <td>0.98</td>\n",
       "      <td>0.80</td>\n",
       "      <td>0.46</td>\n",
       "      <td>0.78</td>\n",
       "    </tr>\n",
       "  </tbody>\n",
       "</table>\n",
       "</div>"
      ],
      "text/plain": [
       "Cidx2           C     D     C     D\n",
       "Cidx1           A     A     B     B\n",
       "Ridx1 Ridx2                        \n",
       "M     id_1   0.55  0.72  0.60  0.54\n",
       "      id_2   0.42  0.65  0.44  0.89\n",
       "      id_3   0.96  0.38  0.79  0.53\n",
       "F     id_1   0.57  0.93  0.07  0.09\n",
       "      id_2   0.02  0.83  0.78  0.87\n",
       "      id_3   0.98  0.80  0.46  0.78"
      ]
     },
     "execution_count": 160,
     "metadata": {},
     "output_type": "execute_result"
    }
   ],
   "source": [
    "##### 순서 교환 : swaplevel()\n",
    "\n",
    "df.swaplevel(\"Ridx1\", \"Ridx2\", axis=0)\n",
    "df.swaplevel(\"Cidx1\", \"Cidx2\", axis=1)"
   ]
  },
  {
   "cell_type": "code",
   "execution_count": 163,
   "id": "6960fb4a",
   "metadata": {},
   "outputs": [
    {
     "name": "stdout",
     "output_type": "stream",
     "text": [
      "Cidx1           A           B      \n",
      "Cidx2           C     D     C     D\n",
      "Ridx1 Ridx2                        \n",
      "M     id_1   0.55  0.72  0.60  0.54\n",
      "      id_2   0.42  0.65  0.44  0.89\n",
      "      id_3   0.96  0.38  0.79  0.53\n",
      "F     id_1   0.57  0.93  0.07  0.09\n",
      "      id_2   0.02  0.83  0.78  0.87\n",
      "      id_3   0.98  0.80  0.46  0.78\n",
      "-------------------------------------\n",
      "Cidx1           A           B      \n",
      "Cidx2           C     D     C     D\n",
      "Ridx1 Ridx2                        \n",
      "F     id_1   0.57  0.93  0.07  0.09\n",
      "      id_2   0.02  0.83  0.78  0.87\n",
      "      id_3   0.98  0.80  0.46  0.78\n",
      "M     id_1   0.55  0.72  0.60  0.54\n",
      "      id_2   0.42  0.65  0.44  0.89\n",
      "      id_3   0.96  0.38  0.79  0.53\n",
      "-------------------------------------\n",
      "Cidx1           A           B      \n",
      "Cidx2           C     D     C     D\n",
      "Ridx1 Ridx2                        \n",
      "F     id_1   0.57  0.93  0.07  0.09\n",
      "M     id_1   0.55  0.72  0.60  0.54\n",
      "F     id_2   0.02  0.83  0.78  0.87\n",
      "M     id_2   0.42  0.65  0.44  0.89\n",
      "F     id_3   0.98  0.80  0.46  0.78\n",
      "M     id_3   0.96  0.38  0.79  0.53\n",
      "-------------------------------------\n",
      "Cidx1           A     B     A     B\n",
      "Cidx2           C     C     D     D\n",
      "Ridx1 Ridx2                        \n",
      "M     id_1   0.55  0.60  0.72  0.54\n",
      "      id_2   0.42  0.44  0.65  0.89\n",
      "      id_3   0.96  0.79  0.38  0.53\n",
      "F     id_1   0.57  0.07  0.93  0.09\n",
      "      id_2   0.02  0.78  0.83  0.87\n",
      "      id_3   0.98  0.46  0.80  0.78\n"
     ]
    }
   ],
   "source": [
    "##### 정렬\n",
    "\n",
    "print(df)\n",
    "print(\"-------------------------------------\")\n",
    "print(df.sort_index(level=0, axis=0))\n",
    "print(\"-------------------------------------\")\n",
    "print(df.sort_index(level=1, axis=0))\n",
    "print(\"-------------------------------------\")\n",
    "print(df.sort_index(level=1, axis=1))"
   ]
  },
  {
   "cell_type": "code",
   "execution_count": null,
   "id": "dbdc0b3e",
   "metadata": {},
   "outputs": [],
   "source": [
    "df_score1 = pd.DataFrame({\n",
    "    \"반\":[\"A\", \"A\", \"B\", \"A\", \"B\", \"B\", \"B\", \"A\", \"B\", \"A\"],\n",
    "    \"번호\" : [1, 2, 1, 3, 2, 3, 4, 4, 5, 5],\n",
    "    \"국어\" : [79, 67, 88, 68, 92, 54, 67, 88, 97, 85],\n",
    "    \"영어\" : [55, 77, 44, 67, 86, 45, 78, 58, 90, 67],\n",
    "    \"수학\" : [57, 45, 76, 68, 89, 67, 99, 78, 89, 90]\n",
    "})\n",
    "df_score1\n",
    "\n",
    "#1. 1차 행 인덱스로 \"반\"을, 2차 행 인덱스로 \"번호\"를 가지는 데이터 프레임 작성\n",
    "\n",
    "\n",
    "\n",
    "#2. 위의 데이터를 인덱스로 정렬\n",
    "\n",
    "#3. 학생의 평균을 나타내는 행을 오른쪽에 추가\n",
    "\n",
    "#4. 행 인덱스로 \"번호\"를, 1차 열 인덱스로 \"국어\", \"영어\", \"수학\"을, 2차 열 인덱스로 \"반\"을 가지는 \n",
    "# 데이터프레임 작성\n",
    "\n",
    "#5. 각 반별 각 과목의 평균을 나타내는 행을 아래에 추가\n"
   ]
  }
 ],
 "metadata": {
  "kernelspec": {
   "display_name": "Python 3 (ipykernel)",
   "language": "python",
   "name": "python3"
  },
  "language_info": {
   "codemirror_mode": {
    "name": "ipython",
    "version": 3
   },
   "file_extension": ".py",
   "mimetype": "text/x-python",
   "name": "python",
   "nbconvert_exporter": "python",
   "pygments_lexer": "ipython3",
   "version": "3.9.12"
  }
 },
 "nbformat": 4,
 "nbformat_minor": 5
}
