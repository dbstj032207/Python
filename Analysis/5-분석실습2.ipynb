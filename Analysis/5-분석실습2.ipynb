{
 "cells": [
  {
   "cell_type": "code",
   "execution_count": 1,
   "id": "21268219",
   "metadata": {},
   "outputs": [],
   "source": [
    "import numpy as np\n",
    "import pandas as pd\n",
    "import matplotlib.pyplot as plt\n",
    "import seaborn as sns\n",
    "\n",
    "import matplotlib.font_manager as fm\n",
    "font_name = fm.FontProperties(fname=\"C:\\\\Windows\\\\Fonts\\\\malgun.ttf\").get_name()\n",
    "plt.rc(\"font\", family=font_name)\n",
    "\n",
    "import matplotlib as mlp\n",
    "mlp.rcParams[\"axes.unicode_minus\"] = False"
   ]
  },
  {
   "cell_type": "markdown",
   "id": "af22aa0d",
   "metadata": {},
   "source": [
    "# 주제 : 서울시 구별 CCTV 현황 분석\n",
    "\n",
    "+ 출처 : https://data.seoul.go.kr/\n",
    "    - CCTV 현황 : http://data.seoul.go.kr/dataList/OA-2734/F/1/datasetView.do\n",
    "    - 서울시 인구 : https://data.seoul.go.kr/dataList/419/S/2/datasetView.do"
   ]
  },
  {
   "cell_type": "markdown",
   "id": "37e7cc61",
   "metadata": {},
   "source": [
    "## 1. Data Pre"
   ]
  }
 ],
 "metadata": {
  "kernelspec": {
   "display_name": "Python 3 (ipykernel)",
   "language": "python",
   "name": "python3"
  },
  "language_info": {
   "codemirror_mode": {
    "name": "ipython",
    "version": 3
   },
   "file_extension": ".py",
   "mimetype": "text/x-python",
   "name": "python",
   "nbconvert_exporter": "python",
   "pygments_lexer": "ipython3",
   "version": "3.9.12"
  }
 },
 "nbformat": 4,
 "nbformat_minor": 5
}
