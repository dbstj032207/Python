{
 "cells": [
  {
   "cell_type": "code",
   "execution_count": 1,
   "id": "85e262e1",
   "metadata": {},
   "outputs": [],
   "source": [
    "import numpy as np"
   ]
  },
  {
   "cell_type": "markdown",
   "id": "e389e476",
   "metadata": {},
   "source": [
    "## 1. 1차원 배열"
   ]
  },
  {
   "cell_type": "code",
   "execution_count": 4,
   "id": "438acd32",
   "metadata": {},
   "outputs": [
    {
     "name": "stdout",
     "output_type": "stream",
     "text": [
      "<class 'list'>\n",
      "[1, 2, 3, 4, 5, 10, 20, '가', '나']\n"
     ]
    }
   ],
   "source": [
    "a1 = [1, 2, 3, 4, 5, 10, 20, \"가\", \"나\"]\n",
    "print(type(a1))\n",
    "print(a1)"
   ]
  },
  {
   "cell_type": "code",
   "execution_count": 9,
   "id": "c871e5f3",
   "metadata": {},
   "outputs": [
    {
     "name": "stdout",
     "output_type": "stream",
     "text": [
      "['1' '2' '3' '4' '5' '10' '20' '가' '나']\n",
      "<class 'numpy.ndarray'>\n",
      "(9,)\n",
      "<U11\n"
     ]
    }
   ],
   "source": [
    "a2 = np.array([1, 2, 3, 4, 5, 10, 20, \"가\", \"나\"])\n",
    "print(a2)\n",
    "print(type(a2))\n",
    "print(a2.shape)\n",
    "print(a2.dtype)"
   ]
  },
  {
   "cell_type": "code",
   "execution_count": 12,
   "id": "dc8b46d9",
   "metadata": {},
   "outputs": [
    {
     "name": "stdout",
     "output_type": "stream",
     "text": [
      "[ 1.  2.  3.  4.  5. 10. 20.]\n",
      "float64\n"
     ]
    }
   ],
   "source": [
    "# a3 = np.array([1, 2, 3, 4, 5, 10, 20], dtype=float)\n",
    "a3 = np.array([1, 2, 3, 4, 5, 10, 20], float)\n",
    "print(a3)\n",
    "print(a3.dtype)"
   ]
  },
  {
   "cell_type": "code",
   "execution_count": 13,
   "id": "a3b9161a",
   "metadata": {},
   "outputs": [
    {
     "name": "stdout",
     "output_type": "stream",
     "text": [
      "[0, 1, 2, 3, 4, 5, 6, 7, 8, 9, 0, 1, 2, 3, 4, 5, 6, 7, 8, 9, 0, 1, 2, 3, 4, 5, 6, 7, 8, 9]\n"
     ]
    }
   ],
   "source": [
    "##### 백터화 연산\n",
    "data1 = [0, 1, 2, 3, 4, 5, 6, 7, 8, 9]\n",
    "\n",
    "print(data1 * 3)\n",
    "# print(data1 - 3)"
   ]
  },
  {
   "cell_type": "code",
   "execution_count": 15,
   "id": "ceb9375b",
   "metadata": {},
   "outputs": [
    {
     "name": "stdout",
     "output_type": "stream",
     "text": [
      "[ 0  3  6  9 12 15 18 21 24 27]\n",
      "[ 3  4  5  6  7  8  9 10 11 12]\n",
      "[-3 -2 -1  0  1  2  3  4  5  6]\n"
     ]
    }
   ],
   "source": [
    "dataArray = np.array(data1)\n",
    "\n",
    "print(dataArray * 3)\n",
    "print(dataArray + 3)\n",
    "print(dataArray - 3)"
   ]
  },
  {
   "cell_type": "code",
   "execution_count": 16,
   "id": "5ffcf4e8",
   "metadata": {},
   "outputs": [
    {
     "name": "stdout",
     "output_type": "stream",
     "text": [
      "0 1\n"
     ]
    }
   ],
   "source": [
    "##### 인덱스 접근\n",
    "print(dataArray[0], dataArray[1])"
   ]
  },
  {
   "cell_type": "markdown",
   "id": "399d962c",
   "metadata": {},
   "source": [
    "## 2. 2차원 배열"
   ]
  },
  {
   "cell_type": "code",
   "execution_count": 20,
   "id": "1c4a0607",
   "metadata": {},
   "outputs": [
    {
     "name": "stdout",
     "output_type": "stream",
     "text": [
      "[[1 2 3]\n",
      " [4 5 6]]\n",
      "[1 2 3]\n",
      "1\n",
      "(2, 3)\n"
     ]
    }
   ],
   "source": [
    "arr = np.array([[1, 2, 3], [4, 5, 6]])\n",
    "print(arr)\n",
    "print(arr[0])\n",
    "print(arr[0][0])\n",
    "print(arr.shape)"
   ]
  },
  {
   "cell_type": "markdown",
   "id": "63052b64",
   "metadata": {},
   "source": [
    "## 3. 3차원 배열"
   ]
  },
  {
   "cell_type": "code",
   "execution_count": 29,
   "id": "fa6a1c84",
   "metadata": {},
   "outputs": [
    {
     "name": "stdout",
     "output_type": "stream",
     "text": [
      "[[[ 1  2  3  4]\n",
      "  [ 3  4  5  6]]\n",
      "\n",
      " [[ 7  8  9 10]\n",
      "  [11 12 13 14]]]\n",
      "-------------------\n",
      "[[1 2 3 4]\n",
      " [3 4 5 6]]\n",
      "-------------------\n",
      "[1 2 3 4]\n",
      "-------------------\n",
      "1\n",
      "-------------------\n",
      "(2, 2, 4)\n",
      "-------------------\n",
      "3\n",
      "-------------------\n",
      "2 2 4\n"
     ]
    }
   ],
   "source": [
    "arr3 = np.array([ [[1, 2, 3, 4], [3, 4, 5, 6]], \n",
    "                 [[7, 8, 9, 10], [11, 12, 13, 14]]])\n",
    "print(arr3)\n",
    "print(\"-------------------\")\n",
    "print(arr3[0])\n",
    "print(\"-------------------\")\n",
    "print(arr3[0][0])\n",
    "print(\"-------------------\")\n",
    "print(arr3[0][0][0])\n",
    "print(\"-------------------\")\n",
    "print(arr3.shape)\n",
    "print(\"-------------------\")\n",
    "print(arr3.ndim)\n",
    "print(\"-------------------\")\n",
    "print(len(arr3), len(arr3[0]), len(arr3[0][0]))"
   ]
  },
  {
   "cell_type": "markdown",
   "id": "d1012965",
   "metadata": {},
   "source": [
    "## 4. 집계 함수"
   ]
  },
  {
   "cell_type": "code",
   "execution_count": 31,
   "id": "abe6243f",
   "metadata": {},
   "outputs": [
    {
     "name": "stdout",
     "output_type": "stream",
     "text": [
      "[ 0.51650938  0.13616712 -0.64380494  2.6165685  -1.12900909 -1.25412064\n",
      " -2.35866487 -1.65834393]\n",
      "[-1.43924151  0.94063271  0.76619557  0.67897437  1.04743236 -0.47866428\n",
      " -1.01344463  0.54517999]\n"
     ]
    }
   ],
   "source": [
    "x = np.random.randn(8)\n",
    "y = np.random.randn(8)\n",
    "print(x)\n",
    "print(y)"
   ]
  },
  {
   "cell_type": "code",
   "execution_count": 34,
   "id": "5bd5f619",
   "metadata": {},
   "outputs": [
    {
     "name": "stdout",
     "output_type": "stream",
     "text": [
      "[ 0.51650938  0.94063271  0.76619557  2.6165685   1.04743236 -0.47866428\n",
      " -1.01344463  0.54517999]\n"
     ]
    }
   ],
   "source": [
    "print(np.maximum(x, y))"
   ]
  },
  {
   "cell_type": "code",
   "execution_count": 33,
   "id": "265c9fee",
   "metadata": {},
   "outputs": [
    {
     "name": "stdout",
     "output_type": "stream",
     "text": [
      "[[ 1.94804017  0.04501867 -0.92761459  1.87022601]\n",
      " [ 0.5475628  -1.19590441 -0.97396971 -0.38916051]\n",
      " [ 0.40298474 -1.28657254 -1.4342758  -2.14292873]\n",
      " [ 0.16891251  0.27631117  0.99793658 -1.71732216]\n",
      " [-0.74699225  0.57222559 -0.58073034 -0.83872755]]\n"
     ]
    }
   ],
   "source": [
    "arr = np.random.randn(5, 4)\n",
    "print(arr)"
   ]
  },
  {
   "cell_type": "code",
   "execution_count": 36,
   "id": "3610a8c3",
   "metadata": {},
   "outputs": [
    {
     "name": "stdout",
     "output_type": "stream",
     "text": [
      "-5.404980356624963\n",
      "[ 2.32050798 -1.58892152 -2.91865387 -3.21791294]\n",
      "[ 2.93567027 -2.01147184 -4.46079233 -0.27416191 -1.59422455]\n"
     ]
    }
   ],
   "source": [
    "print(arr.sum())\n",
    "print(arr.sum(axis=0))  # 열의 합계\n",
    "print(arr.sum(axis=1))  # 행의 합계"
   ]
  },
  {
   "cell_type": "markdown",
   "id": "12518d88",
   "metadata": {},
   "source": [
    "## 5. 배열의 인덱싱"
   ]
  },
  {
   "cell_type": "code",
   "execution_count": 37,
   "id": "b23d5c97",
   "metadata": {},
   "outputs": [
    {
     "name": "stdout",
     "output_type": "stream",
     "text": [
      "300 500 500 300\n"
     ]
    }
   ],
   "source": [
    "arr = np.array([100, 200, 300, 400, 500])\n",
    "\n",
    "print(arr[2], arr[4], arr[-1], arr[-3])"
   ]
  },
  {
   "cell_type": "code",
   "execution_count": 41,
   "id": "146112cb",
   "metadata": {},
   "outputs": [
    {
     "name": "stdout",
     "output_type": "stream",
     "text": [
      "1\n",
      "1 1 5\n"
     ]
    }
   ],
   "source": [
    "arr = np.array([[0, 1, 2], [3, 4, 5]])\n",
    "\n",
    "temp = [[0, 1, 2], [3, 4, 5]]\n",
    "print(temp[0][1])\n",
    "\n",
    "print(arr[0][1], arr[0, 1], arr[-1, -1])"
   ]
  },
  {
   "cell_type": "code",
   "execution_count": 54,
   "id": "a9a0195d",
   "metadata": {},
   "outputs": [
    {
     "name": "stdout",
     "output_type": "stream",
     "text": [
      "[0 1 2 3 4 5 6 7 8 9]\n",
      "[0 2 4 6 8]\n",
      "[0 2 4 6 8]\n",
      "[0 3 6 9]\n",
      "[1 5 9]\n",
      "[9]\n",
      "[9]\n"
     ]
    }
   ],
   "source": [
    "##### fancy index\n",
    "\n",
    "arr = np.array([i for i in range(10)])\n",
    "print(arr)\n",
    "idx = np.array([True, False, True, False, True, False, True, False, True, False])\n",
    "\n",
    "print(arr[idx])\n",
    "\n",
    "print(arr[arr % 2 == 0])\n",
    "\n",
    "# arr에서 3의 배수를 찾아라\n",
    "print(arr[arr % 3 == 0])\n",
    "\n",
    "# arr에서 4로 나누면 1이 남는 수를 찾아라\n",
    "print(arr[arr % 4 == 1])\n",
    "\n",
    "# arr에서 3으로 나누면 나눠지고 4로 나누면 1이 남는 수를 찾아라\n",
    "temp_arr = arr[arr % 3 == 0]\n",
    "result = temp_arr[temp_arr % 4 == 1]\n",
    "print(result)\n",
    "\n",
    "print(arr[(arr % 3 == 0) & (arr % 4 == 1)] )\n"
   ]
  },
  {
   "cell_type": "markdown",
   "id": "75cb97c3",
   "metadata": {},
   "source": [
    "## 6. 배열의 슬라이싱"
   ]
  },
  {
   "cell_type": "code",
   "execution_count": 60,
   "id": "b94a279e",
   "metadata": {},
   "outputs": [
    {
     "name": "stdout",
     "output_type": "stream",
     "text": [
      "[[ 0  1  2  3]\n",
      " [ 4  5  6  7]\n",
      " [ 8  9 10 11]]\n",
      "------------------------\n",
      "[0 1]\n",
      "------------------------\n",
      "[[4 5]\n",
      " [8 9]]\n",
      "------------------------\n",
      "[0 1 2 3]\n",
      "------------------------\n",
      "[[ 8  9 10 11]\n",
      " [ 4  5  6  7]\n",
      " [ 0  1  2  3]]\n"
     ]
    }
   ],
   "source": [
    "arr = np.array([[0, 1, 2, 3], \n",
    "                [4, 5, 6, 7],\n",
    "                [8, 9, 10, 11]])\n",
    "\n",
    "print(arr)\n",
    "print(\"------------------------\")\n",
    "print(arr[0, 0:2])\n",
    "print(\"------------------------\")\n",
    "print(arr[1:3, 0:2])\n",
    "print(\"------------------------\")\n",
    "print(arr[0, :])\n",
    "print(\"------------------------\")\n",
    "print(arr[[2, 1, 0], :])"
   ]
  },
  {
   "cell_type": "markdown",
   "id": "e02592fc",
   "metadata": {},
   "source": [
    "## 7. numpy 자료형\n",
    "\n",
    "+ b : 불리언\n",
    "+ i : 정수형\n",
    "+ u : 부호없는 정수형\n",
    "+ f : 부동 소수점(실수형)\n",
    "+ c : 복소수\n",
    "+ O : 객체\n",
    "+ S : 바이트 문자열\n",
    "+ U : 유니코드 문자열"
   ]
  },
  {
   "cell_type": "code",
   "execution_count": 62,
   "id": "cbd72921",
   "metadata": {},
   "outputs": [
    {
     "name": "stdout",
     "output_type": "stream",
     "text": [
      "int64\n"
     ]
    }
   ],
   "source": [
    "# a1 = np.dtype(\"i\")\n",
    "a1 = np.dtype(\"i8\")\n",
    "print(a1)"
   ]
  },
  {
   "cell_type": "code",
   "execution_count": 67,
   "id": "756b90fe",
   "metadata": {},
   "outputs": [
    {
     "name": "stdout",
     "output_type": "stream",
     "text": [
      "float16\n",
      "3.0\n",
      "-----------------------------------\n",
      "<U1\n",
      "12\n"
     ]
    }
   ],
   "source": [
    "# arr = np.array([1, 2, 3], dtype=\"f\")\n",
    "arr = np.array([1, 2, 3], dtype=np.float16)\n",
    "\n",
    "print(arr.dtype)\n",
    "print(arr[0] + arr[1])\n",
    "\n",
    "print(\"-----------------------------------\")\n",
    "\n",
    "arr = np.array([1, 2, 3], dtype=\"U\")\n",
    "print(arr.dtype)\n",
    "print(arr[0] + arr[1])"
   ]
  },
  {
   "cell_type": "markdown",
   "id": "3e58f539",
   "metadata": {},
   "source": [
    "## 8. 배열 생성"
   ]
  },
  {
   "cell_type": "code",
   "execution_count": 73,
   "id": "94388fd2",
   "metadata": {},
   "outputs": [
    {
     "name": "stdout",
     "output_type": "stream",
     "text": [
      "[0. 0. 0. 0. 0.]\n",
      "float64\n",
      "<class 'numpy.ndarray'>\n",
      "-----------------------------------\n",
      "[0 0 0 0 0]\n",
      "int64\n",
      "-----------------------------------\n",
      "['' '' '' '' '']\n",
      "<U4\n",
      "['abc' 'abcd' 'abcd' '' '']\n",
      "-----------------------------------\n",
      "[b'' b'' b'' b'' b'']\n",
      "|S4\n",
      "[b'abc' b'abcd' b'abcd' b'' b'']\n",
      "-----------------------------------\n",
      "[[0. 0. 0.]\n",
      " [0. 0. 0.]]\n"
     ]
    }
   ],
   "source": [
    "arr = np.zeros(5)\n",
    "print(arr)\n",
    "print(arr.dtype)\n",
    "print(type(arr))\n",
    "\n",
    "print(\"-----------------------------------\")\n",
    "\n",
    "arr = np.zeros(5, dtype=\"i8\")\n",
    "print(arr)\n",
    "print(arr.dtype)\n",
    "\n",
    "print(\"-----------------------------------\")\n",
    "\n",
    "arr = np.zeros(5, dtype=\"U4\")\n",
    "print(arr)\n",
    "print(arr.dtype)\n",
    "\n",
    "arr[0] = \"abc\"\n",
    "arr[1] = \"abcd\"\n",
    "arr[2] = \"abcde\"  # 4글자로 한정하여 e는 표현되지 않음\n",
    "\n",
    "print(arr)\n",
    "\n",
    "print(\"-----------------------------------\")\n",
    "\n",
    "arr = np.zeros(5, dtype=\"S4\")\n",
    "print(arr)\n",
    "print(arr.dtype)\n",
    "\n",
    "arr[0] = \"abc\"\n",
    "arr[1] = \"abcd\"\n",
    "arr[2] = \"abcde\"\n",
    "\n",
    "print(arr)\n",
    "\n",
    "print(\"-----------------------------------\")\n",
    "\n",
    "\n",
    "print(np.zeros((2, 3)))"
   ]
  },
  {
   "cell_type": "markdown",
   "id": "18bb724d",
   "metadata": {},
   "source": [
    "## 9. 전치"
   ]
  },
  {
   "cell_type": "markdown",
   "id": "58df9b98",
   "metadata": {},
   "source": [
    "## 10. 크기변경"
   ]
  },
  {
   "cell_type": "markdown",
   "id": "f1f85b63",
   "metadata": {},
   "source": [
    "## 11. 배열 연결(병합) \n",
    "+ hstack, vstack, dstack, stack, tile"
   ]
  },
  {
   "cell_type": "markdown",
   "id": "9434ce91",
   "metadata": {},
   "source": [
    "+ \"\"\n",
    "    + hstack(), vstack()"
   ]
  },
  {
   "cell_type": "code",
   "execution_count": 5,
   "id": "7da2733b",
   "metadata": {},
   "outputs": [
    {
     "name": "stdout",
     "output_type": "stream",
     "text": [
      "[[1. 1. 1.]\n",
      " [1. 1. 1.]]\n",
      "[[1. 1. 1.]\n",
      " [1. 1. 1.]]\n",
      "[[1. 1. 1. 1. 1. 1.]\n",
      " [1. 1. 1. 1. 1. 1.]]\n"
     ]
    }
   ],
   "source": [
    "arr1 = np.ones((2, 3))\n",
    "arr2 = np.ones((2, 3))\n",
    "\n",
    "print(arr1)\n",
    "print(arr2)\n",
    "\n",
    "arr3 = np.hstack([arr1, arr2])\n",
    "print(arr3)"
   ]
  },
  {
   "cell_type": "markdown",
   "id": "89d0ac2c",
   "metadata": {},
   "source": [
    "+ \"\"\n",
    "    + dstack()"
   ]
  },
  {
   "cell_type": "code",
   "execution_count": 7,
   "id": "0b2ddccc",
   "metadata": {},
   "outputs": [
    {
     "name": "stdout",
     "output_type": "stream",
     "text": [
      "[[[1. 1.]\n",
      "  [1. 1.]\n",
      "  [1. 1.]]\n",
      "\n",
      " [[1. 1.]\n",
      "  [1. 1.]\n",
      "  [1. 1.]]]\n",
      "(2, 3, 2)\n"
     ]
    }
   ],
   "source": [
    "arr1 = np.ones((2, 3))\n",
    "arr2 = np.ones((2, 3))\n",
    "\n",
    "arr3 = np.dstack([arr1, arr2])\n",
    "print(arr3)\n",
    "print(arr3.shape)\n",
    "\n",
    "# (2, 3, 2)"
   ]
  },
  {
   "cell_type": "code",
   "execution_count": 8,
   "id": "bb10cc91",
   "metadata": {},
   "outputs": [
    {
     "name": "stdout",
     "output_type": "stream",
     "text": [
      "[[[1. 1.]\n",
      "  [1. 1.]\n",
      "  [1. 1.]\n",
      "  [1. 1.]]\n",
      "\n",
      " [[1. 1.]\n",
      "  [1. 1.]\n",
      "  [1. 1.]\n",
      "  [1. 1.]]\n",
      "\n",
      " [[1. 1.]\n",
      "  [1. 1.]\n",
      "  [1. 1.]\n",
      "  [1. 1.]]]\n",
      "(3, 4, 2)\n"
     ]
    }
   ],
   "source": [
    "arr1 = np.ones((3, 4))\n",
    "arr2 = np.ones((3, 4))\n",
    "\n",
    "arr3 = np.dstack([arr1, arr2])\n",
    "print(arr3)\n",
    "print(arr3.shape)\n",
    "\n",
    "# (3, 4, 2)"
   ]
  },
  {
   "cell_type": "code",
   "execution_count": 9,
   "id": "9ae2a0d3",
   "metadata": {},
   "outputs": [
    {
     "name": "stdout",
     "output_type": "stream",
     "text": [
      "[[[1 4]\n",
      "  [2 5]\n",
      "  [3 6]]]\n",
      "(1, 3, 2)\n"
     ]
    }
   ],
   "source": [
    "arr1 = [1, 2, 3]\n",
    "arr2 = [4, 5, 6]\n",
    "\n",
    "arr3 = np.dstack([arr1, arr2])\n",
    "print(arr3)\n",
    "print(arr3.shape)"
   ]
  },
  {
   "cell_type": "code",
   "execution_count": 10,
   "id": "48a12a34",
   "metadata": {},
   "outputs": [
    {
     "name": "stdout",
     "output_type": "stream",
     "text": [
      "[[[1. 1. 1.]\n",
      "  [1. 1. 1.]\n",
      "  [1. 1. 1.]\n",
      "  [1. 1. 1.]]\n",
      "\n",
      " [[1. 1. 1.]\n",
      "  [1. 1. 1.]\n",
      "  [1. 1. 1.]\n",
      "  [1. 1. 1.]]\n",
      "\n",
      " [[1. 1. 1.]\n",
      "  [1. 1. 1.]\n",
      "  [1. 1. 1.]\n",
      "  [1. 1. 1.]]]\n",
      "(3, 4, 3)\n"
     ]
    }
   ],
   "source": [
    "arr1 = np.ones((3, 4))\n",
    "arr2 = np.ones((3, 4))\n",
    "arr3 = np.ones((3, 4))\n",
    "\n",
    "arr4 = np.dstack([arr1, arr2, arr3])\n",
    "print(arr4)\n",
    "print(arr4.shape)"
   ]
  },
  {
   "cell_type": "markdown",
   "id": "432c94c5",
   "metadata": {},
   "source": [
    "+ \"\"\n",
    "    + stack()"
   ]
  },
  {
   "cell_type": "code",
   "execution_count": 14,
   "id": "ea31984a",
   "metadata": {},
   "outputs": [
    {
     "name": "stdout",
     "output_type": "stream",
     "text": [
      "[[[1. 1. 1. 1.]\n",
      "  [1. 1. 1. 1.]\n",
      "  [1. 1. 1. 1.]]\n",
      "\n",
      " [[1. 1. 1. 1.]\n",
      "  [1. 1. 1. 1.]\n",
      "  [1. 1. 1. 1.]]]\n",
      "(2, 3, 4)\n"
     ]
    }
   ],
   "source": [
    "# axis = 0\n",
    "arr1 = np.ones((3, 4))\n",
    "arr2 = np.ones((3, 4))\n",
    "\n",
    "arr3 = np.stack([arr1, arr2])\n",
    "print(arr3)\n",
    "print(arr3.shape)"
   ]
  },
  {
   "cell_type": "code",
   "execution_count": 15,
   "id": "d56aaf56",
   "metadata": {},
   "outputs": [
    {
     "name": "stdout",
     "output_type": "stream",
     "text": [
      "[[[1. 1. 1. 1.]\n",
      "  [1. 1. 1. 1.]]\n",
      "\n",
      " [[1. 1. 1. 1.]\n",
      "  [1. 1. 1. 1.]]\n",
      "\n",
      " [[1. 1. 1. 1.]\n",
      "  [1. 1. 1. 1.]]]\n",
      "(3, 2, 4)\n"
     ]
    }
   ],
   "source": [
    "# axis = 1\n",
    "arr1 = np.ones((3, 4))\n",
    "arr2 = np.ones((3, 4))\n",
    "\n",
    "arr3 = np.stack([arr1, arr2], axis=1)\n",
    "print(arr3)\n",
    "print(arr3.shape)"
   ]
  },
  {
   "cell_type": "code",
   "execution_count": 16,
   "id": "fe2d8fb4",
   "metadata": {
    "scrolled": true
   },
   "outputs": [
    {
     "name": "stdout",
     "output_type": "stream",
     "text": [
      "[[[1. 1.]\n",
      "  [1. 1.]\n",
      "  [1. 1.]\n",
      "  [1. 1.]]\n",
      "\n",
      " [[1. 1.]\n",
      "  [1. 1.]\n",
      "  [1. 1.]\n",
      "  [1. 1.]]\n",
      "\n",
      " [[1. 1.]\n",
      "  [1. 1.]\n",
      "  [1. 1.]\n",
      "  [1. 1.]]]\n",
      "(3, 4, 2)\n"
     ]
    }
   ],
   "source": [
    "# axis = 2, dstack과 동일\n",
    "arr1 = np.ones((3, 4))\n",
    "arr2 = np.ones((3, 4))\n",
    "\n",
    "arr3 = np.stack([arr1, arr2], axis=2)\n",
    "print(arr3)\n",
    "print(arr3.shape)"
   ]
  },
  {
   "cell_type": "markdown",
   "id": "323eaf8c",
   "metadata": {},
   "source": [
    "+ \"\"\n",
    "    + tile()"
   ]
  },
  {
   "cell_type": "code",
   "execution_count": 24,
   "id": "6eeb6c82",
   "metadata": {},
   "outputs": [
    {
     "name": "stdout",
     "output_type": "stream",
     "text": [
      "[1 1 1]\n",
      "[0 1 0 1 0 1]\n",
      "[[0 1 0 1 0 1]\n",
      " [2 3 2 3 2 3]]\n",
      "--------------------------------\n",
      "[[1 1 1]\n",
      " [1 1 1]]\n",
      "[[0 1 0 1 0 1]\n",
      " [0 1 0 1 0 1]]\n",
      "[[0 1 0 1 0 1]\n",
      " [2 3 2 3 2 3]\n",
      " [0 1 0 1 0 1]\n",
      " [2 3 2 3 2 3]]\n",
      "--------------------------------\n",
      "[[[0 1 0 1 0 1]\n",
      "  [0 1 0 1 0 1]]\n",
      "\n",
      " [[0 1 0 1 0 1]\n",
      "  [0 1 0 1 0 1]]\n",
      "\n",
      " [[0 1 0 1 0 1]\n",
      "  [0 1 0 1 0 1]]\n",
      "\n",
      " [[0 1 0 1 0 1]\n",
      "  [0 1 0 1 0 1]]]\n"
     ]
    }
   ],
   "source": [
    "A = 1\n",
    "B = np.array([0, 1])\n",
    "C = np.array([[0, 1], [2, 3]])\n",
    "\n",
    "print(np.tile(A, 3))\n",
    "print(np.tile(B, 3))\n",
    "print(np.tile(C, 3))\n",
    "print(\"--------------------------------\")\n",
    "print(np.tile(A, (2, 3)))\n",
    "print(np.tile(B, (2, 3)))\n",
    "print(np.tile(C, (2, 3)))\n",
    "print(\"--------------------------------\")\n",
    "print(np.tile(B, (4, 2, 3)))"
   ]
  },
  {
   "cell_type": "markdown",
   "id": "e97afc9d",
   "metadata": {},
   "source": [
    "## 12. BroadCasting\n",
    "\n",
    "+ 크기가 서로 다른 행렬(백터)끼리 연산을 가능하게 하는 것"
   ]
  },
  {
   "cell_type": "code",
   "execution_count": 35,
   "id": "43f4d599",
   "metadata": {},
   "outputs": [
    {
     "name": "stdout",
     "output_type": "stream",
     "text": [
      "[[0 1 2]\n",
      " [1 2 3]\n",
      " [2 3 4]\n",
      " [3 4 5]\n",
      " [4 5 6]]\n",
      "---------------------------\n",
      "[[0]\n",
      " [1]\n",
      " [2]\n",
      " [3]\n",
      " [4]]\n",
      "---------------------------\n",
      "[[ 0  1  2]\n",
      " [ 2  3  4]\n",
      " [ 4  5  6]\n",
      " [ 6  7  8]\n",
      " [ 8  9 10]]\n",
      "---------------------------\n",
      "[[0 2 4]\n",
      " [1 3 5]\n",
      " [2 4 6]\n",
      " [3 5 7]\n",
      " [4 6 8]]\n"
     ]
    }
   ],
   "source": [
    "x = np.vstack([range(7)[i:i+3] for i in range(5)])\n",
    "print(x)\n",
    "print(\"---------------------------\")\n",
    "y = np.arange(5)[:, np.newaxis]\n",
    "print(y)\n",
    "\n",
    "print(\"---------------------------\")\n",
    "\n",
    "print(x + y)\n",
    "\n",
    "print(\"---------------------------\")\n",
    "\n",
    "y = np.arange(3)\n",
    "print(x + y)"
   ]
  },
  {
   "cell_type": "code",
   "execution_count": 27,
   "id": "35f4f482",
   "metadata": {},
   "outputs": [
    {
     "data": {
      "text/plain": [
       "[0, 1, 2, 3, 4]"
      ]
     },
     "execution_count": 27,
     "metadata": {},
     "output_type": "execute_result"
    }
   ],
   "source": [
    "[i for i in range(5)]"
   ]
  },
  {
   "cell_type": "code",
   "execution_count": 29,
   "id": "29788f66",
   "metadata": {},
   "outputs": [
    {
     "data": {
      "text/plain": [
       "range(1, 4)"
      ]
     },
     "execution_count": 29,
     "metadata": {},
     "output_type": "execute_result"
    }
   ],
   "source": [
    "range(7)[1:1+3]"
   ]
  },
  {
   "cell_type": "markdown",
   "id": "fe5606ed",
   "metadata": {},
   "source": [
    "## 13. 차원 축소(Dimension reduction) 연산\n",
    "\n",
    "+ 최대값 / 최소값 : max(), min(), argmax(), argmin()\n",
    "+ 대표값 : sum(), mean(), median(), std(), var()\n",
    "\n",
    "+ 행렬의 하나의 행에 있는 원소들을 하나의 데이터 집합으로 보고 그 집합의 평균을 구하면 각 행에 대해 하나의 숫자가 나오게 된다. 이러한 연산을 차원 축소 연산이라고 한다."
   ]
  },
  {
   "cell_type": "code",
   "execution_count": 37,
   "id": "59515bd2",
   "metadata": {},
   "outputs": [
    {
     "name": "stdout",
     "output_type": "stream",
     "text": [
      "3\n",
      "-3\n",
      "--------------------\n",
      "1\n",
      "3\n"
     ]
    }
   ],
   "source": [
    "x = np.array([1, 3, 2, -3])\n",
    "\n",
    "print(x.max())\n",
    "print(x.min())\n",
    "\n",
    "print(\"--------------------\")\n",
    "\n",
    "print(np.argmax(x)) # 최대값이 있는 곳의 인덱스\n",
    "print(np.argmin(x)) # 최소값이 있는 곳의 인덱스"
   ]
  },
  {
   "cell_type": "markdown",
   "id": "fbe824cf",
   "metadata": {},
   "source": [
    "## 14. 기술 통계\n",
    "\n",
    "+ sum(), mean()\n",
    "+ var(), std()\n",
    "+ max(), min()\n",
    "+ median()\n",
    "+ percentile()\n",
    "+ ..."
   ]
  },
  {
   "cell_type": "markdown",
   "id": "3d940deb",
   "metadata": {},
   "source": [
    "## 15. 정렬"
   ]
  },
  {
   "cell_type": "code",
   "execution_count": 43,
   "id": "edaba995",
   "metadata": {},
   "outputs": [
    {
     "name": "stdout",
     "output_type": "stream",
     "text": [
      "[[ 3  4  5  7]\n",
      " [ 1  9 11 12]\n",
      " [ 1  2 14 15]]\n",
      "------------------------------------\n",
      "[[ 3  4  5  7]\n",
      " [ 1  9 11 12]\n",
      " [ 1  2 14 15]]\n",
      "------------------------------------\n",
      "[[ 1  3  1  7]\n",
      " [ 2 12  5  9]\n",
      " [ 4 15 11 14]]\n"
     ]
    }
   ],
   "source": [
    "arr = np.array([[4, 3, 5, 7],\n",
    "              [1, 12, 11, 9],\n",
    "              [2, 15, 1, 14]])\n",
    "\n",
    "print(np.sort(arr))  # 기본값은 axis = 1\n",
    "print(\"------------------------------------\")\n",
    "print(np.sort(arr, axis = 1))  # 행\n",
    "print(\"------------------------------------\")\n",
    "print(np.sort(arr, axis = 0))  # 열"
   ]
  },
  {
   "cell_type": "code",
   "execution_count": 45,
   "id": "754f0623",
   "metadata": {},
   "outputs": [
    {
     "name": "stdout",
     "output_type": "stream",
     "text": [
      "[[ 4  3  5  7]\n",
      " [ 1 12 11  9]\n",
      " [ 2 15  1 14]]\n",
      "[[ 3  4  5  7]\n",
      " [ 1  9 11 12]\n",
      " [ 1  2 14 15]]\n"
     ]
    }
   ],
   "source": [
    "print(arr) # 원본에는 영향 없음\n",
    "\n",
    "arr = np.sort(arr)\n",
    "\n",
    "# 또는 \n",
    "arr.sort() # 원본에 바로 정렬\n",
    "\n",
    "print(arr)"
   ]
  },
  {
   "cell_type": "code",
   "execution_count": 48,
   "id": "66988e8e",
   "metadata": {},
   "outputs": [
    {
     "name": "stdout",
     "output_type": "stream",
     "text": [
      "[2 3 1 0]\n"
     ]
    }
   ],
   "source": [
    "######## argsort()\n",
    "\n",
    "arr = np.array([42, 38, 12, 25])\n",
    "idx = np.argsort(arr)\n",
    "print(idx)"
   ]
  },
  {
   "cell_type": "code",
   "execution_count": 49,
   "id": "d7bfd029",
   "metadata": {},
   "outputs": [
    {
     "data": {
      "text/plain": [
       "array([12, 25, 38, 42])"
      ]
     },
     "execution_count": 49,
     "metadata": {},
     "output_type": "execute_result"
    }
   ],
   "source": [
    "np.sort(arr)"
   ]
  },
  {
   "cell_type": "code",
   "execution_count": 50,
   "id": "e23085fb",
   "metadata": {},
   "outputs": [
    {
     "data": {
      "text/plain": [
       "array([42, 38, 25, 12])"
      ]
     },
     "execution_count": 50,
     "metadata": {},
     "output_type": "execute_result"
    }
   ],
   "source": [
    "np.sort(arr)[::-1]"
   ]
  },
  {
   "cell_type": "code",
   "execution_count": 51,
   "id": "1daf0dcc",
   "metadata": {},
   "outputs": [
    {
     "data": {
      "text/plain": [
       "array([42, 38, 25, 12])"
      ]
     },
     "execution_count": 51,
     "metadata": {},
     "output_type": "execute_result"
    }
   ],
   "source": [
    "arr[np.argsort(-arr)]"
   ]
  },
  {
   "cell_type": "markdown",
   "id": "380e2745",
   "metadata": {},
   "source": [
    "## 16. 난수\n",
    "\n",
    "+ rand() : 0 ~ 1 사이의 균일 분포\n",
    "+ randn() : 표준 정규 분포\n",
    "+ randint() : 균일 분포의 정수"
   ]
  },
  {
   "cell_type": "code",
   "execution_count": 53,
   "id": "9d4d25b5",
   "metadata": {},
   "outputs": [
    {
     "name": "stdout",
     "output_type": "stream",
     "text": [
      "[0.37762206 0.7704584  0.64980716 0.73871019 0.82071413 0.36392384\n",
      " 0.55505673 0.1907044  0.05777512 0.93392814]\n",
      "-------------------------\n",
      "[[0.98157812 0.42945705 0.92707305 0.86131126 0.33760285]\n",
      " [0.72377318 0.49869779 0.78481292 0.77023855 0.11405359]\n",
      " [0.88940278 0.11338552 0.41564746 0.34043302 0.42279538]]\n"
     ]
    }
   ],
   "source": [
    "print(np.random.rand(10))\n",
    "print(\"-------------------------\")\n",
    "print(np.random.rand(3, 5))"
   ]
  },
  {
   "cell_type": "code",
   "execution_count": 58,
   "id": "ffab5854",
   "metadata": {},
   "outputs": [
    {
     "name": "stdout",
     "output_type": "stream",
     "text": [
      "6\n",
      "-------------------------\n",
      "16\n",
      "-------------------------\n",
      "[19 17 12 19 12 15 15 14 17 18 16 14 17 15 14 11 17 17 18 15 11 17 18 19\n",
      " 14 19 15 17 15 12 11 11 19 16 18 11 12 11 13 17 17 15 14 15 13 12 15 14\n",
      " 18 15 19 19 11 16 14 18 18 15 12 17 18 13 11 14 13 18 15 16 14 16 13 12\n",
      " 14 18 13 19 17 18 11 17 13 16 18 18 13 17 17 14 18 16 19 18 11 18 13 19\n",
      " 14 13 15 16]\n",
      "-------------------------\n",
      "[[19 18 19 16]\n",
      " [19 18 11 13]\n",
      " [12 13 13 17]]\n"
     ]
    }
   ],
   "source": [
    "print(np.random.randint(10))\n",
    "print(\"-------------------------\")\n",
    "print(np.random.randint(11, 20))\n",
    "print(\"-------------------------\")\n",
    "print(np.random.randint(11, 20, size = 100))\n",
    "print(\"-------------------------\")\n",
    "print(np.random.randint(11, 20, size = (3, 4)))"
   ]
  },
  {
   "cell_type": "code",
   "execution_count": 60,
   "id": "bc913cef",
   "metadata": {},
   "outputs": [
    {
     "name": "stdout",
     "output_type": "stream",
     "text": [
      "None\n",
      "[0.54340494 0.27836939 0.42451759]\n"
     ]
    }
   ],
   "source": [
    "##### 재현성(난수 고정)\n",
    "\n",
    "print(np.random.seed(100))\n",
    "\n",
    "print(np.random.rand(3))"
   ]
  },
  {
   "cell_type": "code",
   "execution_count": 61,
   "id": "b9d9a351",
   "metadata": {},
   "outputs": [
    {
     "name": "stdout",
     "output_type": "stream",
     "text": [
      "[0 1 2 3 4 5 6 7 8 9]\n",
      "[9 1 3 8 6 7 5 2 4 0]\n"
     ]
    }
   ],
   "source": [
    "##### 데이터의 순서 바꾸기\n",
    "\n",
    "x = np.arange(10)\n",
    "print(x)\n",
    "\n",
    "np.random.shuffle(x)\n",
    "print(x)"
   ]
  },
  {
   "cell_type": "code",
   "execution_count": 64,
   "id": "50741976",
   "metadata": {},
   "outputs": [
    {
     "name": "stdout",
     "output_type": "stream",
     "text": [
      "[2 3 4 4 1 3 4]\n",
      "-----------------------------------\n",
      "[0 2 1 3 4]\n",
      "-----------------------------------\n",
      "[2 2 2 0 2 3 0 3 3 2]\n"
     ]
    }
   ],
   "source": [
    "##### 샘플링 : 복원(default), 비복원\n",
    "\n",
    "print(np.random.choice(5, 7))\n",
    "print(\"-----------------------------------\")\n",
    "print(np.random.choice(5, 5, replace=False))\n",
    "print(\"-----------------------------------\")\n",
    "print(np.random.choice(5, 10, p=[0.1, 0, 0.3, 0.6, 0]))"
   ]
  },
  {
   "cell_type": "markdown",
   "id": "177f832d",
   "metadata": {},
   "source": [
    "## 17. 정수형 데이터 카운팅 : unique(), bincount()"
   ]
  },
  {
   "cell_type": "code",
   "execution_count": 69,
   "id": "3f72a37a",
   "metadata": {},
   "outputs": [
    {
     "name": "stdout",
     "output_type": "stream",
     "text": [
      "5\n",
      "['a' 'b' 'c']\n",
      "3\n",
      "-----------------------------------\n",
      "['a' 'b' 'c']\n",
      "[2 2 1]\n"
     ]
    }
   ],
   "source": [
    "##### unique\n",
    "\n",
    "arr = np.array(['a', 'b', 'b', 'c', 'a'])\n",
    "print(len(arr))\n",
    "print(np.unique(arr))\n",
    "print(len(np.unique(arr)))\n",
    "\n",
    "print(\"-----------------------------------\")\n",
    "\n",
    "idx, cnt = np.unique(arr, return_counts=True)\n",
    "print(idx)\n",
    "print(cnt)"
   ]
  },
  {
   "cell_type": "code",
   "execution_count": 72,
   "id": "966983c2",
   "metadata": {},
   "outputs": [
    {
     "name": "stdout",
     "output_type": "stream",
     "text": [
      "(array([1, 2, 3]), array([2, 3, 1], dtype=int64))\n",
      "[0 2 3 1 0 0]\n"
     ]
    }
   ],
   "source": [
    "##### bincount : 발생하지 않은 사건에 대해서도 카운팅\n",
    "\n",
    "arr = np.array([1, 1, 2, 2, 2, 3])\n",
    "\n",
    "print(np.unique(arr, return_counts = True))\n",
    "print(np.bincount(arr, minlength = 6))"
   ]
  },
  {
   "cell_type": "markdown",
   "id": "ae89239c",
   "metadata": {},
   "source": [
    "## 실습문제 : 영화 평점 데이터\n",
    "\n",
    "+ https://grouplens.org"
   ]
  },
  {
   "cell_type": "code",
   "execution_count": 76,
   "id": "9a4dc469",
   "metadata": {},
   "outputs": [
    {
     "name": "stdout",
     "output_type": "stream",
     "text": [
      "[[        1      1193         5 978300760]\n",
      " [        1       661         3 978302109]\n",
      " [        1       914         3 978301968]\n",
      " ...\n",
      " [     6040       562         5 956704746]\n",
      " [     6040      1096         4 956715648]\n",
      " [     6040      1097         4 956715569]]\n"
     ]
    }
   ],
   "source": [
    "data = np.loadtxt(\"data/ml-1m/ratings.dat\", delimiter=\"::\", dtype=np.int64)\n",
    "print(data)"
   ]
  },
  {
   "cell_type": "code",
   "execution_count": 77,
   "id": "171b74b3",
   "metadata": {},
   "outputs": [
    {
     "name": "stdout",
     "output_type": "stream",
     "text": [
      "(1000209, 4)\n"
     ]
    }
   ],
   "source": [
    "print(data.shape)"
   ]
  },
  {
   "cell_type": "code",
   "execution_count": 79,
   "id": "e947479e",
   "metadata": {},
   "outputs": [
    {
     "name": "stdout",
     "output_type": "stream",
     "text": [
      "[[        1      1193         5 978300760]\n",
      " [        1       661         3 978302109]\n",
      " [        1       914         3 978301968]\n",
      " [        1      3408         4 978300275]\n",
      " [        1      2355         5 978824291]\n",
      " [        1      1197         3 978302268]\n",
      " [        1      1287         5 978302039]\n",
      " [        1      2804         5 978300719]\n",
      " [        1       594         4 978302268]\n",
      " [        1       919         4 978301368]\n",
      " [        1       595         5 978824268]\n",
      " [        1       938         4 978301752]\n",
      " [        1      2398         4 978302281]\n",
      " [        1      2918         4 978302124]\n",
      " [        1      1035         5 978301753]\n",
      " [        1      2791         4 978302188]\n",
      " [        1      2687         3 978824268]\n",
      " [        1      2018         4 978301777]\n",
      " [        1      3105         5 978301713]\n",
      " [        1      2797         4 978302039]]\n"
     ]
    }
   ],
   "source": [
    "# 첫행부터 20행까지 조회\n",
    "print(data[:20])"
   ]
  },
  {
   "cell_type": "code",
   "execution_count": 88,
   "id": "4064845f",
   "metadata": {},
   "outputs": [
    {
     "name": "stdout",
     "output_type": "stream",
     "text": [
      "[[        1      2321         3 978302205]\n",
      " [        1       720         3 978300760]\n",
      " [        1      1270         5 978300055]\n",
      " [        1       527         5 978824195]\n",
      " [        1      2340         3 978300103]\n",
      " [        1        48         5 978824351]\n",
      " [        1      1097         4 978301953]\n",
      " [        1      1721         4 978300055]\n",
      " [        1      1545         4 978824139]]\n"
     ]
    }
   ],
   "source": [
    "# 21행부터 30행까지 userid와 movieid만 조회\n",
    "print(data[20:29])"
   ]
  },
  {
   "cell_type": "code",
   "execution_count": null,
   "id": "5c72aa5c",
   "metadata": {},
   "outputs": [],
   "source": [
    "# 전체 평점에 대한 평균"
   ]
  },
  {
   "cell_type": "code",
   "execution_count": null,
   "id": "7ff1e115",
   "metadata": {},
   "outputs": [],
   "source": [
    "# 사용자 별로 평점 평균(10명만 조회)"
   ]
  },
  {
   "cell_type": "code",
   "execution_count": null,
   "id": "b847db59",
   "metadata": {},
   "outputs": [],
   "source": [
    "# 위의 결과 중 최고 평점 평균을 조회(userid와 함께 동시에 조회)"
   ]
  }
 ],
 "metadata": {
  "kernelspec": {
   "display_name": "Python 3 (ipykernel)",
   "language": "python",
   "name": "python3"
  },
  "language_info": {
   "codemirror_mode": {
    "name": "ipython",
    "version": 3
   },
   "file_extension": ".py",
   "mimetype": "text/x-python",
   "name": "python",
   "nbconvert_exporter": "python",
   "pygments_lexer": "ipython3",
   "version": "3.9.12"
  }
 },
 "nbformat": 4,
 "nbformat_minor": 5
}
