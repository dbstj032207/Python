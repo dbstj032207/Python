{
 "cells": [
  {
   "cell_type": "code",
   "execution_count": 1,
   "id": "43309bbd",
   "metadata": {},
   "outputs": [],
   "source": [
    "import numpy as np\n",
    "import pandas as pd\n",
    "import matplotlib.pyplot as plt\n",
    "import seaborn as sns\n",
    "\n",
    "import matplotlib.font_manager as fm\n",
    "font_name = fm.FontProperties(fname=\"C:\\\\Windows\\\\Fonts\\\\malgun.ttf\").get_name()\n",
    "plt.rc(\"font\", family=font_name)\n",
    "\n",
    "import matplotlib as mlp\n",
    "mlp.rcParams[\"axes.unicode_minus\"] = False"
   ]
  },
  {
   "cell_type": "markdown",
   "id": "cfde8717",
   "metadata": {},
   "source": [
    "# 1. XML\n",
    "\n",
    "+ 특징\n",
    "    - 메타 언어 : GML -> SGML -> XML\n",
    "    - 데이터를 위한 언어\n",
    "    - DBMS\n",
    "    - 데이터 표준화 : 이기종 시스템간의 정보교환, 웹서비스, 유비쿼터스, 사물인터넷 등등 ...\n",
    "    \n",
    "+ 구성 요소\n",
    "    - dtd\n",
    "    - xml schema\n",
    "    - xml\n",
    "    - xsl, xslt\n",
    "    \n",
    "+ https://docs.python.org/3/library/xml.etree.elementtree.html"
   ]
  },
  {
   "cell_type": "code",
   "execution_count": 2,
   "id": "f44bd449",
   "metadata": {},
   "outputs": [],
   "source": [
    "import xml.etree.ElementTree as et\n",
    "\n",
    "##### XML api 사용 방법\n",
    "# 1. xml이 파일로 존재하는 경우 : parse()\n",
    "# 2. xml이 메모리에 로드된 경우 : fromstring()"
   ]
  },
  {
   "cell_type": "markdown",
   "id": "0915ec15",
   "metadata": {},
   "source": [
    "## (1) XML 데이터 불러오기"
   ]
  },
  {
   "cell_type": "code",
   "execution_count": 3,
   "id": "68bae369",
   "metadata": {},
   "outputs": [
    {
     "data": {
      "text/plain": [
       "<xml.etree.ElementTree.ElementTree at 0x1c208423640>"
      ]
     },
     "execution_count": 3,
     "metadata": {},
     "output_type": "execute_result"
    }
   ],
   "source": [
    "##### xml이 파일로 존재하는 경우\n",
    "tree1 = et.parse(\"data/users.xml\")\n",
    "tree1"
   ]
  },
  {
   "cell_type": "code",
   "execution_count": 4,
   "id": "b367713b",
   "metadata": {},
   "outputs": [
    {
     "data": {
      "text/plain": [
       "<Element 'users' at 0x000001C233609540>"
      ]
     },
     "execution_count": 4,
     "metadata": {},
     "output_type": "execute_result"
    }
   ],
   "source": [
    "##### xml이 이미 메모리에 로드되어 있는 경우\n",
    "\n",
    "xmlstr = \"\"\"<?xml version=\"1.0\" encoding=\"utf-8\" ?>\n",
    "<users>\n",
    "    <user grade=\"gold\">\n",
    "            <name>Kim Cheol Soo</name>\n",
    "            <age>25</age>\n",
    "            <birthday>19940215</birthday>\n",
    "        </user>\n",
    "        <user grade=\"diamond\">\n",
    "            <name>Kim Yoo Mee</name>\n",
    "            <age>21</age>\n",
    "            <birthday>19980417</birthday>\n",
    "        </user>\n",
    "</users>\n",
    "\"\"\"\n",
    "tree2 = et.fromstring(xmlstr)\n",
    "tree2"
   ]
  },
  {
   "cell_type": "markdown",
   "id": "a685d924",
   "metadata": {},
   "source": [
    "## (2) XML 데이터 다루기"
   ]
  },
  {
   "cell_type": "markdown",
   "id": "1c5e1a87",
   "metadata": {},
   "source": [
    "### 1) 태그명 검색"
   ]
  },
  {
   "cell_type": "code",
   "execution_count": 5,
   "id": "48a69613",
   "metadata": {},
   "outputs": [
    {
     "name": "stdout",
     "output_type": "stream",
     "text": [
      "<Element 'user' at 0x000001C2335FBEF0>\n",
      "<Element 'user' at 0x000001C2335FBEF0>\n",
      "<Element 'user' at 0x000001C233609090>\n"
     ]
    }
   ],
   "source": [
    "print(tree1.find(\"user\"))\n",
    "print(tree1.find(\"user[1]\"))\n",
    "print(tree1.find(\"user[2]\"))"
   ]
  },
  {
   "cell_type": "code",
   "execution_count": 6,
   "id": "2e9883e5",
   "metadata": {},
   "outputs": [
    {
     "name": "stdout",
     "output_type": "stream",
     "text": [
      "<class 'xml.etree.ElementTree.Element'>\n",
      "user\n",
      "{'grade': 'diamond'}\n",
      "diamond\n",
      "------------------------------------------------\n",
      "name\n",
      "{}\n",
      "Kim Yoo Mee\n"
     ]
    }
   ],
   "source": [
    "data = tree1.find(\"user[2]\")\n",
    "print(type(data))\n",
    "dir(data)\n",
    "\n",
    "print(data.tag)\n",
    "print(data.attrib)\n",
    "print(data.get(\"grade\"))\n",
    "\n",
    "print(\"------------------------------------------------\")\n",
    "\n",
    "username = data.find(\"name\")\n",
    "print(username.tag)\n",
    "print(username.attrib)\n",
    "print(username.text)"
   ]
  },
  {
   "cell_type": "code",
   "execution_count": 9,
   "id": "cecbf9aa",
   "metadata": {},
   "outputs": [
    {
     "name": "stdout",
     "output_type": "stream",
     "text": [
      "<Element 'user' at 0x000001C233609090>\n",
      "{'grade': 'diamond'}\n",
      "['grade']\n",
      "[('grade', 'diamond')]\n"
     ]
    }
   ],
   "source": [
    "data = tree1.find(\"./user[@grade='diamond']\")\n",
    "\n",
    "print(data)\n",
    "print(data.attrib)\n",
    "print(data.keys())\n",
    "print(data.items())"
   ]
  },
  {
   "cell_type": "markdown",
   "id": "b94af32a",
   "metadata": {},
   "source": [
    "### 3) 여러 개의 태그를 한꺼번에 가져오기"
   ]
  },
  {
   "cell_type": "code",
   "execution_count": 11,
   "id": "345623fa",
   "metadata": {},
   "outputs": [
    {
     "name": "stdout",
     "output_type": "stream",
     "text": [
      "{'grade': 'gold'}\n",
      "Kim Cheol Soo\n",
      "{'grade': 'diamond'}\n",
      "Kim Yoo Mee\n"
     ]
    }
   ],
   "source": [
    "users = tree1.findall(\"./user\")\n",
    "users\n",
    "\n",
    "for i in users:\n",
    "    print(i.attrib)\n",
    "    print(i.find(\"name\").text)"
   ]
  },
  {
   "cell_type": "markdown",
   "id": "b998765b",
   "metadata": {},
   "source": [
    "# 2. JSON"
   ]
  },
  {
   "cell_type": "code",
   "execution_count": 12,
   "id": "853bb63d",
   "metadata": {},
   "outputs": [],
   "source": [
    "import json\n",
    "\n",
    "# dumps() : 데이터 저장\n",
    "# loads() : 데이터 불러올 때"
   ]
  },
  {
   "cell_type": "code",
   "execution_count": 13,
   "id": "8a6b034a",
   "metadata": {},
   "outputs": [
    {
     "name": "stdout",
     "output_type": "stream",
     "text": [
      "<class 'dict'>\n",
      "{'name': '홍길동', 'birth': '0101', 'age': 20}\n",
      "---------------------------------------------------------\n",
      "<class 'str'>\n",
      "{\"name\": \"\\ud64d\\uae38\\ub3d9\", \"birth\": \"0101\", \"age\": 20}\n",
      "---------------------------------------------------------\n",
      "<class 'str'>\n",
      "[1, 2, 3]\n",
      "---------------------------------------------------------\n",
      "<class 'dict'>\n",
      "{'name': '홍길동', 'birth': '0101', 'age': 20}\n"
     ]
    }
   ],
   "source": [
    "j1 = {\"name\" : \"홍길동\", \"birth\" : \"0101\", \"age\" : 20}\n",
    "print(type(j1))\n",
    "print(j1)\n",
    "\n",
    "print(\"---------------------------------------------------------\")\n",
    "\n",
    "j2 = json.dumps(j1)\n",
    "print(type(j2))\n",
    "print(j2)\n",
    "\n",
    "print(\"---------------------------------------------------------\")\n",
    "\n",
    "j3 = json.dumps((1, 2, 3))\n",
    "print(type(j3))\n",
    "print(j3)\n",
    "\n",
    "print(\"---------------------------------------------------------\")\n",
    "\n",
    "j4 = json.loads(j2)\n",
    "print(type(j4))\n",
    "print(j4)\n"
   ]
  },
  {
   "cell_type": "code",
   "execution_count": 14,
   "id": "fac9bbc9",
   "metadata": {},
   "outputs": [
    {
     "name": "stdout",
     "output_type": "stream",
     "text": [
      "<class 'str'>\n"
     ]
    }
   ],
   "source": [
    "obj = \"\"\"\n",
    "{\n",
    "\t\"id\": \"0001\",\n",
    "\t\"type\": \"donut\",\n",
    "\t\"name\": \"Cake\",\n",
    "\t\"ppu\": 0.55,\n",
    "\t\"batters\":\n",
    "\t\t{\n",
    "\t\t\t\"batter\":\n",
    "\t\t\t\t[\n",
    "\t\t\t\t\t{ \"id\": \"1001\", \"type\": \"Regular\" },\n",
    "\t\t\t\t\t{ \"id\": \"1002\", \"type\": \"Chocolate\" },\n",
    "\t\t\t\t\t{ \"id\": \"1003\", \"type\": \"Blueberry\" },\n",
    "\t\t\t\t\t{ \"id\": \"1004\", \"type\": \"Devil's Food\" }\n",
    "\t\t\t\t]\n",
    "\t\t},\n",
    "\t\"topping\":\n",
    "\t\t[\n",
    "\t\t\t{ \"id\": \"5001\", \"type\": \"None\" },\n",
    "\t\t\t{ \"id\": \"5002\", \"type\": \"Glazed\" },\n",
    "\t\t\t{ \"id\": \"5005\", \"type\": \"Sugar\" },\n",
    "\t\t\t{ \"id\": \"5007\", \"type\": \"Powdered Sugar\" },\n",
    "\t\t\t{ \"id\": \"5006\", \"type\": \"Chocolate with Sprinkles\" },\n",
    "\t\t\t{ \"id\": \"5003\", \"type\": \"Chocolate\" },\n",
    "\t\t\t{ \"id\": \"5004\", \"type\": \"Maple\" }\n",
    "\t\t]\n",
    "}\n",
    "\"\"\"\n",
    "\n",
    "print(type(obj))\n"
   ]
  },
  {
   "cell_type": "markdown",
   "id": "c0746931",
   "metadata": {},
   "source": [
    "# 3. BeautifulSoup\n",
    "\n",
    "+ https://www.crummy.com/software/BeautifulSoup/"
   ]
  },
  {
   "cell_type": "markdown",
   "id": "93d09528",
   "metadata": {},
   "source": [
    "## (1) 웹 소스 가져오기"
   ]
  },
  {
   "cell_type": "code",
   "execution_count": 7,
   "id": "54a86168",
   "metadata": {},
   "outputs": [],
   "source": [
    "import urllib.request as req\n",
    "from urllib.error import HTTPError, URLError"
   ]
  },
  {
   "cell_type": "code",
   "execution_count": 8,
   "id": "91874479",
   "metadata": {},
   "outputs": [
    {
     "name": "stdout",
     "output_type": "stream",
     "text": [
      "<class 'bytes'>\n"
     ]
    }
   ],
   "source": [
    "google = req.urlopen(\"https://google.com\")\n",
    "html = google.read()\n",
    "print(type(html))"
   ]
  },
  {
   "cell_type": "code",
   "execution_count": 15,
   "id": "a08111cb",
   "metadata": {},
   "outputs": [],
   "source": [
    "try:\n",
    "    google = req.urlopen(\"https://google.com\")\n",
    "except HTTPError as e:\n",
    "    print(\"HTTPError : \" , e)\n",
    "except ULRError as e:\n",
    "    print(\"URLError : \" , e)\n",
    "else:\n",
    "    html = google.read()"
   ]
  },
  {
   "cell_type": "code",
   "execution_count": 16,
   "id": "11f7cf06",
   "metadata": {},
   "outputs": [
    {
     "data": {
      "text/plain": [
       "('data/google1.png', <http.client.HTTPMessage at 0x1c2347c4910>)"
      ]
     },
     "execution_count": 16,
     "metadata": {},
     "output_type": "execute_result"
    }
   ],
   "source": [
    "req.urlretrieve(\"https://www.google.co.kr/images/branding/googlelogo/1x/googlelogo_color_272x92dp.png\", \"data/google1.png\")\n"
   ]
  },
  {
   "cell_type": "code",
   "execution_count": 17,
   "id": "42f7ecff",
   "metadata": {},
   "outputs": [],
   "source": [
    "img = req.urlopen(\"https://www.google.co.kr/images/branding/googlelogo/1x/googlelogo_color_272x92dp.png\")\n",
    "img_data = img.read()\n",
    "img_data\n",
    "\n",
    "f = open(\"data/google2.png\", \"wb\")\n",
    "f.write(img_data)\n",
    "f.close()"
   ]
  },
  {
   "cell_type": "markdown",
   "id": "4a9ff2d6",
   "metadata": {},
   "source": [
    "## (2) BeautifulSoup 사용법\n",
    "\n",
    "+ pip install beautifulsoup4"
   ]
  },
  {
   "cell_type": "code",
   "execution_count": 20,
   "id": "ab3a13bc",
   "metadata": {},
   "outputs": [],
   "source": [
    "from bs4 import BeautifulSoup"
   ]
  },
  {
   "cell_type": "code",
   "execution_count": 27,
   "id": "08643749",
   "metadata": {},
   "outputs": [
    {
     "data": {
      "text/plain": [
       "<_io.TextIOWrapper name='data/test_first.html' mode='r' encoding='cp949'>"
      ]
     },
     "execution_count": 27,
     "metadata": {},
     "output_type": "execute_result"
    }
   ],
   "source": [
    "page = open(\"data/test_first.html\")\n",
    "page"
   ]
  },
  {
   "cell_type": "code",
   "execution_count": 22,
   "id": "223d6fb3",
   "metadata": {},
   "outputs": [
    {
     "data": {
      "text/plain": [
       "'<!DOCTYPE html>\\n<html><head>\\n        <title>Very Simple HTML Code by Netsong7</title>\\n    </head><body>\\n        <div>\\n            <p class=\"inner-text first-item\" id=\"first\">\\n                Happy PinkWink.\\n                <a href=\"http://netsong7.synology.me\" id=\"pw-link\">PinkWink</a>\\n            </p>\\n            <p class=\"inner-text second-item\">\\n                Happy Data Science.\\n                <a href=\"https://www.python.org\" id=\"py-link\">Python</a>\\n            </p>\\n        </div>\\n        <p class=\"outer-text first-item\" id=\"second\">\\n            <b>\\n                Data Science is funny.\\n            </b>\\n        </p>\\n        <p class=\"outer-text\">\\n            <b>\\n                All I need is Love.\\n            </b>\\n        </p>\\n    </body>\\n</html>'"
      ]
     },
     "execution_count": 22,
     "metadata": {},
     "output_type": "execute_result"
    }
   ],
   "source": [
    "page.read()"
   ]
  },
  {
   "cell_type": "code",
   "execution_count": 28,
   "id": "311b2e00",
   "metadata": {},
   "outputs": [],
   "source": [
    "soup = BeautifulSoup(page, \"html.parser\")"
   ]
  },
  {
   "cell_type": "code",
   "execution_count": 29,
   "id": "80aba4fc",
   "metadata": {},
   "outputs": [
    {
     "data": {
      "text/plain": [
       "<!DOCTYPE html>\n",
       "\n",
       "<html><head>\n",
       "<title>Very Simple HTML Code by Netsong7</title>\n",
       "</head><body>\n",
       "<div>\n",
       "<p class=\"inner-text first-item\" id=\"first\">\n",
       "                Happy PinkWink.\n",
       "                <a href=\"http://netsong7.synology.me\" id=\"pw-link\">PinkWink</a>\n",
       "</p>\n",
       "<p class=\"inner-text second-item\">\n",
       "                Happy Data Science.\n",
       "                <a href=\"https://www.python.org\" id=\"py-link\">Python</a>\n",
       "</p>\n",
       "</div>\n",
       "<p class=\"outer-text first-item\" id=\"second\">\n",
       "<b>\n",
       "                Data Science is funny.\n",
       "            </b>\n",
       "</p>\n",
       "<p class=\"outer-text\">\n",
       "<b>\n",
       "                All I need is Love.\n",
       "            </b>\n",
       "</p>\n",
       "</body>\n",
       "</html>"
      ]
     },
     "execution_count": 29,
     "metadata": {},
     "output_type": "execute_result"
    }
   ],
   "source": [
    "soup"
   ]
  },
  {
   "cell_type": "code",
   "execution_count": 30,
   "id": "c53cda94",
   "metadata": {},
   "outputs": [
    {
     "name": "stdout",
     "output_type": "stream",
     "text": [
      "<!DOCTYPE html>\n",
      "<html>\n",
      " <head>\n",
      "  <title>\n",
      "   Very Simple HTML Code by Netsong7\n",
      "  </title>\n",
      " </head>\n",
      " <body>\n",
      "  <div>\n",
      "   <p class=\"inner-text first-item\" id=\"first\">\n",
      "    Happy PinkWink.\n",
      "    <a href=\"http://netsong7.synology.me\" id=\"pw-link\">\n",
      "     PinkWink\n",
      "    </a>\n",
      "   </p>\n",
      "   <p class=\"inner-text second-item\">\n",
      "    Happy Data Science.\n",
      "    <a href=\"https://www.python.org\" id=\"py-link\">\n",
      "     Python\n",
      "    </a>\n",
      "   </p>\n",
      "  </div>\n",
      "  <p class=\"outer-text first-item\" id=\"second\">\n",
      "   <b>\n",
      "    Data Science is funny.\n",
      "   </b>\n",
      "  </p>\n",
      "  <p class=\"outer-text\">\n",
      "   <b>\n",
      "    All I need is Love.\n",
      "   </b>\n",
      "  </p>\n",
      " </body>\n",
      "</html>\n"
     ]
    }
   ],
   "source": [
    "print(soup.prettify())"
   ]
  },
  {
   "cell_type": "markdown",
   "id": "903b7136",
   "metadata": {},
   "source": [
    "## 1)원하는 위치에 접근하는 방법(순차적인 방식)"
   ]
  },
  {
   "cell_type": "code",
   "execution_count": 46,
   "id": "f078f07a",
   "metadata": {},
   "outputs": [
    {
     "name": "stdout",
     "output_type": "stream",
     "text": [
      "['html', '\\n', <html><head>\n",
      "<title>Very Simple HTML Code by Netsong7</title>\n",
      "</head><body>\n",
      "<div>\n",
      "<p class=\"inner-text first-item\" id=\"first\">\n",
      "                Happy PinkWink.\n",
      "                <a href=\"http://netsong7.synology.me\" id=\"pw-link\">PinkWink</a>\n",
      "</p>\n",
      "<p class=\"inner-text second-item\">\n",
      "                Happy Data Science.\n",
      "                <a href=\"https://www.python.org\" id=\"py-link\">Python</a>\n",
      "</p>\n",
      "</div>\n",
      "<p class=\"outer-text first-item\" id=\"second\">\n",
      "<b>\n",
      "                Data Science is funny.\n",
      "            </b>\n",
      "</p>\n",
      "<p class=\"outer-text\">\n",
      "<b>\n",
      "                All I need is Love.\n",
      "            </b>\n",
      "</p>\n",
      "</body>\n",
      "</html>]\n",
      "---------------------------------------------\n",
      "html\n",
      "---------------------------------------------\n",
      "\n",
      "\n",
      "---------------------------------------------\n",
      "<html><head>\n",
      "<title>Very Simple HTML Code by Netsong7</title>\n",
      "</head><body>\n",
      "<div>\n",
      "<p class=\"inner-text first-item\" id=\"first\">\n",
      "                Happy PinkWink.\n",
      "                <a href=\"http://netsong7.synology.me\" id=\"pw-link\">PinkWink</a>\n",
      "</p>\n",
      "<p class=\"inner-text second-item\">\n",
      "                Happy Data Science.\n",
      "                <a href=\"https://www.python.org\" id=\"py-link\">Python</a>\n",
      "</p>\n",
      "</div>\n",
      "<p class=\"outer-text first-item\" id=\"second\">\n",
      "<b>\n",
      "                Data Science is funny.\n",
      "            </b>\n",
      "</p>\n",
      "<p class=\"outer-text\">\n",
      "<b>\n",
      "                All I need is Love.\n",
      "            </b>\n",
      "</p>\n",
      "</body>\n",
      "</html>\n"
     ]
    }
   ],
   "source": [
    "print(list(soup.children))\n",
    "print(\"---------------------------------------------\")\n",
    "print(list(soup.children)[0])\n",
    "print(\"---------------------------------------------\")\n",
    "print(list(soup.children)[1])\n",
    "print(\"---------------------------------------------\")\n",
    "print(list(soup.children)[2])"
   ]
  },
  {
   "cell_type": "code",
   "execution_count": 41,
   "id": "5dfc5810",
   "metadata": {},
   "outputs": [
    {
     "name": "stdout",
     "output_type": "stream",
     "text": [
      "[<head>\n",
      "<title>Very Simple HTML Code by Netsong7</title>\n",
      "</head>, <body>\n",
      "<div>\n",
      "<p class=\"inner-text first-item\" id=\"first\">\n",
      "                Happy PinkWink.\n",
      "                <a href=\"http://netsong7.synology.me\" id=\"pw-link\">PinkWink</a>\n",
      "</p>\n",
      "<p class=\"inner-text second-item\">\n",
      "                Happy Data Science.\n",
      "                <a href=\"https://www.python.org\" id=\"py-link\">Python</a>\n",
      "</p>\n",
      "</div>\n",
      "<p class=\"outer-text first-item\" id=\"second\">\n",
      "<b>\n",
      "                Data Science is funny.\n",
      "            </b>\n",
      "</p>\n",
      "<p class=\"outer-text\">\n",
      "<b>\n",
      "                All I need is Love.\n",
      "            </b>\n",
      "</p>\n",
      "</body>, '\\n']\n",
      "---------------------------------------------\n",
      "<body>\n",
      "<div>\n",
      "<p class=\"inner-text first-item\" id=\"first\">\n",
      "                Happy PinkWink.\n",
      "                <a href=\"http://netsong7.synology.me\" id=\"pw-link\">PinkWink</a>\n",
      "</p>\n",
      "<p class=\"inner-text second-item\">\n",
      "                Happy Data Science.\n",
      "                <a href=\"https://www.python.org\" id=\"py-link\">Python</a>\n",
      "</p>\n",
      "</div>\n",
      "<p class=\"outer-text first-item\" id=\"second\">\n",
      "<b>\n",
      "                Data Science is funny.\n",
      "            </b>\n",
      "</p>\n",
      "<p class=\"outer-text\">\n",
      "<b>\n",
      "                All I need is Love.\n",
      "            </b>\n",
      "</p>\n",
      "</body>\n"
     ]
    }
   ],
   "source": [
    "html = list(soup.children)[2]\n",
    "print(list(html.children))\n",
    "print(\"---------------------------------------------\")\n",
    "body = list(html.children)[1]\n",
    "print(body)"
   ]
  },
  {
   "cell_type": "markdown",
   "id": "e7445c68",
   "metadata": {},
   "source": [
    "## 2)태그명으로 접근하는 방법"
   ]
  },
  {
   "cell_type": "code",
   "execution_count": 45,
   "id": "0b90ec5d",
   "metadata": {},
   "outputs": [
    {
     "name": "stdout",
     "output_type": "stream",
     "text": [
      "<head>\n",
      "<title>Very Simple HTML Code by Netsong7</title>\n",
      "</head>\n",
      "---------------------------------------------\n",
      "<body>\n",
      "<div>\n",
      "<p class=\"inner-text first-item\" id=\"first\">\n",
      "                Happy PinkWink.\n",
      "                <a href=\"http://netsong7.synology.me\" id=\"pw-link\">PinkWink</a>\n",
      "</p>\n",
      "<p class=\"inner-text second-item\">\n",
      "                Happy Data Science.\n",
      "                <a href=\"https://www.python.org\" id=\"py-link\">Python</a>\n",
      "</p>\n",
      "</div>\n",
      "<p class=\"outer-text first-item\" id=\"second\">\n",
      "<b>\n",
      "                Data Science is funny.\n",
      "            </b>\n",
      "</p>\n",
      "<p class=\"outer-text\">\n",
      "<b>\n",
      "                All I need is Love.\n",
      "            </b>\n",
      "</p>\n",
      "</body>\n",
      "---------------------------------------------\n",
      "<div>\n",
      "<p class=\"inner-text first-item\" id=\"first\">\n",
      "                Happy PinkWink.\n",
      "                <a href=\"http://netsong7.synology.me\" id=\"pw-link\">PinkWink</a>\n",
      "</p>\n",
      "<p class=\"inner-text second-item\">\n",
      "                Happy Data Science.\n",
      "                <a href=\"https://www.python.org\" id=\"py-link\">Python</a>\n",
      "</p>\n",
      "</div>\n",
      "---------------------------------------------\n",
      "<p class=\"inner-text first-item\" id=\"first\">\n",
      "                Happy PinkWink.\n",
      "                <a href=\"http://netsong7.synology.me\" id=\"pw-link\">PinkWink</a>\n",
      "</p>\n",
      "---------------------------------------------\n",
      "<p class=\"inner-text first-item\" id=\"first\">\n",
      "                Happy PinkWink.\n",
      "                <a href=\"http://netsong7.synology.me\" id=\"pw-link\">PinkWink</a>\n",
      "</p>\n"
     ]
    }
   ],
   "source": [
    "print(soup.head)\n",
    "print(\"---------------------------------------------\")\n",
    "print(soup.body)\n",
    "print(\"---------------------------------------------\")\n",
    "print(soup.body.div)\n",
    "print(\"---------------------------------------------\")\n",
    "print(soup.body.div.p)\n",
    "print(\"---------------------------------------------\")\n",
    "print(soup.p)"
   ]
  },
  {
   "cell_type": "markdown",
   "id": "b71c8461",
   "metadata": {},
   "source": [
    "## 3) 함수로 접근하는 방법\n",
    "\n",
    "+ find(), find_all()"
   ]
  },
  {
   "cell_type": "code",
   "execution_count": 47,
   "id": "e27f4012",
   "metadata": {},
   "outputs": [
    {
     "data": {
      "text/plain": [
       "<p class=\"inner-text first-item\" id=\"first\">\n",
       "                Happy PinkWink.\n",
       "                <a href=\"http://netsong7.synology.me\" id=\"pw-link\">PinkWink</a>\n",
       "</p>"
      ]
     },
     "execution_count": 47,
     "metadata": {},
     "output_type": "execute_result"
    }
   ],
   "source": [
    "soup.find(\"p\")"
   ]
  },
  {
   "cell_type": "code",
   "execution_count": 48,
   "id": "70406cd6",
   "metadata": {},
   "outputs": [
    {
     "data": {
      "text/plain": [
       "[<p class=\"inner-text first-item\" id=\"first\">\n",
       "                 Happy PinkWink.\n",
       "                 <a href=\"http://netsong7.synology.me\" id=\"pw-link\">PinkWink</a>\n",
       " </p>,\n",
       " <p class=\"inner-text second-item\">\n",
       "                 Happy Data Science.\n",
       "                 <a href=\"https://www.python.org\" id=\"py-link\">Python</a>\n",
       " </p>,\n",
       " <p class=\"outer-text first-item\" id=\"second\">\n",
       " <b>\n",
       "                 Data Science is funny.\n",
       "             </b>\n",
       " </p>,\n",
       " <p class=\"outer-text\">\n",
       " <b>\n",
       "                 All I need is Love.\n",
       "             </b>\n",
       " </p>]"
      ]
     },
     "execution_count": 48,
     "metadata": {},
     "output_type": "execute_result"
    }
   ],
   "source": [
    "soup.find_all(\"p\")"
   ]
  },
  {
   "cell_type": "code",
   "execution_count": 49,
   "id": "7fd48e7a",
   "metadata": {},
   "outputs": [
    {
     "data": {
      "text/plain": [
       "<p class=\"outer-text first-item\" id=\"second\">\n",
       "<b>\n",
       "                Data Science is funny.\n",
       "            </b>\n",
       "</p>"
      ]
     },
     "execution_count": 49,
     "metadata": {},
     "output_type": "execute_result"
    }
   ],
   "source": [
    "soup.find(\"p\", class_=\"outer-text\")"
   ]
  },
  {
   "cell_type": "code",
   "execution_count": 50,
   "id": "a1612adb",
   "metadata": {},
   "outputs": [
    {
     "data": {
      "text/plain": [
       "<p class=\"outer-text first-item\" id=\"second\">\n",
       "<b>\n",
       "                Data Science is funny.\n",
       "            </b>\n",
       "</p>"
      ]
     },
     "execution_count": 50,
     "metadata": {},
     "output_type": "execute_result"
    }
   ],
   "source": [
    "soup.find(\"p\", id=\"second\")"
   ]
  },
  {
   "cell_type": "markdown",
   "id": "f13d125f",
   "metadata": {},
   "source": [
    "## 4) 다양한 순차 접근 방식"
   ]
  },
  {
   "cell_type": "code",
   "execution_count": 56,
   "id": "c205461d",
   "metadata": {},
   "outputs": [
    {
     "data": {
      "text/plain": [
       "<body>\n",
       "<div>\n",
       "<p class=\"inner-text first-item\" id=\"first\">\n",
       "                Happy PinkWink.\n",
       "                <a href=\"http://netsong7.synology.me\" id=\"pw-link\">PinkWink</a>\n",
       "</p>\n",
       "<p class=\"inner-text second-item\">\n",
       "                Happy Data Science.\n",
       "                <a href=\"https://www.python.org\" id=\"py-link\">Python</a>\n",
       "</p>\n",
       "</div>\n",
       "<p class=\"outer-text first-item\" id=\"second\">\n",
       "<b>\n",
       "                Data Science is funny.\n",
       "            </b>\n",
       "</p>\n",
       "<p class=\"outer-text\">\n",
       "<b>\n",
       "                All I need is Love.\n",
       "            </b>\n",
       "</p>\n",
       "</body>"
      ]
     },
     "execution_count": 56,
     "metadata": {},
     "output_type": "execute_result"
    }
   ],
   "source": [
    "soup.head.nextSibling   # 형제\n",
    "soup.body.previous_sibling\n",
    "list(soup.body.div.next_siblings)\n",
    "soup.body.div.parent"
   ]
  },
  {
   "cell_type": "markdown",
   "id": "98d3d9c8",
   "metadata": {},
   "source": [
    "## 5) Text Node 가져오기\n",
    "\n",
    "+ get_text()\n",
    "+ text"
   ]
  },
  {
   "cell_type": "code",
   "execution_count": 58,
   "id": "c95deaee",
   "metadata": {},
   "outputs": [
    {
     "data": {
      "text/plain": [
       "'\\nVery Simple HTML Code by Netsong7\\n'"
      ]
     },
     "execution_count": 58,
     "metadata": {},
     "output_type": "execute_result"
    }
   ],
   "source": [
    "soup.html.get_text()\n",
    "soup.head.get_text()"
   ]
  },
  {
   "cell_type": "code",
   "execution_count": 59,
   "id": "8c0f1fd8",
   "metadata": {},
   "outputs": [
    {
     "data": {
      "text/plain": [
       "'Very Simple HTML Code by Netsong7'"
      ]
     },
     "execution_count": 59,
     "metadata": {},
     "output_type": "execute_result"
    }
   ],
   "source": [
    "soup.head.title.get_text()"
   ]
  },
  {
   "cell_type": "code",
   "execution_count": 63,
   "id": "62ff1a7d",
   "metadata": {},
   "outputs": [
    {
     "data": {
      "text/plain": [
       "'\\n\\n                Happy PinkWink.\\n                PinkWink\\n\\n\\n                Happy Data Science.\\n                Python\\n\\n'"
      ]
     },
     "execution_count": 63,
     "metadata": {},
     "output_type": "execute_result"
    }
   ],
   "source": [
    "soup.div.get_text()"
   ]
  },
  {
   "cell_type": "code",
   "execution_count": 64,
   "id": "01947c7a",
   "metadata": {},
   "outputs": [
    {
     "data": {
      "text/plain": [
       "'\\n                Happy PinkWink.\\n                PinkWink\\n'"
      ]
     },
     "execution_count": 64,
     "metadata": {},
     "output_type": "execute_result"
    }
   ],
   "source": [
    "soup.p.get_text()"
   ]
  },
  {
   "cell_type": "code",
   "execution_count": 66,
   "id": "e6e773a8",
   "metadata": {},
   "outputs": [
    {
     "name": "stdout",
     "output_type": "stream",
     "text": [
      "\n",
      "                Happy PinkWink.\n",
      "                PinkWink\n",
      "\n",
      "\n",
      "                Happy Data Science.\n",
      "                Python\n",
      "\n",
      "\n",
      "\n",
      "                Data Science is funny.\n",
      "            \n",
      "\n",
      "\n",
      "\n",
      "                All I need is Love.\n",
      "            \n",
      "\n"
     ]
    }
   ],
   "source": [
    "for p in soup.find_all(\"p\"):\n",
    "    print(p.get_text())"
   ]
  },
  {
   "cell_type": "markdown",
   "id": "618b3f26",
   "metadata": {},
   "source": [
    "## 6) 속성에 접근하기"
   ]
  },
  {
   "cell_type": "code",
   "execution_count": 70,
   "id": "41e6a1aa",
   "metadata": {},
   "outputs": [
    {
     "name": "stdout",
     "output_type": "stream",
     "text": [
      "http://netsong7.synology.me\n",
      "https://www.python.org\n"
     ]
    }
   ],
   "source": [
    "a = soup.find(\"a\")\n",
    "a\n",
    "\n",
    "a[\"href\"]\n",
    "\n",
    "for n in soup.find_all(\"a\"):\n",
    "    print(n[\"href\"])"
   ]
  },
  {
   "cell_type": "markdown",
   "id": "7c08c778",
   "metadata": {},
   "source": [
    "# (3) 실습\n",
    "\n",
    "## 1) 네이버에서 환율 정보 가져오기\n",
    "+ https://finance.naver.com/marketindex/\n"
   ]
  },
  {
   "cell_type": "code",
   "execution_count": 71,
   "id": "e14ada7f",
   "metadata": {},
   "outputs": [],
   "source": [
    "from urllib.request import urlopen\n",
    "from bs4 import BeautifulSoup"
   ]
  },
  {
   "cell_type": "code",
   "execution_count": 73,
   "id": "073e9832",
   "metadata": {},
   "outputs": [],
   "source": [
    "# 웹 소스 준비\n",
    "url = \"https://finance.naver.com/marketindex/\"\n",
    "page = urlopen (url)\n",
    "\n",
    "# 가져온 웹 소스를 트리 구조로 변환\n",
    "soup = BeautifulSoup(page, \"html.parser\")"
   ]
  },
  {
   "cell_type": "code",
   "execution_count": 81,
   "id": "2ef4ca92",
   "metadata": {},
   "outputs": [
    {
     "name": "stdout",
     "output_type": "stream",
     "text": [
      "미 환율: 1,290.60\n"
     ]
    }
   ],
   "source": [
    "span = soup.find_all(\"span\", class_=\"value\")\n",
    "\n",
    "print(\"미 환율:\", span[0].get_text())"
   ]
  },
  {
   "cell_type": "code",
   "execution_count": 95,
   "id": "914c5fba",
   "metadata": {},
   "outputs": [
    {
     "name": "stdout",
     "output_type": "stream",
     "text": [
      "미 환율: 1,290.60\n",
      "\n",
      "\n",
      "1,290.60\n",
      "\n",
      "\n",
      "원\n",
      "\n",
      "\n",
      " 2.40\n",
      "\n",
      "\n",
      "하락\n",
      "\n",
      "\n"
     ]
    }
   ],
   "source": [
    "# div 태그로 접근\n",
    "div = soup.find_all(\"div\", class_=\"head_info point_dn\")\n",
    "print(\"미 환율:\", div[0].span.get_text())\n",
    "for span in div[0]:\n",
    "    print(span.get_text())"
   ]
  },
  {
   "cell_type": "code",
   "execution_count": 98,
   "id": "b39c7b3f",
   "metadata": {},
   "outputs": [
    {
     "data": {
      "text/plain": [
       "<div class=\"head_info point_dn\">\n",
       "<span class=\"value\">1,290.60</span>\n",
       "<span class=\"txt_krw\"><span class=\"blind\">원</span></span>\n",
       "<span class=\"change\"> 2.40</span>\n",
       "<span class=\"blind\">하락</span>\n",
       "</div>"
      ]
     },
     "execution_count": 98,
     "metadata": {},
     "output_type": "execute_result"
    }
   ],
   "source": [
    "# CSS\n",
    "\n",
    "# soup.select_one(\".value\")\n",
    "soup.select_one(\"div.head_info\")"
   ]
  },
  {
   "cell_type": "code",
   "execution_count": 100,
   "id": "b061e2d4",
   "metadata": {},
   "outputs": [
    {
     "name": "stdout",
     "output_type": "stream",
     "text": [
      "1,290.60\n"
     ]
    }
   ],
   "source": [
    "span = soup.select_one(\"div.head_info > span.value\")\n",
    "print(span.get_text())"
   ]
  },
  {
   "cell_type": "code",
   "execution_count": 101,
   "id": "b45fdd76",
   "metadata": {},
   "outputs": [
    {
     "name": "stdout",
     "output_type": "stream",
     "text": [
      "1,290.60\n",
      "955.61\n",
      "1,359.26\n",
      "193.18\n",
      "134.9600\n",
      "1.0536\n",
      "1.2256\n",
      "104.4800\n",
      "107.99\n",
      "2114.43\n",
      "1835.6\n",
      "76346.99\n"
     ]
    }
   ],
   "source": [
    "spans = soup.select(\"div.head_info > span.value\")\n",
    "for span in spans:\n",
    "    print(span.get_text())"
   ]
  },
  {
   "cell_type": "markdown",
   "id": "438a9944",
   "metadata": {},
   "source": [
    "## 2) 스크래핑 연습"
   ]
  },
  {
   "cell_type": "code",
   "execution_count": 102,
   "id": "6109f78c",
   "metadata": {},
   "outputs": [],
   "source": [
    "##### 웹 소스 가져오기\n",
    "url = \"http://www.pythonscraping.com/pages/warandpeace.html\"\n",
    "page = urlopen (url)\n",
    "\n",
    "# 가져온 웹 소스를 트리 구조로 변환\n",
    "soup = BeautifulSoup(page, \"html.parser\")"
   ]
  },
  {
   "cell_type": "code",
   "execution_count": 109,
   "id": "01f94f87",
   "metadata": {},
   "outputs": [
    {
     "name": "stdout",
     "output_type": "stream",
     "text": [
      "Anna\n",
      "Pavlovna Scherer\n",
      "Empress Marya\n",
      "Fedorovna\n",
      "Prince Vasili Kuragin\n",
      "Anna Pavlovna\n",
      "St. Petersburg\n",
      "the prince\n",
      "Anna Pavlovna\n",
      "Anna Pavlovna\n",
      "the prince\n",
      "the prince\n",
      "the prince\n",
      "Prince Vasili\n",
      "Anna Pavlovna\n",
      "Anna Pavlovna\n",
      "the prince\n",
      "Wintzingerode\n",
      "King of Prussia\n",
      "le Vicomte de Mortemart\n",
      "Montmorencys\n",
      "Rohans\n",
      "Abbe Morio\n",
      "the Emperor\n",
      "the prince\n",
      "Prince Vasili\n",
      "Dowager Empress Marya Fedorovna\n",
      "the baron\n",
      "Anna Pavlovna\n",
      "the Empress\n",
      "the Empress\n",
      "Anna Pavlovna's\n",
      "Her Majesty\n",
      "Baron\n",
      "Funke\n",
      "The prince\n",
      "Anna\n",
      "Pavlovna\n",
      "the Empress\n",
      "The prince\n",
      "Anatole\n",
      "the prince\n",
      "The prince\n",
      "Anna\n",
      "Pavlovna\n",
      "Anna Pavlovna\n",
      "------------------------------------------------\n",
      "Anna\n",
      "Pavlovna Scherer\n",
      "Empress Marya\n",
      "Fedorovna\n",
      "Prince Vasili Kuragin\n",
      "Anna Pavlovna\n",
      "St. Petersburg\n",
      "the prince\n",
      "Anna Pavlovna\n",
      "Anna Pavlovna\n",
      "the prince\n",
      "the prince\n",
      "the prince\n",
      "Prince Vasili\n",
      "Anna Pavlovna\n",
      "Anna Pavlovna\n",
      "the prince\n",
      "Wintzingerode\n",
      "King of Prussia\n",
      "le Vicomte de Mortemart\n",
      "Montmorencys\n",
      "Rohans\n",
      "Abbe Morio\n",
      "the Emperor\n",
      "the prince\n",
      "Prince Vasili\n",
      "Dowager Empress Marya Fedorovna\n",
      "the baron\n",
      "Anna Pavlovna\n",
      "the Empress\n",
      "the Empress\n",
      "Anna Pavlovna's\n",
      "Her Majesty\n",
      "Baron\n",
      "Funke\n",
      "The prince\n",
      "Anna\n",
      "Pavlovna\n",
      "the Empress\n",
      "The prince\n",
      "Anatole\n",
      "the prince\n",
      "The prince\n",
      "Anna\n",
      "Pavlovna\n",
      "Anna Pavlovna\n",
      "------------------------------------------------\n",
      "Anna\n",
      "Pavlovna Scherer\n",
      "Empress Marya\n",
      "Fedorovna\n",
      "Prince Vasili Kuragin\n",
      "Anna Pavlovna\n",
      "St. Petersburg\n",
      "the prince\n",
      "Anna Pavlovna\n",
      "Anna Pavlovna\n",
      "the prince\n",
      "the prince\n",
      "the prince\n",
      "Prince Vasili\n",
      "Anna Pavlovna\n",
      "Anna Pavlovna\n",
      "the prince\n",
      "the prince\n",
      "Prince Vasili\n",
      "Dowager Empress Marya Fedorovna\n",
      "the baron\n",
      "Anna Pavlovna\n",
      "the Empress\n",
      "the Empress\n",
      "Anna Pavlovna's\n",
      "Her Majesty\n",
      "Baron\n",
      "Funke\n",
      "The prince\n",
      "Anna\n",
      "Pavlovna\n",
      "the Empress\n",
      "The prince\n",
      "the prince\n",
      "The prince\n",
      "Anna\n",
      "Pavlovna\n",
      "Anna Pavlovna\n"
     ]
    }
   ],
   "source": [
    "##### 녹색 단어만 골라오기\n",
    "greens = soup.find_all(\"span\", class_=\"green\")\n",
    "for green in greens:\n",
    "    print(green.get_text())\n",
    "    \n",
    "print(\"------------------------------------------------\")\n",
    "\n",
    "span = soup.find_all(\"span\", {\"class\" : \"green\"})\n",
    "for s in span:\n",
    "    print(s.get_text())\n",
    "    \n",
    "print(\"------------------------------------------------\")\n",
    "\n",
    "# greens = soup.select(\".green\")\n",
    "greens = soup.select(\"div#text > span.green\")\n",
    "for green in greens:\n",
    "    print(green.get_text())"
   ]
  },
  {
   "cell_type": "code",
   "execution_count": 115,
   "id": "092a6c3c",
   "metadata": {},
   "outputs": [
    {
     "name": "stdout",
     "output_type": "stream",
     "text": [
      "War and Peace\n",
      "Chapter 1\n",
      "['War and Peace', 'Chapter 1']\n"
     ]
    }
   ],
   "source": [
    "##### 제목(h1, h2)\n",
    "\n",
    "h1 = soup.find(\"h1\")\n",
    "print(h1.get_text())\n",
    "\n",
    "h2 = soup.find(\"h2\")\n",
    "print(h2.get_text())\n",
    "\n",
    "titles = soup.find_all([\"h1\", \"h2\"])\n",
    "print([t.get_text() for t in titles])"
   ]
  },
  {
   "cell_type": "code",
   "execution_count": 116,
   "id": "dc29a53c",
   "metadata": {},
   "outputs": [],
   "source": [
    "##### 웹 소스 가져오기\n",
    "url = \"http://www.pythonscraping.com/pages/page3.html\"\n",
    "page = urlopen (url)\n",
    "\n",
    "# 가져온 웹 소스를 트리 구조로 변환\n",
    "soup = BeautifulSoup(page, \"html.parser\")"
   ]
  },
  {
   "cell_type": "code",
   "execution_count": null,
   "id": "fc66261e",
   "metadata": {},
   "outputs": [],
   "source": [
    "##### 제목 행은 건너뛰고 나머지 모든 행을 수집 (클래스 속성이 없다고 가정)\n",
    "\n",
    "# id 속성을 이용\n",
    "tables = soup.find_all(\"tr\", {\"id\":[\"gift1\", \"gift2\", \"gift3\", \"gift4\", \"gift5\"]})\n",
    "for text in tables:\n",
    "    print(text.get_text())\n"
   ]
  },
  {
   "cell_type": "code",
   "execution_count": null,
   "id": "ee95270c",
   "metadata": {},
   "outputs": [],
   "source": [
    "# id 속성이 매우 많다면?(즉, 행의 갯수가 매우 많다면?)\n",
    "tables = []\n",
    "for i in range(1, 6):\n",
    "    tables.extend(soup.find_all(\"tr\", {\"id\":[\"gift{}\".format(i)]}))\n",
    "    \n",
    "for text in tables:\n",
    "    print(text.get_text())"
   ]
  },
  {
   "cell_type": "code",
   "execution_count": null,
   "id": "102485b4",
   "metadata": {},
   "outputs": [],
   "source": [
    "# tables = list(soup.html.body.div.table.tr.next_siblings)\n",
    "# for text in tables:\n",
    "#     print(text.get_text())\n",
    "\n",
    "tb = soup.find(\"table\", {\"id\":\"giftList\"})\n",
    "contents = tb.tr.next_siblings\n",
    "\n",
    "\n",
    "for content in contents:\n",
    "    print(type(content))"
   ]
  },
  {
   "cell_type": "code",
   "execution_count": null,
   "id": "8a8082d1",
   "metadata": {},
   "outputs": [],
   "source": [
    "tb = soup.find(\"table\", {\"id\":\"giftList\"})\n",
    "contents = tb.tr.next_siblings\n",
    "# tr태그 값만 가져오기\n",
    "for content in contents:\n",
    "    if(type(content) == bs4.element.Tag):\n",
    "        for i in range(3):\n",
    "            print(list(content.children)[int(\"{}\".format(i))].get_text())\n",
    "        print(list(content.children)[3].img[\"src\"])\n",
    "        print(\"-------------------------------------------------\")"
   ]
  },
  {
   "cell_type": "code",
   "execution_count": null,
   "id": "5686b1ef",
   "metadata": {},
   "outputs": [],
   "source": [
    "##### 가격 중에 $15.00 수집\n",
    "contents = list(soup.html.body.div.table.tr.next_siblings)\n",
    "for content in contents:\n",
    "    if(type(content) == bs4.element.Tag):\n",
    "        print(list(content.children)[2].get_text())\n",
    "        break"
   ]
  },
  {
   "cell_type": "code",
   "execution_count": null,
   "id": "0e57c73a",
   "metadata": {},
   "outputs": [],
   "source": [
    "print(soup.select(\"td\")[2].get_text().replace(\"\\n\", \"\"))"
   ]
  },
  {
   "cell_type": "code",
   "execution_count": null,
   "id": "1efe9374",
   "metadata": {},
   "outputs": [],
   "source": [
    "print(soup.find_all(\"td\")[2].get_text().replace(\"\\n\", \"\"))"
   ]
  },
  {
   "cell_type": "code",
   "execution_count": null,
   "id": "93b327b6",
   "metadata": {},
   "outputs": [],
   "source": [
    "price = soup.find(\"img\", src=\"../img/gifts/img1.jpg\").parent.previous_sibling\n",
    "print(price.get_text().replace(\"\\n\", \"\"))"
   ]
  },
  {
   "cell_type": "code",
   "execution_count": null,
   "id": "ea0810ff",
   "metadata": {},
   "outputs": [],
   "source": [
    "table = soup.find(\"table\", id=\"giftList\")\n",
    "list(list(table.tr.next_siblings)[1].td.next_siblings)[1].get_text()\n"
   ]
  },
  {
   "cell_type": "code",
   "execution_count": null,
   "id": "4999d61c",
   "metadata": {},
   "outputs": [],
   "source": [
    "soup.find(\"table\", id=\"giftList\").td.next_sibling.next_sibling.get_text()"
   ]
  },
  {
   "cell_type": "code",
   "execution_count": null,
   "id": "e1142f5b",
   "metadata": {},
   "outputs": [],
   "source": []
  }
 ],
 "metadata": {
  "kernelspec": {
   "display_name": "Python 3 (ipykernel)",
   "language": "python",
   "name": "python3"
  },
  "language_info": {
   "codemirror_mode": {
    "name": "ipython",
    "version": 3
   },
   "file_extension": ".py",
   "mimetype": "text/x-python",
   "name": "python",
   "nbconvert_exporter": "python",
   "pygments_lexer": "ipython3",
   "version": "3.9.12"
  }
 },
 "nbformat": 4,
 "nbformat_minor": 5
}
