{
 "cells": [
  {
   "cell_type": "code",
   "execution_count": 1,
   "id": "43309bbd",
   "metadata": {},
   "outputs": [],
   "source": [
    "import numpy as np\n",
    "import pandas as pd\n",
    "import matplotlib.pyplot as plt\n",
    "import seaborn as sns\n",
    "\n",
    "import matplotlib.font_manager as fm\n",
    "font_name = fm.FontProperties(fname=\"C:\\\\Windows\\\\Fonts\\\\malgun.ttf\").get_name()\n",
    "plt.rc(\"font\", family=font_name)\n",
    "\n",
    "import matplotlib as mlp\n",
    "mlp.rcParams[\"axes.unicode_minus\"] = False"
   ]
  },
  {
   "cell_type": "markdown",
   "id": "cfde8717",
   "metadata": {},
   "source": [
    "# 1. XML\n",
    "\n",
    "+ 특징\n",
    "    - 메타 언어 : GML -> SGML -> XML\n",
    "    - 데이터를 위한 언어\n",
    "    - DBMS\n",
    "    - 데이터 표준화 : 이기종 시스템간의 정보교환, 웹서비스, 유비쿼터스, 사물인터넷 등등 ...\n",
    "    \n",
    "+ 구성 요소\n",
    "    - dtd\n",
    "    - xml schema\n",
    "    - xml\n",
    "    - xsl, xslt\n",
    "    \n",
    "+ https://docs.python.org/3/library/xml.etree.elementtree.html"
   ]
  },
  {
   "cell_type": "code",
   "execution_count": 2,
   "id": "f44bd449",
   "metadata": {},
   "outputs": [],
   "source": [
    "import xml.etree.ElementTree as et\n",
    "\n",
    "##### XML api 사용 방법\n",
    "# 1. xml이 파일로 존재하는 경우 : parse()\n",
    "# 2. xml이 메모리에 로드된 경우 : fromstring()"
   ]
  },
  {
   "cell_type": "markdown",
   "id": "0915ec15",
   "metadata": {},
   "source": [
    "## (1) XML 데이터 불러오기"
   ]
  },
  {
   "cell_type": "code",
   "execution_count": 3,
   "id": "68bae369",
   "metadata": {},
   "outputs": [
    {
     "data": {
      "text/plain": [
       "<xml.etree.ElementTree.ElementTree at 0x1c208423640>"
      ]
     },
     "execution_count": 3,
     "metadata": {},
     "output_type": "execute_result"
    }
   ],
   "source": [
    "##### xml이 파일로 존재하는 경우\n",
    "tree1 = et.parse(\"data/users.xml\")\n",
    "tree1"
   ]
  },
  {
   "cell_type": "code",
   "execution_count": 4,
   "id": "b367713b",
   "metadata": {},
   "outputs": [
    {
     "data": {
      "text/plain": [
       "<Element 'users' at 0x000001C233609540>"
      ]
     },
     "execution_count": 4,
     "metadata": {},
     "output_type": "execute_result"
    }
   ],
   "source": [
    "##### xml이 이미 메모리에 로드되어 있는 경우\n",
    "\n",
    "xmlstr = \"\"\"<?xml version=\"1.0\" encoding=\"utf-8\" ?>\n",
    "<users>\n",
    "    <user grade=\"gold\">\n",
    "            <name>Kim Cheol Soo</name>\n",
    "            <age>25</age>\n",
    "            <birthday>19940215</birthday>\n",
    "        </user>\n",
    "        <user grade=\"diamond\">\n",
    "            <name>Kim Yoo Mee</name>\n",
    "            <age>21</age>\n",
    "            <birthday>19980417</birthday>\n",
    "        </user>\n",
    "</users>\n",
    "\"\"\"\n",
    "tree2 = et.fromstring(xmlstr)\n",
    "tree2"
   ]
  },
  {
   "cell_type": "markdown",
   "id": "a685d924",
   "metadata": {},
   "source": [
    "## (2) XML 데이터 다루기"
   ]
  },
  {
   "cell_type": "markdown",
   "id": "1c5e1a87",
   "metadata": {},
   "source": [
    "### 1) 태그명 검색"
   ]
  },
  {
   "cell_type": "code",
   "execution_count": 5,
   "id": "48a69613",
   "metadata": {},
   "outputs": [
    {
     "name": "stdout",
     "output_type": "stream",
     "text": [
      "<Element 'user' at 0x000001C2335FBEF0>\n",
      "<Element 'user' at 0x000001C2335FBEF0>\n",
      "<Element 'user' at 0x000001C233609090>\n"
     ]
    }
   ],
   "source": [
    "print(tree1.find(\"user\"))\n",
    "print(tree1.find(\"user[1]\"))\n",
    "print(tree1.find(\"user[2]\"))"
   ]
  },
  {
   "cell_type": "code",
   "execution_count": 6,
   "id": "2e9883e5",
   "metadata": {},
   "outputs": [
    {
     "name": "stdout",
     "output_type": "stream",
     "text": [
      "<class 'xml.etree.ElementTree.Element'>\n",
      "user\n",
      "{'grade': 'diamond'}\n",
      "diamond\n",
      "------------------------------------------------\n",
      "name\n",
      "{}\n",
      "Kim Yoo Mee\n"
     ]
    }
   ],
   "source": [
    "data = tree1.find(\"user[2]\")\n",
    "print(type(data))\n",
    "dir(data)\n",
    "\n",
    "print(data.tag)\n",
    "print(data.attrib)\n",
    "print(data.get(\"grade\"))\n",
    "\n",
    "print(\"------------------------------------------------\")\n",
    "\n",
    "username = data.find(\"name\")\n",
    "print(username.tag)\n",
    "print(username.attrib)\n",
    "print(username.text)"
   ]
  },
  {
   "cell_type": "code",
   "execution_count": 9,
   "id": "cecbf9aa",
   "metadata": {},
   "outputs": [
    {
     "name": "stdout",
     "output_type": "stream",
     "text": [
      "<Element 'user' at 0x000001C233609090>\n",
      "{'grade': 'diamond'}\n",
      "['grade']\n",
      "[('grade', 'diamond')]\n"
     ]
    }
   ],
   "source": [
    "data = tree1.find(\"./user[@grade='diamond']\")\n",
    "\n",
    "print(data)\n",
    "print(data.attrib)\n",
    "print(data.keys())\n",
    "print(data.items())"
   ]
  },
  {
   "cell_type": "markdown",
   "id": "f514a902",
   "metadata": {},
   "source": [
    "### 3) 여러 개의 태그를 한꺼번에 가져오기"
   ]
  },
  {
   "cell_type": "code",
   "execution_count": 11,
   "id": "ee407766",
   "metadata": {},
   "outputs": [
    {
     "name": "stdout",
     "output_type": "stream",
     "text": [
      "{'grade': 'gold'}\n",
      "Kim Cheol Soo\n",
      "{'grade': 'diamond'}\n",
      "Kim Yoo Mee\n"
     ]
    }
   ],
   "source": [
    "users = tree1.findall(\"./user\")\n",
    "users\n",
    "\n",
    "for i in users:\n",
    "    print(i.attrib)\n",
    "    print(i.find(\"name\").text)"
   ]
  },
  {
   "cell_type": "markdown",
   "id": "6d275548",
   "metadata": {},
   "source": [
    "# 2. JSON"
   ]
  },
  {
   "cell_type": "code",
   "execution_count": 12,
   "id": "8b203d84",
   "metadata": {},
   "outputs": [],
   "source": [
    "import json\n",
    "\n",
    "# dumps() : 데이터 저장\n",
    "# loads() : 데이터 불러올 때"
   ]
  },
  {
   "cell_type": "code",
   "execution_count": 13,
   "id": "3c803aeb",
   "metadata": {},
   "outputs": [
    {
     "name": "stdout",
     "output_type": "stream",
     "text": [
      "<class 'dict'>\n",
      "{'name': '홍길동', 'birth': '0101', 'age': 20}\n",
      "---------------------------------------------------------\n",
      "<class 'str'>\n",
      "{\"name\": \"\\ud64d\\uae38\\ub3d9\", \"birth\": \"0101\", \"age\": 20}\n",
      "---------------------------------------------------------\n",
      "<class 'str'>\n",
      "[1, 2, 3]\n",
      "---------------------------------------------------------\n",
      "<class 'dict'>\n",
      "{'name': '홍길동', 'birth': '0101', 'age': 20}\n"
     ]
    }
   ],
   "source": [
    "j1 = {\"name\" : \"홍길동\", \"birth\" : \"0101\", \"age\" : 20}\n",
    "print(type(j1))\n",
    "print(j1)\n",
    "\n",
    "print(\"---------------------------------------------------------\")\n",
    "\n",
    "j2 = json.dumps(j1)\n",
    "print(type(j2))\n",
    "print(j2)\n",
    "\n",
    "print(\"---------------------------------------------------------\")\n",
    "\n",
    "j3 = json.dumps((1, 2, 3))\n",
    "print(type(j3))\n",
    "print(j3)\n",
    "\n",
    "print(\"---------------------------------------------------------\")\n",
    "\n",
    "j4 = json.loads(j2)\n",
    "print(type(j4))\n",
    "print(j4)\n"
   ]
  },
  {
   "cell_type": "code",
   "execution_count": 14,
   "id": "3d92f701",
   "metadata": {},
   "outputs": [
    {
     "name": "stdout",
     "output_type": "stream",
     "text": [
      "<class 'str'>\n"
     ]
    }
   ],
   "source": [
    "obj = \"\"\"\n",
    "{\n",
    "\t\"id\": \"0001\",\n",
    "\t\"type\": \"donut\",\n",
    "\t\"name\": \"Cake\",\n",
    "\t\"ppu\": 0.55,\n",
    "\t\"batters\":\n",
    "\t\t{\n",
    "\t\t\t\"batter\":\n",
    "\t\t\t\t[\n",
    "\t\t\t\t\t{ \"id\": \"1001\", \"type\": \"Regular\" },\n",
    "\t\t\t\t\t{ \"id\": \"1002\", \"type\": \"Chocolate\" },\n",
    "\t\t\t\t\t{ \"id\": \"1003\", \"type\": \"Blueberry\" },\n",
    "\t\t\t\t\t{ \"id\": \"1004\", \"type\": \"Devil's Food\" }\n",
    "\t\t\t\t]\n",
    "\t\t},\n",
    "\t\"topping\":\n",
    "\t\t[\n",
    "\t\t\t{ \"id\": \"5001\", \"type\": \"None\" },\n",
    "\t\t\t{ \"id\": \"5002\", \"type\": \"Glazed\" },\n",
    "\t\t\t{ \"id\": \"5005\", \"type\": \"Sugar\" },\n",
    "\t\t\t{ \"id\": \"5007\", \"type\": \"Powdered Sugar\" },\n",
    "\t\t\t{ \"id\": \"5006\", \"type\": \"Chocolate with Sprinkles\" },\n",
    "\t\t\t{ \"id\": \"5003\", \"type\": \"Chocolate\" },\n",
    "\t\t\t{ \"id\": \"5004\", \"type\": \"Maple\" }\n",
    "\t\t]\n",
    "}\n",
    "\"\"\"\n",
    "\n",
    "print(type(obj))\n"
   ]
  },
  {
   "cell_type": "markdown",
   "id": "1ebf44ad",
   "metadata": {},
   "source": [
    "# 3. BeautifulSoup"
   ]
  },
  {
   "cell_type": "markdown",
   "id": "95a42acf",
   "metadata": {},
   "source": [
    "## (1) 웹 소스 가져오기"
   ]
  },
  {
   "cell_type": "code",
   "execution_count": 7,
   "id": "0a12582d",
   "metadata": {},
   "outputs": [],
   "source": [
    "import urllib.request as req\n",
    "from urllib.error import HTTPError, URLError"
   ]
  },
  {
   "cell_type": "code",
   "execution_count": 8,
   "id": "713c893d",
   "metadata": {},
   "outputs": [
    {
     "name": "stdout",
     "output_type": "stream",
     "text": [
      "<class 'bytes'>\n"
     ]
    }
   ],
   "source": [
    "google = req.urlopen(\"https://google.com\")\n",
    "html = google.read()\n",
    "print(type(html))"
   ]
  },
  {
   "cell_type": "code",
   "execution_count": 15,
   "id": "a8d4121a",
   "metadata": {},
   "outputs": [],
   "source": [
    "try:\n",
    "    google = req.urlopen(\"https://google.com\")\n",
    "except HTTPError as e:\n",
    "    print(\"HTTPError : \" , e)\n",
    "except ULRError as e:\n",
    "    print(\"URLError : \" , e)\n",
    "else:\n",
    "    html = google.read()"
   ]
  },
  {
   "cell_type": "code",
   "execution_count": 16,
   "id": "d3a21d24",
   "metadata": {},
   "outputs": [
    {
     "data": {
      "text/plain": [
       "('data/google1.png', <http.client.HTTPMessage at 0x1c2347c4910>)"
      ]
     },
     "execution_count": 16,
     "metadata": {},
     "output_type": "execute_result"
    }
   ],
   "source": [
    "req.urlretrieve(\"https://www.google.co.kr/images/branding/googlelogo/1x/googlelogo_color_272x92dp.png\", \"data/google1.png\")\n"
   ]
  },
  {
   "cell_type": "code",
   "execution_count": 17,
   "id": "148a0176",
   "metadata": {},
   "outputs": [],
   "source": [
    "img = req.urlopen(\"https://www.google.co.kr/images/branding/googlelogo/1x/googlelogo_color_272x92dp.png\")\n",
    "img_data = img.read()\n",
    "img_data\n",
    "\n",
    "f = open(\"data/google2.png\", \"wb\")\n",
    "f.write(img_data)\n",
    "f.close()"
   ]
  },
  {
   "cell_type": "markdown",
   "id": "22ea36a8",
   "metadata": {},
   "source": [
    "## (2) BeautifulSoup 사용법\n",
    "\n",
    "+ pip install beautifulsoup4"
   ]
  },
  {
   "cell_type": "code",
   "execution_count": null,
   "id": "9587b981",
   "metadata": {},
   "outputs": [],
   "source": []
  }
 ],
 "metadata": {
  "kernelspec": {
   "display_name": "Python 3 (ipykernel)",
   "language": "python",
   "name": "python3"
  },
  "language_info": {
   "codemirror_mode": {
    "name": "ipython",
    "version": 3
   },
   "file_extension": ".py",
   "mimetype": "text/x-python",
   "name": "python",
   "nbconvert_exporter": "python",
   "pygments_lexer": "ipython3",
   "version": "3.9.12"
  }
 },
 "nbformat": 4,
 "nbformat_minor": 5
}
