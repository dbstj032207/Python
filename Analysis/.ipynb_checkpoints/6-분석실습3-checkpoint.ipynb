{
 "cells": [
  {
   "cell_type": "markdown",
   "id": "1da64694",
   "metadata": {},
   "source": [
    "# 주제 : 서울시 구별 범죄 현황 분석\n",
    "\n",
    "## 부제\n",
    "\n",
    "+ CCTV와 범죄, 검거율에 관계가 있는가?\n",
    "+ 강남 3구는 과연 범죄 발생률이 낮고 검거율이 높은가?\n",
    "+ 우리동네는 어떤가?"
   ]
  },
  {
   "cell_type": "code",
   "execution_count": 2,
   "id": "887f884a",
   "metadata": {},
   "outputs": [],
   "source": [
    "import numpy as np\n",
    "import pandas as pd\n",
    "import matplotlib.pyplot as plt\n",
    "import seaborn as sns\n",
    "\n",
    "import matplotlib.font_manager as fm\n",
    "font_name = fm.FontProperties(fname=\"C:\\\\Windows\\\\Fonts\\\\malgun.ttf\").get_name()\n",
    "plt.rc(\"font\", family=font_name)\n",
    "\n",
    "import matplotlib as mlp\n",
    "mlp.rcParams[\"axes.unicode_minus\"] = False"
   ]
  },
  {
   "cell_type": "markdown",
   "id": "d254580c",
   "metadata": {},
   "source": [
    "## 1. Data Prepare\n",
    "\n",
    "+ https://data.go.kr\n",
    "+ 구글에서 \"서울시 관서별 5대범죄 발생 검거 현황\" 검색"
   ]
  },
  {
   "cell_type": "code",
   "execution_count": 5,
   "id": "4e931182",
   "metadata": {},
   "outputs": [
    {
     "data": {
      "text/html": [
       "<div>\n",
       "<style scoped>\n",
       "    .dataframe tbody tr th:only-of-type {\n",
       "        vertical-align: middle;\n",
       "    }\n",
       "\n",
       "    .dataframe tbody tr th {\n",
       "        vertical-align: top;\n",
       "    }\n",
       "\n",
       "    .dataframe thead th {\n",
       "        text-align: right;\n",
       "    }\n",
       "</style>\n",
       "<table border=\"1\" class=\"dataframe\">\n",
       "  <thead>\n",
       "    <tr style=\"text-align: right;\">\n",
       "      <th></th>\n",
       "      <th>관서명</th>\n",
       "      <th>살인 발생</th>\n",
       "      <th>살인 검거</th>\n",
       "      <th>강도 발생</th>\n",
       "      <th>강도 검거</th>\n",
       "      <th>강간 발생</th>\n",
       "      <th>강간 검거</th>\n",
       "      <th>절도 발생</th>\n",
       "      <th>절도 검거</th>\n",
       "      <th>폭력 발생</th>\n",
       "      <th>폭력 검거</th>\n",
       "    </tr>\n",
       "  </thead>\n",
       "  <tbody>\n",
       "    <tr>\n",
       "      <th>0</th>\n",
       "      <td>중부서</td>\n",
       "      <td>2</td>\n",
       "      <td>2</td>\n",
       "      <td>3</td>\n",
       "      <td>2</td>\n",
       "      <td>105</td>\n",
       "      <td>65</td>\n",
       "      <td>1395</td>\n",
       "      <td>477</td>\n",
       "      <td>1355</td>\n",
       "      <td>1170</td>\n",
       "    </tr>\n",
       "    <tr>\n",
       "      <th>1</th>\n",
       "      <td>종로서</td>\n",
       "      <td>3</td>\n",
       "      <td>3</td>\n",
       "      <td>6</td>\n",
       "      <td>5</td>\n",
       "      <td>115</td>\n",
       "      <td>98</td>\n",
       "      <td>1070</td>\n",
       "      <td>413</td>\n",
       "      <td>1278</td>\n",
       "      <td>1070</td>\n",
       "    </tr>\n",
       "    <tr>\n",
       "      <th>2</th>\n",
       "      <td>남대문서</td>\n",
       "      <td>1</td>\n",
       "      <td>0</td>\n",
       "      <td>6</td>\n",
       "      <td>4</td>\n",
       "      <td>65</td>\n",
       "      <td>46</td>\n",
       "      <td>1153</td>\n",
       "      <td>382</td>\n",
       "      <td>869</td>\n",
       "      <td>794</td>\n",
       "    </tr>\n",
       "    <tr>\n",
       "      <th>3</th>\n",
       "      <td>서대문서</td>\n",
       "      <td>2</td>\n",
       "      <td>2</td>\n",
       "      <td>5</td>\n",
       "      <td>4</td>\n",
       "      <td>154</td>\n",
       "      <td>124</td>\n",
       "      <td>1812</td>\n",
       "      <td>738</td>\n",
       "      <td>2056</td>\n",
       "      <td>1711</td>\n",
       "    </tr>\n",
       "    <tr>\n",
       "      <th>4</th>\n",
       "      <td>혜화서</td>\n",
       "      <td>3</td>\n",
       "      <td>2</td>\n",
       "      <td>5</td>\n",
       "      <td>4</td>\n",
       "      <td>96</td>\n",
       "      <td>63</td>\n",
       "      <td>1114</td>\n",
       "      <td>424</td>\n",
       "      <td>1015</td>\n",
       "      <td>861</td>\n",
       "    </tr>\n",
       "  </tbody>\n",
       "</table>\n",
       "</div>"
      ],
      "text/plain": [
       "    관서명  살인 발생  살인 검거  강도 발생  강도 검거  강간 발생  강간 검거  절도 발생  절도 검거  폭력 발생  폭력 검거\n",
       "0   중부서      2      2      3      2    105     65   1395    477   1355   1170\n",
       "1   종로서      3      3      6      5    115     98   1070    413   1278   1070\n",
       "2  남대문서      1      0      6      4     65     46   1153    382    869    794\n",
       "3  서대문서      2      2      5      4    154    124   1812    738   2056   1711\n",
       "4   혜화서      3      2      5      4     96     63   1114    424   1015    861"
      ]
     },
     "execution_count": 5,
     "metadata": {},
     "output_type": "execute_result"
    }
   ],
   "source": [
    "crime_anal_police = pd.read_csv(\"data/seoul/crime_in_seoul.csv\", \n",
    "                                    encoding=\"euc-kr\", thousands=\",\")\n",
    "crime_anal_police.head()"
   ]
  },
  {
   "cell_type": "code",
   "execution_count": 6,
   "id": "e36f2e82",
   "metadata": {},
   "outputs": [
    {
     "name": "stdout",
     "output_type": "stream",
     "text": [
      "<class 'pandas.core.frame.DataFrame'>\n",
      "RangeIndex: 31 entries, 0 to 30\n",
      "Data columns (total 11 columns):\n",
      " #   Column  Non-Null Count  Dtype \n",
      "---  ------  --------------  ----- \n",
      " 0   관서명     31 non-null     object\n",
      " 1   살인 발생   31 non-null     int64 \n",
      " 2   살인 검거   31 non-null     int64 \n",
      " 3   강도 발생   31 non-null     int64 \n",
      " 4   강도 검거   31 non-null     int64 \n",
      " 5   강간 발생   31 non-null     int64 \n",
      " 6   강간 검거   31 non-null     int64 \n",
      " 7   절도 발생   31 non-null     int64 \n",
      " 8   절도 검거   31 non-null     int64 \n",
      " 9   폭력 발생   31 non-null     int64 \n",
      " 10  폭력 검거   31 non-null     int64 \n",
      "dtypes: int64(10), object(1)\n",
      "memory usage: 2.8+ KB\n"
     ]
    }
   ],
   "source": [
    "crime_anal_police.info()"
   ]
  },
  {
   "cell_type": "markdown",
   "id": "aba4bc66",
   "metadata": {},
   "source": [
    "## 2. EDA & Preprocessing\n",
    "\n",
    "### 2.1. 관서명을 구 이름으로 변경\n",
    "\n",
    "+ https://ko.wikipedia.org/wiki/서울특별시지방경찰청\n",
    "\n",
    "+ kakao API를 이용하여 주소 획득\n",
    "    - https://developers.kakao.com/\n",
    "    - 키 : be9c427709d98b78ab9a851e8fb2ba4a\n",
    "    - https://kauth.kakao.com/oauth/authorize?client_id=be9c427709d98b78ab9a851e8fb2ba4a&redirect_uri=https://localhost:8888&response_type=code\n"
   ]
  },
  {
   "cell_type": "code",
   "execution_count": 9,
   "id": "f0d35bb6",
   "metadata": {},
   "outputs": [
    {
     "data": {
      "text/plain": [
       "<bound method Response.json of <Response [401]>>"
      ]
     },
     "execution_count": 9,
     "metadata": {},
     "output_type": "execute_result"
    }
   ],
   "source": [
    "import requests\n",
    "\n",
    "header = {\"Authorization\":\"kakaoAK be9c427709d98b78ab9a851e8fb2ba4a\"}\n",
    "url = \"https://dapi.kakao.com/v2/local/search/keyword.json?query='중부경찰서'\"\n",
    "\n",
    "requests.get(url, headers=header).json"
   ]
  },
  {
   "cell_type": "code",
   "execution_count": null,
   "id": "52c91b4b",
   "metadata": {},
   "outputs": [],
   "source": []
  }
 ],
 "metadata": {
  "kernelspec": {
   "display_name": "Python 3 (ipykernel)",
   "language": "python",
   "name": "python3"
  },
  "language_info": {
   "codemirror_mode": {
    "name": "ipython",
    "version": 3
   },
   "file_extension": ".py",
   "mimetype": "text/x-python",
   "name": "python",
   "nbconvert_exporter": "python",
   "pygments_lexer": "ipython3",
   "version": "3.9.12"
  }
 },
 "nbformat": 4,
 "nbformat_minor": 5
}
